{
 "cells": [
  {
   "cell_type": "code",
   "execution_count": 3,
   "id": "fa9047ce-e7c6-4162-992d-831409bb32ec",
   "metadata": {},
   "outputs": [
    {
     "data": {
      "application/javascript": [
       "\n",
       "            setTimeout(function() {\n",
       "                var nbb_cell_id = 3;\n",
       "                var nbb_unformatted_code = \"# format cells using black\\n%load_ext nb_black\";\n",
       "                var nbb_formatted_code = \"# format cells using black\\n%load_ext nb_black\";\n",
       "                var nbb_cells = Jupyter.notebook.get_cells();\n",
       "                for (var i = 0; i < nbb_cells.length; ++i) {\n",
       "                    if (nbb_cells[i].input_prompt_number == nbb_cell_id) {\n",
       "                        if (nbb_cells[i].get_text() == nbb_unformatted_code) {\n",
       "                             nbb_cells[i].set_text(nbb_formatted_code);\n",
       "                        }\n",
       "                        break;\n",
       "                    }\n",
       "                }\n",
       "            }, 500);\n",
       "            "
      ],
      "text/plain": [
       "<IPython.core.display.Javascript object>"
      ]
     },
     "metadata": {},
     "output_type": "display_data"
    }
   ],
   "source": [
    "# format cells using black\n",
    "%load_ext nb_black"
   ]
  },
  {
   "cell_type": "markdown",
   "id": "9e1dfa85-46df-47b6-9b05-d95236aca983",
   "metadata": {},
   "source": [
    "# requirements\n",
    "+ sparqlwrapper"
   ]
  },
  {
   "cell_type": "code",
   "execution_count": 1,
   "id": "ebee39d7-c58a-4f3e-bbb0-f9d4c1fddbb3",
   "metadata": {},
   "outputs": [],
   "source": [
    "import sys\n",
    "import os\n",
    "import re\n",
    "import json\n",
    "import requests\n",
    "import pickle\n",
    "import pandas as pd\n",
    "from time import sleep\n",
    "from SPARQLWrapper import SPARQLWrapper, JSON"
   ]
  },
  {
   "cell_type": "markdown",
   "id": "ca1964fa-f3a1-418c-9e1b-4f564d8f79a7",
   "metadata": {},
   "source": [
    "### sparql utility"
   ]
  },
  {
   "cell_type": "code",
   "execution_count": 2,
   "id": "613d0a49-4d0f-4b46-9fc0-52dff68d4015",
   "metadata": {},
   "outputs": [],
   "source": [
    "endpoint_url = \"https://query.wikidata.org/sparql\"\n",
    "\n",
    "def get_results(endpoint_url, query):\n",
    "    user_agent = \"WDQS-example Python/%s.%s\" % (sys.version_info[0], sys.version_info[1])\n",
    "    # TODO adjust user agent; see https://w.wiki/CX6\n",
    "    sparql = SPARQLWrapper(endpoint_url, agent=user_agent)\n",
    "    sparql.setQuery(query)\n",
    "    sparql.setReturnFormat(JSON)\n",
    "    return sparql.query().convert()"
   ]
  },
  {
   "cell_type": "markdown",
   "id": "8c6d65e8-eaba-4820-8651-26ba77cdd54c",
   "metadata": {},
   "source": [
    "# categorization"
   ]
  },
  {
   "cell_type": "markdown",
   "id": "b4b564be-893e-4c29-b25a-8edf9064326b",
   "metadata": {},
   "source": [
    "## **1.** wikidata -> wikipedia approach (**SKIP TO 2.**)"
   ]
  },
  {
   "cell_type": "code",
   "execution_count": 7,
   "id": "2863aeaa-1ac6-4669-afe6-a17291bbff47",
   "metadata": {},
   "outputs": [],
   "source": [
    "# Wikidata Query Service: https://query.wikidata.org/\n",
    "# SPARQL example queries: https://www.wikidata.org/wiki/Wikidata:SPARQL_query_service/queries/examples"
   ]
  },
  {
   "cell_type": "markdown",
   "id": "10abf3c0-4031-47e3-a780-46b9e3ecb902",
   "metadata": {},
   "source": [
    "### notes\n",
    "+ core biographies: https://en.wikipedia.org/wiki/Wikipedia:WikiProject_Biography/Core_biographies\n",
    "+ get Q-ID for **most common** occupations (high frequency > complete spectrum)\n",
    "+ property occupation: P106 https://www.wikidata.org/wiki/Property:P106\n",
    "\n",
    "+ **people can be part of multiple categories**\n",
    "+ **wikidata title != wikipedia title**\n",
    "\n",
    "\n",
    "### scientist \n",
    "+ Q901\n",
    "+ https://www.wikidata.org/wiki/Q901\n",
    "\n",
    "### politician\n",
    "+ Q82955\n",
    "+ https://www.wikidata.org/wiki/Q82955\n",
    "\n",
    "### writer\n",
    "+ Q36180\n",
    "+ https://www.wikidata.org/wiki/Q36180\n",
    "\n",
    "### philosopher\n",
    "+ Q4964182\n",
    "+ https://www.wikidata.org/wiki/Q4964182\n",
    "\n",
    "### theologian\n",
    "+ Q1234713\n",
    "+ https://www.wikidata.org/wiki/Q1234713"
   ]
  },
  {
   "cell_type": "markdown",
   "id": "75c3e418-9bb0-4659-898e-5e58a7f6d8bd",
   "metadata": {},
   "source": [
    "### SPARQL example query\n",
    "+ receive **de** articles from **people** categorized under **occupation** **scientist** (Q901) -- replace scientist qid with other category-qid"
   ]
  },
  {
   "cell_type": "raw",
   "id": "18495129-9df2-4e3c-b13a-55602f4ca9fd",
   "metadata": {},
   "source": [
    "select distinct ?item ?itemLabel ?itemDescription ?sitelinks where {\n",
    "    ?item wdt:P31 wd:Q5;  # Any instance (P31) of a human (Q5).\n",
    "          wdt:P106 wd:Q901;  #  Who is related to occupation (P106) scientist (Q901)\n",
    "             wikibase:sitelinks ?sitelinks.\n",
    "   \n",
    "    SERVICE wikibase:label { bd:serviceParam wikibase:language \"de\" }\n",
    "}\n",
    "ORDER BY DESC(?sitelinks)"
   ]
  },
  {
   "cell_type": "markdown",
   "id": "2daf3500-869f-4340-8d58-98742a4ac93f",
   "metadata": {},
   "source": [
    "## load corpus to filter articles"
   ]
  },
  {
   "cell_type": "code",
   "execution_count": 9,
   "id": "41ee2d55-08af-47fc-98cc-935bc5a510b2",
   "metadata": {},
   "outputs": [],
   "source": [
    "path = os.path.abspath(\"\")\n",
    "data_df_rel = \"data/df/\"\n",
    "data_df_ndb_abs = os.path.join(path, data_df_rel, \"df_ndb_wikipedia.pkl\")\n",
    "corpus = pd.read_pickle(data_df_ndb_abs)\n",
    "wikipedia_titles_df = corpus[\"wikipedia_title\"].tolist()"
   ]
  },
  {
   "cell_type": "markdown",
   "id": "79a5f340-b02d-4efe-835a-d42df9b02011",
   "metadata": {},
   "source": [
    "## get wikipedia titles of people in dataframe, grouped by categories"
   ]
  },
  {
   "cell_type": "raw",
   "id": "7b4dd789-222a-401b-b64d-ca77087154b5",
   "metadata": {},
   "source": [
    "{'item': {'type': 'uri', 'value': 'http://www.wikidata.org/entity/Q937'},\n",
    " 'itemLabel': {'xml:lang': 'de', 'type': 'literal', 'value': 'Albert Einstein'},\n",
    " 'itemDescription': {'xml:lang': 'de', 'type': 'literal', 'value': 'theoretischer Physiker, Entwickler der Relativitätstheorie (1879–1955)'},\n",
    " 'sitelinks': {'datatype': 'http://www.w3.org/2001/XMLSchema#integer', 'type': 'literal', 'value': '290'}}"
   ]
  },
  {
   "cell_type": "raw",
   "id": "9f4e84af-7856-4529-b483-e4cb2b7334d3",
   "metadata": {},
   "source": [
    "{\"entities\":{\"Q937\":{\"type\":\"item\",\"id\":\"Q937\",\"sitelinks\":{\"dewiki\":{\"site\":\"dewiki\",\"title\":\"Albert Einstein\",\"badges\":[\"Q17437798\"]}}}},\"success\":1}"
   ]
  },
  {
   "cell_type": "code",
   "execution_count": 26,
   "id": "03057bbe-c075-4540-88bc-4c7bdb18b42b",
   "metadata": {},
   "outputs": [
    {
     "name": "stdout",
     "output_type": "stream",
     "text": [
      "category: 5/5 | qid='Q1234713' (theologian) | 27856/27856 | categories_failure=['politician', 'writer'] request_mediawiki_failure=0 lang_missing=31925 sitelink_missing=29490 err=10\r"
     ]
    }
   ],
   "source": [
    "pattern_uri_qid = re.compile(r\"^http://www.wikidata.org/.*/(Q\\d+)$\")\n",
    "\n",
    "qids={\"Q901\":\"scientist\",\"Q82955\":\"politician\",\"Q36180\":\"writer\",\"Q4964182\":\"philosopher\",\"Q1234713\":\"theologian\"}\n",
    "# key:=category, value:=List[<wikipedia titles(:str) of people with this occupation>]\n",
    "categories = {\"scientist\":[],\"politician\":[],\"writer\":[],\"philosopher\":[],\"theologian\":[]}\n",
    "categories_len = len(categories)\n",
    "categories_failure = []\n",
    "request_mediawiki_failure = 0\n",
    "lang_missing = 0 # no de wikipedia article\n",
    "sitelink_missing = 0 # wikipedia article not linked\n",
    "err = 0\n",
    "articles_total = 0\n",
    "for i,qid in enumerate(qids):\n",
    "    query = \"\"\"select distinct ?item ?itemLabel ?itemDescription ?sitelinks where {\n",
    "        ?item wdt:P31 wd:Q5;  # Any instance of a human.\n",
    "              wdt:P106 wd:\"\"\"+f\"{qid}\"+\"\"\";  #  Who is related to occupation <param qid>\n",
    "                 wikibase:sitelinks ?sitelinks.\n",
    "\n",
    "        SERVICE wikibase:label { bd:serviceParam wikibase:language \"de\" }\n",
    "    }\n",
    "    ORDER BY DESC(?sitelinks)\"\"\"\n",
    "    results=None\n",
    "    try:\n",
    "        results = get_results(endpoint_url, query)\n",
    "    except Exception:\n",
    "        categories_failure.append(qids[qid])\n",
    "    if results is None:\n",
    "        continue\n",
    "    articles_len = len(results[\"results\"][\"bindings\"])\n",
    "    articles_total+=articles_len\n",
    "    for j,result in enumerate(results[\"results\"][\"bindings\"]):\n",
    "        print(f\"category: {i+1}/{categories_len} | {qid=} ({qids[qid]}) | {j+1}/{articles_len} | {categories_failure=} {request_mediawiki_failure=} {lang_missing=} {sitelink_missing=} {articles_total} {err=}\", end=\"\\r\")\n",
    "        try:\n",
    "            wikidata_uri = result[\"item\"][\"value\"]\n",
    "            if \"xml:lang\" not in result[\"itemLabel\"]:\n",
    "                lang_missing+=1\n",
    "                continue\n",
    "            if result[\"itemLabel\"][\"xml:lang\"] != \"de\":\n",
    "                lanlang_missingg_error+=1\n",
    "                continue\n",
    "            wikidata_title = result[\"itemLabel\"][\"value\"]\n",
    "            result_qid = pattern_uri_qid.findall(wikidata_uri)[0]\n",
    "\n",
    "            response = requests.get(\n",
    "                url=\"\"\"https://www.wikidata.org/w/api.php?action=wbgetentities&format=json&props=sitelinks&ids=\"\"\"+f\"{result_qid}\"+\"\"\"&sitefilter=dewiki\"\"\", timeout=10\n",
    "            )\n",
    "            status_code = response.status_code\n",
    "            if status_code != 200:\n",
    "                request_mediawiki_failure+=1\n",
    "                continue\n",
    "            response = response.json()\n",
    "            # check for empty sitelinks dict\n",
    "            if not response[\"entities\"][result_qid][\"sitelinks\"]:\n",
    "                sitelink_missing+=1\n",
    "                continue\n",
    "            wikipedia_title = response[\"entities\"][result_qid][\"sitelinks\"][\"dewiki\"][\"title\"]\n",
    "            # filter\n",
    "            if wikipedia_title in wikipedia_titles_df:\n",
    "                categories[qids[qid]].append(wikipedia_title)\n",
    "            sleep(0.01)\n",
    "        except Exception as e:\n",
    "            err+=1"
   ]
  },
  {
   "cell_type": "markdown",
   "id": "182e3672-93fc-4c4d-86c9-6766a822a12a",
   "metadata": {},
   "source": [
    "### store data"
   ]
  },
  {
   "cell_type": "code",
   "execution_count": 29,
   "id": "8d22d8cf-3423-4898-b951-5eca50b2600f",
   "metadata": {},
   "outputs": [],
   "source": [
    "cwd = os.getcwd()\n",
    "output_file_path = os.path.join(cwd, \"data/categories/categories.pkl\")\n",
    "with open(output_file_path, \"wb\") as f:\n",
    "    pickle.dump(categories, f)"
   ]
  },
  {
   "cell_type": "markdown",
   "id": "841b9627-1b45-4d0b-9921-ebfb21f3135e",
   "metadata": {},
   "source": [
    "### load data"
   ]
  },
  {
   "cell_type": "code",
   "execution_count": 33,
   "id": "7dc5e56f-0776-4d7a-b3ad-f23d19bc2b50",
   "metadata": {},
   "outputs": [
    {
     "name": "stdout",
     "output_type": "stream",
     "text": [
      "[32, 0, 0, 668, 1267]\n",
      "['Albert Einstein', 'Alexander von Humboldt', 'Johann Amos Comenius', 'Tadeus Reichstein', 'Otto von Guericke']\n",
      "[]\n",
      "[]\n",
      "['Albert Einstein', 'Karl Marx', 'Johann Wolfgang von Goethe', 'Friedrich Nietzsche', 'Martin Luther']\n",
      "['Johann Wolfgang von Goethe', 'Martin Luther', 'Johannes Kepler', 'Erasmus von Rotterdam', 'Albert Schweitzer']\n"
     ]
    }
   ],
   "source": [
    "with open(output_file_path, \"rb\") as f:\n",
    "    d = pickle.load(f)\n",
    "    # check number of matching articles per category\n",
    "    print([*map(len,d.values())])\n",
    "    for l in d:\n",
    "        print(d[l][:5])"
   ]
  },
  {
   "cell_type": "markdown",
   "id": "7cb8deec-3c3d-4072-a519-c6dd0122c38d",
   "metadata": {},
   "source": [
    "### problems\n",
    "+ wikidata query: timeout limit reached... (example: politician,writer)\n",
    "+ inefficient"
   ]
  },
  {
   "cell_type": "markdown",
   "id": "3b8ed832-1eae-43ba-8de0-c4e65bc2f479",
   "metadata": {},
   "source": [
    "## **2.** wikipedia -> wikidata approach"
   ]
  },
  {
   "cell_type": "code",
   "execution_count": 3,
   "id": "adadd4ce-33ff-4c0a-bd4f-47143bb995a2",
   "metadata": {},
   "outputs": [],
   "source": [
    "path = os.path.abspath(\"\")\n",
    "data_df_rel = \"data/df/\"\n",
    "data_df_ndb_abs = os.path.join(path, data_df_rel, \"df_ndb_wikipedia.pkl\")\n",
    "corpus = pd.read_pickle(data_df_ndb_abs)\n",
    "wikipedia_titles = corpus[\"wikipedia_title\"].tolist()\n",
    "wikipedia_titles_len = len(wikipedia_titles)"
   ]
  },
  {
   "cell_type": "code",
   "execution_count": 6,
   "id": "bf79d297-b0d3-4357-b52d-56ab6d7caeb9",
   "metadata": {},
   "outputs": [
    {
     "name": "stdout",
     "output_type": "stream",
     "text": [
      "processing: 20484/20484 | stored: 17096 |  restored: 17096/17096 | request_mediawiki_failure=0 request_wikidata_qid_failure=3387 request_wikidata_occupations_failure=0\r"
     ]
    }
   ],
   "source": [
    "pattern_uri_qid = re.compile(r\"^http://www.wikidata.org/.*/(Q\\d+)$\")\n",
    "wikipedia_title_wikidata_qid = {}\n",
    "\n",
    "# load prev collected data\n",
    "cwd = os.getcwd()\n",
    "output_file_path = os.path.join(cwd, \"data/categories/wikipedia_title_wikidata_qid_occupations.pkl\")\n",
    "prev_data_state=None\n",
    "biographies_restored = 0\n",
    "skipped=0\n",
    "try:\n",
    "    with open(output_file_path, \"rb\") as f:\n",
    "        prev_data_state = pickle.load(f)\n",
    "        biographies_restored = len(prev_data_state)\n",
    "        wikipedia_title_wikidata_qid = prev_data_state\n",
    "except Exception:\n",
    "      pass\n",
    "\n",
    "request_mediawiki_failure=0\n",
    "request_wikidata_qid_failure=0\n",
    "request_wikidata_occupations_failure=0\n",
    "for i,wikipedia_title in enumerate(wikipedia_titles):\n",
    "    print(f\"processing: {i+1}/{wikipedia_titles_len} | stored: {len(wikipedia_title_wikidata_qid)} {skipped=} | {request_mediawiki_failure=} {request_wikidata_qid_failure=} {request_wikidata_occupations_failure=}\", end=\"\\r\")\n",
    "    sleep(0.001)\n",
    "    \n",
    "    if wikipedia_title in wikipedia_title_wikidata_qid:\n",
    "        skipped+=1\n",
    "        continue\n",
    "    # wikidata-id by title\n",
    "    # https://en.wikipedia.org/wiki/Wikipedia:Finding_a_Wikidata_ID\n",
    "    wikipedia_title_query=wikipedia_title.replace(\" \",\"_\")\n",
    "    response = requests.get(\n",
    "        url=\"\"\"https://en.wikipedia.org/w/api.php?action=query&prop=pageprops&ppprop=wikibase_item&redirects=1&titles=\"\"\"+f\"{wikipedia_title_query}\"+\"\"\"&format=json\"\"\", timeout=10\n",
    "    )\n",
    "    status_code = response.status_code\n",
    "    if status_code != 200:\n",
    "        request_mediawiki_failure+=1\n",
    "        continue\n",
    "    response = response.json()\n",
    "    qid=None\n",
    "    pages_check = list(response[\"query\"][\"pages\"].values())[0]\n",
    "    # if qid can't get recieved by query output: try sparql query\n",
    "    if \"-1\" in response[\"query\"][\"pages\"] or \"missing\" in pages_check or \"pageprops\" not in pages_check:\n",
    "        try:\n",
    "            assert response[\"query\"][\"normalized\"][0][\"from\"] == wikipedia_title_query\n",
    "            wikidata_title = response[\"query\"][\"normalized\"][0][\"to\"]\n",
    "            query = '''SELECT distinct ?item ?itemLabel ?itemDescription WHERE{  \n",
    "              ?item ?label \"'''+f\"{wikidata_title}\"+'''\"@de.  \n",
    "              ?item wdt:P31 wd:Q5 .\n",
    "              ?article schema:about ?item .\n",
    "              ?article schema:inLanguage \"de\" .\n",
    "              ?article schema:isPartOf <https://de.wikipedia.org/>. \n",
    "              SERVICE wikibase:label { bd:serviceParam wikibase:language \"de\". }    \n",
    "            }'''\n",
    "            results = get_results(endpoint_url, query)\n",
    "            wikidata_uri = results[\"results\"][\"bindings\"][0][\"item\"][\"value\"]\n",
    "            qid = pattern_uri_qid.findall(wikidata_uri)[0]\n",
    "        except Exception as e:\n",
    "            # results[\"results\"][\"bindings\"] list empty (no match)\n",
    "            request_wikidata_qid_failure+=1\n",
    "            continue\n",
    "    else:\n",
    "        qid = list(response[\"query\"][\"pages\"].values())[0][\"pageprops\"][\"wikibase_item\"]\n",
    "    #get occupations\n",
    "    occupations=[]\n",
    "    try:\n",
    "        query = '''SELECT distinct ?item ?occupationLabel ?occupation WHERE { \n",
    "          SERVICE wikibase:label { bd:serviceParam wikibase:language \"de\". }\n",
    "          ?item wdt:P106 ?occupation.\n",
    "          BIND(wd:'''+f\"{qid}\"+''' AS ?item).\n",
    "        }\n",
    "        '''\n",
    "        results = get_results(endpoint_url, query)\n",
    "        for result in results[\"results\"][\"bindings\"]:\n",
    "            occupations.append(result[\"occupationLabel\"][\"value\"])\n",
    "    except Exception:\n",
    "        request_wikidata_occupations_failure+=1\n",
    "        continue\n",
    "    wikipedia_title_wikidata_qid[wikipedia_title]={}\n",
    "    wikipedia_title_wikidata_qid[wikipedia_title][\"qid\"]=qid\n",
    "    wikipedia_title_wikidata_qid[wikipedia_title][\"occupations\"]=occupations\n",
    "    # example: {'Hans von Aachen': {'qid': 'Q152835', 'occupations': ['Porträtist', 'Maler', 'Diplomat']}}"
   ]
  },
  {
   "cell_type": "markdown",
   "id": "0c8e98ff-6ff9-4968-a5cd-853dbaa9469d",
   "metadata": {},
   "source": [
    "### store data"
   ]
  },
  {
   "cell_type": "code",
   "execution_count": 85,
   "id": "d611059a-d48f-4749-908c-2b50501070c8",
   "metadata": {},
   "outputs": [],
   "source": [
    "if len(wikipedia_title_wikidata_qid) > biographies_restored:\n",
    "    with open(output_file_path, \"wb\") as f:\n",
    "        pickle.dump(wikipedia_title_wikidata_qid, f)\n",
    "    print(f\"data about {len(wikipedia_title_wikidata_qid)-biographies_restored} new biographies stored.\")"
   ]
  },
  {
   "cell_type": "markdown",
   "id": "4d4e5f08-25f9-4473-a4c0-8dbc4fbe9794",
   "metadata": {},
   "source": [
    "### load data\n",
    "+ reminder: **people can be part of multiple categories**"
   ]
  },
  {
   "cell_type": "code",
   "execution_count": 15,
   "id": "1c429f61-f050-44e1-83ce-3a19a022d112",
   "metadata": {},
   "outputs": [],
   "source": [
    "import matplotlib.pyplot as plt\n",
    "import numpy as np"
   ]
  },
  {
   "cell_type": "code",
   "execution_count": 8,
   "id": "ce867aae-385a-449a-a0a9-bf6ed315c7a2",
   "metadata": {},
   "outputs": [
    {
     "name": "stdout",
     "output_type": "stream",
     "text": [
      "number of categories: 1154\n"
     ]
    }
   ],
   "source": [
    "cwd = os.getcwd()\n",
    "output_file_path = os.path.join(cwd, \"data/categories/wikipedia_title_wikidata_qid_occupations.pkl\")\n",
    "categories = {}\n",
    "with open(output_file_path, \"rb\") as f:\n",
    "    d = pickle.load(f)\n",
    "    for k,v in d.items():\n",
    "        for occ in v[\"occupations\"]:\n",
    "            if occ not in categories:\n",
    "                categories[occ]=0\n",
    "            else:\n",
    "                categories[occ]+=1\n",
    "print(f'number of categories: {len(categories)}')"
   ]
  },
  {
   "cell_type": "code",
   "execution_count": 19,
   "id": "5a9ab989-895e-4aeb-a13d-ca7472ef8d7e",
   "metadata": {},
   "outputs": [],
   "source": [
    "# get (top) categories with >=100 associated people --out of those ~17k/~20k biographies\n",
    "categories_list = sorted([(k,v) for k,v in categories.items()],key=lambda x:x[1],reverse=True)\n",
    "categories_list = [t for t in categories_list if t[1]>400]"
   ]
  },
  {
   "cell_type": "code",
   "execution_count": 18,
   "id": "aaa84732-3b67-461a-8930-f59b33aece27",
   "metadata": {},
   "outputs": [
    {
     "data": {
      "image/png": "[encoded data removed]",
      "text/plain": [
       "<Figure size 640x480 with 1 Axes>"
      ]
     },
     "metadata": {},
     "output_type": "display_data"
    }
   ],
   "source": [
    "labels=[t[0] for t in categories_list]\n",
    "values=[t[1] for t in categories_list]\n",
    "y_pos = np.arange(len(labels))\n",
    "\n",
    "plt.rcdefaults()\n",
    "fig, ax = plt.subplots()\n",
    "\n",
    "ax.barh(y_pos, values)\n",
    "ax.set_yticks(y_pos)\n",
    "ax.set_yticklabels(labels)\n",
    "ax.invert_yaxis()  # labels read top-to-bottom\n",
    "ax.set_xlabel('biographies')\n",
    "ax.set_title('Categories with >400 associated biographies')\n",
    "\n",
    "plt.show()"
   ]
  }
 ],
 "metadata": {
  "kernelspec": {
   "display_name": "Python 3 (ipykernel)",
   "language": "python",
   "name": "python3"
  },
  "language_info": {
   "codemirror_mode": {
    "name": "ipython",
    "version": 3
   },
   "file_extension": ".py",
   "mimetype": "text/x-python",
   "name": "python",
   "nbconvert_exporter": "python",
   "pygments_lexer": "ipython3",
   "version": "3.9.12"
  }
 },
 "nbformat": 4,
 "nbformat_minor": 5
}
