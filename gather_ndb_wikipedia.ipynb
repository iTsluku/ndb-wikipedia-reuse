{
 "cells": [
  {
   "cell_type": "markdown",
   "metadata": {},
   "source": [
    "### requirements\n",
    "\n",
    "+ beautifulsoup4 (4.10.0)\n",
    "+ lxml (4.8.0)\n",
    "+ wikipedia (1.4.0)\n",
    "+ wikipedia-api (0.5.4)\n",
    "+ nltk (3.6.5)\n",
    "+ nltk.download(\"punkt\")"
   ]
  },
  {
   "cell_type": "markdown",
   "metadata": {},
   "source": [
    "### input ndb data (XML TEI encoded)\n",
    "\n",
    "+ 27 volumes split into \"_head\" and \"_leben\" \n",
    "+ \"_leben\" contains life sections for biographies of a particular volume\n",
    "+ \"_head\" contains head and post life sections for biographies of a particular volume"
   ]
  },
  {
   "cell_type": "code",
   "execution_count": 1,
   "metadata": {},
   "outputs": [
    {
     "data": {
      "application/javascript": [
       "\n",
       "            setTimeout(function() {\n",
       "                var nbb_cell_id = 1;\n",
       "                var nbb_unformatted_code = \"# format cells using black\\n%load_ext nb_black\";\n",
       "                var nbb_formatted_code = \"# format cells using black\\n%load_ext nb_black\";\n",
       "                var nbb_cells = Jupyter.notebook.get_cells();\n",
       "                for (var i = 0; i < nbb_cells.length; ++i) {\n",
       "                    if (nbb_cells[i].input_prompt_number == nbb_cell_id) {\n",
       "                        if (nbb_cells[i].get_text() == nbb_unformatted_code) {\n",
       "                             nbb_cells[i].set_text(nbb_formatted_code);\n",
       "                        }\n",
       "                        break;\n",
       "                    }\n",
       "                }\n",
       "            }, 500);\n",
       "            "
      ],
      "text/plain": [
       "<IPython.core.display.Javascript object>"
      ]
     },
     "metadata": {},
     "output_type": "display_data"
    }
   ],
   "source": [
    "# format cells using black\n",
    "%load_ext nb_black"
   ]
  },
  {
   "cell_type": "code",
   "execution_count": 2,
   "metadata": {},
   "outputs": [
    {
     "data": {
      "application/javascript": [
       "\n",
       "            setTimeout(function() {\n",
       "                var nbb_cell_id = 2;\n",
       "                var nbb_unformatted_code = \"import os\\nimport re\\nimport bs4\\nimport requests\\nimport pandas as pd\\n\\nimport wikipedia\\nimport wikipediaapi\\n\\nimport nltk\\n\\n# from nltk.tokenize import sent_tokenize\\n# nltk.download(\\\"punkt\\\")\\n\\nfrom nltk.tokenize import sent_tokenize\\nfrom time import sleep\\nfrom typing import List\";\n",
       "                var nbb_formatted_code = \"import os\\nimport re\\nimport bs4\\nimport requests\\nimport pandas as pd\\n\\nimport wikipedia\\nimport wikipediaapi\\n\\nimport nltk\\n\\n# from nltk.tokenize import sent_tokenize\\n# nltk.download(\\\"punkt\\\")\\n\\nfrom nltk.tokenize import sent_tokenize\\nfrom time import sleep\\nfrom typing import List\";\n",
       "                var nbb_cells = Jupyter.notebook.get_cells();\n",
       "                for (var i = 0; i < nbb_cells.length; ++i) {\n",
       "                    if (nbb_cells[i].input_prompt_number == nbb_cell_id) {\n",
       "                        if (nbb_cells[i].get_text() == nbb_unformatted_code) {\n",
       "                             nbb_cells[i].set_text(nbb_formatted_code);\n",
       "                        }\n",
       "                        break;\n",
       "                    }\n",
       "                }\n",
       "            }, 500);\n",
       "            "
      ],
      "text/plain": [
       "<IPython.core.display.Javascript object>"
      ]
     },
     "metadata": {},
     "output_type": "display_data"
    }
   ],
   "source": [
    "import os\n",
    "import re\n",
    "import bs4\n",
    "import requests\n",
    "import pandas as pd\n",
    "\n",
    "import wikipedia\n",
    "import wikipediaapi\n",
    "\n",
    "import nltk\n",
    "\n",
    "# from nltk.tokenize import sent_tokenize\n",
    "# nltk.download(\"punkt\")\n",
    "\n",
    "from nltk.tokenize import sent_tokenize\n",
    "from time import sleep\n",
    "from typing import List"
   ]
  },
  {
   "cell_type": "code",
   "execution_count": 3,
   "metadata": {},
   "outputs": [
    {
     "data": {
      "application/javascript": [
       "\n",
       "            setTimeout(function() {\n",
       "                var nbb_cell_id = 3;\n",
       "                var nbb_unformatted_code = \"class Error(Exception):\\n    \\\"\\\"\\\"Base class for other exceptions.\\\"\\\"\\\"\\n\\n    pass\\n\\n\\nclass KeyNDBNError(Error):\\n    \\\"\\\"\\\"Attribute <n> is missing in the parsed biography.\\\"\\\"\\\"\\n\\n    pass\\n\\n\\nclass KeyNDBSFZError(Error):\\n    \\\"\\\"\\\"Attribute <ndb:sfz> is missing in the parsed biography.\\\"\\\"\\\"\\n\\n    pass\\n\\n\\nclass KeyNDBSEXError(Error):\\n    \\\"\\\"\\\"Attribute <ndb:sex> is missing in the parsed biography.\\\"\\\"\\\"\\n\\n    pass\\n\\n\\nclass BadStatusCodeError(Error):\\n    \\\"\\\"\\\"Raised when status code of request does not equal 200.\\\"\\\"\\\"\\n\\n    pass\\n\\n\\nclass Biography:\\n    def __init__(\\n        self,\\n        ndb_data: bs4.element.Tag,\\n        ndb_text: str,\\n        ndb_n: str,\\n        ndb_sfz: str,\\n        ndb_sex: str,\\n    ):\\n        self.ndb_data = ndb_data  # xml tei encoded\\n        self.ndb_text = ndb_text  # text (extracted)\\n        self.ndb_n = ndb_n  # volume-entry-version ?\\n        self.ndb_sfz = ndb_sfz  # (unique) ndb biography id\\n        self.ndb_sex = ndb_sex  # 1:= male, 2:= female, 9:=unknown\\n        self.gnd = None  # (person) id - resolved via sfz-gnd mapping\\n        self.ndb_name = None  # extracted from _head file by sfz\\n        self.wikipedia_title = None  # resolved by gnd mapping\\n        self.wikipedia_text = None  # extracted using wikiapi\\n\\n    def __repr__(self):\\n        return f\\\"{self.wikipedia_title=} {self.ndb_n=} {self.gnd=} {self.ndb_sfz=}\\\"\";\n",
       "                var nbb_formatted_code = \"class Error(Exception):\\n    \\\"\\\"\\\"Base class for other exceptions.\\\"\\\"\\\"\\n\\n    pass\\n\\n\\nclass KeyNDBNError(Error):\\n    \\\"\\\"\\\"Attribute <n> is missing in the parsed biography.\\\"\\\"\\\"\\n\\n    pass\\n\\n\\nclass KeyNDBSFZError(Error):\\n    \\\"\\\"\\\"Attribute <ndb:sfz> is missing in the parsed biography.\\\"\\\"\\\"\\n\\n    pass\\n\\n\\nclass KeyNDBSEXError(Error):\\n    \\\"\\\"\\\"Attribute <ndb:sex> is missing in the parsed biography.\\\"\\\"\\\"\\n\\n    pass\\n\\n\\nclass BadStatusCodeError(Error):\\n    \\\"\\\"\\\"Raised when status code of request does not equal 200.\\\"\\\"\\\"\\n\\n    pass\\n\\n\\nclass Biography:\\n    def __init__(\\n        self,\\n        ndb_data: bs4.element.Tag,\\n        ndb_text: str,\\n        ndb_n: str,\\n        ndb_sfz: str,\\n        ndb_sex: str,\\n    ):\\n        self.ndb_data = ndb_data  # xml tei encoded\\n        self.ndb_text = ndb_text  # text (extracted)\\n        self.ndb_n = ndb_n  # volume-entry-version ?\\n        self.ndb_sfz = ndb_sfz  # (unique) ndb biography id\\n        self.ndb_sex = ndb_sex  # 1:= male, 2:= female, 9:=unknown\\n        self.gnd = None  # (person) id - resolved via sfz-gnd mapping\\n        self.ndb_name = None  # extracted from _head file by sfz\\n        self.wikipedia_title = None  # resolved by gnd mapping\\n        self.wikipedia_text = None  # extracted using wikiapi\\n\\n    def __repr__(self):\\n        return f\\\"{self.wikipedia_title=} {self.ndb_n=} {self.gnd=} {self.ndb_sfz=}\\\"\";\n",
       "                var nbb_cells = Jupyter.notebook.get_cells();\n",
       "                for (var i = 0; i < nbb_cells.length; ++i) {\n",
       "                    if (nbb_cells[i].input_prompt_number == nbb_cell_id) {\n",
       "                        if (nbb_cells[i].get_text() == nbb_unformatted_code) {\n",
       "                             nbb_cells[i].set_text(nbb_formatted_code);\n",
       "                        }\n",
       "                        break;\n",
       "                    }\n",
       "                }\n",
       "            }, 500);\n",
       "            "
      ],
      "text/plain": [
       "<IPython.core.display.Javascript object>"
      ]
     },
     "metadata": {},
     "output_type": "display_data"
    }
   ],
   "source": [
    "class Error(Exception):\n",
    "    \"\"\"Base class for other exceptions.\"\"\"\n",
    "\n",
    "    pass\n",
    "\n",
    "\n",
    "class KeyNDBNError(Error):\n",
    "    \"\"\"Attribute <n> is missing in the parsed biography.\"\"\"\n",
    "\n",
    "    pass\n",
    "\n",
    "\n",
    "class KeyNDBSFZError(Error):\n",
    "    \"\"\"Attribute <ndb:sfz> is missing in the parsed biography.\"\"\"\n",
    "\n",
    "    pass\n",
    "\n",
    "\n",
    "class KeyNDBSEXError(Error):\n",
    "    \"\"\"Attribute <ndb:sex> is missing in the parsed biography.\"\"\"\n",
    "\n",
    "    pass\n",
    "\n",
    "\n",
    "class BadStatusCodeError(Error):\n",
    "    \"\"\"Raised when status code of request does not equal 200.\"\"\"\n",
    "\n",
    "    pass\n",
    "\n",
    "\n",
    "class Biography:\n",
    "    def __init__(\n",
    "        self,\n",
    "        ndb_data: bs4.element.Tag,\n",
    "        ndb_text: str,\n",
    "        ndb_n: str,\n",
    "        ndb_sfz: str,\n",
    "        ndb_sex: str,\n",
    "    ):\n",
    "        self.ndb_data = ndb_data  # xml tei encoded\n",
    "        self.ndb_text = ndb_text  # text (extracted)\n",
    "        self.ndb_n = ndb_n  # volume-entry-version ?\n",
    "        self.ndb_sfz = ndb_sfz  # (unique) ndb biography id\n",
    "        self.ndb_sex = ndb_sex  # 1:= male, 2:= female, 9:=unknown\n",
    "        self.gnd = None  # (person) id - resolved via sfz-gnd mapping\n",
    "        self.ndb_name = None  # extracted from _head file by sfz\n",
    "        self.wikipedia_title = None  # resolved by gnd mapping\n",
    "        self.wikipedia_text = None  # extracted using wikiapi\n",
    "\n",
    "    def __repr__(self):\n",
    "        return f\"{self.wikipedia_title=} {self.ndb_n=} {self.gnd=} {self.ndb_sfz=}\""
   ]
  },
  {
   "cell_type": "code",
   "execution_count": 4,
   "metadata": {},
   "outputs": [
    {
     "name": "stdout",
     "output_type": "stream",
     "text": [
      "['bsb_00016233_01_leben.xml', 'bsb_00016318_02_leben.xml', 'bsb_00016319_03_leben.xml', 'bsb_00016320_04_leben.xml', 'bsb_00016321_05_leben.xml', 'bsb_00016322_06_leben.xml', 'bsb_00016325_07_leben.xml', 'bsb_00016409_08_leben.xml', 'bsb_00016326_09_leben.xml', 'bsb_00016327_10_leben.xml', 'bsb_00016328_11_leben.xml', 'bsb_00016329_12_leben.xml', 'bsb_00016330_13_leben.xml', 'bsb_00016332_14_leben.xml', 'bsb_00016333_15_leben.xml', 'bsb_00016334_16_leben.xml', 'bsb_00016335_17_leben.xml', 'bsb_00016336_18_leben.xml', 'bsb_00016337_19_leben.xml', 'bsb_00016338_20_leben.xml', 'bsb_00016339_21_leben.xml', 'bsb_00016410_22_leben.xml', 'bsb_00019558_23_leben.xml', 'bsb_00020000_24_leben.xml', 'bsb_00020001_25_leben.xml', 'bsb_00020002_26_leben.xml', 'bsb_20000003_27_leben.xml']\n"
     ]
    },
    {
     "data": {
      "application/javascript": [
       "\n",
       "            setTimeout(function() {\n",
       "                var nbb_cell_id = 4;\n",
       "                var nbb_unformatted_code = \"path = os.path.abspath(\\\"\\\")\\ndata_ndb_volumes_path_rel = \\\"data/ndb_volumes/\\\"\\ndata_ndb_volumes_path_abs = os.path.join(path, data_ndb_volumes_path_rel)\\n\\npattern_ndb_volume_id = re.compile(r\\\"^bsb_.*_(\\\\d{2})_leben.xml$\\\")\\nndb_volume_leben_sorted = []\\n\\nfor filename in os.listdir(data_ndb_volumes_path_abs):\\n    if filename.endswith(\\\".xml\\\") and \\\"leben\\\" in filename:\\n        ndb_volume_id = pattern_ndb_volume_id.search(filename).group(1)\\n        ndb_volume_leben_sorted.append((ndb_volume_id, filename))\\nndb_volume_leben_sorted = [x[1] for x in sorted(ndb_volume_leben_sorted)]\\n\\nprint(ndb_volume_leben_sorted)\";\n",
       "                var nbb_formatted_code = \"path = os.path.abspath(\\\"\\\")\\ndata_ndb_volumes_path_rel = \\\"data/ndb_volumes/\\\"\\ndata_ndb_volumes_path_abs = os.path.join(path, data_ndb_volumes_path_rel)\\n\\npattern_ndb_volume_id = re.compile(r\\\"^bsb_.*_(\\\\d{2})_leben.xml$\\\")\\nndb_volume_leben_sorted = []\\n\\nfor filename in os.listdir(data_ndb_volumes_path_abs):\\n    if filename.endswith(\\\".xml\\\") and \\\"leben\\\" in filename:\\n        ndb_volume_id = pattern_ndb_volume_id.search(filename).group(1)\\n        ndb_volume_leben_sorted.append((ndb_volume_id, filename))\\nndb_volume_leben_sorted = [x[1] for x in sorted(ndb_volume_leben_sorted)]\\n\\nprint(ndb_volume_leben_sorted)\";\n",
       "                var nbb_cells = Jupyter.notebook.get_cells();\n",
       "                for (var i = 0; i < nbb_cells.length; ++i) {\n",
       "                    if (nbb_cells[i].input_prompt_number == nbb_cell_id) {\n",
       "                        if (nbb_cells[i].get_text() == nbb_unformatted_code) {\n",
       "                             nbb_cells[i].set_text(nbb_formatted_code);\n",
       "                        }\n",
       "                        break;\n",
       "                    }\n",
       "                }\n",
       "            }, 500);\n",
       "            "
      ],
      "text/plain": [
       "<IPython.core.display.Javascript object>"
      ]
     },
     "metadata": {},
     "output_type": "display_data"
    }
   ],
   "source": [
    "path = os.path.abspath(\"\")\n",
    "data_ndb_volumes_path_rel = \"data/ndb_volumes/\"\n",
    "data_ndb_volumes_path_abs = os.path.join(path, data_ndb_volumes_path_rel)\n",
    "\n",
    "pattern_ndb_volume_id = re.compile(r\"^bsb_.*_(\\d{2})_leben.xml$\")\n",
    "ndb_volume_leben_sorted = []\n",
    "\n",
    "for filename in os.listdir(data_ndb_volumes_path_abs):\n",
    "    if filename.endswith(\".xml\") and \"leben\" in filename:\n",
    "        ndb_volume_id = pattern_ndb_volume_id.search(filename).group(1)\n",
    "        ndb_volume_leben_sorted.append((ndb_volume_id, filename))\n",
    "ndb_volume_leben_sorted = [x[1] for x in sorted(ndb_volume_leben_sorted)]\n",
    "\n",
    "print(ndb_volume_leben_sorted)"
   ]
  },
  {
   "cell_type": "markdown",
   "metadata": {},
   "source": [
    "### parse _leben"
   ]
  },
  {
   "cell_type": "code",
   "execution_count": 5,
   "metadata": {
    "scrolled": true
   },
   "outputs": [
    {
     "name": "stdout",
     "output_type": "stream",
     "text": [
      "processing volume: 27 / 27\n",
      " {'KeyNDBNError': 1, 'KeyNDBSFZError': 0, 'KeyNDBSEXError': 1, 'AssertionError': 0} \n",
      " 2 biographies can't be parsed due to invalid xml schmeme.\n"
     ]
    },
    {
     "data": {
      "application/javascript": [
       "\n",
       "            setTimeout(function() {\n",
       "                var nbb_cell_id = 5;\n",
       "                var nbb_unformatted_code = \"biographies_dict = {}\\nerror_count = {\\n    \\\"KeyNDBNError\\\": 0,\\n    \\\"KeyNDBSFZError\\\": 0,\\n    \\\"KeyNDBSEXError\\\": 0,\\n    \\\"AssertionError\\\": 0,\\n}\\n\\nfor i, filename in enumerate(ndb_volume_leben_sorted):\\n    print(f\\\"processing volume: {i+1} / 27\\\", end=\\\"\\\\r\\\")\\n    with open(os.path.join(data_ndb_volumes_path_abs, filename), \\\"r\\\") as file:\\n        soup = bs4.BeautifulSoup(file, \\\"lxml\\\")\\n        biographies = soup.find_all(\\\"div\\\", {\\\"type\\\": \\\"leben\\\"})\\n\\n        for biography in biographies:\\n            try:\\n                if not biography.has_attr(\\\"n\\\"):\\n                    raise KeyNDBNError\\n                n = biography[\\\"n\\\"]\\n                if not biography.has_attr(\\\"ndb:sfz\\\"):\\n                    raise KeyNDBSFZError\\n                sfz = biography[\\\"ndb:sfz\\\"]\\n                if not biography.has_attr(\\\"ndb:sex\\\"):\\n                    raise KeyNDBSEXError\\n                sex = biography[\\\"ndb:sex\\\"]\\n                assert isinstance(biography, bs4.element.Tag)\\n                assert isinstance(n, str)\\n                assert isinstance(sfz, str)\\n                assert isinstance(sex, str)\\n                text = \\\" \\\".join([x.text for x in biography.find_all(\\\"p\\\")])\\n                text = text.strip().replace(\\\"\\\\n\\\", \\\" \\\")  # TODO check \\\"\\\" or \\\" \\\"\\n                biography_obj = Biography(\\n                    ndb_data=biography, ndb_text=text, ndb_n=n, ndb_sfz=sfz, ndb_sex=sex\\n                )\\n                biographies_dict[sfz] = biography_obj\\n            except KeyNDBNError:\\n                error_count[\\\"KeyNDBNError\\\"] += 1\\n            except KeyNDBSFZError:\\n                error_count[\\\"KeyNDBSFZError\\\"] += 1\\n            except KeyNDBSEXError:\\n                error_count[\\\"KeyNDBSEXError\\\"] += 1\\n            except AssertionError:\\n                error_count[\\\"AssertionError\\\"] += 1\\n\\nprint(\\n    \\\"\\\\n\\\",\\n    error_count,\\n    \\\"\\\\n\\\",\\n    f\\\"{sum(error_count.values())} biographies can't be parsed due to invalid xml schmeme.\\\",\\n)\";\n",
       "                var nbb_formatted_code = \"biographies_dict = {}\\nerror_count = {\\n    \\\"KeyNDBNError\\\": 0,\\n    \\\"KeyNDBSFZError\\\": 0,\\n    \\\"KeyNDBSEXError\\\": 0,\\n    \\\"AssertionError\\\": 0,\\n}\\n\\nfor i, filename in enumerate(ndb_volume_leben_sorted):\\n    print(f\\\"processing volume: {i+1} / 27\\\", end=\\\"\\\\r\\\")\\n    with open(os.path.join(data_ndb_volumes_path_abs, filename), \\\"r\\\") as file:\\n        soup = bs4.BeautifulSoup(file, \\\"lxml\\\")\\n        biographies = soup.find_all(\\\"div\\\", {\\\"type\\\": \\\"leben\\\"})\\n\\n        for biography in biographies:\\n            try:\\n                if not biography.has_attr(\\\"n\\\"):\\n                    raise KeyNDBNError\\n                n = biography[\\\"n\\\"]\\n                if not biography.has_attr(\\\"ndb:sfz\\\"):\\n                    raise KeyNDBSFZError\\n                sfz = biography[\\\"ndb:sfz\\\"]\\n                if not biography.has_attr(\\\"ndb:sex\\\"):\\n                    raise KeyNDBSEXError\\n                sex = biography[\\\"ndb:sex\\\"]\\n                assert isinstance(biography, bs4.element.Tag)\\n                assert isinstance(n, str)\\n                assert isinstance(sfz, str)\\n                assert isinstance(sex, str)\\n                text = \\\" \\\".join([x.text for x in biography.find_all(\\\"p\\\")])\\n                text = text.strip().replace(\\\"\\\\n\\\", \\\" \\\")  # TODO check \\\"\\\" or \\\" \\\"\\n                biography_obj = Biography(\\n                    ndb_data=biography, ndb_text=text, ndb_n=n, ndb_sfz=sfz, ndb_sex=sex\\n                )\\n                biographies_dict[sfz] = biography_obj\\n            except KeyNDBNError:\\n                error_count[\\\"KeyNDBNError\\\"] += 1\\n            except KeyNDBSFZError:\\n                error_count[\\\"KeyNDBSFZError\\\"] += 1\\n            except KeyNDBSEXError:\\n                error_count[\\\"KeyNDBSEXError\\\"] += 1\\n            except AssertionError:\\n                error_count[\\\"AssertionError\\\"] += 1\\n\\nprint(\\n    \\\"\\\\n\\\",\\n    error_count,\\n    \\\"\\\\n\\\",\\n    f\\\"{sum(error_count.values())} biographies can't be parsed due to invalid xml schmeme.\\\",\\n)\";\n",
       "                var nbb_cells = Jupyter.notebook.get_cells();\n",
       "                for (var i = 0; i < nbb_cells.length; ++i) {\n",
       "                    if (nbb_cells[i].input_prompt_number == nbb_cell_id) {\n",
       "                        if (nbb_cells[i].get_text() == nbb_unformatted_code) {\n",
       "                             nbb_cells[i].set_text(nbb_formatted_code);\n",
       "                        }\n",
       "                        break;\n",
       "                    }\n",
       "                }\n",
       "            }, 500);\n",
       "            "
      ],
      "text/plain": [
       "<IPython.core.display.Javascript object>"
      ]
     },
     "metadata": {},
     "output_type": "display_data"
    }
   ],
   "source": [
    "biographies_dict = {}\n",
    "error_count = {\n",
    "    \"KeyNDBNError\": 0,\n",
    "    \"KeyNDBSFZError\": 0,\n",
    "    \"KeyNDBSEXError\": 0,\n",
    "    \"AssertionError\": 0,\n",
    "}\n",
    "\n",
    "for i, filename in enumerate(ndb_volume_leben_sorted):\n",
    "    print(f\"processing volume: {i+1} / 27\", end=\"\\r\")\n",
    "    with open(os.path.join(data_ndb_volumes_path_abs, filename), \"r\") as file:\n",
    "        soup = bs4.BeautifulSoup(file, \"lxml\")\n",
    "        biographies = soup.find_all(\"div\", {\"type\": \"leben\"})\n",
    "\n",
    "        for biography in biographies:\n",
    "            try:\n",
    "                if not biography.has_attr(\"n\"):\n",
    "                    raise KeyNDBNError\n",
    "                n = biography[\"n\"]\n",
    "                if not biography.has_attr(\"ndb:sfz\"):\n",
    "                    raise KeyNDBSFZError\n",
    "                sfz = biography[\"ndb:sfz\"]\n",
    "                if not biography.has_attr(\"ndb:sex\"):\n",
    "                    raise KeyNDBSEXError\n",
    "                sex = biography[\"ndb:sex\"]\n",
    "                assert isinstance(biography, bs4.element.Tag)\n",
    "                assert isinstance(n, str)\n",
    "                assert isinstance(sfz, str)\n",
    "                assert isinstance(sex, str)\n",
    "                text = \" \".join([x.text for x in biography.find_all(\"p\")])\n",
    "                text = text.strip().replace(\"\\n\", \" \")  # TODO check \"\" or \" \"\n",
    "                biography_obj = Biography(\n",
    "                    ndb_data=biography, ndb_text=text, ndb_n=n, ndb_sfz=sfz, ndb_sex=sex\n",
    "                )\n",
    "                biographies_dict[sfz] = biography_obj\n",
    "            except KeyNDBNError:\n",
    "                error_count[\"KeyNDBNError\"] += 1\n",
    "            except KeyNDBSFZError:\n",
    "                error_count[\"KeyNDBSFZError\"] += 1\n",
    "            except KeyNDBSEXError:\n",
    "                error_count[\"KeyNDBSEXError\"] += 1\n",
    "            except AssertionError:\n",
    "                error_count[\"AssertionError\"] += 1\n",
    "\n",
    "print(\n",
    "    \"\\n\",\n",
    "    error_count,\n",
    "    \"\\n\",\n",
    "    f\"{sum(error_count.values())} biographies can't be parsed due to invalid xml schmeme.\",\n",
    ")"
   ]
  },
  {
   "cell_type": "code",
   "execution_count": 6,
   "metadata": {},
   "outputs": [
    {
     "name": "stdout",
     "output_type": "stream",
     "text": [
      "['bsb_00016233_01_head.xml', 'bsb_00016318_02_head.xml', 'bsb_00016319_03_head.xml', 'bsb_00016320_04_head.xml', 'bsb_00016321_05_head.xml', 'bsb_00016322_06_head.xml', 'bsb_00016325_07_head.xml', 'bsb_00016409_08_head.xml', 'bsb_00016326_09_head.xml', 'bsb_00016327_10_head.xml', 'bsb_00016328_11_head.xml', 'bsb_00016329_12_head.xml', 'bsb_00016330_13_head.xml', 'bsb_00016332_14_head.xml', 'bsb_00016333_15_head.xml', 'bsb_00016334_16_head.xml', 'bsb_00016335_17_head.xml', 'bsb_00016336_18_head.xml', 'bsb_00016337_19_head.xml', 'bsb_00016338_20_head.xml', 'bsb_00016339_21_head.xml', 'bsb_00016410_22_head.xml', 'bsb_00019558_23_head.xml', 'bsb_00020000_24_head.xml', 'bsb_00020001_25_head.xml', 'bsb_00020002_26_head.xml', 'bsb_20000003_27_head.xml']\n"
     ]
    },
    {
     "data": {
      "application/javascript": [
       "\n",
       "            setTimeout(function() {\n",
       "                var nbb_cell_id = 6;\n",
       "                var nbb_unformatted_code = \"path = os.path.abspath(\\\"\\\")\\ndata_ndb_volumes_path_rel = \\\"data/ndb_volumes/\\\"\\ndata_ndb_volumes_path_abs = os.path.join(path, data_ndb_volumes_path_rel)\\n\\npattern_ndb_volume_id = re.compile(r\\\"^bsb_.*_(\\\\d{2})_head.xml$\\\")\\nndb_volume_head_sorted = []\\n\\nfor filename in os.listdir(data_ndb_volumes_path_abs):\\n    if filename.endswith(\\\".xml\\\") and \\\"head\\\" in filename:\\n        ndb_volume_id = pattern_ndb_volume_id.search(filename).group(1)\\n        ndb_volume_head_sorted.append((ndb_volume_id, filename))\\nndb_volume_head_sorted = [x[1] for x in sorted(ndb_volume_head_sorted)]\\n\\nprint(ndb_volume_head_sorted)\";\n",
       "                var nbb_formatted_code = \"path = os.path.abspath(\\\"\\\")\\ndata_ndb_volumes_path_rel = \\\"data/ndb_volumes/\\\"\\ndata_ndb_volumes_path_abs = os.path.join(path, data_ndb_volumes_path_rel)\\n\\npattern_ndb_volume_id = re.compile(r\\\"^bsb_.*_(\\\\d{2})_head.xml$\\\")\\nndb_volume_head_sorted = []\\n\\nfor filename in os.listdir(data_ndb_volumes_path_abs):\\n    if filename.endswith(\\\".xml\\\") and \\\"head\\\" in filename:\\n        ndb_volume_id = pattern_ndb_volume_id.search(filename).group(1)\\n        ndb_volume_head_sorted.append((ndb_volume_id, filename))\\nndb_volume_head_sorted = [x[1] for x in sorted(ndb_volume_head_sorted)]\\n\\nprint(ndb_volume_head_sorted)\";\n",
       "                var nbb_cells = Jupyter.notebook.get_cells();\n",
       "                for (var i = 0; i < nbb_cells.length; ++i) {\n",
       "                    if (nbb_cells[i].input_prompt_number == nbb_cell_id) {\n",
       "                        if (nbb_cells[i].get_text() == nbb_unformatted_code) {\n",
       "                             nbb_cells[i].set_text(nbb_formatted_code);\n",
       "                        }\n",
       "                        break;\n",
       "                    }\n",
       "                }\n",
       "            }, 500);\n",
       "            "
      ],
      "text/plain": [
       "<IPython.core.display.Javascript object>"
      ]
     },
     "metadata": {},
     "output_type": "display_data"
    }
   ],
   "source": [
    "path = os.path.abspath(\"\")\n",
    "data_ndb_volumes_path_rel = \"data/ndb_volumes/\"\n",
    "data_ndb_volumes_path_abs = os.path.join(path, data_ndb_volumes_path_rel)\n",
    "\n",
    "pattern_ndb_volume_id = re.compile(r\"^bsb_.*_(\\d{2})_head.xml$\")\n",
    "ndb_volume_head_sorted = []\n",
    "\n",
    "for filename in os.listdir(data_ndb_volumes_path_abs):\n",
    "    if filename.endswith(\".xml\") and \"head\" in filename:\n",
    "        ndb_volume_id = pattern_ndb_volume_id.search(filename).group(1)\n",
    "        ndb_volume_head_sorted.append((ndb_volume_id, filename))\n",
    "ndb_volume_head_sorted = [x[1] for x in sorted(ndb_volume_head_sorted)]\n",
    "\n",
    "print(ndb_volume_head_sorted)"
   ]
  },
  {
   "cell_type": "markdown",
   "metadata": {},
   "source": [
    "### parse _head"
   ]
  },
  {
   "cell_type": "code",
   "execution_count": 7,
   "metadata": {},
   "outputs": [
    {
     "name": "stdout",
     "output_type": "stream",
     "text": [
      "processing volume: 27 / 27 | bsb_20000003_27_head.xml\n",
      " {'KeyNDBSFZError': 1369, 'AssertionError': 0}\n"
     ]
    },
    {
     "data": {
      "application/javascript": [
       "\n",
       "            setTimeout(function() {\n",
       "                var nbb_cell_id = 7;\n",
       "                var nbb_unformatted_code = \"pattern_ndb_volume_id = re.compile(r\\\"^bsb_.*_(\\\\d{2})_head.xml$\\\")\\nerror_count_head = {\\\"KeyNDBSFZError\\\": 0, \\\"AssertionError\\\": 0}\\n\\nfor i, filename in enumerate(ndb_volume_head_sorted):\\n    ndb_volume_id = int(pattern_ndb_volume_id.search(filename).group(1))\\n    print(f\\\"processing volume: {i+1} / 27 | {filename}\\\", end=\\\"\\\\r\\\")\\n    with open(os.path.join(data_ndb_volumes_path_abs, filename), \\\"r\\\") as file:\\n        soup = bs4.BeautifulSoup(file, \\\"lxml\\\")\\n        biographies = soup.find_all(\\\"div\\\", {\\\"type\\\": \\\"entry\\\"})\\n        biographies = biographies + soup.find_all(\\\"div\\\", {\\\"type\\\": \\\"entry_fam\\\"})\\n\\n        for biography in biographies:\\n            try:\\n                if not biography.has_attr(\\\"ndb:sfz\\\"):\\n                    raise KeyNDBSFZError\\n                sfz = biography[\\\"ndb:sfz\\\"]\\n                assert isinstance(sfz, str)\\n\\n                head = biography.find(\\\"div\\\", {\\\"type\\\": \\\"kopf\\\"})\\n                p = head.find(\\\"p\\\")\\n                pers_name = p.find(\\\"persname\\\")\\n                # TODO refactor name! mult names/persname...\\n                name_list = pers_name.find_all(\\\"hi\\\")\\n                name_list = [x.text.replace(\\\"\\\\n\\\", \\\" \\\") for x in name_list]\\n                # name_first = name_list[-1]\\n                # name_last = name_list[0]\\n                name = \\\" \\\".join(name_list)\\n\\n                if sfz in biographies_dict:\\n                    biographies_dict[sfz].ndb_name = name\\n            except KeyNDBSFZError:\\n                # skips <wrong> tags - not a problem\\n                error_count_head[\\\"KeyNDBSFZError\\\"] += 1\\n            except AssertionError:\\n                error_count_head[\\\"AssertionError\\\"] += 1\\nprint(\\\"\\\\n\\\", error_count_head)\";\n",
       "                var nbb_formatted_code = \"pattern_ndb_volume_id = re.compile(r\\\"^bsb_.*_(\\\\d{2})_head.xml$\\\")\\nerror_count_head = {\\\"KeyNDBSFZError\\\": 0, \\\"AssertionError\\\": 0}\\n\\nfor i, filename in enumerate(ndb_volume_head_sorted):\\n    ndb_volume_id = int(pattern_ndb_volume_id.search(filename).group(1))\\n    print(f\\\"processing volume: {i+1} / 27 | {filename}\\\", end=\\\"\\\\r\\\")\\n    with open(os.path.join(data_ndb_volumes_path_abs, filename), \\\"r\\\") as file:\\n        soup = bs4.BeautifulSoup(file, \\\"lxml\\\")\\n        biographies = soup.find_all(\\\"div\\\", {\\\"type\\\": \\\"entry\\\"})\\n        biographies = biographies + soup.find_all(\\\"div\\\", {\\\"type\\\": \\\"entry_fam\\\"})\\n\\n        for biography in biographies:\\n            try:\\n                if not biography.has_attr(\\\"ndb:sfz\\\"):\\n                    raise KeyNDBSFZError\\n                sfz = biography[\\\"ndb:sfz\\\"]\\n                assert isinstance(sfz, str)\\n\\n                head = biography.find(\\\"div\\\", {\\\"type\\\": \\\"kopf\\\"})\\n                p = head.find(\\\"p\\\")\\n                pers_name = p.find(\\\"persname\\\")\\n                # TODO refactor name! mult names/persname...\\n                name_list = pers_name.find_all(\\\"hi\\\")\\n                name_list = [x.text.replace(\\\"\\\\n\\\", \\\" \\\") for x in name_list]\\n                # name_first = name_list[-1]\\n                # name_last = name_list[0]\\n                name = \\\" \\\".join(name_list)\\n\\n                if sfz in biographies_dict:\\n                    biographies_dict[sfz].ndb_name = name\\n            except KeyNDBSFZError:\\n                # skips <wrong> tags - not a problem\\n                error_count_head[\\\"KeyNDBSFZError\\\"] += 1\\n            except AssertionError:\\n                error_count_head[\\\"AssertionError\\\"] += 1\\nprint(\\\"\\\\n\\\", error_count_head)\";\n",
       "                var nbb_cells = Jupyter.notebook.get_cells();\n",
       "                for (var i = 0; i < nbb_cells.length; ++i) {\n",
       "                    if (nbb_cells[i].input_prompt_number == nbb_cell_id) {\n",
       "                        if (nbb_cells[i].get_text() == nbb_unformatted_code) {\n",
       "                             nbb_cells[i].set_text(nbb_formatted_code);\n",
       "                        }\n",
       "                        break;\n",
       "                    }\n",
       "                }\n",
       "            }, 500);\n",
       "            "
      ],
      "text/plain": [
       "<IPython.core.display.Javascript object>"
      ]
     },
     "metadata": {},
     "output_type": "display_data"
    }
   ],
   "source": [
    "pattern_ndb_volume_id = re.compile(r\"^bsb_.*_(\\d{2})_head.xml$\")\n",
    "error_count_head = {\"KeyNDBSFZError\": 0, \"AssertionError\": 0}\n",
    "\n",
    "for i, filename in enumerate(ndb_volume_head_sorted):\n",
    "    ndb_volume_id = int(pattern_ndb_volume_id.search(filename).group(1))\n",
    "    print(f\"processing volume: {i+1} / 27 | {filename}\", end=\"\\r\")\n",
    "    with open(os.path.join(data_ndb_volumes_path_abs, filename), \"r\") as file:\n",
    "        soup = bs4.BeautifulSoup(file, \"lxml\")\n",
    "        biographies = soup.find_all(\"div\", {\"type\": \"entry\"})\n",
    "        biographies = biographies + soup.find_all(\"div\", {\"type\": \"entry_fam\"})\n",
    "\n",
    "        for biography in biographies:\n",
    "            try:\n",
    "                if not biography.has_attr(\"ndb:sfz\"):\n",
    "                    raise KeyNDBSFZError\n",
    "                sfz = biography[\"ndb:sfz\"]\n",
    "                assert isinstance(sfz, str)\n",
    "\n",
    "                head = biography.find(\"div\", {\"type\": \"kopf\"})\n",
    "                p = head.find(\"p\")\n",
    "                pers_name = p.find(\"persname\")\n",
    "                # TODO refactor name! mult names/persname...\n",
    "                name_list = pers_name.find_all(\"hi\")\n",
    "                name_list = [x.text.replace(\"\\n\", \" \") for x in name_list]\n",
    "                # name_first = name_list[-1]\n",
    "                # name_last = name_list[0]\n",
    "                name = \" \".join(name_list)\n",
    "\n",
    "                if sfz in biographies_dict:\n",
    "                    biographies_dict[sfz].ndb_name = name\n",
    "            except KeyNDBSFZError:\n",
    "                # skips <wrong> tags - not a problem\n",
    "                error_count_head[\"KeyNDBSFZError\"] += 1\n",
    "            except AssertionError:\n",
    "                error_count_head[\"AssertionError\"] += 1\n",
    "print(\"\\n\", error_count_head)"
   ]
  },
  {
   "cell_type": "code",
   "execution_count": 8,
   "metadata": {},
   "outputs": [
    {
     "name": "stdout",
     "output_type": "stream",
     "text": [
      "6 (ndb-)names can't be parsed from the _head files.\n"
     ]
    },
    {
     "data": {
      "application/javascript": [
       "\n",
       "            setTimeout(function() {\n",
       "                var nbb_cell_id = 8;\n",
       "                var nbb_unformatted_code = \"missing_ndb_name_in_header = 0\\nfor k, v in biographies_dict.items():\\n    if v.ndb_name is None:\\n        missing_ndb_name_in_header += 1\\nprint(f\\\"{missing_ndb_name_in_header} (ndb-)names can't be parsed from the _head files.\\\")\\n# not really necessary, because corresponding wikipedia article must exist - that title can be used\";\n",
       "                var nbb_formatted_code = \"missing_ndb_name_in_header = 0\\nfor k, v in biographies_dict.items():\\n    if v.ndb_name is None:\\n        missing_ndb_name_in_header += 1\\nprint(f\\\"{missing_ndb_name_in_header} (ndb-)names can't be parsed from the _head files.\\\")\\n# not really necessary, because corresponding wikipedia article must exist - that title can be used\";\n",
       "                var nbb_cells = Jupyter.notebook.get_cells();\n",
       "                for (var i = 0; i < nbb_cells.length; ++i) {\n",
       "                    if (nbb_cells[i].input_prompt_number == nbb_cell_id) {\n",
       "                        if (nbb_cells[i].get_text() == nbb_unformatted_code) {\n",
       "                             nbb_cells[i].set_text(nbb_formatted_code);\n",
       "                        }\n",
       "                        break;\n",
       "                    }\n",
       "                }\n",
       "            }, 500);\n",
       "            "
      ],
      "text/plain": [
       "<IPython.core.display.Javascript object>"
      ]
     },
     "metadata": {},
     "output_type": "display_data"
    }
   ],
   "source": [
    "missing_ndb_name_in_header = 0\n",
    "for k, v in biographies_dict.items():\n",
    "    if v.ndb_name is None:\n",
    "        missing_ndb_name_in_header += 1\n",
    "print(f\"{missing_ndb_name_in_header} (ndb-)names can't be parsed from the _head files.\")\n",
    "# not really necessary, because corresponding wikipedia article must exist - that title can be used"
   ]
  },
  {
   "cell_type": "markdown",
   "metadata": {},
   "source": [
    "### (example) Einstein, Albert\n",
    "\n",
    "+ sfz: sfz68290\n",
    "+ https://www.deutsche-biographie.de/sfz68290.html#ndbcontent\n",
    "+ http://data.deutsche-biographie.de/rest/sfz68290.xml"
   ]
  },
  {
   "cell_type": "code",
   "execution_count": 9,
   "metadata": {},
   "outputs": [
    {
     "data": {
      "text/plain": [
       "self.wikipedia_title=None self.ndb_n='n04-404-03' self.gnd=None self.ndb_sfz='sfz68290'"
      ]
     },
     "execution_count": 9,
     "metadata": {},
     "output_type": "execute_result"
    },
    {
     "data": {
      "application/javascript": [
       "\n",
       "            setTimeout(function() {\n",
       "                var nbb_cell_id = 9;\n",
       "                var nbb_unformatted_code = \"# missing gnd\\nbiographies_dict[\\\"sfz68290\\\"]\";\n",
       "                var nbb_formatted_code = \"# missing gnd\\nbiographies_dict[\\\"sfz68290\\\"]\";\n",
       "                var nbb_cells = Jupyter.notebook.get_cells();\n",
       "                for (var i = 0; i < nbb_cells.length; ++i) {\n",
       "                    if (nbb_cells[i].input_prompt_number == nbb_cell_id) {\n",
       "                        if (nbb_cells[i].get_text() == nbb_unformatted_code) {\n",
       "                             nbb_cells[i].set_text(nbb_formatted_code);\n",
       "                        }\n",
       "                        break;\n",
       "                    }\n",
       "                }\n",
       "            }, 500);\n",
       "            "
      ],
      "text/plain": [
       "<IPython.core.display.Javascript object>"
      ]
     },
     "metadata": {},
     "output_type": "display_data"
    }
   ],
   "source": [
    "# missing gnd\n",
    "biographies_dict[\"sfz68290\"]"
   ]
  },
  {
   "cell_type": "code",
   "execution_count": 10,
   "metadata": {
    "scrolled": true
   },
   "outputs": [
    {
     "data": {
      "text/plain": [
       "'Selten wohl hat ein Mensch das „Gesetz, danach er angetreten“ so zwingend in sich gefühlt und ist ihm, zunächst in kindlicher Unbewußtheit, allen äußeren Einflüssen zum Trotz gefolgt, wie E.Einstein. Als gereifter Gelehrter erinnerte er sich noch einiger Gedanken aus seiner Kindheit, die deutlich den Zug zu dem verraten, was wir heute Relativitätstheorie nennen. Von allem Wissensstoff, den das Gymnasium vermittelte, berührte ihn näher einzig und allein die euklidischeGeometrie; noch im Alter pries er sie begeistert als eine notwendige Vorstufe für jede Beschäftigung mit theoretischer Physik, weil sie die innere Konsequenz, die Geschlossenheit besitzt, welche für die Physik das anzustrebende, wenn auch nie völlig zu erreichende Ziel ist. Zu dieser Veranlagung kam eine ebenso früh scharf ausgeprägte und mit den damaligen Zuständen keineswegs konforme politische Einstellung, die sich wohl zum Teil aus seiner jüdischen Abkunft erklärt. Zum „guten Schüler“ eignete er sich unter diesen Umständen wenig und hatte darunter zu leiden; seine Schulzeit verlief irregulär und hätte dies wohl auch getan, wenn die Umzüge seiner Eltern, von Ulm nach München, dann nach Pavia und Mailand, nicht dazu beigetragen hätten. 1894 verließ er eigenmächtig das Münchener Luitpoldgymnasium, besuchte dann ein Jahr eine internationale Schule in Mailand und meldete sich 1895 bei der THTechnischen Hochschule Zürich für das mathematisch-physikalische Fachlehrerstudium. Diese erste Bewerbung gelang nicht, sondern erst eine zweite 1896, nachdem er gewisse Lücken seiner Bildung auf der Aargauischen Kantonschule in Aarau ausgefüllt hatte. Aber auch das Studium gab ihm, was er suchte, nur unvollkommen. Eigentlich hörte er nur mathematische Vorlesungen, und auch diese unregelmäßig, während ihm das physikalische Praktikum freilich die unmittelbare Berührung mit der Erfahrung gab, die ihren Eindruck auf ihn nicht verfehlte. Hauptsächlich aber holte er sich die ihm zusagenden Kenntnisse autodidaktisch aus den Werken von Helmholtz, Kirchhoff, Clausius, Boltzmann, Planck und anderen. Zum Diplomexamen, welches er 1900 (keineswegs schlecht) bestand, mußte er sich freilich, wie jeder, auch anders vorbereiten. Der „Wust“, den er dabei wohl oder übel verarbeiten mußte, verleidete ihm für ein ganzes Jahr das weitere Lernen. Von seinen Lehrern hat auch auf der Hochschule keiner geahnt, was in ihm steckte. Auch sonst war dieses Jahr für ihn schwer wegen seiner Mittellosigkeit. Er versuchte es mit verschiedenen Aushilfestellungen, konnte aber erst festen Fuß fassen, als er 1901 durch Empfehlungen, die auf einen seiner Studienkameraden zurückgingen, beim eidgenössischen Amt für geistiges Eigentum (d. h.das heißt dem Patentamt) in Bern als wissenschaftlicher Expert angestellt wurde. Dieses Amt sicherte ihn materiell und ließ ihm doch noch genug Zeit, seinen eigenen Ideen nachzuhängen. Jetzt kam seine Genialität zur Entfaltung. Auf einige methodisch interessante Arbei-tenArbeiten über Brownsche Molekularbewegung und andere thermodynamische Schwankungen folgten in dem einen Jahr 1905 zwei Veröffentlichungen, die für fast alle weitere Forschung E.Einsteins grundlegend waren und heute zum festen Bestand der Wissenschaft gehören. Sie betrafen zwei ganz verschiedene Gebiete der Physik, nämlich die Quanten- und die Relativitätstheorie. Die Quantentheorie hatte Planck 1900 begründet, als er das Verteilungsgesetz der Energie im Spektrum der Hohlraumstrahlung aufstellte. Dabei mußte er im Gegensatz zu aller älteren Physik den Gedanken zugrunde legen, daß die Energie eines Oszillators sich nicht stetig verändern kann, sondern nur um diskrete Stufen, deren Höhe durch die Schwingungszahl des Oszillators und eine von ihm neu entdeckte, universelle Konstante, das elementare Wirkungsquantum h, bestimmt ist. Das hatte zunächst wenig Beachtung, noch weniger Glauben gefunden. E.Einstein griff nun diese Idee auf und schuf, ohne Rücksicht auf die wohlbewährte Wellentheorie des Lichtes, den Begriff des Lichtquants, eines Atoms der strahlenden Energie, dessen Energieinhalt gerade einer Energiestufe eines Oszillators von derselben Schwingungszahl wie das Licht entspricht. Strahlung ist danach nichts anderes als eine Gesamtheit von Lichtquanten. Diese Auffassung stützte sich auf mehrere bislang unerklärte Beobachtungen, z. B.zum Beispiel das Stokessche Gesetz für das Fluoreszenzlicht, dessen Schwingungszahl stets kleiner ist als die des erregenden Lichtes, und jene von Lenard entdeckte Tatsache, daß die Energie der im lichtelektrischen Effekt freigesetzten Elektronen nur von der Schwingungszahl des Lichtes, nicht von seiner Intensität abhängt. E.Einstein konnte sogar voraussagen, daß diese Energie eine lineare Funktion der Schwingungszahl sein muß, was spätere Messungen vollauf bestätigen. Auf die Plancksche Berechnung der mittleren Energie eines Oszillators als Funktion der Temperatur führte E.Einstein 1907 den Abfall der spezifischen Wärme fester Körper mit sinkender Temperatur zurück, und 1912 stellte er in diesem Zusammenhang das photochemische Äquivalenzgesetz auf, demzufolge der primäre Elementarakt der Photochemie in der Absorption eines Lichtquantes durch ein Molekül und der entsprechenden chemischen Umsetzung besteht, auf die freilich im allgemeinen noch viele mehr oder minder verwickelte Folgereaktionen folgen. Auch diese Theorie hat schließlich im Experiment volle Bestätigung gefunden. Die Idee des Lichtquants gehört heute zu dem erprobten Rüstzeug der Quantentheorie. Die zweite, vielleicht noch größere Leistung aus jenem Schicksalsjahr 1905 war die Grundlegung der Relativitätstheorie. Das 19. Jh.Jahrhundert hatte zu Beginn die Wellentheorie des Lichtes gesichert und die Geschwindigkeit des Lichtes mit immer wachsender Genauigkeit gemessen, sowohl gegenüber der Erde als auch gegenüber dem Planetensystem. Die Übereinstimmung beider Messungen war aber auf Grund der klassischen Physik unverständlich, da sich die Erde doch im Planetensystem bewegt. Zahllos waren die Experimente, welche diese Problematik klären sollten, kaum weniger zahlreich die theoretischen Ansätze dazu. Da man seit Clerk Maxwell und Heinr.Heinrich Hertz das Licht als elektromagnetische Wellen ansah, spielten auch elektromagnetische Versuche dabei mit. Bald nach 1900 hatten Forscher wie H. A. Lorentz und Henri Poincaré beachtliche Gesichtspunkte zu dieser Frage aufgestellt, ohne jedoch zu völlig befriedigendem Ergebnis zu gelangen. E.Einstein, der viel dachte, aber wenig las und infolgedessen anfangs von diesen seinen Vorgängern nichts wußte, faßte das Problem von der grundsätzlichen Seite an. Er forderte ein Relativitätsprinzip, demzufolge es eine Vielzahl von gleichberechtigten Bezugssystemen in der Physik gibt, in denen genau dieselben Naturgesetze herrschen, also z. B.zum Beispiel auch die Lichtgeschwindigkeit denselben Wert hat. Diese Bezugssysteme haben gegeneinander gleichförmige Bewegungen ohne Drehung; ihre gegenseitigen Geschwindigkeiten liegen stets unter der des Lichtes. Die entscheidende Frage, wie man die räumlichen Koordinaten vom einen zum anderen Bezugssystem umzurechnen hat, beantwortet die Lorentztransformation, so genannt, weil sie schon bei H. A. Lorentz auftrat, ohne daß dieser das Relativitätsprinzip in seinem ganzen Umfang erkannt hätte. Dabei wird aber auch die Zeit umgerechnet. Zwei Ereignisse, die in einem Bezugssystem gleichzeitig sind, sind in einem anderen im allgemeinen ungleichzeitig. Und die Längen zweier Stäbe stimmen in verschiedenen Bezugssystemen nicht überein. Vor solchen Folgerungen hätte wohl jeder zurückgeschreckt, hätte nicht E.Einstein gezeigt, daß sie sich ganz anschaulich herleiten lassen, wenn man bedenkt, daß man Signale vom einen zum anderen Raumpunkt höchstens mit Lichtgeschwindigkeit übertragen kann. In dieser Kritik der Raum- und Zeitmessung lag das unerhört Neue dieser speziellen Relativitätstheorie. Über die Relativität der Gleichzeitigkeit ist jahrzehntelang erbittert gekämpft worden. Eine weitere, Widerspruch herausfordernde Folgerung war das E.Einsteinsche Additionstheorem der Geschwindigkeiten, demzufolge die Zusammensetzung einer Lichtgeschwindigkeit mit einer beliebigen anderen wieder Lichtgeschwindigkeit ergibt, übrigens eine notwendige Konsequenz der Voraussetzung, daß die Lichtgeschwindigkeit in allen Bezugssystemen die gleiche ist. Sodann trat an die Stelle der Newtonschen Dynamik eine relativistische, bei der Energie und Impuls eines beschleunigten Körpers über alle Grenzen wachsen, wenn sich dessen Geschwindigkeit der des Lichtes nähert. Erreichung der Lichtgeschwindigkeit ist danach ausgeschlossen. Diese Dynamik bestätigten bald genaue Messungen über die Ablenkbarkeit von Elektronen im elektrischen oder magnetischen Feld; heute beruht die Konstruktion der großen Teilchenbeschleuniger (Zyklotron, Linearbeschleuniger usw.und so weiter) auf der relativistischen Dynamik, die sich dabei vollauf bewährt. Als kleinen Nachtrag zu dieser ersten Veröffentlichung brachte dann dasselbe Jahr 1905 noch E.Einsteins Gesetz von der Trägheit der Energie. Die Masse eines Körpers ist danach gleich seinem Energieinhalt, dividiert durch das Quadrat der Lichtgeschwindigkeit. Dieses Gesetz hat Geschichte gemacht. Schien es anfangs in der Natur keine besondere Rolle zu spielen, so hat es sich später als eine Grundlage der Physik der Atomkerne herausgestellt und in der Atombombe eine wahrlich durchschlagende Bestätigung gefunden. Diese beiden großen Entdeckungen E.Einsteins von 1905 machten ihn, trotz aller gegen sie erhobenen Zweifel, sogleich berühmt. Zwar weigerte sich die Berner Universität noch 1906, ihn auf Grund der Relativitätstheorie zu habilitieren; sie holte das aber 1907 auf Grund einer anderen Habilitationsschrift nach. Dann kamen die Berufungen in rascher Folge: 1909 an die Univ.Universität Zürich, 1911 an die Univ.Universität Prag und 1912 an die THTechnische Hochschule Zürich. Hier war er zu Vorlesungen über theoretische Physik verpflichtet. Davon befreite ihn 1913 eine Berufung an die Preußische Akademie der Wissenschaften in Berlin, an der er hauptamtliches Mitglied wurde, mit Lehrberechtigung an der Universität, aber ohne Verpflichtung dazu. 1914 wurde er Direktor des Kaiser-Wilhelm-Instituts für Physik in Berlin. Diese Stellungen behielt er bis 1933 bei. Das Vertrauen, das sich in dieser Berufung aussprach, rechtfertigte E.Einstein vollauf. Denn neben mancher anderen wertvollen Arbeit vollendete er 1915 sein größtes Werk: die allgemeine Relativitätstheorie, die ihn schonseit 1907 beschäftigt hatte. Die spezielle Relativitätstheorie enthielt nämlich keine Begründung für die Existenz der allgemeinen, Newtonschen Massenanziehung, insbesondere fehlte es ihr wie der früheren Physik überhaupt an einer Deutung jenes empirisch wohlbestätigten Gesetzes von der Gleichheit von träger Masse, wie sie im Newtonschen Bewegungsgesetz auftritt, und der schweren Masse, welche für die Anziehung verantwortlich ist. Durch eine kühne Opferung der euklidischen Geometrie, welche die gesamte Physik seit den ältesten Zeiten als selbstverständliche Grundlage aller Raummessung betrachtet hatte, und geeignete Übernahme der Grundideen der speziellen Relativitätstheorie gelang es E.Einstein, beide Mängel zu beseitigen, ohne etwas Wesentliches von den älteren physikalischen Ergebnissen zu opfern. Aber mehr noch: Zwangsläufig ergaben sich aus dieser neuen Theorie 3 astronomische Effekte, von denen der eine, die Perihelbewegung des Planeten Merkur, schon lange bekannt, aber unerklärt war, während die Lichtablenkung an der Sonne erst 1919 auf E.Einsteins Anregung hin von Eddington entdeckt und die Verschiebung der Spektrallinien nach manchen Mißerfolgen schließlich an Fixsternen besonders großer Dichte festgestellt wurde. Die Auffindung der Lichtablenkung hob den Ruhm E.Einsteins fast ins Übermenschliche. Und er wuchs noch weiter, als die allgemeine Relativitätstheorie noch für eine andere rätselhafte astronomische Beobachtung eine plausible Deutung fand, nämlich die aus den Dopplereffekten von E. Hubble und anderen erschlossene Fortbewegung ferner Milchstraßensysteme (im allgemeinen Nebel genannt) von unserem eigenen galaktischen System. Diese Theorie eröffnete nämlich die Möglichkeit, den dreidimensionalen Raum als einen Kugelraum von ständig wachsendem Radius anzusehen, was dann selbstverständlich zu wachsenden Abständen zwischen allen Körpern, führt. Eine ganz neue Kosmologie bahnt sich hier an. Aber mit dem Ruhm wuchs auch die Anfeindung. Zwar im 1. Weltkrieg gewannen dessen Aufregungen und Nöte keinerlei Einfluß auf E.Einsteins Produktivität. Er hatte sein Inneres gut abgeriegelt gegen äußere Einwirkungen. Aber nach dem Zusammenbruch des deutschen Reiches 1918 schwoll eine Welle von ungehemmtem Nationalismus, vermischt mit Antisemitismus an und wandte sich auch gegen E.Einstein, dessen andersartige politische Denkart aus der Kriegszeit her bekannt war. Es bildete sich in Berlin z. B.zum Beispiel eine Gesellschaft der Einsteingegner mit dem Ziel, seine Wissenschaft in öffentlichen Versammlungen an-zugreifenanzugreifen; allerdings kamen davon nur zwei wirklich zustande. Auch dies machte ihm keinen Eindruck. Aber allmählich kam die Hitlersche Bewegung auf, welche alsbald zu Gewalttaten gegen Juden und politisch anders Denkende überging. Das erforderte Vorsicht, und so verließ E.Einstein Ende 1932 Deutschland. Wie berechtigt dies war, zeigte sich alsbald nach der sog.sogenannten Machtergreifung vom 30.1.1933. Nun plante die „Partei“ den Ausschluß E.Einsteins aus der Preußischen Akademie, und zwar zum Tage des Judenboykotts vom 1.4.1933. E.Einstein kam ihm zuvor, indem er von Belgien aus seinen Austritt erklärte. Er hat Deutschland nie mehr betreten, wanderte vielmehr über England nach den Vereinigten Staaten von Amerika aus. In Princeton, jener hübschen kleinen Universitätsstadt, erhielt er ein Amt an dem Institute for Advanced Study, welches ihm dieselbe Freiheit von Lehrverpflichtungen gewährte wie die Berliner Stellung. Dort hat er, abgesehen von einigen Reisen auf dem amerikanischen Kontinent, den Rest seines Lebens verbracht. Zu seinen wesentlichen Beschäftigungen gehörte ein vergebliches Ringen um ein Verständnis der Quantentheorie, wie sie sich in den 20er Jahren durch Wellenmechanik usw.und so weiter entwickelt hatte. Aber kurz vor seinem Tode gestand er als ein Ergebnis lebenslangen Grübelns ein, daß man von einem Verständnis der atomaren Vorgänge noch viel weiter entfernt sei, als es die meisten Physiker zugeben wollten. Ferner versuchte er weitere Verallgemeinerungen der Relativitätstheorie, um in ihren nun die gesamte Mechanik und Gravitation umfassenden Bau auch die elektromagnetischen Vorgänge einzubeziehen. Trotz unsagbarer Mühe und Geduld blieb ihm auch hier wohl ein Erfolg versagt. Außerdem aber besaßen jetzt seine politischen Sorgen ein Übergewicht. Selbstverständlich rüttelten ihn Hitlers Judenverfolgungen auf, ja, er fühlte sich vielleicht jetzt erst so recht diesem unglücklichen Volke angehörig. Aber soviel er auch im Einzelnen tat, hervorgetreten ist er an einer entscheidenden Stelle nur einmal; als nämlich die wissenschaftliche Forschung die Möglichkeit einer Atombombe ergeben hatte, und man in Amerika vielfach befürchtete, eine solche werde in Deutschland hergestellt werden, legte ihm Leo Szilard, damals in Chicago (früher in Berlin), ein an den Präsidenten Roosevelt zu richtendes Schreiben vor, in welchem die amerikanische Regierung aufgefordert wurde, die zur Produktion solcher Bomben notwendigen Vorkehrungen sofort in Gang zu setzen. Und E.Einstein unterschrieb. An den weltgeschichtlichen physikalisch-technischen Arbeiten zur Verwirklichung hat er freilich nicht persönlich teilgenommen, die Anwendung der Bombe über Hiroshima und Nagasaki nicht gebilligt. Als Pazifist, der er mit aller Entschiedenheit war, hat er nach Kriegsende nicht aufgehört, seine Stimme gegen weitere Verwendung der Bombe zu erheben wie gegen alle Kriegsrüstung. Daneben aber wandte er sich als alter Freiheitskämpfer auch gegen alle Gesinnungsforschung, wie sie einige Jahre hindurch unter der Ägide des Senators McCarthy in den Vereinigten Staaten im Gange war. Konnte er das Ende dieser Bewegung auch noch erleben, so blieb ihm doch in der Politik, ebenso in der Wissenschaft, so mancher Wunsch unerfüllt. Immerhin, auf dem Sterbebett konnte er mit vollem Recht sagen: „Meine Arbeit ist getan“. E.Einsteins leidenschaftliches Forschungsbedürfnis zeigte sich auch in seinen Gesprächen mit Fachgenossen; er war unermüdlich in der Auseinandersetzung der ihn gerade beschäftigenden Gedanken. Daneben ging er gern, namentlich in höheren Jahren, auf Politik, soziale Verhältnisse, aber auch religiöse Fragen ein, in denen er einen durchaus eigenen Standpunkt einnahm. Er liebte die Musik, namentlich Bach und Mozart, spielte von Jugend auf Violine und war für Hauskonzerte gesucht. In seinen letzten Jahren, als sich allerhand Altersleiden eingestellt hatten, zog er sich mehr und mehr in sein schönes Heim in Princeton zurück. Besucher, die vorgelassen wurden, konnten ihn dann antreffen meditierend, lesend oder auch im Gespräch mit einem seiner jungen Mitarbeiter. Leiden ertrug er mit Geduld, den Tod erwartete er bei voller Besinnung in altgewohnter Seelenruhe. Denn er war nicht nur ein wissenschaftliches Genie, sondern auch ein in sich gefestigter Charakter. –'"
      ]
     },
     "execution_count": 10,
     "metadata": {},
     "output_type": "execute_result"
    },
    {
     "data": {
      "application/javascript": [
       "\n",
       "            setTimeout(function() {\n",
       "                var nbb_cell_id = 10;\n",
       "                var nbb_unformatted_code = \"biographies_dict[\\\"sfz68290\\\"].ndb_text\";\n",
       "                var nbb_formatted_code = \"biographies_dict[\\\"sfz68290\\\"].ndb_text\";\n",
       "                var nbb_cells = Jupyter.notebook.get_cells();\n",
       "                for (var i = 0; i < nbb_cells.length; ++i) {\n",
       "                    if (nbb_cells[i].input_prompt_number == nbb_cell_id) {\n",
       "                        if (nbb_cells[i].get_text() == nbb_unformatted_code) {\n",
       "                             nbb_cells[i].set_text(nbb_formatted_code);\n",
       "                        }\n",
       "                        break;\n",
       "                    }\n",
       "                }\n",
       "            }, 500);\n",
       "            "
      ],
      "text/plain": [
       "<IPython.core.display.Javascript object>"
      ]
     },
     "metadata": {},
     "output_type": "display_data"
    }
   ],
   "source": [
    "biographies_dict[\"sfz68290\"].ndb_text"
   ]
  },
  {
   "cell_type": "markdown",
   "metadata": {},
   "source": [
    "## sfz-gnd mapping\n",
    "\n",
    "### static mapping (data/gnd/beacon_ndb_extended.txt)"
   ]
  },
  {
   "cell_type": "code",
   "execution_count": 11,
   "metadata": {},
   "outputs": [
    {
     "data": {
      "application/javascript": [
       "\n",
       "            setTimeout(function() {\n",
       "                var nbb_cell_id = 11;\n",
       "                var nbb_unformatted_code = \"gnd_dict = {}\\nsfz_dict = {}\\n\\npath = os.path.abspath(\\\"\\\")\\ndata_gnd_path_rel = \\\"data/gnd/\\\"\\ndata_gnd_path_abs = os.path.join(path, data_gnd_path_rel)\\npattern_gnd = re.compile(r\\\"^[\\\\d\\\\w]+\\\")\\npattern_sfz = re.compile(r\\\"sfz[\\\\d]+$\\\")\\n\\nwith open(data_gnd_path_abs + \\\"beacon_ndb_extended.txt\\\", \\\"r\\\") as f:\\n    for line in f:\\n        gnd_match = pattern_gnd.search(line)\\n        sfz_match = pattern_sfz.search(line)\\n\\n        if gnd_match and sfz_match:\\n            gnd_id = gnd_match.group(0)\\n            sfz_id = sfz_match.group(0)\\n\\n            if gnd_id not in gnd_dict:\\n                gnd_dict[gnd_id] = sfz_id\\n            if sfz_id not in sfz_dict:\\n                sfz_dict[sfz_id] = gnd_id\";\n",
       "                var nbb_formatted_code = \"gnd_dict = {}\\nsfz_dict = {}\\n\\npath = os.path.abspath(\\\"\\\")\\ndata_gnd_path_rel = \\\"data/gnd/\\\"\\ndata_gnd_path_abs = os.path.join(path, data_gnd_path_rel)\\npattern_gnd = re.compile(r\\\"^[\\\\d\\\\w]+\\\")\\npattern_sfz = re.compile(r\\\"sfz[\\\\d]+$\\\")\\n\\nwith open(data_gnd_path_abs + \\\"beacon_ndb_extended.txt\\\", \\\"r\\\") as f:\\n    for line in f:\\n        gnd_match = pattern_gnd.search(line)\\n        sfz_match = pattern_sfz.search(line)\\n\\n        if gnd_match and sfz_match:\\n            gnd_id = gnd_match.group(0)\\n            sfz_id = sfz_match.group(0)\\n\\n            if gnd_id not in gnd_dict:\\n                gnd_dict[gnd_id] = sfz_id\\n            if sfz_id not in sfz_dict:\\n                sfz_dict[sfz_id] = gnd_id\";\n",
       "                var nbb_cells = Jupyter.notebook.get_cells();\n",
       "                for (var i = 0; i < nbb_cells.length; ++i) {\n",
       "                    if (nbb_cells[i].input_prompt_number == nbb_cell_id) {\n",
       "                        if (nbb_cells[i].get_text() == nbb_unformatted_code) {\n",
       "                             nbb_cells[i].set_text(nbb_formatted_code);\n",
       "                        }\n",
       "                        break;\n",
       "                    }\n",
       "                }\n",
       "            }, 500);\n",
       "            "
      ],
      "text/plain": [
       "<IPython.core.display.Javascript object>"
      ]
     },
     "metadata": {},
     "output_type": "display_data"
    }
   ],
   "source": [
    "gnd_dict = {}\n",
    "sfz_dict = {}\n",
    "\n",
    "path = os.path.abspath(\"\")\n",
    "data_gnd_path_rel = \"data/gnd/\"\n",
    "data_gnd_path_abs = os.path.join(path, data_gnd_path_rel)\n",
    "pattern_gnd = re.compile(r\"^[\\d\\w]+\")\n",
    "pattern_sfz = re.compile(r\"sfz[\\d]+$\")\n",
    "\n",
    "with open(data_gnd_path_abs + \"beacon_ndb_extended.txt\", \"r\") as f:\n",
    "    for line in f:\n",
    "        gnd_match = pattern_gnd.search(line)\n",
    "        sfz_match = pattern_sfz.search(line)\n",
    "\n",
    "        if gnd_match and sfz_match:\n",
    "            gnd_id = gnd_match.group(0)\n",
    "            sfz_id = sfz_match.group(0)\n",
    "\n",
    "            if gnd_id not in gnd_dict:\n",
    "                gnd_dict[gnd_id] = sfz_id\n",
    "            if sfz_id not in sfz_dict:\n",
    "                sfz_dict[sfz_id] = gnd_id"
   ]
  },
  {
   "cell_type": "code",
   "execution_count": 12,
   "metadata": {},
   "outputs": [
    {
     "name": "stdout",
     "output_type": "stream",
     "text": [
      "118529579\n"
     ]
    },
    {
     "data": {
      "application/javascript": [
       "\n",
       "            setTimeout(function() {\n",
       "                var nbb_cell_id = 12;\n",
       "                var nbb_unformatted_code = \"# (example) get gnd for sfz: sfz68290\\nprint(sfz_dict[\\\"sfz68290\\\"])\";\n",
       "                var nbb_formatted_code = \"# (example) get gnd for sfz: sfz68290\\nprint(sfz_dict[\\\"sfz68290\\\"])\";\n",
       "                var nbb_cells = Jupyter.notebook.get_cells();\n",
       "                for (var i = 0; i < nbb_cells.length; ++i) {\n",
       "                    if (nbb_cells[i].input_prompt_number == nbb_cell_id) {\n",
       "                        if (nbb_cells[i].get_text() == nbb_unformatted_code) {\n",
       "                             nbb_cells[i].set_text(nbb_formatted_code);\n",
       "                        }\n",
       "                        break;\n",
       "                    }\n",
       "                }\n",
       "            }, 500);\n",
       "            "
      ],
      "text/plain": [
       "<IPython.core.display.Javascript object>"
      ]
     },
     "metadata": {},
     "output_type": "display_data"
    }
   ],
   "source": [
    "# (example) get gnd for sfz: sfz68290\n",
    "print(sfz_dict[\"sfz68290\"])"
   ]
  },
  {
   "cell_type": "code",
   "execution_count": 13,
   "metadata": {},
   "outputs": [
    {
     "name": "stdout",
     "output_type": "stream",
     "text": [
      "23462 / 24182 (0.9702%) sfz id's can be mapped to their gnd (via this static solution) - 720 gnd id's are missing.\n"
     ]
    },
    {
     "data": {
      "application/javascript": [
       "\n",
       "            setTimeout(function() {\n",
       "                var nbb_cell_id = 13;\n",
       "                var nbb_unformatted_code = \"gnd_mapping_exists = 0\\nmissing_gnd_for_sfz = 0\\n\\nfor sfz in biographies_dict:\\n    if sfz in sfz_dict:\\n        gnd_mapping_exists += 1\\n    else:\\n        missing_gnd_for_sfz += 1\\n\\nsum_missing_and_not_missing = gnd_mapping_exists + missing_gnd_for_sfz\\nprint(\\n    f\\\"{gnd_mapping_exists} / {sum_missing_and_not_missing} ({round(gnd_mapping_exists/sum_missing_and_not_missing,4)}%) sfz id's can be mapped to their gnd (via this static solution) - {missing_gnd_for_sfz} gnd id's are missing.\\\"\\n)\";\n",
       "                var nbb_formatted_code = \"gnd_mapping_exists = 0\\nmissing_gnd_for_sfz = 0\\n\\nfor sfz in biographies_dict:\\n    if sfz in sfz_dict:\\n        gnd_mapping_exists += 1\\n    else:\\n        missing_gnd_for_sfz += 1\\n\\nsum_missing_and_not_missing = gnd_mapping_exists + missing_gnd_for_sfz\\nprint(\\n    f\\\"{gnd_mapping_exists} / {sum_missing_and_not_missing} ({round(gnd_mapping_exists/sum_missing_and_not_missing,4)}%) sfz id's can be mapped to their gnd (via this static solution) - {missing_gnd_for_sfz} gnd id's are missing.\\\"\\n)\";\n",
       "                var nbb_cells = Jupyter.notebook.get_cells();\n",
       "                for (var i = 0; i < nbb_cells.length; ++i) {\n",
       "                    if (nbb_cells[i].input_prompt_number == nbb_cell_id) {\n",
       "                        if (nbb_cells[i].get_text() == nbb_unformatted_code) {\n",
       "                             nbb_cells[i].set_text(nbb_formatted_code);\n",
       "                        }\n",
       "                        break;\n",
       "                    }\n",
       "                }\n",
       "            }, 500);\n",
       "            "
      ],
      "text/plain": [
       "<IPython.core.display.Javascript object>"
      ]
     },
     "metadata": {},
     "output_type": "display_data"
    }
   ],
   "source": [
    "gnd_mapping_exists = 0\n",
    "missing_gnd_for_sfz = 0\n",
    "\n",
    "for sfz in biographies_dict:\n",
    "    if sfz in sfz_dict:\n",
    "        gnd_mapping_exists += 1\n",
    "    else:\n",
    "        missing_gnd_for_sfz += 1\n",
    "\n",
    "sum_missing_and_not_missing = gnd_mapping_exists + missing_gnd_for_sfz\n",
    "print(\n",
    "    f\"{gnd_mapping_exists} / {sum_missing_and_not_missing} ({round(gnd_mapping_exists/sum_missing_and_not_missing,4)}%) sfz id's can be mapped to their gnd (via this static solution) - {missing_gnd_for_sfz} gnd id's are missing.\"\n",
    ")"
   ]
  },
  {
   "cell_type": "code",
   "execution_count": 14,
   "metadata": {},
   "outputs": [
    {
     "data": {
      "application/javascript": [
       "\n",
       "            setTimeout(function() {\n",
       "                var nbb_cell_id = 14;\n",
       "                var nbb_unformatted_code = \"missing_gnd_sfz = []\\nfor sfz in biographies_dict:\\n    if sfz not in sfz_dict:\\n        missing_gnd_sfz.append(sfz)\";\n",
       "                var nbb_formatted_code = \"missing_gnd_sfz = []\\nfor sfz in biographies_dict:\\n    if sfz not in sfz_dict:\\n        missing_gnd_sfz.append(sfz)\";\n",
       "                var nbb_cells = Jupyter.notebook.get_cells();\n",
       "                for (var i = 0; i < nbb_cells.length; ++i) {\n",
       "                    if (nbb_cells[i].input_prompt_number == nbb_cell_id) {\n",
       "                        if (nbb_cells[i].get_text() == nbb_unformatted_code) {\n",
       "                             nbb_cells[i].set_text(nbb_formatted_code);\n",
       "                        }\n",
       "                        break;\n",
       "                    }\n",
       "                }\n",
       "            }, 500);\n",
       "            "
      ],
      "text/plain": [
       "<IPython.core.display.Javascript object>"
      ]
     },
     "metadata": {},
     "output_type": "display_data"
    }
   ],
   "source": [
    "missing_gnd_sfz = []\n",
    "for sfz in biographies_dict:\n",
    "    if sfz not in sfz_dict:\n",
    "        missing_gnd_sfz.append(sfz)"
   ]
  },
  {
   "cell_type": "markdown",
   "metadata": {},
   "source": [
    "### http request (for missing gnd mapping)\n",
    "+ http://data.deutsche-biographie.de/beta/solr-open/?q=id:{sfzid}&fl=id,defgnd&wt=json\n",
    "+ example (sfz68290): http://data.deutsche-biographie.de/beta/solr-open/?q=id:sfz68290&fl=id,defgnd&wt=json"
   ]
  },
  {
   "cell_type": "code",
   "execution_count": 15,
   "metadata": {},
   "outputs": [
    {
     "name": "stdout",
     "output_type": "stream",
     "text": [
      "requesting gnd: 720 / 720\r"
     ]
    },
    {
     "data": {
      "application/javascript": [
       "\n",
       "            setTimeout(function() {\n",
       "                var nbb_cell_id = 15;\n",
       "                var nbb_unformatted_code = \"url_prefix = \\\"http://data.deutsche-biographie.de/beta/solr-open/?q=id:\\\"\\nurl_suffix = \\\"&fl=id,defgnd&wt=json\\\"\\nmissing_gnd_in_response_sfz_id = []\\nprocessed_sfz_success = []\\n\\nfor i, sfz in enumerate(missing_gnd_sfz):\\n    print(f\\\"requesting gnd: {i+1} / {len(missing_gnd_sfz)}\\\", end=\\\"\\\\r\\\")\\n    try:\\n        response = requests.get(url=url_prefix + sfz + url_suffix, timeout=10)\\n        status_code = response.status_code\\n        if status_code != 200:\\n            raise BadStatusCodeError(f\\\"Bad request, status code: {status_code}.\\\")\\n        data = response.json()\\n        gnd = data[\\\"response\\\"][\\\"docs\\\"][0][\\\"defgnd\\\"]\\n        if sfz not in sfz_dict:\\n            sfz_dict[sfz] = gnd\\n        if gnd not in gnd_dict:\\n            gnd_dict[gnd] = sfz\\n        processed_sfz_success.append(sfz)\\n        sleep(0.2)\\n    except (requests.exceptions.Timeout, BadStatusCodeError, KeyError, IndexError):\\n        missing_gnd_in_response_sfz_id.append(sfz)\\n    except requests.ConnectionError as e:\\n        # Max retries exceeded\\n        missing_gnd_in_response_sfz_id.append(sfz)\\n    except ValueError as e:\\n        # includes JSONDecodeError\\n        missing_gnd_in_response_sfz_id.append(sfz)\";\n",
       "                var nbb_formatted_code = \"url_prefix = \\\"http://data.deutsche-biographie.de/beta/solr-open/?q=id:\\\"\\nurl_suffix = \\\"&fl=id,defgnd&wt=json\\\"\\nmissing_gnd_in_response_sfz_id = []\\nprocessed_sfz_success = []\\n\\nfor i, sfz in enumerate(missing_gnd_sfz):\\n    print(f\\\"requesting gnd: {i+1} / {len(missing_gnd_sfz)}\\\", end=\\\"\\\\r\\\")\\n    try:\\n        response = requests.get(url=url_prefix + sfz + url_suffix, timeout=10)\\n        status_code = response.status_code\\n        if status_code != 200:\\n            raise BadStatusCodeError(f\\\"Bad request, status code: {status_code}.\\\")\\n        data = response.json()\\n        gnd = data[\\\"response\\\"][\\\"docs\\\"][0][\\\"defgnd\\\"]\\n        if sfz not in sfz_dict:\\n            sfz_dict[sfz] = gnd\\n        if gnd not in gnd_dict:\\n            gnd_dict[gnd] = sfz\\n        processed_sfz_success.append(sfz)\\n        sleep(0.2)\\n    except (requests.exceptions.Timeout, BadStatusCodeError, KeyError, IndexError):\\n        missing_gnd_in_response_sfz_id.append(sfz)\\n    except requests.ConnectionError as e:\\n        # Max retries exceeded\\n        missing_gnd_in_response_sfz_id.append(sfz)\\n    except ValueError as e:\\n        # includes JSONDecodeError\\n        missing_gnd_in_response_sfz_id.append(sfz)\";\n",
       "                var nbb_cells = Jupyter.notebook.get_cells();\n",
       "                for (var i = 0; i < nbb_cells.length; ++i) {\n",
       "                    if (nbb_cells[i].input_prompt_number == nbb_cell_id) {\n",
       "                        if (nbb_cells[i].get_text() == nbb_unformatted_code) {\n",
       "                             nbb_cells[i].set_text(nbb_formatted_code);\n",
       "                        }\n",
       "                        break;\n",
       "                    }\n",
       "                }\n",
       "            }, 500);\n",
       "            "
      ],
      "text/plain": [
       "<IPython.core.display.Javascript object>"
      ]
     },
     "metadata": {},
     "output_type": "display_data"
    }
   ],
   "source": [
    "url_prefix = \"http://data.deutsche-biographie.de/beta/solr-open/?q=id:\"\n",
    "url_suffix = \"&fl=id,defgnd&wt=json\"\n",
    "missing_gnd_in_response_sfz_id = []\n",
    "processed_sfz_success = []\n",
    "\n",
    "for i, sfz in enumerate(missing_gnd_sfz):\n",
    "    print(f\"requesting gnd: {i+1} / {len(missing_gnd_sfz)}\", end=\"\\r\")\n",
    "    try:\n",
    "        response = requests.get(url=url_prefix + sfz + url_suffix, timeout=10)\n",
    "        status_code = response.status_code\n",
    "        if status_code != 200:\n",
    "            raise BadStatusCodeError(f\"Bad request, status code: {status_code}.\")\n",
    "        data = response.json()\n",
    "        gnd = data[\"response\"][\"docs\"][0][\"defgnd\"]\n",
    "        if sfz not in sfz_dict:\n",
    "            sfz_dict[sfz] = gnd\n",
    "        if gnd not in gnd_dict:\n",
    "            gnd_dict[gnd] = sfz\n",
    "        processed_sfz_success.append(sfz)\n",
    "        sleep(0.2)\n",
    "    except (requests.exceptions.Timeout, BadStatusCodeError, KeyError, IndexError):\n",
    "        missing_gnd_in_response_sfz_id.append(sfz)\n",
    "    except requests.ConnectionError as e:\n",
    "        # Max retries exceeded\n",
    "        missing_gnd_in_response_sfz_id.append(sfz)\n",
    "    except ValueError as e:\n",
    "        # includes JSONDecodeError\n",
    "        missing_gnd_in_response_sfz_id.append(sfz)"
   ]
  },
  {
   "cell_type": "code",
   "execution_count": 16,
   "metadata": {},
   "outputs": [
    {
     "name": "stdout",
     "output_type": "stream",
     "text": [
      "655 65\n",
      "65 biographies have to be droped from the corpus due to missing gnd.\n"
     ]
    },
    {
     "data": {
      "application/javascript": [
       "\n",
       "            setTimeout(function() {\n",
       "                var nbb_cell_id = 16;\n",
       "                var nbb_unformatted_code = \"print(len(processed_sfz_success), len(missing_gnd_in_response_sfz_id))\\nprint(\\n    f\\\"{len(missing_gnd_in_response_sfz_id)} biographies have to be droped from the corpus due to missing gnd.\\\",\\n)\";\n",
       "                var nbb_formatted_code = \"print(len(processed_sfz_success), len(missing_gnd_in_response_sfz_id))\\nprint(\\n    f\\\"{len(missing_gnd_in_response_sfz_id)} biographies have to be droped from the corpus due to missing gnd.\\\",\\n)\";\n",
       "                var nbb_cells = Jupyter.notebook.get_cells();\n",
       "                for (var i = 0; i < nbb_cells.length; ++i) {\n",
       "                    if (nbb_cells[i].input_prompt_number == nbb_cell_id) {\n",
       "                        if (nbb_cells[i].get_text() == nbb_unformatted_code) {\n",
       "                             nbb_cells[i].set_text(nbb_formatted_code);\n",
       "                        }\n",
       "                        break;\n",
       "                    }\n",
       "                }\n",
       "            }, 500);\n",
       "            "
      ],
      "text/plain": [
       "<IPython.core.display.Javascript object>"
      ]
     },
     "metadata": {},
     "output_type": "display_data"
    }
   ],
   "source": [
    "print(len(processed_sfz_success), len(missing_gnd_in_response_sfz_id))\n",
    "print(\n",
    "    f\"{len(missing_gnd_in_response_sfz_id)} biographies have to be droped from the corpus due to missing gnd.\",\n",
    ")"
   ]
  },
  {
   "cell_type": "code",
   "execution_count": 17,
   "metadata": {},
   "outputs": [
    {
     "data": {
      "application/javascript": [
       "\n",
       "            setTimeout(function() {\n",
       "                var nbb_cell_id = 17;\n",
       "                var nbb_unformatted_code = \"# Add gnd from sfz_mapping_dict to biograpies_obj_dict\\nfor sfz, biography in biographies_dict.items():\\n    if sfz in sfz_dict:\\n        biography.gnd = sfz_dict[biography.ndb_sfz]\";\n",
       "                var nbb_formatted_code = \"# Add gnd from sfz_mapping_dict to biograpies_obj_dict\\nfor sfz, biography in biographies_dict.items():\\n    if sfz in sfz_dict:\\n        biography.gnd = sfz_dict[biography.ndb_sfz]\";\n",
       "                var nbb_cells = Jupyter.notebook.get_cells();\n",
       "                for (var i = 0; i < nbb_cells.length; ++i) {\n",
       "                    if (nbb_cells[i].input_prompt_number == nbb_cell_id) {\n",
       "                        if (nbb_cells[i].get_text() == nbb_unformatted_code) {\n",
       "                             nbb_cells[i].set_text(nbb_formatted_code);\n",
       "                        }\n",
       "                        break;\n",
       "                    }\n",
       "                }\n",
       "            }, 500);\n",
       "            "
      ],
      "text/plain": [
       "<IPython.core.display.Javascript object>"
      ]
     },
     "metadata": {},
     "output_type": "display_data"
    }
   ],
   "source": [
    "# Add gnd from sfz_mapping_dict to biograpies_obj_dict\n",
    "for sfz, biography in biographies_dict.items():\n",
    "    if sfz in sfz_dict:\n",
    "        biography.gnd = sfz_dict[biography.ndb_sfz]"
   ]
  },
  {
   "cell_type": "code",
   "execution_count": 18,
   "metadata": {},
   "outputs": [
    {
     "name": "stdout",
     "output_type": "stream",
     "text": [
      "number_missing_gnd=65, number_multible_sfz_for_gnd=5\n"
     ]
    },
    {
     "data": {
      "application/javascript": [
       "\n",
       "            setTimeout(function() {\n",
       "                var nbb_cell_id = 18;\n",
       "                var nbb_unformatted_code = \"biographies_dict_sfz = biographies_dict\\nbiographies_dict_gnd = {}\\n\\nnumber_missing_gnd = 0\\nnumber_multible_sfz_for_gnd = 0\\n\\nfor sfz, biography in biographies_dict_sfz.items():\\n    gnd = biography.gnd\\n    if gnd:\\n        if (\\n            gnd not in biographies_dict_gnd\\n        ):  # ~5 occurances with multible sfz mapping to same gnd (?)\\n            biographies_dict_gnd[gnd] = biography\\n        else:\\n            number_multible_sfz_for_gnd += 1\\n    else:\\n        number_missing_gnd += 1\\nprint(f\\\"{number_missing_gnd=}, {number_multible_sfz_for_gnd=}\\\")\";\n",
       "                var nbb_formatted_code = \"biographies_dict_sfz = biographies_dict\\nbiographies_dict_gnd = {}\\n\\nnumber_missing_gnd = 0\\nnumber_multible_sfz_for_gnd = 0\\n\\nfor sfz, biography in biographies_dict_sfz.items():\\n    gnd = biography.gnd\\n    if gnd:\\n        if (\\n            gnd not in biographies_dict_gnd\\n        ):  # ~5 occurances with multible sfz mapping to same gnd (?)\\n            biographies_dict_gnd[gnd] = biography\\n        else:\\n            number_multible_sfz_for_gnd += 1\\n    else:\\n        number_missing_gnd += 1\\nprint(f\\\"{number_missing_gnd=}, {number_multible_sfz_for_gnd=}\\\")\";\n",
       "                var nbb_cells = Jupyter.notebook.get_cells();\n",
       "                for (var i = 0; i < nbb_cells.length; ++i) {\n",
       "                    if (nbb_cells[i].input_prompt_number == nbb_cell_id) {\n",
       "                        if (nbb_cells[i].get_text() == nbb_unformatted_code) {\n",
       "                             nbb_cells[i].set_text(nbb_formatted_code);\n",
       "                        }\n",
       "                        break;\n",
       "                    }\n",
       "                }\n",
       "            }, 500);\n",
       "            "
      ],
      "text/plain": [
       "<IPython.core.display.Javascript object>"
      ]
     },
     "metadata": {},
     "output_type": "display_data"
    }
   ],
   "source": [
    "biographies_dict_sfz = biographies_dict\n",
    "biographies_dict_gnd = {}\n",
    "\n",
    "number_missing_gnd = 0\n",
    "number_multible_sfz_for_gnd = 0\n",
    "\n",
    "for sfz, biography in biographies_dict_sfz.items():\n",
    "    gnd = biography.gnd\n",
    "    if gnd:\n",
    "        if (\n",
    "            gnd not in biographies_dict_gnd\n",
    "        ):  # ~5 occurances with multible sfz mapping to same gnd (?)\n",
    "            biographies_dict_gnd[gnd] = biography\n",
    "        else:\n",
    "            number_multible_sfz_for_gnd += 1\n",
    "    else:\n",
    "        number_missing_gnd += 1\n",
    "print(f\"{number_missing_gnd=}, {number_multible_sfz_for_gnd=}\")"
   ]
  },
  {
   "cell_type": "markdown",
   "metadata": {},
   "source": [
    "### gnd wikipedia mapping (static)"
   ]
  },
  {
   "cell_type": "markdown",
   "metadata": {},
   "source": [
    "+ help\n",
    "https://de.wikipedia.org/wiki/Hilfe:GND\n",
    "+ wikipedia articles linked to gnd (daily updates)\n",
    "https://persondata.toolforge.org/beacon/dewiki_list.txt"
   ]
  },
  {
   "cell_type": "code",
   "execution_count": 19,
   "metadata": {
    "scrolled": true
   },
   "outputs": [
    {
     "data": {
      "application/javascript": [
       "\n",
       "            setTimeout(function() {\n",
       "                var nbb_cell_id = 19;\n",
       "                var nbb_unformatted_code = \"path = os.path.abspath(\\\"\\\")\\ndata_gnd_wiki_path_rel = \\\"data/gnd/\\\"\\ndata_gnd_wiki_path_abs = os.path.join(path, data_gnd_wiki_path_rel)\\n\\nwith open(data_gnd_wiki_path_abs + \\\"beacon_dewiki_list.txt\\\", \\\"r\\\") as f:\\n    for line in f:\\n        title, gnd, timestamp = line.split(\\\"|\\\")\\n        if gnd in biographies_dict_gnd:\\n            biographies_dict_gnd[gnd].wikipedia_title = title\";\n",
       "                var nbb_formatted_code = \"path = os.path.abspath(\\\"\\\")\\ndata_gnd_wiki_path_rel = \\\"data/gnd/\\\"\\ndata_gnd_wiki_path_abs = os.path.join(path, data_gnd_wiki_path_rel)\\n\\nwith open(data_gnd_wiki_path_abs + \\\"beacon_dewiki_list.txt\\\", \\\"r\\\") as f:\\n    for line in f:\\n        title, gnd, timestamp = line.split(\\\"|\\\")\\n        if gnd in biographies_dict_gnd:\\n            biographies_dict_gnd[gnd].wikipedia_title = title\";\n",
       "                var nbb_cells = Jupyter.notebook.get_cells();\n",
       "                for (var i = 0; i < nbb_cells.length; ++i) {\n",
       "                    if (nbb_cells[i].input_prompt_number == nbb_cell_id) {\n",
       "                        if (nbb_cells[i].get_text() == nbb_unformatted_code) {\n",
       "                             nbb_cells[i].set_text(nbb_formatted_code);\n",
       "                        }\n",
       "                        break;\n",
       "                    }\n",
       "                }\n",
       "            }, 500);\n",
       "            "
      ],
      "text/plain": [
       "<IPython.core.display.Javascript object>"
      ]
     },
     "metadata": {},
     "output_type": "display_data"
    }
   ],
   "source": [
    "path = os.path.abspath(\"\")\n",
    "data_gnd_wiki_path_rel = \"data/gnd/\"\n",
    "data_gnd_wiki_path_abs = os.path.join(path, data_gnd_wiki_path_rel)\n",
    "\n",
    "with open(data_gnd_wiki_path_abs + \"beacon_dewiki_list.txt\", \"r\") as f:\n",
    "    for line in f:\n",
    "        title, gnd, timestamp = line.split(\"|\")\n",
    "        if gnd in biographies_dict_gnd:\n",
    "            biographies_dict_gnd[gnd].wikipedia_title = title"
   ]
  },
  {
   "cell_type": "code",
   "execution_count": 20,
   "metadata": {},
   "outputs": [
    {
     "data": {
      "application/javascript": [
       "\n",
       "            setTimeout(function() {\n",
       "                var nbb_cell_id = 20;\n",
       "                var nbb_unformatted_code = \"gnd_wiki_mapping_failure = []\\nfor k, v in biographies_dict_gnd.items():\\n    if not v.wikipedia_title:\\n        gnd_wiki_mapping_failure.append(k)\";\n",
       "                var nbb_formatted_code = \"gnd_wiki_mapping_failure = []\\nfor k, v in biographies_dict_gnd.items():\\n    if not v.wikipedia_title:\\n        gnd_wiki_mapping_failure.append(k)\";\n",
       "                var nbb_cells = Jupyter.notebook.get_cells();\n",
       "                for (var i = 0; i < nbb_cells.length; ++i) {\n",
       "                    if (nbb_cells[i].input_prompt_number == nbb_cell_id) {\n",
       "                        if (nbb_cells[i].get_text() == nbb_unformatted_code) {\n",
       "                             nbb_cells[i].set_text(nbb_formatted_code);\n",
       "                        }\n",
       "                        break;\n",
       "                    }\n",
       "                }\n",
       "            }, 500);\n",
       "            "
      ],
      "text/plain": [
       "<IPython.core.display.Javascript object>"
      ]
     },
     "metadata": {},
     "output_type": "display_data"
    }
   ],
   "source": [
    "gnd_wiki_mapping_failure = []\n",
    "for k, v in biographies_dict_gnd.items():\n",
    "    if not v.wikipedia_title:\n",
    "        gnd_wiki_mapping_failure.append(k)"
   ]
  },
  {
   "cell_type": "code",
   "execution_count": 22,
   "metadata": {},
   "outputs": [
    {
     "data": {
      "application/javascript": [
       "\n",
       "            setTimeout(function() {\n",
       "                var nbb_cell_id = 22;\n",
       "                var nbb_unformatted_code = \"volume_dict = {}\\nfor k, v in biographies_dict_gnd.items():\\n    if v.gnd in gnd_wiki_mapping_failure:\\n        volume = v.ndb_n[1:3]\\n        if volume in volume_dict:\\n            volume_dict[volume] += 1\\n        else:\\n            volume_dict[volume] = 1\\nassert len(gnd_wiki_mapping_failure) == sum(volume_dict.values())\";\n",
       "                var nbb_formatted_code = \"volume_dict = {}\\nfor k, v in biographies_dict_gnd.items():\\n    if v.gnd in gnd_wiki_mapping_failure:\\n        volume = v.ndb_n[1:3]\\n        if volume in volume_dict:\\n            volume_dict[volume] += 1\\n        else:\\n            volume_dict[volume] = 1\\nassert len(gnd_wiki_mapping_failure) == sum(volume_dict.values())\";\n",
       "                var nbb_cells = Jupyter.notebook.get_cells();\n",
       "                for (var i = 0; i < nbb_cells.length; ++i) {\n",
       "                    if (nbb_cells[i].input_prompt_number == nbb_cell_id) {\n",
       "                        if (nbb_cells[i].get_text() == nbb_unformatted_code) {\n",
       "                             nbb_cells[i].set_text(nbb_formatted_code);\n",
       "                        }\n",
       "                        break;\n",
       "                    }\n",
       "                }\n",
       "            }, 500);\n",
       "            "
      ],
      "text/plain": [
       "<IPython.core.display.Javascript object>"
      ]
     },
     "metadata": {},
     "output_type": "display_data"
    }
   ],
   "source": [
    "volume_dict = {}\n",
    "for k, v in biographies_dict_gnd.items():\n",
    "    if v.gnd in gnd_wiki_mapping_failure:\n",
    "        volume = v.ndb_n[1:3]\n",
    "        if volume in volume_dict:\n",
    "            volume_dict[volume] += 1\n",
    "        else:\n",
    "            volume_dict[volume] = 1\n",
    "assert len(gnd_wiki_mapping_failure) == sum(volume_dict.values())"
   ]
  },
  {
   "cell_type": "code",
   "execution_count": 23,
   "metadata": {},
   "outputs": [
    {
     "data": {
      "text/plain": [
       "{'01': 233,\n",
       " '02': 218,\n",
       " '03': 206,\n",
       " '04': 159,\n",
       " '06': 145,\n",
       " '05': 163,\n",
       " '07': 169,\n",
       " '08': 142,\n",
       " '09': 168,\n",
       " '10': 171,\n",
       " '11': 134,\n",
       " '12': 166,\n",
       " '13': 132,\n",
       " '14': 127,\n",
       " '15': 115,\n",
       " '16': 102,\n",
       " '17': 99,\n",
       " '18': 123,\n",
       " '19': 111,\n",
       " '20': 107,\n",
       " '21': 105,\n",
       " '22': 91,\n",
       " '23': 108,\n",
       " '24': 82,\n",
       " '25': 98,\n",
       " '26': 96,\n",
       " '27': 57}"
      ]
     },
     "execution_count": 23,
     "metadata": {},
     "output_type": "execute_result"
    },
    {
     "data": {
      "application/javascript": [
       "\n",
       "            setTimeout(function() {\n",
       "                var nbb_cell_id = 23;\n",
       "                var nbb_unformatted_code = \"volume_dict\";\n",
       "                var nbb_formatted_code = \"volume_dict\";\n",
       "                var nbb_cells = Jupyter.notebook.get_cells();\n",
       "                for (var i = 0; i < nbb_cells.length; ++i) {\n",
       "                    if (nbb_cells[i].input_prompt_number == nbb_cell_id) {\n",
       "                        if (nbb_cells[i].get_text() == nbb_unformatted_code) {\n",
       "                             nbb_cells[i].set_text(nbb_formatted_code);\n",
       "                        }\n",
       "                        break;\n",
       "                    }\n",
       "                }\n",
       "            }, 500);\n",
       "            "
      ],
      "text/plain": [
       "<IPython.core.display.Javascript object>"
      ]
     },
     "metadata": {},
     "output_type": "display_data"
    }
   ],
   "source": [
    "volume_dict"
   ]
  },
  {
   "cell_type": "markdown",
   "metadata": {},
   "source": [
    "## wikipedia api\n",
    "+ https://pypi.org/project/Wikipedia-API/\n",
    "+ https://wikipedia.readthedocs.io/en/latest/code.html\n",
    "\n",
    "+ max 200 requests per second (sleep for 5ms after every request)"
   ]
  },
  {
   "cell_type": "code",
   "execution_count": 24,
   "metadata": {},
   "outputs": [
    {
     "name": "stdout",
     "output_type": "stream",
     "text": [
      "processing volume: 24112 / 24112 | 3627 1 0\r"
     ]
    },
    {
     "data": {
      "application/javascript": [
       "\n",
       "            setTimeout(function() {\n",
       "                var nbb_cell_id = 24;\n",
       "                var nbb_unformatted_code = \"# this process takes ~4h\\nwiki = wikipediaapi.Wikipedia(\\\"de\\\")\\nmissing_wikipedia_title_for_biography_count = 0\\nwikipedia_title_doesnt_exist_count = 0\\nconnection_error_msgs = []\\ni = 0\\nl = len(biographies_dict_gnd)\\nfor k, v in biographies_dict_gnd.items():\\n    i += 1\\n    print(\\n        f\\\"processing volume: {i} / {l} | {missing_wikipedia_title_for_biography_count} {wikipedia_title_doesnt_exist_count} {len(connection_error_msgs)}\\\",\\n        end=\\\"\\\\r\\\",\\n    )\\n    if v.wikipedia_title:  # not None\\n        try:\\n            wikipedia_page = wiki.page(v.wikipedia_title)\\n            if wikipedia_page.exists():\\n                wikipedia_text = wikipedia_page.text.replace(\\\"\\\\n\\\", \\\" \\\")\\n                v.wikipedia_text = wikipedia_text\\n            else:\\n                wikipedia_title_doesnt_exist_count += 1\\n        except Exception as e:\\n            connection_error_msgs.append(str(e))\\n        sleep(0.05)\\n    else:\\n        missing_wikipedia_title_for_biography_count += 1\";\n",
       "                var nbb_formatted_code = \"# this process takes ~4h\\nwiki = wikipediaapi.Wikipedia(\\\"de\\\")\\nmissing_wikipedia_title_for_biography_count = 0\\nwikipedia_title_doesnt_exist_count = 0\\nconnection_error_msgs = []\\ni = 0\\nl = len(biographies_dict_gnd)\\nfor k, v in biographies_dict_gnd.items():\\n    i += 1\\n    print(\\n        f\\\"processing volume: {i} / {l} | {missing_wikipedia_title_for_biography_count} {wikipedia_title_doesnt_exist_count} {len(connection_error_msgs)}\\\",\\n        end=\\\"\\\\r\\\",\\n    )\\n    if v.wikipedia_title:  # not None\\n        try:\\n            wikipedia_page = wiki.page(v.wikipedia_title)\\n            if wikipedia_page.exists():\\n                wikipedia_text = wikipedia_page.text.replace(\\\"\\\\n\\\", \\\" \\\")\\n                v.wikipedia_text = wikipedia_text\\n            else:\\n                wikipedia_title_doesnt_exist_count += 1\\n        except Exception as e:\\n            connection_error_msgs.append(str(e))\\n        sleep(0.05)\\n    else:\\n        missing_wikipedia_title_for_biography_count += 1\";\n",
       "                var nbb_cells = Jupyter.notebook.get_cells();\n",
       "                for (var i = 0; i < nbb_cells.length; ++i) {\n",
       "                    if (nbb_cells[i].input_prompt_number == nbb_cell_id) {\n",
       "                        if (nbb_cells[i].get_text() == nbb_unformatted_code) {\n",
       "                             nbb_cells[i].set_text(nbb_formatted_code);\n",
       "                        }\n",
       "                        break;\n",
       "                    }\n",
       "                }\n",
       "            }, 500);\n",
       "            "
      ],
      "text/plain": [
       "<IPython.core.display.Javascript object>"
      ]
     },
     "metadata": {},
     "output_type": "display_data"
    }
   ],
   "source": [
    "# this process takes ~4h\n",
    "wiki = wikipediaapi.Wikipedia(\"de\")\n",
    "missing_wikipedia_title_for_biography_count = 0\n",
    "wikipedia_title_doesnt_exist_count = 0\n",
    "connection_error_msgs = []\n",
    "i = 0\n",
    "l = len(biographies_dict_gnd)\n",
    "for k, v in biographies_dict_gnd.items():\n",
    "    i += 1\n",
    "    print(\n",
    "        f\"processing volume: {i} / {l} | {missing_wikipedia_title_for_biography_count} {wikipedia_title_doesnt_exist_count} {len(connection_error_msgs)}\",\n",
    "        end=\"\\r\",\n",
    "    )\n",
    "    if v.wikipedia_title:  # not None\n",
    "        try:\n",
    "            wikipedia_page = wiki.page(v.wikipedia_title)\n",
    "            if wikipedia_page.exists():\n",
    "                wikipedia_text = wikipedia_page.text.replace(\"\\n\", \" \")\n",
    "                v.wikipedia_text = wikipedia_text\n",
    "            else:\n",
    "                wikipedia_title_doesnt_exist_count += 1\n",
    "        except Exception as e:\n",
    "            connection_error_msgs.append(str(e))\n",
    "        sleep(0.05)\n",
    "    else:\n",
    "        missing_wikipedia_title_for_biography_count += 1"
   ]
  },
  {
   "cell_type": "code",
   "execution_count": 26,
   "metadata": {},
   "outputs": [
    {
     "data": {
      "application/javascript": [
       "\n",
       "            setTimeout(function() {\n",
       "                var nbb_cell_id = 26;\n",
       "                var nbb_unformatted_code = \"# check connection_error_msgs for exception type\\nif connection_error_msgs:\\n    print(connection_error_msgs[0])\";\n",
       "                var nbb_formatted_code = \"# check connection_error_msgs for exception type\\nif connection_error_msgs:\\n    print(connection_error_msgs[0])\";\n",
       "                var nbb_cells = Jupyter.notebook.get_cells();\n",
       "                for (var i = 0; i < nbb_cells.length; ++i) {\n",
       "                    if (nbb_cells[i].input_prompt_number == nbb_cell_id) {\n",
       "                        if (nbb_cells[i].get_text() == nbb_unformatted_code) {\n",
       "                             nbb_cells[i].set_text(nbb_formatted_code);\n",
       "                        }\n",
       "                        break;\n",
       "                    }\n",
       "                }\n",
       "            }, 500);\n",
       "            "
      ],
      "text/plain": [
       "<IPython.core.display.Javascript object>"
      ]
     },
     "metadata": {},
     "output_type": "display_data"
    }
   ],
   "source": [
    "# check connection_error_msgs for exception type\n",
    "if connection_error_msgs:\n",
    "    print(connection_error_msgs[0])"
   ]
  },
  {
   "cell_type": "code",
   "execution_count": 27,
   "metadata": {},
   "outputs": [
    {
     "name": "stdout",
     "output_type": "stream",
     "text": [
      "biographies pre pop: 24112\n",
      "missing_gnd=0, missing_wikipedia_data=3628\n",
      "biographies post pop: 20484\n"
     ]
    },
    {
     "data": {
      "application/javascript": [
       "\n",
       "            setTimeout(function() {\n",
       "                var nbb_cell_id = 27;\n",
       "                var nbb_unformatted_code = \"missing_wikipedia_data = 0\\nmissing_gnd = 0\\nprint(f\\\"biographies pre pop: {len(biographies_dict_gnd)}\\\")\\n\\nfor k in list(biographies_dict_gnd):\\n    v = biographies_dict_gnd[k]\\n    pop = False\\n    if not (v.wikipedia_title and v.wikipedia_text):\\n        missing_wikipedia_data += 1\\n        pop = True\\n    if not v.gnd:\\n        missing_gnd += 1\\n        pop = True\\n    if pop:\\n        if k in biographies_dict_gnd:\\n            biographies_dict_gnd.pop(k)\\n        if v.ndb_sfz in biographies_dict_sfz:\\n            biographies_dict_sfz.pop(v.ndb_sfz)\\n\\n\\nprint(f\\\"{missing_gnd=}, {missing_wikipedia_data=}\\\")\\nprint(f\\\"biographies post pop: {len(biographies_dict_gnd)}\\\")\";\n",
       "                var nbb_formatted_code = \"missing_wikipedia_data = 0\\nmissing_gnd = 0\\nprint(f\\\"biographies pre pop: {len(biographies_dict_gnd)}\\\")\\n\\nfor k in list(biographies_dict_gnd):\\n    v = biographies_dict_gnd[k]\\n    pop = False\\n    if not (v.wikipedia_title and v.wikipedia_text):\\n        missing_wikipedia_data += 1\\n        pop = True\\n    if not v.gnd:\\n        missing_gnd += 1\\n        pop = True\\n    if pop:\\n        if k in biographies_dict_gnd:\\n            biographies_dict_gnd.pop(k)\\n        if v.ndb_sfz in biographies_dict_sfz:\\n            biographies_dict_sfz.pop(v.ndb_sfz)\\n\\n\\nprint(f\\\"{missing_gnd=}, {missing_wikipedia_data=}\\\")\\nprint(f\\\"biographies post pop: {len(biographies_dict_gnd)}\\\")\";\n",
       "                var nbb_cells = Jupyter.notebook.get_cells();\n",
       "                for (var i = 0; i < nbb_cells.length; ++i) {\n",
       "                    if (nbb_cells[i].input_prompt_number == nbb_cell_id) {\n",
       "                        if (nbb_cells[i].get_text() == nbb_unformatted_code) {\n",
       "                             nbb_cells[i].set_text(nbb_formatted_code);\n",
       "                        }\n",
       "                        break;\n",
       "                    }\n",
       "                }\n",
       "            }, 500);\n",
       "            "
      ],
      "text/plain": [
       "<IPython.core.display.Javascript object>"
      ]
     },
     "metadata": {},
     "output_type": "display_data"
    }
   ],
   "source": [
    "missing_wikipedia_data = 0\n",
    "missing_gnd = 0\n",
    "print(f\"biographies pre pop: {len(biographies_dict_gnd)}\")\n",
    "\n",
    "for k in list(biographies_dict_gnd):\n",
    "    v = biographies_dict_gnd[k]\n",
    "    pop = False\n",
    "    if not (v.wikipedia_title and v.wikipedia_text):\n",
    "        missing_wikipedia_data += 1\n",
    "        pop = True\n",
    "    if not v.gnd:\n",
    "        missing_gnd += 1\n",
    "        pop = True\n",
    "    if pop:\n",
    "        if k in biographies_dict_gnd:\n",
    "            biographies_dict_gnd.pop(k)\n",
    "        if v.ndb_sfz in biographies_dict_sfz:\n",
    "            biographies_dict_sfz.pop(v.ndb_sfz)\n",
    "\n",
    "\n",
    "print(f\"{missing_gnd=}, {missing_wikipedia_data=}\")\n",
    "print(f\"biographies post pop: {len(biographies_dict_gnd)}\")"
   ]
  },
  {
   "cell_type": "code",
   "execution_count": 28,
   "metadata": {},
   "outputs": [
    {
     "data": {
      "application/javascript": [
       "\n",
       "            setTimeout(function() {\n",
       "                var nbb_cell_id = 28;\n",
       "                var nbb_unformatted_code = \"data = {\\n    \\\"ndb_n\\\": [],\\n    \\\"ndb_sfz\\\": [],\\n    \\\"gnd\\\": [],\\n    \\\"ndb_sex\\\": [],\\n    \\\"ndb_name\\\": [],\\n    \\\"wikipedia_title\\\": [],\\n    \\\"ndb_text\\\": [],\\n    \\\"wikipedia_text\\\": [],\\n}\\nfor k, v in biographies_dict_gnd.items():\\n    data[\\\"ndb_n\\\"].append(v.ndb_n)\\n    data[\\\"wikipedia_title\\\"].append(v.wikipedia_title)\\n    data[\\\"ndb_sfz\\\"].append(v.ndb_sfz)\\n    data[\\\"gnd\\\"].append(v.gnd)\\n    data[\\\"ndb_sex\\\"].append(v.ndb_sex)\\n    data[\\\"ndb_name\\\"].append(v.ndb_name)\\n    data[\\\"ndb_text\\\"].append(v.ndb_text)\\n    data[\\\"wikipedia_text\\\"].append(v.wikipedia_text)\\nassert len(data[\\\"ndb_n\\\"]) == len(data[\\\"wikipedia_title\\\"])\\nassert len(data[\\\"wikipedia_title\\\"]) == len(data[\\\"ndb_sfz\\\"])\\nassert len(data[\\\"ndb_sfz\\\"]) == len(data[\\\"gnd\\\"])\\nassert len(data[\\\"gnd\\\"]) == len(data[\\\"ndb_sex\\\"])\\nassert len(data[\\\"ndb_sex\\\"]) == len(data[\\\"ndb_name\\\"])\\nassert len(data[\\\"ndb_name\\\"]) == len(data[\\\"ndb_text\\\"])\\nassert len(data[\\\"ndb_text\\\"]) == len(data[\\\"wikipedia_text\\\"])\";\n",
       "                var nbb_formatted_code = \"data = {\\n    \\\"ndb_n\\\": [],\\n    \\\"ndb_sfz\\\": [],\\n    \\\"gnd\\\": [],\\n    \\\"ndb_sex\\\": [],\\n    \\\"ndb_name\\\": [],\\n    \\\"wikipedia_title\\\": [],\\n    \\\"ndb_text\\\": [],\\n    \\\"wikipedia_text\\\": [],\\n}\\nfor k, v in biographies_dict_gnd.items():\\n    data[\\\"ndb_n\\\"].append(v.ndb_n)\\n    data[\\\"wikipedia_title\\\"].append(v.wikipedia_title)\\n    data[\\\"ndb_sfz\\\"].append(v.ndb_sfz)\\n    data[\\\"gnd\\\"].append(v.gnd)\\n    data[\\\"ndb_sex\\\"].append(v.ndb_sex)\\n    data[\\\"ndb_name\\\"].append(v.ndb_name)\\n    data[\\\"ndb_text\\\"].append(v.ndb_text)\\n    data[\\\"wikipedia_text\\\"].append(v.wikipedia_text)\\nassert len(data[\\\"ndb_n\\\"]) == len(data[\\\"wikipedia_title\\\"])\\nassert len(data[\\\"wikipedia_title\\\"]) == len(data[\\\"ndb_sfz\\\"])\\nassert len(data[\\\"ndb_sfz\\\"]) == len(data[\\\"gnd\\\"])\\nassert len(data[\\\"gnd\\\"]) == len(data[\\\"ndb_sex\\\"])\\nassert len(data[\\\"ndb_sex\\\"]) == len(data[\\\"ndb_name\\\"])\\nassert len(data[\\\"ndb_name\\\"]) == len(data[\\\"ndb_text\\\"])\\nassert len(data[\\\"ndb_text\\\"]) == len(data[\\\"wikipedia_text\\\"])\";\n",
       "                var nbb_cells = Jupyter.notebook.get_cells();\n",
       "                for (var i = 0; i < nbb_cells.length; ++i) {\n",
       "                    if (nbb_cells[i].input_prompt_number == nbb_cell_id) {\n",
       "                        if (nbb_cells[i].get_text() == nbb_unformatted_code) {\n",
       "                             nbb_cells[i].set_text(nbb_formatted_code);\n",
       "                        }\n",
       "                        break;\n",
       "                    }\n",
       "                }\n",
       "            }, 500);\n",
       "            "
      ],
      "text/plain": [
       "<IPython.core.display.Javascript object>"
      ]
     },
     "metadata": {},
     "output_type": "display_data"
    }
   ],
   "source": [
    "data = {\n",
    "    \"ndb_n\": [],\n",
    "    \"ndb_sfz\": [],\n",
    "    \"gnd\": [],\n",
    "    \"ndb_sex\": [],\n",
    "    \"ndb_name\": [],\n",
    "    \"wikipedia_title\": [],\n",
    "    \"ndb_text\": [],\n",
    "    \"wikipedia_text\": [],\n",
    "}\n",
    "for k, v in biographies_dict_gnd.items():\n",
    "    data[\"ndb_n\"].append(v.ndb_n)\n",
    "    data[\"wikipedia_title\"].append(v.wikipedia_title)\n",
    "    data[\"ndb_sfz\"].append(v.ndb_sfz)\n",
    "    data[\"gnd\"].append(v.gnd)\n",
    "    data[\"ndb_sex\"].append(v.ndb_sex)\n",
    "    data[\"ndb_name\"].append(v.ndb_name)\n",
    "    data[\"ndb_text\"].append(v.ndb_text)\n",
    "    data[\"wikipedia_text\"].append(v.wikipedia_text)\n",
    "assert len(data[\"ndb_n\"]) == len(data[\"wikipedia_title\"])\n",
    "assert len(data[\"wikipedia_title\"]) == len(data[\"ndb_sfz\"])\n",
    "assert len(data[\"ndb_sfz\"]) == len(data[\"gnd\"])\n",
    "assert len(data[\"gnd\"]) == len(data[\"ndb_sex\"])\n",
    "assert len(data[\"ndb_sex\"]) == len(data[\"ndb_name\"])\n",
    "assert len(data[\"ndb_name\"]) == len(data[\"ndb_text\"])\n",
    "assert len(data[\"ndb_text\"]) == len(data[\"wikipedia_text\"])"
   ]
  },
  {
   "cell_type": "code",
   "execution_count": 29,
   "metadata": {},
   "outputs": [
    {
     "data": {
      "text/html": [
       "<div>\n",
       "<style scoped>\n",
       "    .dataframe tbody tr th:only-of-type {\n",
       "        vertical-align: middle;\n",
       "    }\n",
       "\n",
       "    .dataframe tbody tr th {\n",
       "        vertical-align: top;\n",
       "    }\n",
       "\n",
       "    .dataframe thead th {\n",
       "        text-align: right;\n",
       "    }\n",
       "</style>\n",
       "<table border=\"1\" class=\"dataframe\">\n",
       "  <thead>\n",
       "    <tr style=\"text-align: right;\">\n",
       "      <th></th>\n",
       "      <th>ndb_n</th>\n",
       "      <th>ndb_sfz</th>\n",
       "      <th>gnd</th>\n",
       "      <th>ndb_sex</th>\n",
       "      <th>ndb_name</th>\n",
       "      <th>wikipedia_title</th>\n",
       "      <th>ndb_text</th>\n",
       "      <th>wikipedia_text</th>\n",
       "    </tr>\n",
       "  </thead>\n",
       "  <tbody>\n",
       "    <tr>\n",
       "      <th>0</th>\n",
       "      <td>n01-001-01</td>\n",
       "      <td>sfz45545</td>\n",
       "      <td>118643525</td>\n",
       "      <td>1</td>\n",
       "      <td>Aachen  Hans von (Johann von Achen, Hans Ach)</td>\n",
       "      <td>Hans von Aachen</td>\n",
       "      <td>Karel van Mander (Schilderboeck, Haarlem 1604 ...</td>\n",
       "      <td>Hans von Aachen (* 1552 in Köln; † 4. März 161...</td>\n",
       "    </tr>\n",
       "    <tr>\n",
       "      <th>1</th>\n",
       "      <td>n01-001-02</td>\n",
       "      <td>sfz15</td>\n",
       "      <td>118500015</td>\n",
       "      <td>1</td>\n",
       "      <td>Aal (Anguilla), Johannes</td>\n",
       "      <td>Johannes Aal</td>\n",
       "      <td>A.Aal verfocht zur Zeit der Reformation die al...</td>\n",
       "      <td>Johannes Aal (* um 1500 in Bremgarten AG; † 28...</td>\n",
       "    </tr>\n",
       "    <tr>\n",
       "      <th>2</th>\n",
       "      <td>n01-002-01</td>\n",
       "      <td>sfz17</td>\n",
       "      <td>104198273</td>\n",
       "      <td>1</td>\n",
       "      <td>dall' Abaco Evaristo Felice</td>\n",
       "      <td>Evaristo Felice Dall’Abaco</td>\n",
       "      <td>A.Abaco kam aus Verona über Modena 1704 an den...</td>\n",
       "      <td>Evaristo Felice Dall’Abaco (* 12. Juli 1675 in...</td>\n",
       "    </tr>\n",
       "    <tr>\n",
       "      <th>3</th>\n",
       "      <td>n01-002-02</td>\n",
       "      <td>sfz19</td>\n",
       "      <td>100002307</td>\n",
       "      <td>1</td>\n",
       "      <td>Abbadie Jacques</td>\n",
       "      <td>Jacques Abbadie</td>\n",
       "      <td>A.Abbadie studierte auf den Akademien von Saum...</td>\n",
       "      <td>Jacques Abbadie, auch James, Jacobus oder Jaco...</td>\n",
       "    </tr>\n",
       "    <tr>\n",
       "      <th>4</th>\n",
       "      <td>n01-002-03</td>\n",
       "      <td>sfz7153</td>\n",
       "      <td>118646419</td>\n",
       "      <td>1</td>\n",
       "      <td>Abbe Ernst Carl</td>\n",
       "      <td>Ernst Abbe</td>\n",
       "      <td>Die Einsicht der Lehrer, die die außerordentli...</td>\n",
       "      <td>Ernst Karl Abbe  [ˈabə] (* 23. Januar 1840 in ...</td>\n",
       "    </tr>\n",
       "    <tr>\n",
       "      <th>...</th>\n",
       "      <td>...</td>\n",
       "      <td>...</td>\n",
       "      <td>...</td>\n",
       "      <td>...</td>\n",
       "      <td>...</td>\n",
       "      <td>...</td>\n",
       "      <td>...</td>\n",
       "      <td>...</td>\n",
       "    </tr>\n",
       "    <tr>\n",
       "      <th>20479</th>\n",
       "      <td>n27-908-01</td>\n",
       "      <td>sfz141086</td>\n",
       "      <td>1116026791</td>\n",
       "      <td>2</td>\n",
       "      <td>Westphal-Hellbusch Sigrid Hellbusch</td>\n",
       "      <td>Sigrid Westphal-Hellbusch</td>\n",
       "      <td>Nach der Reifeprüfung am I. Oberlyzeum in Berl...</td>\n",
       "      <td>Sigrid Westphal-Hellbusch (* 10. Juni 1915 in ...</td>\n",
       "    </tr>\n",
       "    <tr>\n",
       "      <th>20480</th>\n",
       "      <td>n27-909-01</td>\n",
       "      <td>sfz60626</td>\n",
       "      <td>117327328</td>\n",
       "      <td>1</td>\n",
       "      <td>Westphalen Ferdinand</td>\n",
       "      <td>Ferdinand von Westphalen</td>\n",
       "      <td>W. Westphalen  besuchte das Gymnasium in Salzw...</td>\n",
       "      <td>Ferdinand Otto Wilhelm Henning von Westphalen ...</td>\n",
       "    </tr>\n",
       "    <tr>\n",
       "      <th>20481</th>\n",
       "      <td>n27-910-01</td>\n",
       "      <td>sfz85259</td>\n",
       "      <td>117327573</td>\n",
       "      <td>1</td>\n",
       "      <td>Westrumb Friedrich</td>\n",
       "      <td>Johann Friedrich Westrumb</td>\n",
       "      <td>W. Westrumb  begann 1764 eine Lehre in der kgl...</td>\n",
       "      <td>Johann Friedrich Westrumb (* 2. Dezember 1751 ...</td>\n",
       "    </tr>\n",
       "    <tr>\n",
       "      <th>20482</th>\n",
       "      <td>n27-911-01</td>\n",
       "      <td>sfz141099</td>\n",
       "      <td>1051891450</td>\n",
       "      <td>1</td>\n",
       "      <td>Wetter Ernst</td>\n",
       "      <td>Ernst Wetter</td>\n",
       "      <td>Nach der Volksschule absolvierte  W. Wetter  d...</td>\n",
       "      <td>Ernst Wetter (* 27. August 1877 in Töss (heute...</td>\n",
       "    </tr>\n",
       "    <tr>\n",
       "      <th>20483</th>\n",
       "      <td>n27-912-01</td>\n",
       "      <td>sfz135137</td>\n",
       "      <td>118807064</td>\n",
       "      <td>9</td>\n",
       "      <td>Wettiner</td>\n",
       "      <td>Haus Wettin</td>\n",
       "      <td>Die  W. Wettiner  gehören zu den ältesten Hoch...</td>\n",
       "      <td>Das Haus Wettin ist mit über 1000 Jahren Famil...</td>\n",
       "    </tr>\n",
       "  </tbody>\n",
       "</table>\n",
       "<p>20484 rows × 8 columns</p>\n",
       "</div>"
      ],
      "text/plain": [
       "            ndb_n    ndb_sfz         gnd ndb_sex  \\\n",
       "0      n01-001-01   sfz45545   118643525       1   \n",
       "1      n01-001-02      sfz15   118500015       1   \n",
       "2      n01-002-01      sfz17   104198273       1   \n",
       "3      n01-002-02      sfz19   100002307       1   \n",
       "4      n01-002-03    sfz7153   118646419       1   \n",
       "...           ...        ...         ...     ...   \n",
       "20479  n27-908-01  sfz141086  1116026791       2   \n",
       "20480  n27-909-01   sfz60626   117327328       1   \n",
       "20481  n27-910-01   sfz85259   117327573       1   \n",
       "20482  n27-911-01  sfz141099  1051891450       1   \n",
       "20483  n27-912-01  sfz135137   118807064       9   \n",
       "\n",
       "                                             ndb_name  \\\n",
       "0       Aachen  Hans von (Johann von Achen, Hans Ach)   \n",
       "1                            Aal (Anguilla), Johannes   \n",
       "2                         dall' Abaco Evaristo Felice   \n",
       "3                                     Abbadie Jacques   \n",
       "4                                     Abbe Ernst Carl   \n",
       "...                                               ...   \n",
       "20479             Westphal-Hellbusch Sigrid Hellbusch   \n",
       "20480                            Westphalen Ferdinand   \n",
       "20481                              Westrumb Friedrich   \n",
       "20482                                    Wetter Ernst   \n",
       "20483                                        Wettiner   \n",
       "\n",
       "                  wikipedia_title  \\\n",
       "0                 Hans von Aachen   \n",
       "1                    Johannes Aal   \n",
       "2      Evaristo Felice Dall’Abaco   \n",
       "3                 Jacques Abbadie   \n",
       "4                      Ernst Abbe   \n",
       "...                           ...   \n",
       "20479   Sigrid Westphal-Hellbusch   \n",
       "20480    Ferdinand von Westphalen   \n",
       "20481   Johann Friedrich Westrumb   \n",
       "20482                Ernst Wetter   \n",
       "20483                 Haus Wettin   \n",
       "\n",
       "                                                ndb_text  \\\n",
       "0      Karel van Mander (Schilderboeck, Haarlem 1604 ...   \n",
       "1      A.Aal verfocht zur Zeit der Reformation die al...   \n",
       "2      A.Abaco kam aus Verona über Modena 1704 an den...   \n",
       "3      A.Abbadie studierte auf den Akademien von Saum...   \n",
       "4      Die Einsicht der Lehrer, die die außerordentli...   \n",
       "...                                                  ...   \n",
       "20479  Nach der Reifeprüfung am I. Oberlyzeum in Berl...   \n",
       "20480  W. Westphalen  besuchte das Gymnasium in Salzw...   \n",
       "20481  W. Westrumb  begann 1764 eine Lehre in der kgl...   \n",
       "20482  Nach der Volksschule absolvierte  W. Wetter  d...   \n",
       "20483  Die  W. Wettiner  gehören zu den ältesten Hoch...   \n",
       "\n",
       "                                          wikipedia_text  \n",
       "0      Hans von Aachen (* 1552 in Köln; † 4. März 161...  \n",
       "1      Johannes Aal (* um 1500 in Bremgarten AG; † 28...  \n",
       "2      Evaristo Felice Dall’Abaco (* 12. Juli 1675 in...  \n",
       "3      Jacques Abbadie, auch James, Jacobus oder Jaco...  \n",
       "4      Ernst Karl Abbe  [ˈabə] (* 23. Januar 1840 in ...  \n",
       "...                                                  ...  \n",
       "20479  Sigrid Westphal-Hellbusch (* 10. Juni 1915 in ...  \n",
       "20480  Ferdinand Otto Wilhelm Henning von Westphalen ...  \n",
       "20481  Johann Friedrich Westrumb (* 2. Dezember 1751 ...  \n",
       "20482  Ernst Wetter (* 27. August 1877 in Töss (heute...  \n",
       "20483  Das Haus Wettin ist mit über 1000 Jahren Famil...  \n",
       "\n",
       "[20484 rows x 8 columns]"
      ]
     },
     "execution_count": 29,
     "metadata": {},
     "output_type": "execute_result"
    },
    {
     "data": {
      "application/javascript": [
       "\n",
       "            setTimeout(function() {\n",
       "                var nbb_cell_id = 29;\n",
       "                var nbb_unformatted_code = \"df_ndb = pd.DataFrame.from_dict(data, dtype=\\\"string\\\")\\ndf_ndb\";\n",
       "                var nbb_formatted_code = \"df_ndb = pd.DataFrame.from_dict(data, dtype=\\\"string\\\")\\ndf_ndb\";\n",
       "                var nbb_cells = Jupyter.notebook.get_cells();\n",
       "                for (var i = 0; i < nbb_cells.length; ++i) {\n",
       "                    if (nbb_cells[i].input_prompt_number == nbb_cell_id) {\n",
       "                        if (nbb_cells[i].get_text() == nbb_unformatted_code) {\n",
       "                             nbb_cells[i].set_text(nbb_formatted_code);\n",
       "                        }\n",
       "                        break;\n",
       "                    }\n",
       "                }\n",
       "            }, 500);\n",
       "            "
      ],
      "text/plain": [
       "<IPython.core.display.Javascript object>"
      ]
     },
     "metadata": {},
     "output_type": "display_data"
    }
   ],
   "source": [
    "df_ndb = pd.DataFrame.from_dict(data, dtype=\"string\")\n",
    "df_ndb"
   ]
  },
  {
   "cell_type": "markdown",
   "metadata": {},
   "source": [
    "### save dataframe"
   ]
  },
  {
   "cell_type": "code",
   "execution_count": 30,
   "metadata": {},
   "outputs": [
    {
     "data": {
      "application/javascript": [
       "\n",
       "            setTimeout(function() {\n",
       "                var nbb_cell_id = 30;\n",
       "                var nbb_unformatted_code = \"# assume data/df/ exists\\npath = os.path.abspath(\\\"\\\")\\ndata_df_rel = \\\"data/df/\\\"\\ndata_df_ndb_abs = os.path.join(path, data_df_rel, \\\"df_ndb_wikipedia.pkl\\\")\\ndf_ndb.to_pickle(data_df_ndb_abs)\";\n",
       "                var nbb_formatted_code = \"# assume data/df/ exists\\npath = os.path.abspath(\\\"\\\")\\ndata_df_rel = \\\"data/df/\\\"\\ndata_df_ndb_abs = os.path.join(path, data_df_rel, \\\"df_ndb_wikipedia.pkl\\\")\\ndf_ndb.to_pickle(data_df_ndb_abs)\";\n",
       "                var nbb_cells = Jupyter.notebook.get_cells();\n",
       "                for (var i = 0; i < nbb_cells.length; ++i) {\n",
       "                    if (nbb_cells[i].input_prompt_number == nbb_cell_id) {\n",
       "                        if (nbb_cells[i].get_text() == nbb_unformatted_code) {\n",
       "                             nbb_cells[i].set_text(nbb_formatted_code);\n",
       "                        }\n",
       "                        break;\n",
       "                    }\n",
       "                }\n",
       "            }, 500);\n",
       "            "
      ],
      "text/plain": [
       "<IPython.core.display.Javascript object>"
      ]
     },
     "metadata": {},
     "output_type": "display_data"
    }
   ],
   "source": [
    "# assume data/df/ exists\n",
    "path = os.path.abspath(\"\")\n",
    "data_df_rel = \"data/df/\"\n",
    "data_df_ndb_abs = os.path.join(path, data_df_rel, \"df_ndb_wikipedia.pkl\")\n",
    "df_ndb.to_pickle(data_df_ndb_abs)"
   ]
  },
  {
   "cell_type": "markdown",
   "metadata": {},
   "source": [
    "### load dataframe"
   ]
  },
  {
   "cell_type": "code",
   "execution_count": 31,
   "metadata": {},
   "outputs": [
    {
     "name": "stdout",
     "output_type": "stream",
     "text": [
      "The nb_black extension is already loaded. To reload it, use:\n",
      "  %reload_ext nb_black\n"
     ]
    },
    {
     "data": {
      "application/javascript": [
       "\n",
       "            setTimeout(function() {\n",
       "                var nbb_cell_id = 31;\n",
       "                var nbb_unformatted_code = \"# format cells using black\\n%load_ext nb_black\";\n",
       "                var nbb_formatted_code = \"# format cells using black\\n%load_ext nb_black\";\n",
       "                var nbb_cells = Jupyter.notebook.get_cells();\n",
       "                for (var i = 0; i < nbb_cells.length; ++i) {\n",
       "                    if (nbb_cells[i].input_prompt_number == nbb_cell_id) {\n",
       "                        if (nbb_cells[i].get_text() == nbb_unformatted_code) {\n",
       "                             nbb_cells[i].set_text(nbb_formatted_code);\n",
       "                        }\n",
       "                        break;\n",
       "                    }\n",
       "                }\n",
       "            }, 500);\n",
       "            "
      ],
      "text/plain": [
       "<IPython.core.display.Javascript object>"
      ]
     },
     "metadata": {},
     "output_type": "display_data"
    }
   ],
   "source": [
    "# format cells using black\n",
    "%load_ext nb_black"
   ]
  },
  {
   "cell_type": "code",
   "execution_count": 32,
   "metadata": {},
   "outputs": [
    {
     "data": {
      "text/html": [
       "<div>\n",
       "<style scoped>\n",
       "    .dataframe tbody tr th:only-of-type {\n",
       "        vertical-align: middle;\n",
       "    }\n",
       "\n",
       "    .dataframe tbody tr th {\n",
       "        vertical-align: top;\n",
       "    }\n",
       "\n",
       "    .dataframe thead th {\n",
       "        text-align: right;\n",
       "    }\n",
       "</style>\n",
       "<table border=\"1\" class=\"dataframe\">\n",
       "  <thead>\n",
       "    <tr style=\"text-align: right;\">\n",
       "      <th></th>\n",
       "      <th>ndb_n</th>\n",
       "      <th>ndb_sfz</th>\n",
       "      <th>gnd</th>\n",
       "      <th>ndb_sex</th>\n",
       "      <th>ndb_name</th>\n",
       "      <th>wikipedia_title</th>\n",
       "      <th>ndb_text</th>\n",
       "      <th>wikipedia_text</th>\n",
       "    </tr>\n",
       "  </thead>\n",
       "  <tbody>\n",
       "    <tr>\n",
       "      <th>0</th>\n",
       "      <td>n01-001-01</td>\n",
       "      <td>sfz45545</td>\n",
       "      <td>118643525</td>\n",
       "      <td>1</td>\n",
       "      <td>Aachen  Hans von (Johann von Achen, Hans Ach)</td>\n",
       "      <td>Hans von Aachen</td>\n",
       "      <td>Karel van Mander (Schilderboeck, Haarlem 1604 ...</td>\n",
       "      <td>Hans von Aachen (* 1552 in Köln; † 4. März 161...</td>\n",
       "    </tr>\n",
       "    <tr>\n",
       "      <th>1</th>\n",
       "      <td>n01-001-02</td>\n",
       "      <td>sfz15</td>\n",
       "      <td>118500015</td>\n",
       "      <td>1</td>\n",
       "      <td>Aal (Anguilla), Johannes</td>\n",
       "      <td>Johannes Aal</td>\n",
       "      <td>A.Aal verfocht zur Zeit der Reformation die al...</td>\n",
       "      <td>Johannes Aal (* um 1500 in Bremgarten AG; † 28...</td>\n",
       "    </tr>\n",
       "    <tr>\n",
       "      <th>2</th>\n",
       "      <td>n01-002-01</td>\n",
       "      <td>sfz17</td>\n",
       "      <td>104198273</td>\n",
       "      <td>1</td>\n",
       "      <td>dall' Abaco Evaristo Felice</td>\n",
       "      <td>Evaristo Felice Dall’Abaco</td>\n",
       "      <td>A.Abaco kam aus Verona über Modena 1704 an den...</td>\n",
       "      <td>Evaristo Felice Dall’Abaco (* 12. Juli 1675 in...</td>\n",
       "    </tr>\n",
       "    <tr>\n",
       "      <th>3</th>\n",
       "      <td>n01-002-02</td>\n",
       "      <td>sfz19</td>\n",
       "      <td>100002307</td>\n",
       "      <td>1</td>\n",
       "      <td>Abbadie Jacques</td>\n",
       "      <td>Jacques Abbadie</td>\n",
       "      <td>A.Abbadie studierte auf den Akademien von Saum...</td>\n",
       "      <td>Jacques Abbadie, auch James, Jacobus oder Jaco...</td>\n",
       "    </tr>\n",
       "    <tr>\n",
       "      <th>4</th>\n",
       "      <td>n01-002-03</td>\n",
       "      <td>sfz7153</td>\n",
       "      <td>118646419</td>\n",
       "      <td>1</td>\n",
       "      <td>Abbe Ernst Carl</td>\n",
       "      <td>Ernst Abbe</td>\n",
       "      <td>Die Einsicht der Lehrer, die die außerordentli...</td>\n",
       "      <td>Ernst Karl Abbe  [ˈabə] (* 23. Januar 1840 in ...</td>\n",
       "    </tr>\n",
       "    <tr>\n",
       "      <th>...</th>\n",
       "      <td>...</td>\n",
       "      <td>...</td>\n",
       "      <td>...</td>\n",
       "      <td>...</td>\n",
       "      <td>...</td>\n",
       "      <td>...</td>\n",
       "      <td>...</td>\n",
       "      <td>...</td>\n",
       "    </tr>\n",
       "    <tr>\n",
       "      <th>20479</th>\n",
       "      <td>n27-908-01</td>\n",
       "      <td>sfz141086</td>\n",
       "      <td>1116026791</td>\n",
       "      <td>2</td>\n",
       "      <td>Westphal-Hellbusch Sigrid Hellbusch</td>\n",
       "      <td>Sigrid Westphal-Hellbusch</td>\n",
       "      <td>Nach der Reifeprüfung am I. Oberlyzeum in Berl...</td>\n",
       "      <td>Sigrid Westphal-Hellbusch (* 10. Juni 1915 in ...</td>\n",
       "    </tr>\n",
       "    <tr>\n",
       "      <th>20480</th>\n",
       "      <td>n27-909-01</td>\n",
       "      <td>sfz60626</td>\n",
       "      <td>117327328</td>\n",
       "      <td>1</td>\n",
       "      <td>Westphalen Ferdinand</td>\n",
       "      <td>Ferdinand von Westphalen</td>\n",
       "      <td>W. Westphalen  besuchte das Gymnasium in Salzw...</td>\n",
       "      <td>Ferdinand Otto Wilhelm Henning von Westphalen ...</td>\n",
       "    </tr>\n",
       "    <tr>\n",
       "      <th>20481</th>\n",
       "      <td>n27-910-01</td>\n",
       "      <td>sfz85259</td>\n",
       "      <td>117327573</td>\n",
       "      <td>1</td>\n",
       "      <td>Westrumb Friedrich</td>\n",
       "      <td>Johann Friedrich Westrumb</td>\n",
       "      <td>W. Westrumb  begann 1764 eine Lehre in der kgl...</td>\n",
       "      <td>Johann Friedrich Westrumb (* 2. Dezember 1751 ...</td>\n",
       "    </tr>\n",
       "    <tr>\n",
       "      <th>20482</th>\n",
       "      <td>n27-911-01</td>\n",
       "      <td>sfz141099</td>\n",
       "      <td>1051891450</td>\n",
       "      <td>1</td>\n",
       "      <td>Wetter Ernst</td>\n",
       "      <td>Ernst Wetter</td>\n",
       "      <td>Nach der Volksschule absolvierte  W. Wetter  d...</td>\n",
       "      <td>Ernst Wetter (* 27. August 1877 in Töss (heute...</td>\n",
       "    </tr>\n",
       "    <tr>\n",
       "      <th>20483</th>\n",
       "      <td>n27-912-01</td>\n",
       "      <td>sfz135137</td>\n",
       "      <td>118807064</td>\n",
       "      <td>9</td>\n",
       "      <td>Wettiner</td>\n",
       "      <td>Haus Wettin</td>\n",
       "      <td>Die  W. Wettiner  gehören zu den ältesten Hoch...</td>\n",
       "      <td>Das Haus Wettin ist mit über 1000 Jahren Famil...</td>\n",
       "    </tr>\n",
       "  </tbody>\n",
       "</table>\n",
       "<p>20484 rows × 8 columns</p>\n",
       "</div>"
      ],
      "text/plain": [
       "            ndb_n    ndb_sfz         gnd ndb_sex  \\\n",
       "0      n01-001-01   sfz45545   118643525       1   \n",
       "1      n01-001-02      sfz15   118500015       1   \n",
       "2      n01-002-01      sfz17   104198273       1   \n",
       "3      n01-002-02      sfz19   100002307       1   \n",
       "4      n01-002-03    sfz7153   118646419       1   \n",
       "...           ...        ...         ...     ...   \n",
       "20479  n27-908-01  sfz141086  1116026791       2   \n",
       "20480  n27-909-01   sfz60626   117327328       1   \n",
       "20481  n27-910-01   sfz85259   117327573       1   \n",
       "20482  n27-911-01  sfz141099  1051891450       1   \n",
       "20483  n27-912-01  sfz135137   118807064       9   \n",
       "\n",
       "                                             ndb_name  \\\n",
       "0       Aachen  Hans von (Johann von Achen, Hans Ach)   \n",
       "1                            Aal (Anguilla), Johannes   \n",
       "2                         dall' Abaco Evaristo Felice   \n",
       "3                                     Abbadie Jacques   \n",
       "4                                     Abbe Ernst Carl   \n",
       "...                                               ...   \n",
       "20479             Westphal-Hellbusch Sigrid Hellbusch   \n",
       "20480                            Westphalen Ferdinand   \n",
       "20481                              Westrumb Friedrich   \n",
       "20482                                    Wetter Ernst   \n",
       "20483                                        Wettiner   \n",
       "\n",
       "                  wikipedia_title  \\\n",
       "0                 Hans von Aachen   \n",
       "1                    Johannes Aal   \n",
       "2      Evaristo Felice Dall’Abaco   \n",
       "3                 Jacques Abbadie   \n",
       "4                      Ernst Abbe   \n",
       "...                           ...   \n",
       "20479   Sigrid Westphal-Hellbusch   \n",
       "20480    Ferdinand von Westphalen   \n",
       "20481   Johann Friedrich Westrumb   \n",
       "20482                Ernst Wetter   \n",
       "20483                 Haus Wettin   \n",
       "\n",
       "                                                ndb_text  \\\n",
       "0      Karel van Mander (Schilderboeck, Haarlem 1604 ...   \n",
       "1      A.Aal verfocht zur Zeit der Reformation die al...   \n",
       "2      A.Abaco kam aus Verona über Modena 1704 an den...   \n",
       "3      A.Abbadie studierte auf den Akademien von Saum...   \n",
       "4      Die Einsicht der Lehrer, die die außerordentli...   \n",
       "...                                                  ...   \n",
       "20479  Nach der Reifeprüfung am I. Oberlyzeum in Berl...   \n",
       "20480  W. Westphalen  besuchte das Gymnasium in Salzw...   \n",
       "20481  W. Westrumb  begann 1764 eine Lehre in der kgl...   \n",
       "20482  Nach der Volksschule absolvierte  W. Wetter  d...   \n",
       "20483  Die  W. Wettiner  gehören zu den ältesten Hoch...   \n",
       "\n",
       "                                          wikipedia_text  \n",
       "0      Hans von Aachen (* 1552 in Köln; † 4. März 161...  \n",
       "1      Johannes Aal (* um 1500 in Bremgarten AG; † 28...  \n",
       "2      Evaristo Felice Dall’Abaco (* 12. Juli 1675 in...  \n",
       "3      Jacques Abbadie, auch James, Jacobus oder Jaco...  \n",
       "4      Ernst Karl Abbe  [ˈabə] (* 23. Januar 1840 in ...  \n",
       "...                                                  ...  \n",
       "20479  Sigrid Westphal-Hellbusch (* 10. Juni 1915 in ...  \n",
       "20480  Ferdinand Otto Wilhelm Henning von Westphalen ...  \n",
       "20481  Johann Friedrich Westrumb (* 2. Dezember 1751 ...  \n",
       "20482  Ernst Wetter (* 27. August 1877 in Töss (heute...  \n",
       "20483  Das Haus Wettin ist mit über 1000 Jahren Famil...  \n",
       "\n",
       "[20484 rows x 8 columns]"
      ]
     },
     "execution_count": 32,
     "metadata": {},
     "output_type": "execute_result"
    },
    {
     "data": {
      "application/javascript": [
       "\n",
       "            setTimeout(function() {\n",
       "                var nbb_cell_id = 32;\n",
       "                var nbb_unformatted_code = \"path = os.path.abspath(\\\"\\\")\\ndata_df_rel = \\\"data/df/\\\"\\ndata_df_ndb_abs = os.path.join(path, data_df_rel, \\\"df_ndb_wikipedia.pkl\\\")\\ncorpus = pd.read_pickle(data_df_ndb_abs)\\ncorpus\";\n",
       "                var nbb_formatted_code = \"path = os.path.abspath(\\\"\\\")\\ndata_df_rel = \\\"data/df/\\\"\\ndata_df_ndb_abs = os.path.join(path, data_df_rel, \\\"df_ndb_wikipedia.pkl\\\")\\ncorpus = pd.read_pickle(data_df_ndb_abs)\\ncorpus\";\n",
       "                var nbb_cells = Jupyter.notebook.get_cells();\n",
       "                for (var i = 0; i < nbb_cells.length; ++i) {\n",
       "                    if (nbb_cells[i].input_prompt_number == nbb_cell_id) {\n",
       "                        if (nbb_cells[i].get_text() == nbb_unformatted_code) {\n",
       "                             nbb_cells[i].set_text(nbb_formatted_code);\n",
       "                        }\n",
       "                        break;\n",
       "                    }\n",
       "                }\n",
       "            }, 500);\n",
       "            "
      ],
      "text/plain": [
       "<IPython.core.display.Javascript object>"
      ]
     },
     "metadata": {},
     "output_type": "display_data"
    }
   ],
   "source": [
    "path = os.path.abspath(\"\")\n",
    "data_df_rel = \"data/df/\"\n",
    "data_df_ndb_abs = os.path.join(path, data_df_rel, \"df_ndb_wikipedia.pkl\")\n",
    "corpus = pd.read_pickle(data_df_ndb_abs)\n",
    "corpus"
   ]
  },
  {
   "cell_type": "code",
   "execution_count": 33,
   "metadata": {},
   "outputs": [
    {
     "data": {
      "text/html": [
       "<div>\n",
       "<style scoped>\n",
       "    .dataframe tbody tr th:only-of-type {\n",
       "        vertical-align: middle;\n",
       "    }\n",
       "\n",
       "    .dataframe tbody tr th {\n",
       "        vertical-align: top;\n",
       "    }\n",
       "\n",
       "    .dataframe thead th {\n",
       "        text-align: right;\n",
       "    }\n",
       "</style>\n",
       "<table border=\"1\" class=\"dataframe\">\n",
       "  <thead>\n",
       "    <tr style=\"text-align: right;\">\n",
       "      <th></th>\n",
       "      <th>ndb_n</th>\n",
       "      <th>ndb_sfz</th>\n",
       "      <th>gnd</th>\n",
       "      <th>ndb_sex</th>\n",
       "      <th>ndb_name</th>\n",
       "      <th>wikipedia_title</th>\n",
       "      <th>ndb_text</th>\n",
       "      <th>wikipedia_text</th>\n",
       "    </tr>\n",
       "  </thead>\n",
       "  <tbody>\n",
       "    <tr>\n",
       "      <th>0</th>\n",
       "      <td>n01-001-01</td>\n",
       "      <td>sfz45545</td>\n",
       "      <td>118643525</td>\n",
       "      <td>1</td>\n",
       "      <td>Aachen  Hans von (Johann von Achen, Hans Ach)</td>\n",
       "      <td>Hans von Aachen</td>\n",
       "      <td>Karel van Mander (Schilderboeck, Haarlem 1604 ...</td>\n",
       "      <td>Hans von Aachen (* 1552 in Köln; † 4. März 161...</td>\n",
       "    </tr>\n",
       "    <tr>\n",
       "      <th>1</th>\n",
       "      <td>n01-001-02</td>\n",
       "      <td>sfz15</td>\n",
       "      <td>118500015</td>\n",
       "      <td>1</td>\n",
       "      <td>Aal (Anguilla), Johannes</td>\n",
       "      <td>Johannes Aal</td>\n",
       "      <td>A.Aal verfocht zur Zeit der Reformation die al...</td>\n",
       "      <td>Johannes Aal (* um 1500 in Bremgarten AG; † 28...</td>\n",
       "    </tr>\n",
       "    <tr>\n",
       "      <th>2</th>\n",
       "      <td>n01-002-01</td>\n",
       "      <td>sfz17</td>\n",
       "      <td>104198273</td>\n",
       "      <td>1</td>\n",
       "      <td>dall' Abaco Evaristo Felice</td>\n",
       "      <td>Evaristo Felice Dall’Abaco</td>\n",
       "      <td>A.Abaco kam aus Verona über Modena 1704 an den...</td>\n",
       "      <td>Evaristo Felice Dall’Abaco (* 12. Juli 1675 in...</td>\n",
       "    </tr>\n",
       "  </tbody>\n",
       "</table>\n",
       "</div>"
      ],
      "text/plain": [
       "        ndb_n   ndb_sfz        gnd ndb_sex  \\\n",
       "0  n01-001-01  sfz45545  118643525       1   \n",
       "1  n01-001-02     sfz15  118500015       1   \n",
       "2  n01-002-01     sfz17  104198273       1   \n",
       "\n",
       "                                         ndb_name             wikipedia_title  \\\n",
       "0   Aachen  Hans von (Johann von Achen, Hans Ach)             Hans von Aachen   \n",
       "1                        Aal (Anguilla), Johannes                Johannes Aal   \n",
       "2                     dall' Abaco Evaristo Felice  Evaristo Felice Dall’Abaco   \n",
       "\n",
       "                                            ndb_text  \\\n",
       "0  Karel van Mander (Schilderboeck, Haarlem 1604 ...   \n",
       "1  A.Aal verfocht zur Zeit der Reformation die al...   \n",
       "2  A.Abaco kam aus Verona über Modena 1704 an den...   \n",
       "\n",
       "                                      wikipedia_text  \n",
       "0  Hans von Aachen (* 1552 in Köln; † 4. März 161...  \n",
       "1  Johannes Aal (* um 1500 in Bremgarten AG; † 28...  \n",
       "2  Evaristo Felice Dall’Abaco (* 12. Juli 1675 in...  "
      ]
     },
     "execution_count": 33,
     "metadata": {},
     "output_type": "execute_result"
    },
    {
     "data": {
      "application/javascript": [
       "\n",
       "            setTimeout(function() {\n",
       "                var nbb_cell_id = 33;\n",
       "                var nbb_unformatted_code = \"corpus.loc[corpus[\\\"ndb_sex\\\"] == \\\"1\\\"].head(3)\";\n",
       "                var nbb_formatted_code = \"corpus.loc[corpus[\\\"ndb_sex\\\"] == \\\"1\\\"].head(3)\";\n",
       "                var nbb_cells = Jupyter.notebook.get_cells();\n",
       "                for (var i = 0; i < nbb_cells.length; ++i) {\n",
       "                    if (nbb_cells[i].input_prompt_number == nbb_cell_id) {\n",
       "                        if (nbb_cells[i].get_text() == nbb_unformatted_code) {\n",
       "                             nbb_cells[i].set_text(nbb_formatted_code);\n",
       "                        }\n",
       "                        break;\n",
       "                    }\n",
       "                }\n",
       "            }, 500);\n",
       "            "
      ],
      "text/plain": [
       "<IPython.core.display.Javascript object>"
      ]
     },
     "metadata": {},
     "output_type": "display_data"
    }
   ],
   "source": [
    "corpus.loc[corpus[\"ndb_sex\"] == \"1\"].head(3)"
   ]
  },
  {
   "cell_type": "code",
   "execution_count": 34,
   "metadata": {},
   "outputs": [
    {
     "data": {
      "text/html": [
       "<div>\n",
       "<style scoped>\n",
       "    .dataframe tbody tr th:only-of-type {\n",
       "        vertical-align: middle;\n",
       "    }\n",
       "\n",
       "    .dataframe tbody tr th {\n",
       "        vertical-align: top;\n",
       "    }\n",
       "\n",
       "    .dataframe thead th {\n",
       "        text-align: right;\n",
       "    }\n",
       "</style>\n",
       "<table border=\"1\" class=\"dataframe\">\n",
       "  <thead>\n",
       "    <tr style=\"text-align: right;\">\n",
       "      <th></th>\n",
       "      <th>ndb_n</th>\n",
       "      <th>ndb_sfz</th>\n",
       "      <th>gnd</th>\n",
       "      <th>ndb_sex</th>\n",
       "      <th>ndb_name</th>\n",
       "      <th>wikipedia_title</th>\n",
       "      <th>ndb_text</th>\n",
       "      <th>wikipedia_text</th>\n",
       "    </tr>\n",
       "  </thead>\n",
       "  <tbody>\n",
       "    <tr>\n",
       "      <th>66</th>\n",
       "      <td>n01-033-01</td>\n",
       "      <td>sfz111</td>\n",
       "      <td>118688669</td>\n",
       "      <td>2</td>\n",
       "      <td>Achler Elisabeth Maria die gute Beth</td>\n",
       "      <td>Elisabeth Achler</td>\n",
       "      <td>Unter dem Einfluß des Augustiner-Chorherrn Kon...</td>\n",
       "      <td>Elisabeth Achler oder Elsbeth Achler (auch „El...</td>\n",
       "    </tr>\n",
       "    <tr>\n",
       "      <th>70</th>\n",
       "      <td>n01-035-02</td>\n",
       "      <td>sfz122</td>\n",
       "      <td>118646753</td>\n",
       "      <td>2</td>\n",
       "      <td>Ackermann Charlotte Maria Magdalena</td>\n",
       "      <td>Charlotte Ackermann</td>\n",
       "      <td>A.Ackermann war der gefeierte Liebling des Ham...</td>\n",
       "      <td>Marie Magdalene Charlotte Ackermann (* 23. Aug...</td>\n",
       "    </tr>\n",
       "    <tr>\n",
       "      <th>71</th>\n",
       "      <td>n01-035-03</td>\n",
       "      <td>sfz123</td>\n",
       "      <td>11600570X</td>\n",
       "      <td>2</td>\n",
       "      <td>Ackermann Dorothea Caroline</td>\n",
       "      <td>Dorothea Ackermann</td>\n",
       "      <td>A.Ackermann gehörte zu den glänzendsten Darste...</td>\n",
       "      <td>Caroline Dorothea Elisabeth Ackermann (* 12. F...</td>\n",
       "    </tr>\n",
       "  </tbody>\n",
       "</table>\n",
       "</div>"
      ],
      "text/plain": [
       "         ndb_n ndb_sfz        gnd ndb_sex  \\\n",
       "66  n01-033-01  sfz111  118688669       2   \n",
       "70  n01-035-02  sfz122  118646753       2   \n",
       "71  n01-035-03  sfz123  11600570X       2   \n",
       "\n",
       "                                ndb_name      wikipedia_title  \\\n",
       "66  Achler Elisabeth Maria die gute Beth     Elisabeth Achler   \n",
       "70   Ackermann Charlotte Maria Magdalena  Charlotte Ackermann   \n",
       "71           Ackermann Dorothea Caroline   Dorothea Ackermann   \n",
       "\n",
       "                                             ndb_text  \\\n",
       "66  Unter dem Einfluß des Augustiner-Chorherrn Kon...   \n",
       "70  A.Ackermann war der gefeierte Liebling des Ham...   \n",
       "71  A.Ackermann gehörte zu den glänzendsten Darste...   \n",
       "\n",
       "                                       wikipedia_text  \n",
       "66  Elisabeth Achler oder Elsbeth Achler (auch „El...  \n",
       "70  Marie Magdalene Charlotte Ackermann (* 23. Aug...  \n",
       "71  Caroline Dorothea Elisabeth Ackermann (* 12. F...  "
      ]
     },
     "execution_count": 34,
     "metadata": {},
     "output_type": "execute_result"
    },
    {
     "data": {
      "application/javascript": [
       "\n",
       "            setTimeout(function() {\n",
       "                var nbb_cell_id = 34;\n",
       "                var nbb_unformatted_code = \"corpus.loc[corpus[\\\"ndb_sex\\\"] == \\\"2\\\"].head(3)\";\n",
       "                var nbb_formatted_code = \"corpus.loc[corpus[\\\"ndb_sex\\\"] == \\\"2\\\"].head(3)\";\n",
       "                var nbb_cells = Jupyter.notebook.get_cells();\n",
       "                for (var i = 0; i < nbb_cells.length; ++i) {\n",
       "                    if (nbb_cells[i].input_prompt_number == nbb_cell_id) {\n",
       "                        if (nbb_cells[i].get_text() == nbb_unformatted_code) {\n",
       "                             nbb_cells[i].set_text(nbb_formatted_code);\n",
       "                        }\n",
       "                        break;\n",
       "                    }\n",
       "                }\n",
       "            }, 500);\n",
       "            "
      ],
      "text/plain": [
       "<IPython.core.display.Javascript object>"
      ]
     },
     "metadata": {},
     "output_type": "display_data"
    }
   ],
   "source": [
    "corpus.loc[corpus[\"ndb_sex\"] == \"2\"].head(3)"
   ]
  },
  {
   "cell_type": "code",
   "execution_count": 35,
   "metadata": {},
   "outputs": [
    {
     "data": {
      "text/html": [
       "<div>\n",
       "<style scoped>\n",
       "    .dataframe tbody tr th:only-of-type {\n",
       "        vertical-align: middle;\n",
       "    }\n",
       "\n",
       "    .dataframe tbody tr th {\n",
       "        vertical-align: top;\n",
       "    }\n",
       "\n",
       "    .dataframe thead th {\n",
       "        text-align: right;\n",
       "    }\n",
       "</style>\n",
       "<table border=\"1\" class=\"dataframe\">\n",
       "  <thead>\n",
       "    <tr style=\"text-align: right;\">\n",
       "      <th></th>\n",
       "      <th>ndb_n</th>\n",
       "      <th>ndb_sfz</th>\n",
       "      <th>gnd</th>\n",
       "      <th>ndb_sex</th>\n",
       "      <th>ndb_name</th>\n",
       "      <th>wikipedia_title</th>\n",
       "      <th>ndb_text</th>\n",
       "      <th>wikipedia_text</th>\n",
       "    </tr>\n",
       "  </thead>\n",
       "  <tbody>\n",
       "    <tr>\n",
       "      <th>17</th>\n",
       "      <td>n01-010-01</td>\n",
       "      <td>sfz36</td>\n",
       "      <td>138044252</td>\n",
       "      <td>9</td>\n",
       "      <td>Abel</td>\n",
       "      <td>Brüder Abel</td>\n",
       "      <td>Florian († 14.5.1565 Prag?) war lange in Prag ...</td>\n",
       "      <td>Die Brüder Abel, Bernhard Abel († 1563) und Ar...</td>\n",
       "    </tr>\n",
       "    <tr>\n",
       "      <th>28</th>\n",
       "      <td>n01-015-02</td>\n",
       "      <td>sfz61</td>\n",
       "      <td>122318331</td>\n",
       "      <td>9</td>\n",
       "      <td>Abenberg Grafen von</td>\n",
       "      <td>Abenberg (Adelsgeschlecht)</td>\n",
       "      <td>Die Familie führte den erblichen Titel wahrsch...</td>\n",
       "      <td>Die Familie von Abenberg war ein altes fränkis...</td>\n",
       "    </tr>\n",
       "    <tr>\n",
       "      <th>31</th>\n",
       "      <td>n01-017-01</td>\n",
       "      <td>sfz6</td>\n",
       "      <td>123455316</td>\n",
       "      <td>9</td>\n",
       "      <td>Abensberg.</td>\n",
       "      <td>Abensberg (Adelsgeschlecht)</td>\n",
       "      <td>Abensberg, Hauptname eines seit 1065 mit Eberh...</td>\n",
       "      <td>Grafen von Abensberg (auch Abensberger) waren ...</td>\n",
       "    </tr>\n",
       "  </tbody>\n",
       "</table>\n",
       "</div>"
      ],
      "text/plain": [
       "         ndb_n ndb_sfz        gnd ndb_sex             ndb_name  \\\n",
       "17  n01-010-01   sfz36  138044252       9                 Abel   \n",
       "28  n01-015-02   sfz61  122318331       9  Abenberg Grafen von   \n",
       "31  n01-017-01    sfz6  123455316       9           Abensberg.   \n",
       "\n",
       "                wikipedia_title  \\\n",
       "17                  Brüder Abel   \n",
       "28   Abenberg (Adelsgeschlecht)   \n",
       "31  Abensberg (Adelsgeschlecht)   \n",
       "\n",
       "                                             ndb_text  \\\n",
       "17  Florian († 14.5.1565 Prag?) war lange in Prag ...   \n",
       "28  Die Familie führte den erblichen Titel wahrsch...   \n",
       "31  Abensberg, Hauptname eines seit 1065 mit Eberh...   \n",
       "\n",
       "                                       wikipedia_text  \n",
       "17  Die Brüder Abel, Bernhard Abel († 1563) und Ar...  \n",
       "28  Die Familie von Abenberg war ein altes fränkis...  \n",
       "31  Grafen von Abensberg (auch Abensberger) waren ...  "
      ]
     },
     "execution_count": 35,
     "metadata": {},
     "output_type": "execute_result"
    },
    {
     "data": {
      "application/javascript": [
       "\n",
       "            setTimeout(function() {\n",
       "                var nbb_cell_id = 35;\n",
       "                var nbb_unformatted_code = \"corpus.loc[corpus[\\\"ndb_sex\\\"] == \\\"9\\\"].head(3)\";\n",
       "                var nbb_formatted_code = \"corpus.loc[corpus[\\\"ndb_sex\\\"] == \\\"9\\\"].head(3)\";\n",
       "                var nbb_cells = Jupyter.notebook.get_cells();\n",
       "                for (var i = 0; i < nbb_cells.length; ++i) {\n",
       "                    if (nbb_cells[i].input_prompt_number == nbb_cell_id) {\n",
       "                        if (nbb_cells[i].get_text() == nbb_unformatted_code) {\n",
       "                             nbb_cells[i].set_text(nbb_formatted_code);\n",
       "                        }\n",
       "                        break;\n",
       "                    }\n",
       "                }\n",
       "            }, 500);\n",
       "            "
      ],
      "text/plain": [
       "<IPython.core.display.Javascript object>"
      ]
     },
     "metadata": {},
     "output_type": "display_data"
    }
   ],
   "source": [
    "corpus.loc[corpus[\"ndb_sex\"] == \"9\"].head(3)"
   ]
  },
  {
   "cell_type": "code",
   "execution_count": 36,
   "metadata": {
    "scrolled": true
   },
   "outputs": [
    {
     "data": {
      "text/plain": [
       "'Der im Jahre 1166 als erster Träger dieses Namens begegnende edelfreie Heinrich von Arberg ist der Sohn des Burggrafen Gerhard von Köln, wobei nicht feststellbar ist, ob Gerhard in verwandtschaftlicher Beziehung zu den seit 1032 genannten Burggrafen steht; wegen des bei seinen Nachkommen vorkommenden Vornamens liegt eine solche Beziehung bei Gerhards unmittelbarem Vorgänger, dem 1136-59 erwähnten Burggrafen Heinrich, nahe. Der nachweisbare Besitz der Edelherren von A.Arenberg liegt in der Eifel an der oberen Ahr, wo vermutlich Gerhards Sohn Heinrich auf der Kuppe des A.Arenbergs die Burg erbaute, nach der seine Nachkommen sich benannten, ferner im Erfttal (Helpenstein), in Morenhoven (Kreis Bonn-Land), ander Sieg und im Westerwald (Schönstein, Wildenberg, Rosbach und Altenwied). Von dem Geschlecht zweigte sich höchstwahrscheinlich mit Gerhard von Wildenberg das Edelherrengeschlecht von Wildenberg (Sitz Wildenberg, Kreis Altenkirchen/Rheinland) in der ersten Hälfte des 13. Jahrhunderts ab. Der Letzte des Hauptstammes der von A.Arenberg, Johann, verkaufte 1279 die Burggrafschaft in Köln dem dortigen Erzbischof. Er ist bald nachher (vor 1281) gestorben; seine überlebende Mutter, Mechtild von Holte, stiftete zur Erinnerung an ihn die Johanniterkommende Walsum. - Aus seiner Ehe mit Katharina, Tochter des Grafen von Jülich, hatte Johann eine Tochter Mechtild, die am 25.1.1299 den nachgeborenen Sohn Engelbert des Grafen Eberhard von der Mark heiratete. Engelbert und Mechtild begründeten die zweite Linie der Herren von A.Arenberg, die einen glanzvollen Aufstieg nehmen sollte. Sie erwarben einen bedeutenden Besitz im Gebiet des heutigen Belgien, Holland und in Lothringen. Das Geschlecht spaltete sich in mehrere Linien: Während von Engelberts Enkeln Johann die Hauptlinie zu A.Arenberg fortführte, begründete Ludwig die 1544 ausgestorbene Linie Neufchâteau und Rochefort. Zwei nachgeborene Söhne Johanns begründeten ebenfalls Seitenlinien: Robert (bekannt als der „Eber der Ardennen“) gründete das Geschlecht, das den Titel der Herzöge von Bouillon erhalten sollte, während Johann der Stammvater der von der Mark, Grafen zu Schleiden, Freiherren von Lumey und Seraing wurde. Die Hauptlinie erlosch im Oktober 1544 mit Robert III., Grafen von der Mark, Herrn von A.Arenberg. Das Erbe fiel seiner Schwester Margaretha zu, die am 18.10.1547 Johann von Ligne s. (1), Freiherrn von Barbançon, heiratete. Im Heiratsvertrag wurde mit Zustimmung Karls V. bestimmt, daß die Nachkommen den Namen und das Wappen von A.Arenberg führen sollten. So wurde mit dieser Ehe die dritte noch blühende Linie des Hauses A.Arenberg begründet. Karl V. erhob 1549 die Herrschaft A.Arenberg zur Grafschaft, zweifellos eine Belohnung für die treuen Dienste Johanns von Ligne in den Niederlanden. Dem Eintreten für Habsburg verdankt das Haus seine weiteren Standeserhebungen: die Grafschaft A.Arenberg wurde am 5.3.1576 zur gefürsteten Grafschaft, am 9.6.1644 zum Herzogtum erhoben. Im 17. und 18. Jahrhundert machte das Haus bedeutende Erwerbungen: die Herrschaft Enghien (1606 durch Kauf von König Heinrich IV. von Frankreich), das Herzogtum Aerschot in Brabant (1612 durch Erbe von Herzog Karl von Aerschot und Croy), die Grafschaft Lalaing, die Herrschaften Kerpen und Kasselburg und die Anwartschaft auf das Erbe der Grafenvon der Mark-Schleiden. Die Fürsten bzw.beziehungsweise Herzöge standen fast alle als Provinzgouverneure oder hohe Offiziere im Dienst Habsburgs, vor allem in den Niederlanden, wo ihr Haus unter dem Hochadel eine führende Stellung einnahm und wo sie mit den Schlössern Enghien, Héverlé und Palais A.Arenberg (heute Egmont genannt) in Brüssel repräsentative Residenzen besaßen. - Bei dem Reichsdeputationshauptschluß wurde der Herzog für den Verlust seiner Souveränitätsrechte auf dem linken Rheinufer mit dem nunmehr das Herzogtum A.Arenberg bildenden Vest Recklinghausen und mit dem Amt Meppen entschädigt. Der Herzog verlor die Souveränität, als Napoleon 1810 bzw.beziehungsweise 1811 dieses Gebiet teils mit dem französischen Kaiserreich, teils mit dem Großherzogtum Berg vereinigte. Im Jahre 1826 erhob der König von Hannover das standesherrliche Gebiet Meppen zum Herzogtum A.Arenberg-Meppen.'"
      ]
     },
     "execution_count": 36,
     "metadata": {},
     "output_type": "execute_result"
    },
    {
     "data": {
      "application/javascript": [
       "\n",
       "            setTimeout(function() {\n",
       "                var nbb_cell_id = 36;\n",
       "                var nbb_unformatted_code = \"# get ndb text by gnd\\ngather_ndb_text_by_gnd_example = corpus.loc[corpus[\\\"gnd\\\"] == \\\"118860445\\\"][\\n    \\\"ndb_text\\\"\\n].values[0]\\n# rheinisch-westf\\u00e4lisches Dynastengeschlecht.\\n# https://www.deutsche-biographie.de/sfz1194.html#ndbcontent\\ngather_ndb_text_by_gnd_example\";\n",
       "                var nbb_formatted_code = \"# get ndb text by gnd\\ngather_ndb_text_by_gnd_example = corpus.loc[corpus[\\\"gnd\\\"] == \\\"118860445\\\"][\\n    \\\"ndb_text\\\"\\n].values[0]\\n# rheinisch-westf\\u00e4lisches Dynastengeschlecht.\\n# https://www.deutsche-biographie.de/sfz1194.html#ndbcontent\\ngather_ndb_text_by_gnd_example\";\n",
       "                var nbb_cells = Jupyter.notebook.get_cells();\n",
       "                for (var i = 0; i < nbb_cells.length; ++i) {\n",
       "                    if (nbb_cells[i].input_prompt_number == nbb_cell_id) {\n",
       "                        if (nbb_cells[i].get_text() == nbb_unformatted_code) {\n",
       "                             nbb_cells[i].set_text(nbb_formatted_code);\n",
       "                        }\n",
       "                        break;\n",
       "                    }\n",
       "                }\n",
       "            }, 500);\n",
       "            "
      ],
      "text/plain": [
       "<IPython.core.display.Javascript object>"
      ]
     },
     "metadata": {},
     "output_type": "display_data"
    }
   ],
   "source": [
    "# get ndb text by gnd\n",
    "gather_ndb_text_by_gnd_example = corpus.loc[corpus[\"gnd\"] == \"118860445\"][\n",
    "    \"ndb_text\"\n",
    "].values[0]\n",
    "# rheinisch-westfälisches Dynastengeschlecht.\n",
    "# https://www.deutsche-biographie.de/sfz1194.html#ndbcontent\n",
    "gather_ndb_text_by_gnd_example"
   ]
  },
  {
   "cell_type": "code",
   "execution_count": 37,
   "metadata": {
    "scrolled": true
   },
   "outputs": [
    {
     "data": {
      "text/plain": [
       "'Das Haus Arenberg (auch Aremberg) ist ein Adelsgeschlecht des deutschen Hochadels, das in der Eifel ansässig war, nach der Burg Aremberg im Landkreis Ahrweiler benannt wurde und nach dem Aussterben der ursprünglichen Familie von Arenberg im Mannesstamm eine Seitenlinie der Grafen von der Mark bzw. später der Herren von Ligne darstellt. Der ursprüngliche Herrschaftsbereich war die Herrschaft, später Grafschaft beziehungsweise Herzogtum Arenberg. Dieses Gebiet ging im Zuge des Ersten Koalitionskrieges unter. Nach dem Reichsdeputationshauptschluss entstand das Herzogtum Arenberg-Meppen. Der gegenwärtige Chef des Hauses Arenberg führt den Titel Herzog, wohingegen die verbliebenen Familienmitglieder die Titel Prinz bzw. Prinzessin innehaben.  Geschichte 1. Edelfreie von Arenberg, Burggrafen von Köln, 12. Jahrhundert Die edelfreie Familie von Arenberg ist 1117–1129 erschließbar und 1166 erstmals erwähnt. Sie hatte zeitweise das Amt des Burggrafen in Köln inne, das sie 1279 an den Erzbischof verkaufte. Es bestanden zwei Besitzschwerpunkte. Der erste lag um die Stammburg Aremberg in der Ahreifel, der zweite an der Sieg (Kirburg und Wissen mit Burg Schönstein). Der Besitz an der Sieg ist wahrscheinlich durch die Heirat von Eberhard von Arenberg mit Aleidis von Molsberg an die Familie gelangt. Aleidis war Erbin der Edelherren von Freusburg. Eberhards Söhne teilten den Besitz an der Sieg. Heinrich erhielt den Besitz südlich des Flusses und nannte sich weiter „von Arenberg“, Gerhard erhielt die Besitzungen nördlich und nannte sich „von Wildenburg“ (auch „Wildenfels“). Die Hauptlinie starb um 1280 (vor 1281) im Mannesstamme aus. 2. Arenberg des Stammes der Grafen von der Mark, 1299 Durch Heirat der Erbin Mathilde mit Engelbert II. von der Mark (1308–1328) kam der Besitz 1299 an die Grafen von der Mark und es entstand die zweite Linie der Grafen von Arenberg. Engelbert übergab die Grafschaft Aremberg seinem zweiten Sohn Eberhard als selbständiges Erbe. 3. Arenberg des Stammes Ligne, 1549 Als nach dem Tod Roberts III. auch diese Linie im Mannesstamm ausgestorben war, heiratete dessen Schwester Margaretha am 18. Oktober 1547 Johann von Ligne (Jean de Ligne), durch seinen Vater Ludwig Erbe unter anderem der Baronie von Barbençon und durch seine Mutter Erbe von Gütern der Herren von Glimes-Bergen op Zoom. Durch die Verbindung Margarethas mit Jean de Ligne, der 1549 den Namen Arenberg annahm, entstand die dritte Linie des Hauses Arenberg (Arenberg-Ligne), die 1549 von Karl V. in den Reichsgrafenstand und 1576 von Maximilian II. in den Reichsfürstenstand erhoben wurde. Der Besitzschwerpunkt war damit in die Spanischen Niederlande verlegt; die Arenberger waren – wie auch die Lignes – treue Gefolgsleute der Habsburger, was sich auch in der Epoche der Österreichischen Niederlande ab 1714 fortsetzte.  1606 oder 1607 kaufte Karl von Arenberg von Heinrich IV. die Herrschaften Enghien und Rebecq, 1612 erhielt seine Familie aus Erbgut seiner Frau Anne de Croÿ das Herzogtum von Aarschot. 1644 wurde Arenberg von Ferdinand III. schließlich zum Herzogtum erhoben. Als Entschädigung für die Verluste des linksrheinischen Territoriums im Zuge des Ersten Koalitionskriegs wurden Herzog Ludwig Engelbert von Arenberg am 25. Februar 1803 vom Reichsdeputationshauptschluss das Amt Meppen aus dem Hochstift Münster und das Vest Recklinghausen aus dem Erzstift Köln zugesprochen, ein Gebiet von insgesamt 660 Quadratkilometer mit 76.000 Einwohnern, aus dem der nördliche Teil später als Herzogtum Arenberg-Meppen benannt wurde. Dieses wurde 1810 von Frankreich annektiert. Der Wiener Kongress gab das Hoheitsgebiet den Herzögen zurück, doch diese verloren die Souveränität für das Amt Meppen an das Königreich Hannover und für das Vest Recklinghausen an das Königreich Preußen. Als Standesherren konnten die Herzöge aber vor allem im Königreich Hannover noch lange bestimmte Vorrechte behalten. Diese wurden erst 1875 vollständig aufgehoben. Herzog Engelbert-Maria von Arenberg verfügte Anfang des 20. Jahrhunderts noch über ca. 20.000 ha Grundbesitz in Belgien, die Schlösser Enghien, Heverlee, Wisbecq, das Palais d’Egmont an der Place du Petit Sablon in Brüssel, ferner überwiegend aus Ankäufen über Grundbesitz im Bereich Meppen (Emsland) und Schloss Herzford am Niederrhein, den er 1903 noch um das „westfälische Versailles“, Schloss Nordkirchen, ergänzte. Weil er jedoch 1914 als Reserveoffizier des preußischen Garde-Kürassier-Regiments am Einmarsch der deutschen Armeen in Belgien teilnahm und dann während des Ersten Weltkriegs dem Armee-Oberkommando VII angehörte, wurde er von der belgischen Presse als „Boche du Petit Sablon“ verhöhnt und bei der Niederlage Deutschlands 1918 sogleich enteignet oder zum Verkauf gezwungen, sodass er in kürzester Zeit den gesamten historischen Familienbesitz in Belgien verlor. Ein kleines Waldgut in Champlon-Famenne (Belgien) sowie ein durch Heirat erworbener Besitz in Gerbéviller (Lothringen) sind heutigen Familienzweigen verblieben. Den auf etwa 13.000 Hektar erweiterten Grundbesitz im Emsland und weiteren 1903 erworbenen Grundbesitz im Südmünsterland brachte er 1928 in die Arenberg-Meppen GmbH bzw. 1932 in die Arenberg-Nordkirchen GmbH sowie in die Arenberg-Recklinghausen GmbH, Arenberg-Schleiden GmbH und Arenberg-Düsseldorf GmbH ein, deren Gesellschafter seine drei Kinder wurden. Sein Sohn, der Erbprinz (später Herzog) Engelbert Karl von Arenberg (auch „Englebert-Charles“) hinterließ seine Anteile 1974 seiner Witwe Herzogin Mathildis von Arenberg geb. Calley, die sie nach ihrem Tode 1989 der gemeinnützigen „Stiftung Herzog Englebert-Charles und Herzogin Mathildis von Arenberg“ hinterließ.  Wappen Das Stammwappen des Hauses Arenberg wird wie folgt beschrieben: „In Rot drei (2:1) fünfblättrige goldene Mispelblüten (in manchen Versionen mit rotem Butzen). Auf dem Helm mit rot-goldenen Decken ein mit den drei Blüten belegter, naturfarbener Pfauenwedel (auch ein fächerförmiges, wie der Schild bezeichnetes Schirmbrett, oben mit Pfauenfedern besteckt).“  Grafen, Fürsten, Herzöge und Chefs von Arenberg Burggrafen von Köln, Herren und Grafen von Arenberg 1032 Ulrich, Burggraf von Köln 1061–1074 Franco I. 1082–1135 Arnold 1106–1135 Franco II. 1136–1159 Heinrich I. Gerhard 1166/67–1197 Heinrich II. de Arberg Eberhard (1200–1218) ⚭ Aleidis von Molsberg (auch Gräfin von Freusburg genannt) Heinrich III. (1220–1252) Gerhard ⚭ Mechthild von Holte Johann (1267–1280), ⚭ Katharina von Jülich, verkauft 1279 das Kölner Burggrafenamt Mechthild/Mathilde, ⚭ 1299 Graf Engelbert II. von der Mark.Quelle  Grafen von Arenberg Haus von der Mark  1299–1328 Graf Engelbert II. von der Mark 1328–1387 Graf Eberhard von der Mark, Herr von Aremberg 1387–1454 Graf Eberhard II. von der Marck-Arenberg 1454–1480 Graf Johann von der Marck-Arenberg 1480–1496 Graf Eberhard III. von der Mark-Arenberg 1496–???? Graf Robert I. von der Marck-Arenberg ????–1536 Graf Robert II. von der Marck-Arenberg 1536–1541 Graf Robert III. von der Marck-Arenberg nach dem Aussterben dieser Linie im Mannesstamm heiratete seine Schwester Margarethe (1541–1596) 1547 den Grafen Johann von LigneHaus Ligne  1541–1547 Gräfin Margaretha von der Marck-Arenberg (1527–1599) 1547–1568 Graf Johann von Ligne, seit 1549 Reichsgraf von Arenberg 1568–1616 Graf Karl von Arenberg (seit 1576 zum Fürst erhoben)  Fürsten von Arenberg 1576–1616 Fürst Karl von Arenberg, heiratet Anna von Croÿ, Herzogin und Erbin von Aarschot 1616–1640 Philipp Karl von Arenberg (* 1587, † 1640) Fürst von Arenberg und Herzog von Aarschot 1640–1674 Philipp Franz von Arenberg (* 1625, † 1674), 1644 zum Herzog erhoben  Herzöge von Arenberg 1644–1674 Philipp Franz von Arenberg (* 1625, † 1674), erster Herzog von Arenberg und Aarschot 1674–1681 Karl Eugen von Arenberg (* 1633, † 1681), Herzog von Arenberg und Aarschot 1681–1691 Philipp Karl Franz von Arenberg (* 1663, † 25. August 1691) Herzog von Arenberg und Aarschot 1691–1754 Leopold Philipp von Arenberg (* 1690, † 1754), Herzog von Arenberg und Aarschot 1754–1778 Karl Maria Raimund von Arenberg (* 1721, † 1778) Herzog von Arenberg und Aarschot 1778–1803 Ludwig Engelbert von Arenberg (* 3. August 1750 in Brüssel, † 7. März 1820), Herzog von Arenberg und Aarschot, Herzog von Meppen und Fürst von Recklinghausen, 1775 erblindet, 1803 zurückgetreten 1803–1861 Prosper Ludwig von Arenberg (* 1785, † 1861), letzter regierender Herzog von Arenberg, Aarschot und Meppen, Fürst von Recklinghausen 1861–1875 Engelbert-August von Arenberg (* 1824, † 1875) Herzog von Arenberg, Aarschot und Meppen, Fürst von Recklinghausen 1875–1919 Engelbert-Maria von Arenberg (* 10. August 1872, † 15. Januar 1949) Herzog von Arenberg, Aarschot und Meppen, Fürst von Recklinghausen, Chef des Hauses Arenberg  Chefs des Hauses Arenberg nach 1918 1919–1949 Engelbert-Maria von Arenberg (* 10. August 1872, † 15. Januar 1949) 1949–1974 Engelbert Karl von Arenberg (* 20. April 1899 in Heverlee, † 27. April 1974 Monte Carlo) 1974–1992 Erik von Arenberg (* 17. Oktober 1901 in Heverlee, † 13. September 1992 in Punta del Este, Uruguay) 1992–2011 Herzog Jean Engelbert von Arenberg (* 14. Juli 1921 in Den Haag † 15. August 2011 in Lausanne–Ouchy), 1993 belgische Anerkennung als Chef des Hauses mit dem Titel Herzog von Arenberg seit 2011 Herzog Léopold von Arenberg (* 20. Februar 1956 in Tervuren)  Weitere wichtige Persönlichkeiten des Hauses Arenberg Amalie Luise von Arenberg (1789–1823), verheiratet mit Pius August in Bayern, Mutter von Herzog Max Joseph in Bayern und Großmutter der Kaiserin Elisabeth von Österreich. Franz von Arenberg (Franz von Assisi Ludwig Prinz von Arenberg; 1849–1907), Mitglied des preußischen Abgeordnetenhauses und des Reichstages Maria Viktoria Pauline von Arenberg (1714–1793), Ehefrau des letzten Markgrafen zu Baden-Baden August Maria Raimund zu Arenberg (1753–1833), französischer Offizier und Mitglied der Konstituante Philipp von Arenberg (1848–1906), Domkapitular in Eichstätt  Portraitgalerie Sonstiges Das Haus Arenberg war Miteigner und Namensgeber der Bergbaugesellschaft Arenberg. Die in Bottrop gelegenen Steinkohle-Bergwerke Zeche Prosper und Zeche Arenberg-Fortsetzung waren nach Mitgliedern dieser Familie benannt. Ein Teil der beträchtlichen Besitzungen der Familie wird von der Arenberg-Schleiden GmbH verwaltet, ein Teil der früheren Familienbesitzungen von der Arenberg-Meppen GmbH, die heute nicht mehr in Familienbesitz ist.  Literatur Alexander V. Dachenhausen: Stammtafel des Herzoglichen Hauses Arenberg seit der Mitte des 16. Jahrhunderts und seine Abstammung von den Grafen von der Mark. Rein, Brüssel 1905 (Digitalisat) Hellmuth Gensicke: Landesgeschichte des Westerwaldes. 3. Auflage. Historische Kommission für Nassau, Wiesbaden 1999, ISBN 3-922244-80-7. Gerhard Köbler: Historisches Lexikon der deutschen Länder. Die deutschen Territorien vom Mittelalter bis zur Gegenwart. 7., vollständig überarbeitete Auflage. C.H. Beck, München 2007, ISBN 978-3-406-54986-1 (Art. Arenberg S. 23f., Art. Croy (Herzog) S. 125) Heinrich Neu: Arenberg. In: Neue Deutsche Biographie (NDB). Band 1, Duncker & Humblot, Berlin 1953, ISBN 3-428-00182-6, S. 341 f. (Digitalisat). Peter Neu: Die Arenberger und das Arenberger Land. Landesarchivverwaltung, Koblenz 1989–2001, 6 Bde. Emsländischer Heimatbund (Hrsg.): Die Arenberger im Emsland, Sögel 2003. William D. Godsey, Veronika Hyden-Hanscho (Hgg.): Das Haus Arenberg und die Habsburgermonarchie. Eine transterritoriale Adelsfamilie zwischen Fürstendienst und Eigenständigkeit (16.–20. Jahrhundert). Schnell & Steiner 2019, ISBN 978-3-7954-3299-7  Siehe auch Liste deutscher Adelsgeschlechter  Weblinks  Arenberg-Stiftung Köbler, Gerhard: \"Historisches Lexikon der Deutschen Länder\", S. 23 Arenberg – wappen   == Quellen =='"
      ]
     },
     "execution_count": 37,
     "metadata": {},
     "output_type": "execute_result"
    },
    {
     "data": {
      "application/javascript": [
       "\n",
       "            setTimeout(function() {\n",
       "                var nbb_cell_id = 37;\n",
       "                var nbb_unformatted_code = \"# get wikipedia text by gnd\\ngather_wikipedia_text_by_gnd_example = corpus.loc[corpus[\\\"gnd\\\"] == \\\"118860445\\\"][\\n    \\\"wikipedia_text\\\"\\n].values[0]\\n# http://tools.wmflabs.org/persondata/redirect/gnd/de/118860445\\ngather_wikipedia_text_by_gnd_example\";\n",
       "                var nbb_formatted_code = \"# get wikipedia text by gnd\\ngather_wikipedia_text_by_gnd_example = corpus.loc[corpus[\\\"gnd\\\"] == \\\"118860445\\\"][\\n    \\\"wikipedia_text\\\"\\n].values[0]\\n# http://tools.wmflabs.org/persondata/redirect/gnd/de/118860445\\ngather_wikipedia_text_by_gnd_example\";\n",
       "                var nbb_cells = Jupyter.notebook.get_cells();\n",
       "                for (var i = 0; i < nbb_cells.length; ++i) {\n",
       "                    if (nbb_cells[i].input_prompt_number == nbb_cell_id) {\n",
       "                        if (nbb_cells[i].get_text() == nbb_unformatted_code) {\n",
       "                             nbb_cells[i].set_text(nbb_formatted_code);\n",
       "                        }\n",
       "                        break;\n",
       "                    }\n",
       "                }\n",
       "            }, 500);\n",
       "            "
      ],
      "text/plain": [
       "<IPython.core.display.Javascript object>"
      ]
     },
     "metadata": {},
     "output_type": "display_data"
    }
   ],
   "source": [
    "# get wikipedia text by gnd\n",
    "gather_wikipedia_text_by_gnd_example = corpus.loc[corpus[\"gnd\"] == \"118860445\"][\n",
    "    \"wikipedia_text\"\n",
    "].values[0]\n",
    "# http://tools.wmflabs.org/persondata/redirect/gnd/de/118860445\n",
    "gather_wikipedia_text_by_gnd_example"
   ]
  },
  {
   "cell_type": "code",
   "execution_count": 38,
   "metadata": {},
   "outputs": [
    {
     "data": {
      "text/plain": [
       "'A.Abaco kam aus Verona über Modena 1704 an den kurbayerischen Hof nach München und folgte als Hofcellist dem Kurfürsten Max Emanuel ins Brüsseler Exil. 1715 kehrte er als Konzertmeister nach München zurück, wurde 1717 „Churfürstlicher Rath“ und trat 1740 in den Ruhestand. – A.Abacos Instrumentalmusik zählt zur reifen spätbarocken italienischen Kunst: In ihrem Gleichgewicht von pathetischer Haltung und formaler Vollkommenheit, Ausdruckskraft und Klanggestaltung weist sie klassische Züge auf.'"
      ]
     },
     "execution_count": 38,
     "metadata": {},
     "output_type": "execute_result"
    },
    {
     "data": {
      "application/javascript": [
       "\n",
       "            setTimeout(function() {\n",
       "                var nbb_cell_id = 38;\n",
       "                var nbb_unformatted_code = \"# gnd:=104198273\\nndb_sample = corpus.loc[corpus[\\\"gnd\\\"] == \\\"104198273\\\"][\\\"ndb_text\\\"].values[0]\\nndb_sample\";\n",
       "                var nbb_formatted_code = \"# gnd:=104198273\\nndb_sample = corpus.loc[corpus[\\\"gnd\\\"] == \\\"104198273\\\"][\\\"ndb_text\\\"].values[0]\\nndb_sample\";\n",
       "                var nbb_cells = Jupyter.notebook.get_cells();\n",
       "                for (var i = 0; i < nbb_cells.length; ++i) {\n",
       "                    if (nbb_cells[i].input_prompt_number == nbb_cell_id) {\n",
       "                        if (nbb_cells[i].get_text() == nbb_unformatted_code) {\n",
       "                             nbb_cells[i].set_text(nbb_formatted_code);\n",
       "                        }\n",
       "                        break;\n",
       "                    }\n",
       "                }\n",
       "            }, 500);\n",
       "            "
      ],
      "text/plain": [
       "<IPython.core.display.Javascript object>"
      ]
     },
     "metadata": {},
     "output_type": "display_data"
    }
   ],
   "source": [
    "# gnd:=104198273\n",
    "ndb_sample = corpus.loc[corpus[\"gnd\"] == \"104198273\"][\"ndb_text\"].values[0]\n",
    "ndb_sample"
   ]
  },
  {
   "cell_type": "code",
   "execution_count": 39,
   "metadata": {},
   "outputs": [
    {
     "data": {
      "text/plain": [
       "\"Evaristo Felice Dall’Abaco (* 12. Juli 1675 in Verona; † 12. Juli 1742 in München) war ein italienischer Violinist, Cellist und Komponist.  Leben Evaristo Felice Dall’Abacos Vater war der causidico Damiano Abaco, seine Mutter Clorinda Abaco. Ein causidico war ein „Rechtsgelehrter niederen Grades ohne die Befugnisse, Prozesschriften einzureichen und bei Rechtsprechungen zu plädieren.“Dall’Abaco war als Violinist und Cellist möglicherweise ein Schüler Giuseppe Torellis. 1696 trat er in Modena des Öfteren mit Tomaso Antonio Vitali auf. Abacos musikalische Tätigkeiten in Modena wurden durch von ihm quittierte Zahlungsbelege im Staatsarchiv dokumentiert. Er war kein ständiges Mitglied der Hofkapelle, wirkte aber bei besonderen Anlässen mit. Dies waren Opernaufführungen; Kirchenmusiken, Akademien und Hoffeste. Er lernte die Opern und Oratorien der spätvenetianischen Schule kennen, wie Werke von Gianettini, Pallavicini, Lotti und Marc' Antonio Ziani. Er kam aber auch schon früh mit dem französischen Stil in Berührung, da der Franzose Ambreville die Hofmusiken bei Bällen und Hoffesten leitete. Nach dem 19. September 1701 verliert sich Dall’Abacos Spur in Modena. Seit 1704 war er als Cellist Kammermusiker am Münchener Hof, vermutlich ermutigt durch Pietro Torri, der eine einflussreiche Stellung bei der Hofkapelle innehatte und später Rat und Direktor der Kammermusik war. Während des Spanischen Erbfolgekrieges weilte der Kurfürst Max II. Emanuel selten in München. So wartete Dall’Abaco in dieser Zeit auf Beschäftigung und erhielt seinen Sold erst verspätet. Im Januar 1705 wurde er auf eigenen Wunsch aus dem Dienst in München entlassen.1704 gründete Max II. Emanuel in Brüssel eine neu Académie de musique, um für seine luxuriöse Hofhaltung auch die adäquate Musik zur Verfügung zu haben. Zusammen mit anderen Musikern begab sich Dall’Abaco in Brüssel wieder in die Dienste des Kurfürsten. Es wurden feierliche Kirchenmusiken, und Konzerte, zu besonderen Anlässen auch Opern Lullys gespielt. Gezwungen durch den Verlauf des Spanischen Erbfolgekrieges endete die Zeit in Brüssel 1706. Zu dieser Zeit erreichte Dall’Abaco die Nachricht des Todes seines Vaters. Am 19. Oktober 1706 zog Max II. Emanuel zusammen mit seiner Hofmusik feierlich in Mons ein. Auch hier fanden wieder Bälle und Theateraufführungen statt, und zwar im großen Saal des Rathauses. Nach einer weiteren Niederlage der Franzosen 1709 musste der Tross des Kurfürsten auch Mons verlassen. Nach einer kurzen Phase in Versailles wurde dem Bayern das Schloss in Compiègne angewiesen. Während dieser Zeit weilte Dall’Abaco im März 1710 und im Frühjahr 1711 in Paris und Versailles und erhielt neue musikalische Impulse. 1711 starb Kaiser Joseph I. und es wendete sich das Blatt. Max II. Emanuel kehrte zunächst nach Luxemburg, Namur, Charleroi und Nieuwpoort zurück. In Namur kamen wieder größere musikalische Aufführungen in Gang. Bei dem erneuten Aufenthalt in Compiègne bis zur Rückkehr nach München wurde der Musik wieder ein größerer Stellenwert eingeräumt. Nach dem Rastatter Frieden blieb der Kurfürst in Frankreich, bis die Verhältnisse in Bayern wieder geordnet waren. Dall’Abaco avancierte in dieser Zeit zum Konzertmeister. Während dieser Jahre hatte Evaristo Felice Dall’Abaco weiter die Gelegenheit, sich mit dem französischen Stil vertraut zu machen. 1715 kehrte Max II. Emanuel nach München zurück und mit ihm das musikalische Leben. Zu den Musikern der Hofkapelle, die in München zurückgeblieben waren und denjenigen, die ihn ins Exil begleitet hatten, stellte er zusätzlich weitere Musiker ein. Nach dem Tod des älteren Konzertmeisterkollegen Melchior Dardespin (* 1643; † 1717) übernahm Dall’Abaco dessen Titel des Kurfürstlichen Rats. (Letzteres war für einen Musiker eine ungewöhnliche Ehre). Zu seinen Aufgaben gehörten neben der künstlerischen Arbeit, der Funktion des führenden Geigers in Kirche, Oper und Kammer, die Sorge um die Instrumente und die Überwachung der Kopisten. 1726 starb Max II. Emanuel. Sein Sohn Karl Albert folgte ihm nach. Anerkennung und Einfluss Dall’Abacos wurden geringer, nachdem sein großer Gönner gestorben war. Nach Pietro Torris Tod 1734 wurde dessen Stelle eines Rats und Direktors der Kammermusik neuvergeben. Hierbei wurde Dall’Abaco übergangen, obwohl er die nächste Anwartschaft auf diese Titel gehabt hätte. Es wurden jüngere Musiker, Komponisten und Kapellmeister eingestellt und ihm vorgezogen. Mit den jüngeren Kollegen veränderte sich der Musikgeschmack und der Einfluss Dall’Abacos verringerte sich weiter. Man verstand ihn und seine Musik nicht mehr. Er übte seine Ämter noch bis 1740 aus und zog sich dann mit einer Pension ins Privatleben zurück. 1742 starb er in München.In der Zeit in den Niederlanden heiratete er Marie Clemence Bultinck. Sie hatten gemeinsam 5 Kinder. Sein Sohn, der spätere Bonner Hofmusiker Joseph Dall’Abaco, wurde 1710 in Brüssel geboren und dem Erzbischof von Köln zu Ehren Joseph Clemens genannt.  Werk Dall’Abacos musikalisches Schaffen umfasst sechs gedruckte Sammlungen, die zwischen 1705 und 1735 entstanden. Wie Arcangelo Corelli komponierte Dall’Abaco ausschließlich Sonaten und Konzerte. Diese veröffentlichte er in Sammlungen zu je zwölf Stücken. In op. 5 befinden sich nur sechs. op. 1: 12 Violinsonaten: 12 Sonate da Camera a Violino e Violoncello overo Clavicembalo solo; erschienen 1705/1706 bei Estienne Roger in Amsterdam, Adolf Ernst Ferdinand, Herzog von Schleswig-Holstein gewidmet PasD 1 (PasD 1.1 bis PasD 1.12) op. 2: 12 Concerti da chiesa (Kirchenkonzerte): Concerti a quattro da chiesa cioè due violini, alto viola, violoncello e basso continuo… opera seconda; erschienen 1712 bei Estienne Roger in Amsterdam; Kurfürst Maximilian gewidmet op. 3: 12 Triosonaten: Sonate da chiesa e da camera a tre, cioè due violini, violoncello e basso continuo… opera terza; erschienen 1712 bei Estienne Roger in Amsterdam; Herzog Leopold von Lothringen gewidmet; nachgedruckt in Paris op. 4: 12 Violinsonaten: Sonate da camera a violino e violoncello… opera quarta;  erschienen 1712 bei Estienne Roger in Amsterdam; Kurfürst und Erzbischof Joseph Clemens von Köln gewidmet; 8 Sonaten wurden im 18. Jahrhundert von Chédeville für andere Besetzung transkribiert op. 5: 6 Concerti grossi:  Concerti a più istrumenti… opera quinta. Libro primo; erschienen bei Jeanne Roger in Amsterdam; 1717; Ferdinand Maria von Bayern gewidmet; nachgedruckt bei Michel-Charles Le Cène in Amsterdam; 1730;   teils der französischen Suite angenähert op. 6: 12  Concerti grossi: Concerti a più istrumenti… opera sesta; bei Michel-Charles Le Cène in Amsterdam; 1735, Kurfürst Erzbischof Clemens August von Bayern gewidmet; teils der italienischen Opernsinfonia angenähertIn seinen Frühwerken übernimmt er den Stil Corellis, später benutzt er aus Frankreich übernommene galante Elemente. Über Dall’Abacos Instrumentalmusik urteilte Reclams Konzertführer: „… in seinen Konzerten […] verband [er] auf glückliche Weise kontrapunktische Strenge mit italienischem musikalischen Charme.“ Dennoch ist sein Name heute fast nur Kennern der Alten Musik bekannt. Der Musikwissenschaftler Francesco Passadore veröffentlichte 2004 einen thematischen Katalog der Werke Evaristo Felice Dall’Abacos. Die Bezeichnung der Werke wird mit der Abkürzung PasD (beim RISM, bei IMSLP  nur P) und der im Katalog zugewiesenen Zahl ergänzt.   PasD 1: Zwölf Violinsonaten op. 1 RISM ID: 1001138812 PasD 1.1 bis 1.12 PasD 4: Zwölf Violinsonaten op. 4 PasD 7: Suonate à Violino, e Violoncello solo del Sig|r. Abbaco di Verona RISM ID: 600236230 PasD 7.1 bis 7.10 PasD 8: Suonata à Solo RISM ID: 600236497 PasD 10: Concertino (Sonata) primo RISM ID: 454016079 PasD 11: Concerto (Sonata) secondo  Paolo Tommaso Alberghi als Komponist ermittelt. RISM ID: 454016080 PasD 13: Concertino (Sonata) a IV RISM ID: 454016082 PasD 14: Sinfonia a 4 RISM ID: 840002478 Pasd 15: Symphonia à 4 vocibus RISM ID: 400014440 PasD 16: Divertimento in B RISM ID: 190010296 PasD 17: O che liquor in C-Dur Canon Stupendo à 6 Voci RISM ID: 850014980  Spuren und Denkmäler Sein Grab befand sich in München auf dem Friedhof bei der Salvatorkirche und wurde 1788 mit diesem aufgelassen. An der Nordseite der Kirche erinnert eine alte Bronzetafel an verschiedene Prominente, denen es ebenso erging. Der auf Dall’Abaco bezogene Text lautet: Evarist Dall’Abaco, Hofkonzertmeister und Tondichter, † 1742. Seit 1934 gibt es in München eine Abacostraße; seit 1988 trägt das Sinfonieorchester der Ludwig-Maximilians-Universität seinen Namen. In Verona ist das Konservatorium nach ihm benannt.  Literatur Johann Gottfried Walther: Abàco (Evaristo Felice dall’). In: Musicalisches Lexicon Oder Musicalische Bibliothec: Darinnen nicht allein Die Musici, welche so wol in alten als neuern Zeiten, … durch Theorie und Praxis sich hervor gethan, … angeführet, Sondern auch Die in Griechischer, Lateinischer, Italiänischer und Frantzösischer Sprache gebräuchliche Musicalische Kunst- oder sonst dahin gehörige Wörter, … vorgetragen und erkläret, … .  Derr, Leipzig 1732. Felix Joseph Lipowski: Abaco, (Evarist Felix dall’). In: Baierisches Musiklexikon. München 1811 Gustav Schilling: Evaristo Felice dall’Abaco. In: Encyclopädie der gesammten musicalischen Wissenschaften: oder Universal-Lexicon der Tonkunst. Band 1: A–Bq. Köhler, Stuttgart 1835 Adolf Sandberger: E.F. dall’Abaco; Ausgewählte Werke erster Teil; Denkmäler der Tonkunst in Bayern; Erster Jahrgang; Breitkopf & Härtel; Leipzig 1900 (Digitalisat); Digitale Sammlungen der Bayerischen Staatsbibliothek Adolf Sandberger: E.F. dall’Abaco; Ausgewählte Werke zweiter Teil; Denkmäler der Tonkunst in Bayern; Neunter Jahrgang; I. Band; Breitkopf & Härtel; Leipzig 1908 (Digitalisat); Digitale Sammlungen der Bayerischen Staatsbibliothek Walter Gerstenberg: dall’Abaco, Evaristo Felice. In: Neue Deutsche Biographie (NDB). Band 1, Duncker & Humblot, Berlin 1953, ISBN 3-428-00182-6, S. 2 (Digitalisat). Wilibald Gurlitt (Hrsg.): Riemann-Musik-Lexikon; Personenteil A–K; Hauptband; 1. Band. 12. Auflage. Schott, 1959 Wilibald Gurlitt (Hrsg.): Riemann-Musik-Lexikon; Personenteil Ergänzungsband. Schott, 1972 Bianca Maria Antolini: Dall’Abaco, Evaristo Felice. In: Massimiliano Pavan (Hrsg.): Dizionario Biografico degli Italiani (DBI). Band 31: Cristaldi–Dalla Nave. Istituto della Enciclopedia Italiana, Rom 1985. Olaf Krone: Evaristo Felice Dall’Abaco (1675–1742). Komponieren im Zeitenwandel. In: Concerto – Das Magazin für Alte Musik, Heft 178, November 2002, S. 24 Francesco Passadore: Catalogo tematico delle composizioni di Evaristo Felice Dall’Abaco (1675–1742). Edizioni de „I Solisti Veneti“, Padua 2004, ISBN 88-901412-3-9 (italienisch).  Diskografie Evaristo Felice Dall’Abaco: op. 2 Nr. 8; Op. 2 Nr. 9; Ltg. Günter Wich; 8. Juli 1977; op. 2 Nr. 5; Ltg. Wilfried Boettcher; 21. Februar 1975;  op. 2 Nr. 6; op. 2 Nr. 10; Ltg. Hanns-Martin Schneidt; 27. April 1969;  op. 6 Nr. 3; Ltg. Günter Wich; 2. April 1975; op. 6 Nr. 2; Ltg. Wilfried Boettcher; 17. April 1972 op. 6 Nr. 6; Ltg.György Fischer; Capella Coloniensis; Aufnahmen des WDR; Phoenix Edition 190 Evaristo Felice Dall’Abaco: Concerto a più Istrumenti Op. 5 Nr. 3; in: Musik am Hofe des Kurfürsten Max Emanuel von Bayern;  Münchner Kammerorchester; Ltg. Hans Stadlmair; Musica Bavarica MB 904; 1976 Concerto op. 6 Nr. 2. In: Italienische Barockkonzerte; Rainer Kussmaul, Violine; Kölner Kammerorchester; Ltg.: Helmut Müller-Brühl; Schwann CD 316 010 F1; 1988 Evaristo Felice Dall’Abaco: Concerti a quattro da chiesa op. 2 Nr. 1, 4, 5, 7; op. 5 Nr. 3, 5, 6; op. 6 Nr. 5, 11;  Concerto Köln; Teldec; 3984-22166-2; 1998 op. 5 Nr. 5; Oboenkonzert. In: 10 Jahre E.T.A. Hoffmann Orchester Berlin; E.T.A. Hoffmann Kammerorchester Berlin; Profile CD 0018  Weblinks Lexika Evaristo Felice Dall’Abaco im Bayerischen Musiker-Lexikon Online (BMLO) Evaristo Felice Dall’Abaco auf Klassika  Einspielungen Evaristo Felice Dall’Abaco bei Discogs Op.3 Nr2; Jean Fournier; Jean Pasquier; Violinen; Etienne Pasquier (Violoncello); Ruggero Gerlin (Cembalo); Ltg. Curt Sachs; The Grammophone Shop;  Noten Noten und Audiodateien von Evaristo Felice Dall’Abaco im International Music Score Library Project  Digitale Sammlung der Bayerischen Staatsbibliothek op.1 Nr. 1, 2, 3, 4,5,6,7, 8, 9, 10, 11; 12 op.2 Nr. 4,5,8,9; op.3 Nr. 1, 2,3,6, 8, 10, 11, 12; op.4 Nr. 1, 2, 3,4,5,6, 7, 8, 9, 10, 11, 12  Gallica Op. 3 Nr. 1–12 Sonate da chiesa e da camera a tre, cioè due violini, violoncello e basso continuo… Opera terza. Libro primo; E. Roger & M. Ch. Le Cène; Amsterdam; 1712 op. 4 [12 Sonate da camera a violino e violoncello… Opera quarta;] E. Roger & M. Ch. Le Cène Amsterdam; 1716 Op.4 Abaco opera quarta mis pour la musette, vielle, flute traversière et haubois avec la basse continue par M. Chedeville le cadet…. Gravé par Mlle Vendôme; Chédeville; Mme Boivin; Paris; Le Clerc; 1750 op.5 Nr. 1–6; Concerti [6] a piu istrumenti… Opera quinta. Libro primo; M. Ch. Le Cène; Amsterdam; 1730  Universität der Künste Berlin op.1 Nr. 2, 4, 5, 6, 7, 9; Kolneder; 1956   == Einzelnachweise ==\""
      ]
     },
     "execution_count": 39,
     "metadata": {},
     "output_type": "execute_result"
    },
    {
     "data": {
      "application/javascript": [
       "\n",
       "            setTimeout(function() {\n",
       "                var nbb_cell_id = 39;\n",
       "                var nbb_unformatted_code = \"wikipedia_sample = corpus.loc[corpus[\\\"gnd\\\"] == \\\"104198273\\\"][\\\"wikipedia_text\\\"].values[0]\\n# http://tools.wmflabs.org/persondata/redirect/gnd/de/104198273\\nwikipedia_sample\";\n",
       "                var nbb_formatted_code = \"wikipedia_sample = corpus.loc[corpus[\\\"gnd\\\"] == \\\"104198273\\\"][\\\"wikipedia_text\\\"].values[0]\\n# http://tools.wmflabs.org/persondata/redirect/gnd/de/104198273\\nwikipedia_sample\";\n",
       "                var nbb_cells = Jupyter.notebook.get_cells();\n",
       "                for (var i = 0; i < nbb_cells.length; ++i) {\n",
       "                    if (nbb_cells[i].input_prompt_number == nbb_cell_id) {\n",
       "                        if (nbb_cells[i].get_text() == nbb_unformatted_code) {\n",
       "                             nbb_cells[i].set_text(nbb_formatted_code);\n",
       "                        }\n",
       "                        break;\n",
       "                    }\n",
       "                }\n",
       "            }, 500);\n",
       "            "
      ],
      "text/plain": [
       "<IPython.core.display.Javascript object>"
      ]
     },
     "metadata": {},
     "output_type": "display_data"
    }
   ],
   "source": [
    "wikipedia_sample = corpus.loc[corpus[\"gnd\"] == \"104198273\"][\"wikipedia_text\"].values[0]\n",
    "# http://tools.wmflabs.org/persondata/redirect/gnd/de/104198273\n",
    "wikipedia_sample"
   ]
  },
  {
   "cell_type": "markdown",
   "metadata": {},
   "source": [
    "## todo check volume 27 head/leben... different structure...?"
   ]
  },
  {
   "cell_type": "markdown",
   "metadata": {},
   "source": [
    "+ sfz regex only digits? no? check ndb help\n",
    "+ ndb name wrong ... multiple personname"
   ]
  },
  {
   "cell_type": "code",
   "execution_count": 40,
   "metadata": {},
   "outputs": [
    {
     "data": {
      "application/javascript": [
       "\n",
       "            setTimeout(function() {\n",
       "                var nbb_cell_id = 40;\n",
       "                var nbb_unformatted_code = \"def sentence_too_short(sent: str) -> bool:\\n    # only evaluate sentences with more or equal to 5 words (token)\\n    tokens = sent.split(\\\" \\\")\\n    if len(tokens) < 5:\\n        return True\\n    return False\\n\\n\\ndef contains_equal_sentence(ndb: str, wikipedia: str) -> bool:\\n    ndb_sent = sent_tokenize(ndb, language=\\\"german\\\")\\n    wikipedia_sent = sent_tokenize(wikipedia, language=\\\"german\\\")\\n    for sent in ndb_sent:\\n        if sentence_too_short(sent):\\n            continue\\n        if sent in wikipedia_sent:\\n            return True\\n    return False\\n\\n\\ndef get_equal_sentences(ndb: str, wikipedia: str) -> List[str]:\\n    equal_sentences = []\\n    ndb_sent = sent_tokenize(ndb, language=\\\"german\\\")\\n    wikipedia_sent = sent_tokenize(wikipedia, language=\\\"german\\\")\\n    for sent in ndb_sent:\\n        if sentence_too_short(sent):\\n            continue\\n        if sent in wikipedia_sent:\\n            equal_sentences.append(sent)\\n    return equal_sentences\";\n",
       "                var nbb_formatted_code = \"def sentence_too_short(sent: str) -> bool:\\n    # only evaluate sentences with more or equal to 5 words (token)\\n    tokens = sent.split(\\\" \\\")\\n    if len(tokens) < 5:\\n        return True\\n    return False\\n\\n\\ndef contains_equal_sentence(ndb: str, wikipedia: str) -> bool:\\n    ndb_sent = sent_tokenize(ndb, language=\\\"german\\\")\\n    wikipedia_sent = sent_tokenize(wikipedia, language=\\\"german\\\")\\n    for sent in ndb_sent:\\n        if sentence_too_short(sent):\\n            continue\\n        if sent in wikipedia_sent:\\n            return True\\n    return False\\n\\n\\ndef get_equal_sentences(ndb: str, wikipedia: str) -> List[str]:\\n    equal_sentences = []\\n    ndb_sent = sent_tokenize(ndb, language=\\\"german\\\")\\n    wikipedia_sent = sent_tokenize(wikipedia, language=\\\"german\\\")\\n    for sent in ndb_sent:\\n        if sentence_too_short(sent):\\n            continue\\n        if sent in wikipedia_sent:\\n            equal_sentences.append(sent)\\n    return equal_sentences\";\n",
       "                var nbb_cells = Jupyter.notebook.get_cells();\n",
       "                for (var i = 0; i < nbb_cells.length; ++i) {\n",
       "                    if (nbb_cells[i].input_prompt_number == nbb_cell_id) {\n",
       "                        if (nbb_cells[i].get_text() == nbb_unformatted_code) {\n",
       "                             nbb_cells[i].set_text(nbb_formatted_code);\n",
       "                        }\n",
       "                        break;\n",
       "                    }\n",
       "                }\n",
       "            }, 500);\n",
       "            "
      ],
      "text/plain": [
       "<IPython.core.display.Javascript object>"
      ]
     },
     "metadata": {},
     "output_type": "display_data"
    }
   ],
   "source": [
    "def sentence_too_short(sent: str) -> bool:\n",
    "    # only evaluate sentences with more or equal to 5 words (token)\n",
    "    tokens = sent.split(\" \")\n",
    "    if len(tokens) < 5:\n",
    "        return True\n",
    "    return False\n",
    "\n",
    "\n",
    "def contains_equal_sentence(ndb: str, wikipedia: str) -> bool:\n",
    "    ndb_sent = sent_tokenize(ndb, language=\"german\")\n",
    "    wikipedia_sent = sent_tokenize(wikipedia, language=\"german\")\n",
    "    for sent in ndb_sent:\n",
    "        if sentence_too_short(sent):\n",
    "            continue\n",
    "        if sent in wikipedia_sent:\n",
    "            return True\n",
    "    return False\n",
    "\n",
    "\n",
    "def get_equal_sentences(ndb: str, wikipedia: str) -> List[str]:\n",
    "    equal_sentences = []\n",
    "    ndb_sent = sent_tokenize(ndb, language=\"german\")\n",
    "    wikipedia_sent = sent_tokenize(wikipedia, language=\"german\")\n",
    "    for sent in ndb_sent:\n",
    "        if sentence_too_short(sent):\n",
    "            continue\n",
    "        if sent in wikipedia_sent:\n",
    "            equal_sentences.append(sent)\n",
    "    return equal_sentences"
   ]
  },
  {
   "cell_type": "code",
   "execution_count": 41,
   "metadata": {},
   "outputs": [
    {
     "name": "stdout",
     "output_type": "stream",
     "text": [
      "processing row: 20483 / 20484\r"
     ]
    },
    {
     "data": {
      "application/javascript": [
       "\n",
       "            setTimeout(function() {\n",
       "                var nbb_cell_id = 41;\n",
       "                var nbb_unformatted_code = \"equal_sentence_occurance_gnd = {}\\nnumber_rows = corpus[corpus.columns[0]].count()\\n\\nfor index, row in corpus.iterrows():\\n    print(f\\\"processing row: {index} / {number_rows}\\\", end=\\\"\\\\r\\\")\\n    ndb_text = row[\\\"ndb_text\\\"]\\n    wikipedia_text = row[\\\"wikipedia_text\\\"]\\n    gnd = row[\\\"gnd\\\"]\\n    if contains_equal_sentence(ndb_text, wikipedia_text):\\n        if gnd not in equal_sentence_occurance_gnd:\\n            equal_sentence_occurance_gnd[gnd] = get_equal_sentences(\\n                ndb_text, wikipedia_text\\n            )\";\n",
       "                var nbb_formatted_code = \"equal_sentence_occurance_gnd = {}\\nnumber_rows = corpus[corpus.columns[0]].count()\\n\\nfor index, row in corpus.iterrows():\\n    print(f\\\"processing row: {index} / {number_rows}\\\", end=\\\"\\\\r\\\")\\n    ndb_text = row[\\\"ndb_text\\\"]\\n    wikipedia_text = row[\\\"wikipedia_text\\\"]\\n    gnd = row[\\\"gnd\\\"]\\n    if contains_equal_sentence(ndb_text, wikipedia_text):\\n        if gnd not in equal_sentence_occurance_gnd:\\n            equal_sentence_occurance_gnd[gnd] = get_equal_sentences(\\n                ndb_text, wikipedia_text\\n            )\";\n",
       "                var nbb_cells = Jupyter.notebook.get_cells();\n",
       "                for (var i = 0; i < nbb_cells.length; ++i) {\n",
       "                    if (nbb_cells[i].input_prompt_number == nbb_cell_id) {\n",
       "                        if (nbb_cells[i].get_text() == nbb_unformatted_code) {\n",
       "                             nbb_cells[i].set_text(nbb_formatted_code);\n",
       "                        }\n",
       "                        break;\n",
       "                    }\n",
       "                }\n",
       "            }, 500);\n",
       "            "
      ],
      "text/plain": [
       "<IPython.core.display.Javascript object>"
      ]
     },
     "metadata": {},
     "output_type": "display_data"
    }
   ],
   "source": [
    "equal_sentence_occurance_gnd = {}\n",
    "number_rows = corpus[corpus.columns[0]].count()\n",
    "\n",
    "for index, row in corpus.iterrows():\n",
    "    print(f\"processing row: {index} / {number_rows}\", end=\"\\r\")\n",
    "    ndb_text = row[\"ndb_text\"]\n",
    "    wikipedia_text = row[\"wikipedia_text\"]\n",
    "    gnd = row[\"gnd\"]\n",
    "    if contains_equal_sentence(ndb_text, wikipedia_text):\n",
    "        if gnd not in equal_sentence_occurance_gnd:\n",
    "            equal_sentence_occurance_gnd[gnd] = get_equal_sentences(\n",
    "                ndb_text, wikipedia_text\n",
    "            )"
   ]
  },
  {
   "cell_type": "code",
   "execution_count": 42,
   "metadata": {},
   "outputs": [
    {
     "name": "stdout",
     "output_type": "stream",
     "text": [
      "249\n"
     ]
    },
    {
     "data": {
      "application/javascript": [
       "\n",
       "            setTimeout(function() {\n",
       "                var nbb_cell_id = 42;\n",
       "                var nbb_unformatted_code = \"print(len(equal_sentence_occurance_gnd))\";\n",
       "                var nbb_formatted_code = \"print(len(equal_sentence_occurance_gnd))\";\n",
       "                var nbb_cells = Jupyter.notebook.get_cells();\n",
       "                for (var i = 0; i < nbb_cells.length; ++i) {\n",
       "                    if (nbb_cells[i].input_prompt_number == nbb_cell_id) {\n",
       "                        if (nbb_cells[i].get_text() == nbb_unformatted_code) {\n",
       "                             nbb_cells[i].set_text(nbb_formatted_code);\n",
       "                        }\n",
       "                        break;\n",
       "                    }\n",
       "                }\n",
       "            }, 500);\n",
       "            "
      ],
      "text/plain": [
       "<IPython.core.display.Javascript object>"
      ]
     },
     "metadata": {},
     "output_type": "display_data"
    }
   ],
   "source": [
    "print(len(equal_sentence_occurance_gnd))"
   ]
  },
  {
   "cell_type": "code",
   "execution_count": 43,
   "metadata": {},
   "outputs": [
    {
     "data": {
      "text/plain": [
       "['Seitdem verliert sich seine Spur.']"
      ]
     },
     "execution_count": 43,
     "metadata": {},
     "output_type": "execute_result"
    },
    {
     "data": {
      "application/javascript": [
       "\n",
       "            setTimeout(function() {\n",
       "                var nbb_cell_id = 43;\n",
       "                var nbb_unformatted_code = \"equal_sentence_occurance_gnd[\\\"128428430\\\"]\";\n",
       "                var nbb_formatted_code = \"equal_sentence_occurance_gnd[\\\"128428430\\\"]\";\n",
       "                var nbb_cells = Jupyter.notebook.get_cells();\n",
       "                for (var i = 0; i < nbb_cells.length; ++i) {\n",
       "                    if (nbb_cells[i].input_prompt_number == nbb_cell_id) {\n",
       "                        if (nbb_cells[i].get_text() == nbb_unformatted_code) {\n",
       "                             nbb_cells[i].set_text(nbb_formatted_code);\n",
       "                        }\n",
       "                        break;\n",
       "                    }\n",
       "                }\n",
       "            }, 500);\n",
       "            "
      ],
      "text/plain": [
       "<IPython.core.display.Javascript object>"
      ]
     },
     "metadata": {},
     "output_type": "display_data"
    }
   ],
   "source": [
    "equal_sentence_occurance_gnd[\"128428430\"]"
   ]
  },
  {
   "cell_type": "code",
   "execution_count": 44,
   "metadata": {},
   "outputs": [
    {
     "data": {
      "text/plain": [
       "'A.Adriani, ein getaufter spanischer Jude, taucht zum ersten Mal in Italien in einer „Introductio ad hebraicam linguam“ auf, die 1501 und 1508 bei Aldus Manutius in Venedig erschien, dann in der griechischen Grammatik des Konstantinos Laskaris (ebenda 1512). Erasmus von Rotterdam rühmt seinen guten Ruf als Hebraist in Italien und Deutschland. Ursprünglich war A.Adriani Arzt (Dr. med.doctor medicinae). 1512 war er in Tübingen; hier erschien 1513 bei Thomas Anshelm sein „Libellus horam faciendi pro Domino“ mit Übersetzungen christlicher Gebete ins Hebräische. Im gleichen Jahr kam er mit Empfehlungsbriefen von Johann Reuchlin (Tübingen) und Konrad Pellican (Pforzheim) über Straßburg nach Basel, in der Absicht, über Venedig ins Heilige Land zu pilgern. Er unterrichtete in Basel Wolfgang Fabricius Capito, die Söhne des Buchdruckers Johannes Amerbach, in Heidelberg Johann Brenz und Johannes Oecolampadius; 1517 erhielt er auf Empfehlung des Erasmus den hebraistischen Lehrstuhl am „Collegium Trilingue“ in Löwen. A.Adriani erregte aber bei den Theologen Anstoß mit einer am 27.3.1519 gehaltenen Rede zum Lob der alten Sprachen, die 1520 in Wittenberg mit einer Vorrede an Georg Spalatin erschienen ist. Am 17.4.1520 erhielt er einen Ruf nach Wittenberg. Jedoch schon im Herbst überwarf er sich mit Luther, verließ im Frühjahr 1521 Wittenberg und wandte sich vielleicht nach Freiburg(Breisgau). Seitdem verliert sich seine Spur.'"
      ]
     },
     "execution_count": 44,
     "metadata": {},
     "output_type": "execute_result"
    },
    {
     "data": {
      "application/javascript": [
       "\n",
       "            setTimeout(function() {\n",
       "                var nbb_cell_id = 44;\n",
       "                var nbb_unformatted_code = \"corpus.loc[corpus[\\\"gnd\\\"] == \\\"128428430\\\"][\\\"ndb_text\\\"].values[0]\";\n",
       "                var nbb_formatted_code = \"corpus.loc[corpus[\\\"gnd\\\"] == \\\"128428430\\\"][\\\"ndb_text\\\"].values[0]\";\n",
       "                var nbb_cells = Jupyter.notebook.get_cells();\n",
       "                for (var i = 0; i < nbb_cells.length; ++i) {\n",
       "                    if (nbb_cells[i].input_prompt_number == nbb_cell_id) {\n",
       "                        if (nbb_cells[i].get_text() == nbb_unformatted_code) {\n",
       "                             nbb_cells[i].set_text(nbb_formatted_code);\n",
       "                        }\n",
       "                        break;\n",
       "                    }\n",
       "                }\n",
       "            }, 500);\n",
       "            "
      ],
      "text/plain": [
       "<IPython.core.display.Javascript object>"
      ]
     },
     "metadata": {},
     "output_type": "display_data"
    }
   ],
   "source": [
    "corpus.loc[corpus[\"gnd\"] == \"128428430\"][\"ndb_text\"].values[0]"
   ]
  },
  {
   "cell_type": "code",
   "execution_count": 45,
   "metadata": {},
   "outputs": [
    {
     "data": {
      "text/plain": [
       "'Matthäus Adriani (* um 1475 in Spanien; † nach 1521 in Freiburg im Breisgau?) war ein jüdischer Hebraist.  Leben Adriani wurde in Spanien als Kind einer jüdischen Familie geboren. Erstmals tritt er 1501 in Italien in Erscheinung, als er eine Instruktion der hebräischen Sprache in Venedig verfasst. Zu diesem Zeitpunkt ist er bereits Doktor der Medizin. Bis 1512 verbleibt er in Venedig, wo er die griechische Grammatik des Aldus Manutius bearbeitet und Erasmus von Rotterdam auf ihn aufmerksam wird und seine Arbeit hervorhebt. Dadurch erhält er auch einen guten Ruf in Deutschland, so dass er 1512 in Tübingen erscheint. Hier verfasste er 1513 Übersetzungen christlicher Gebete ins Hebräische. Auf Empfehlung von Johannes Reuchlin und Konrad Pellican (1478–1556) kam er im selben Jahr über Straßburg nach Basel, in der Absicht, über Venedig ins Heilige Land zu pilgern. Er unterrichtete in Basel Wolfgang Capito, die Söhne des Buchdruckers Johann Amerbach, Johannes Brenz und Johannes Oekolampadius. 1517 erhielt er den Hebraistischen Lehrstuhl in Löwen. Jedoch erregte er in Löwen Anstoß bei den Theologen. Am 27. März 1519 hielt er dort eine Rede zum Lob der alten Sprachen, die 1520 in Wittenberg mit einer Vorrede an Georg Spalatin erschienen ist. Daher folgte er am 17. April 1520 einem Ruf an die Wittenberger Universität. Hier schien er sich recht wohlzufühlen, zumal er trotz Wohnraummangels heiratete. Jedoch schon im Herbst überwarf er sich mit Martin Luther, den er betreffs seines Neuen Testaments und in der Rechtfertigungslehre belehren wollte. Als die Widersprüche zu groß wurden, reichte Adriani seine Entlassung ein und verließ aufgrund der Streitigkeiten Wittenberg im Februar 1521. Seitdem verliert sich seine Spur. Möglicherweise zog es ihn in der Folge nach Leipzig. Vielmehr erscheint jedoch die Vermutung naheliegend, dass er sich nach Freiburg im Breisgau begeben hat.  Werkauswahl \"Introductio ad hebraicam linguam\" 1501 und 1508 bei Aldus Manutius in Venedig \"Grammatik des Konstantinos Laskaris\" bei Aldus Manutius in Venedig 1512 \"Zum Lob der alten Sprachen\"  in Wittenberg 1520  Literatur Ludwig Geiger: Adriani, Matthäus. In: Allgemeine Deutsche Biographie (ADB). Band 1, Duncker & Humblot, Leipzig 1875, S. 124 f. Otto Schottenloher: Adriani, Matthäus. In: Neue Deutsche Biographie (NDB). Band 1, Duncker & Humblot, Berlin 1953, ISBN 3-428-00182-6, S. 87 (Digitalisat). Friedrich Wilhelm Bautz: ADRIANUS, Matthäus. In: Biographisch-Bibliographisches Kirchenlexikon (BBKL). Band 1, Bautz, Hamm 1975. 2., unveränderte Auflage Hamm 1990, ISBN 3-88309-013-1, Sp. 41–42. Heinz Scheible: Melanchthons Briefwechsel. Personen. Band 11'"
      ]
     },
     "execution_count": 45,
     "metadata": {},
     "output_type": "execute_result"
    },
    {
     "data": {
      "application/javascript": [
       "\n",
       "            setTimeout(function() {\n",
       "                var nbb_cell_id = 45;\n",
       "                var nbb_unformatted_code = \"corpus.loc[corpus[\\\"gnd\\\"] == \\\"128428430\\\"][\\\"wikipedia_text\\\"].values[0]\";\n",
       "                var nbb_formatted_code = \"corpus.loc[corpus[\\\"gnd\\\"] == \\\"128428430\\\"][\\\"wikipedia_text\\\"].values[0]\";\n",
       "                var nbb_cells = Jupyter.notebook.get_cells();\n",
       "                for (var i = 0; i < nbb_cells.length; ++i) {\n",
       "                    if (nbb_cells[i].input_prompt_number == nbb_cell_id) {\n",
       "                        if (nbb_cells[i].get_text() == nbb_unformatted_code) {\n",
       "                             nbb_cells[i].set_text(nbb_formatted_code);\n",
       "                        }\n",
       "                        break;\n",
       "                    }\n",
       "                }\n",
       "            }, 500);\n",
       "            "
      ],
      "text/plain": [
       "<IPython.core.display.Javascript object>"
      ]
     },
     "metadata": {},
     "output_type": "display_data"
    }
   ],
   "source": [
    "corpus.loc[corpus[\"gnd\"] == \"128428430\"][\"wikipedia_text\"].values[0]"
   ]
  },
  {
   "cell_type": "code",
   "execution_count": null,
   "metadata": {},
   "outputs": [],
   "source": []
  }
 ],
 "metadata": {
  "kernelspec": {
   "display_name": "Python 3.8.5 64-bit",
   "language": "python",
   "name": "python38564bit13719079319b43f28007a75a272eccd3"
  },
  "language_info": {
   "codemirror_mode": {
    "name": "ipython",
    "version": 3
   },
   "file_extension": ".py",
   "mimetype": "text/x-python",
   "name": "python",
   "nbconvert_exporter": "python",
   "pygments_lexer": "ipython3",
   "version": "3.8.10"
  }
 },
 "nbformat": 4,
 "nbformat_minor": 4
}
