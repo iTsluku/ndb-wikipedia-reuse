{
 "cells": [
  {
   "cell_type": "markdown",
   "metadata": {},
   "source": [
    "# metrics to quantify text reuse (similarity between text A and B)\n",
    "\n",
    "+ metric 1: sentence equality\n",
    "+ metric 2: n-gram (n=4+ TODO test parameter)\n",
    "+ metric 3: embeddings (S-BERT transformer + cosine similarity between vectors)"
   ]
  },
  {
   "cell_type": "markdown",
   "metadata": {},
   "source": [
    "### requirements\n",
    "\n",
    "+ nltk (3.6.5)\n",
    "+ sentence-transformers (2.2.0)\n",
    "+ scikit-learn (1.0.2)\n",
    "+ matplotlib (3.5.0)\n",
    "+ numpy (1.21.4)\n",
    "+ pandas (1.3.4)\n",
    "+ seaborn (0.11.2)"
   ]
  },
  {
   "cell_type": "code",
   "execution_count": 1,
   "metadata": {},
   "outputs": [
    {
     "data": {
      "application/javascript": [
       "\n",
       "            setTimeout(function() {\n",
       "                var nbb_cell_id = 1;\n",
       "                var nbb_unformatted_code = \"# format cells using black\\n%load_ext nb_black\";\n",
       "                var nbb_formatted_code = \"# format cells using black\\n%load_ext nb_black\";\n",
       "                var nbb_cells = Jupyter.notebook.get_cells();\n",
       "                for (var i = 0; i < nbb_cells.length; ++i) {\n",
       "                    if (nbb_cells[i].input_prompt_number == nbb_cell_id) {\n",
       "                        if (nbb_cells[i].get_text() == nbb_unformatted_code) {\n",
       "                             nbb_cells[i].set_text(nbb_formatted_code);\n",
       "                        }\n",
       "                        break;\n",
       "                    }\n",
       "                }\n",
       "            }, 500);\n",
       "            "
      ],
      "text/plain": [
       "<IPython.core.display.Javascript object>"
      ]
     },
     "metadata": {},
     "output_type": "display_data"
    }
   ],
   "source": [
    "# format cells using black\n",
    "%load_ext nb_black"
   ]
  },
  {
   "cell_type": "code",
   "execution_count": 2,
   "metadata": {},
   "outputs": [
    {
     "data": {
      "application/javascript": [
       "\n",
       "            setTimeout(function() {\n",
       "                var nbb_cell_id = 2;\n",
       "                var nbb_unformatted_code = \"import os\\nimport re\\nimport math\\nimport pandas as pd\\nimport numpy as np\\nimport nltk\\nimport string\\nimport pickle\\nimport matplotlib.pyplot as plt\\nimport seaborn as sns\\nfrom scipy.stats import pearsonr\\nfrom nltk import ngrams\\nfrom nltk.metrics import jaccard_distance\\nfrom nltk.tokenize import sent_tokenize, word_tokenize\\nfrom sentence_transformers import SentenceTransformer\\nfrom sklearn.metrics.pairwise import cosine_similarity\\nfrom typing import List, Tuple\";\n",
       "                var nbb_formatted_code = \"import os\\nimport re\\nimport math\\nimport pandas as pd\\nimport numpy as np\\nimport nltk\\nimport string\\nimport pickle\\nimport matplotlib.pyplot as plt\\nimport seaborn as sns\\nfrom scipy.stats import pearsonr\\nfrom nltk import ngrams\\nfrom nltk.metrics import jaccard_distance\\nfrom nltk.tokenize import sent_tokenize, word_tokenize\\nfrom sentence_transformers import SentenceTransformer\\nfrom sklearn.metrics.pairwise import cosine_similarity\\nfrom typing import List, Tuple\";\n",
       "                var nbb_cells = Jupyter.notebook.get_cells();\n",
       "                for (var i = 0; i < nbb_cells.length; ++i) {\n",
       "                    if (nbb_cells[i].input_prompt_number == nbb_cell_id) {\n",
       "                        if (nbb_cells[i].get_text() == nbb_unformatted_code) {\n",
       "                             nbb_cells[i].set_text(nbb_formatted_code);\n",
       "                        }\n",
       "                        break;\n",
       "                    }\n",
       "                }\n",
       "            }, 500);\n",
       "            "
      ],
      "text/plain": [
       "<IPython.core.display.Javascript object>"
      ]
     },
     "metadata": {},
     "output_type": "display_data"
    }
   ],
   "source": [
    "import os\n",
    "import re\n",
    "import math\n",
    "import pandas as pd\n",
    "import numpy as np\n",
    "import nltk\n",
    "import string\n",
    "import pickle\n",
    "import matplotlib.pyplot as plt\n",
    "import seaborn as sns\n",
    "from scipy.stats import pearsonr\n",
    "from nltk import ngrams\n",
    "from nltk.metrics import jaccard_distance\n",
    "from nltk.tokenize import sent_tokenize, word_tokenize\n",
    "from sentence_transformers import SentenceTransformer\n",
    "from sklearn.metrics.pairwise import cosine_similarity\n",
    "from typing import List, Tuple"
   ]
  },
  {
   "cell_type": "code",
   "execution_count": 11,
   "metadata": {},
   "outputs": [
    {
     "name": "stderr",
     "output_type": "stream",
     "text": [
      "[nltk_data] Downloading package punkt to /home/jovyan/nltk_data...\n",
      "[nltk_data]   Unzipping tokenizers/punkt.zip.\n"
     ]
    },
    {
     "data": {
      "text/plain": [
       "True"
      ]
     },
     "execution_count": 11,
     "metadata": {},
     "output_type": "execute_result"
    },
    {
     "data": {
      "application/javascript": [
       "\n",
       "            setTimeout(function() {\n",
       "                var nbb_cell_id = 11;\n",
       "                var nbb_unformatted_code = \"nltk.download('punkt')\";\n",
       "                var nbb_formatted_code = \"nltk.download(\\\"punkt\\\")\";\n",
       "                var nbb_cells = Jupyter.notebook.get_cells();\n",
       "                for (var i = 0; i < nbb_cells.length; ++i) {\n",
       "                    if (nbb_cells[i].input_prompt_number == nbb_cell_id) {\n",
       "                        if (nbb_cells[i].get_text() == nbb_unformatted_code) {\n",
       "                             nbb_cells[i].set_text(nbb_formatted_code);\n",
       "                        }\n",
       "                        break;\n",
       "                    }\n",
       "                }\n",
       "            }, 500);\n",
       "            "
      ],
      "text/plain": [
       "<IPython.core.display.Javascript object>"
      ]
     },
     "metadata": {},
     "output_type": "display_data"
    }
   ],
   "source": [
    "nltk.download('punkt')"
   ]
  },
  {
   "cell_type": "markdown",
   "metadata": {},
   "source": [
    "### load data"
   ]
  },
  {
   "cell_type": "code",
   "execution_count": 3,
   "metadata": {},
   "outputs": [
    {
     "data": {
      "text/html": [
       "<div>\n",
       "<style scoped>\n",
       "    .dataframe tbody tr th:only-of-type {\n",
       "        vertical-align: middle;\n",
       "    }\n",
       "\n",
       "    .dataframe tbody tr th {\n",
       "        vertical-align: top;\n",
       "    }\n",
       "\n",
       "    .dataframe thead th {\n",
       "        text-align: right;\n",
       "    }\n",
       "</style>\n",
       "<table border=\"1\" class=\"dataframe\">\n",
       "  <thead>\n",
       "    <tr style=\"text-align: right;\">\n",
       "      <th></th>\n",
       "      <th>ndb_n</th>\n",
       "      <th>ndb_sfz</th>\n",
       "      <th>gnd</th>\n",
       "      <th>ndb_sex</th>\n",
       "      <th>ndb_name</th>\n",
       "      <th>wikipedia_title</th>\n",
       "      <th>ndb_text</th>\n",
       "      <th>wikipedia_text</th>\n",
       "    </tr>\n",
       "  </thead>\n",
       "  <tbody>\n",
       "    <tr>\n",
       "      <th>0</th>\n",
       "      <td>n01-001-01</td>\n",
       "      <td>sfz45545</td>\n",
       "      <td>118643525</td>\n",
       "      <td>1</td>\n",
       "      <td>Aachen  Hans von (Johann von Achen, Hans Ach)</td>\n",
       "      <td>Hans von Aachen</td>\n",
       "      <td>Karel van Mander (Schilderboeck, Haarlem 1604 ...</td>\n",
       "      <td>Hans von Aachen (* 1552 in Köln; † 4. März 161...</td>\n",
       "    </tr>\n",
       "    <tr>\n",
       "      <th>1</th>\n",
       "      <td>n01-001-02</td>\n",
       "      <td>sfz15</td>\n",
       "      <td>118500015</td>\n",
       "      <td>1</td>\n",
       "      <td>Aal (Anguilla), Johannes</td>\n",
       "      <td>Johannes Aal</td>\n",
       "      <td>A.Aal verfocht zur Zeit der Reformation die al...</td>\n",
       "      <td>Johannes Aal (* um 1500 in Bremgarten AG; † 28...</td>\n",
       "    </tr>\n",
       "    <tr>\n",
       "      <th>2</th>\n",
       "      <td>n01-002-01</td>\n",
       "      <td>sfz17</td>\n",
       "      <td>104198273</td>\n",
       "      <td>1</td>\n",
       "      <td>dall' Abaco Evaristo Felice</td>\n",
       "      <td>Evaristo Felice Dall’Abaco</td>\n",
       "      <td>A.Abaco kam aus Verona über Modena 1704 an den...</td>\n",
       "      <td>Evaristo Felice Dall’Abaco (* 12. Juli 1675 in...</td>\n",
       "    </tr>\n",
       "    <tr>\n",
       "      <th>3</th>\n",
       "      <td>n01-002-02</td>\n",
       "      <td>sfz19</td>\n",
       "      <td>100002307</td>\n",
       "      <td>1</td>\n",
       "      <td>Abbadie Jacques</td>\n",
       "      <td>Jacques Abbadie</td>\n",
       "      <td>A.Abbadie studierte auf den Akademien von Saum...</td>\n",
       "      <td>Jacques Abbadie, auch James, Jacobus oder Jaco...</td>\n",
       "    </tr>\n",
       "    <tr>\n",
       "      <th>4</th>\n",
       "      <td>n01-002-03</td>\n",
       "      <td>sfz7153</td>\n",
       "      <td>118646419</td>\n",
       "      <td>1</td>\n",
       "      <td>Abbe Ernst Carl</td>\n",
       "      <td>Ernst Abbe</td>\n",
       "      <td>Die Einsicht der Lehrer, die die außerordentli...</td>\n",
       "      <td>Ernst Karl Abbe  [ˈabə] (* 23. Januar 1840 in ...</td>\n",
       "    </tr>\n",
       "    <tr>\n",
       "      <th>...</th>\n",
       "      <td>...</td>\n",
       "      <td>...</td>\n",
       "      <td>...</td>\n",
       "      <td>...</td>\n",
       "      <td>...</td>\n",
       "      <td>...</td>\n",
       "      <td>...</td>\n",
       "      <td>...</td>\n",
       "    </tr>\n",
       "    <tr>\n",
       "      <th>20479</th>\n",
       "      <td>n27-908-01</td>\n",
       "      <td>sfz141086</td>\n",
       "      <td>1116026791</td>\n",
       "      <td>2</td>\n",
       "      <td>Westphal-Hellbusch Sigrid Hellbusch</td>\n",
       "      <td>Sigrid Westphal-Hellbusch</td>\n",
       "      <td>Nach der Reifeprüfung am I. Oberlyzeum in Berl...</td>\n",
       "      <td>Sigrid Westphal-Hellbusch (* 10. Juni 1915 in ...</td>\n",
       "    </tr>\n",
       "    <tr>\n",
       "      <th>20480</th>\n",
       "      <td>n27-909-01</td>\n",
       "      <td>sfz60626</td>\n",
       "      <td>117327328</td>\n",
       "      <td>1</td>\n",
       "      <td>Westphalen Ferdinand</td>\n",
       "      <td>Ferdinand von Westphalen</td>\n",
       "      <td>W. Westphalen  besuchte das Gymnasium in Salzw...</td>\n",
       "      <td>Ferdinand Otto Wilhelm Henning von Westphalen ...</td>\n",
       "    </tr>\n",
       "    <tr>\n",
       "      <th>20481</th>\n",
       "      <td>n27-910-01</td>\n",
       "      <td>sfz85259</td>\n",
       "      <td>117327573</td>\n",
       "      <td>1</td>\n",
       "      <td>Westrumb Friedrich</td>\n",
       "      <td>Johann Friedrich Westrumb</td>\n",
       "      <td>W. Westrumb  begann 1764 eine Lehre in der kgl...</td>\n",
       "      <td>Johann Friedrich Westrumb (* 2. Dezember 1751 ...</td>\n",
       "    </tr>\n",
       "    <tr>\n",
       "      <th>20482</th>\n",
       "      <td>n27-911-01</td>\n",
       "      <td>sfz141099</td>\n",
       "      <td>1051891450</td>\n",
       "      <td>1</td>\n",
       "      <td>Wetter Ernst</td>\n",
       "      <td>Ernst Wetter</td>\n",
       "      <td>Nach der Volksschule absolvierte  W. Wetter  d...</td>\n",
       "      <td>Ernst Wetter (* 27. August 1877 in Töss (heute...</td>\n",
       "    </tr>\n",
       "    <tr>\n",
       "      <th>20483</th>\n",
       "      <td>n27-912-01</td>\n",
       "      <td>sfz135137</td>\n",
       "      <td>118807064</td>\n",
       "      <td>9</td>\n",
       "      <td>Wettiner</td>\n",
       "      <td>Haus Wettin</td>\n",
       "      <td>Die  W. Wettiner  gehören zu den ältesten Hoch...</td>\n",
       "      <td>Das Haus Wettin ist mit über 1000 Jahren Famil...</td>\n",
       "    </tr>\n",
       "  </tbody>\n",
       "</table>\n",
       "<p>20484 rows × 8 columns</p>\n",
       "</div>"
      ],
      "text/plain": [
       "            ndb_n    ndb_sfz         gnd ndb_sex  \\\n",
       "0      n01-001-01   sfz45545   118643525       1   \n",
       "1      n01-001-02      sfz15   118500015       1   \n",
       "2      n01-002-01      sfz17   104198273       1   \n",
       "3      n01-002-02      sfz19   100002307       1   \n",
       "4      n01-002-03    sfz7153   118646419       1   \n",
       "...           ...        ...         ...     ...   \n",
       "20479  n27-908-01  sfz141086  1116026791       2   \n",
       "20480  n27-909-01   sfz60626   117327328       1   \n",
       "20481  n27-910-01   sfz85259   117327573       1   \n",
       "20482  n27-911-01  sfz141099  1051891450       1   \n",
       "20483  n27-912-01  sfz135137   118807064       9   \n",
       "\n",
       "                                             ndb_name  \\\n",
       "0       Aachen  Hans von (Johann von Achen, Hans Ach)   \n",
       "1                            Aal (Anguilla), Johannes   \n",
       "2                         dall' Abaco Evaristo Felice   \n",
       "3                                     Abbadie Jacques   \n",
       "4                                     Abbe Ernst Carl   \n",
       "...                                               ...   \n",
       "20479             Westphal-Hellbusch Sigrid Hellbusch   \n",
       "20480                            Westphalen Ferdinand   \n",
       "20481                              Westrumb Friedrich   \n",
       "20482                                    Wetter Ernst   \n",
       "20483                                        Wettiner   \n",
       "\n",
       "                  wikipedia_title  \\\n",
       "0                 Hans von Aachen   \n",
       "1                    Johannes Aal   \n",
       "2      Evaristo Felice Dall’Abaco   \n",
       "3                 Jacques Abbadie   \n",
       "4                      Ernst Abbe   \n",
       "...                           ...   \n",
       "20479   Sigrid Westphal-Hellbusch   \n",
       "20480    Ferdinand von Westphalen   \n",
       "20481   Johann Friedrich Westrumb   \n",
       "20482                Ernst Wetter   \n",
       "20483                 Haus Wettin   \n",
       "\n",
       "                                                ndb_text  \\\n",
       "0      Karel van Mander (Schilderboeck, Haarlem 1604 ...   \n",
       "1      A.Aal verfocht zur Zeit der Reformation die al...   \n",
       "2      A.Abaco kam aus Verona über Modena 1704 an den...   \n",
       "3      A.Abbadie studierte auf den Akademien von Saum...   \n",
       "4      Die Einsicht der Lehrer, die die außerordentli...   \n",
       "...                                                  ...   \n",
       "20479  Nach der Reifeprüfung am I. Oberlyzeum in Berl...   \n",
       "20480  W. Westphalen  besuchte das Gymnasium in Salzw...   \n",
       "20481  W. Westrumb  begann 1764 eine Lehre in der kgl...   \n",
       "20482  Nach der Volksschule absolvierte  W. Wetter  d...   \n",
       "20483  Die  W. Wettiner  gehören zu den ältesten Hoch...   \n",
       "\n",
       "                                          wikipedia_text  \n",
       "0      Hans von Aachen (* 1552 in Köln; † 4. März 161...  \n",
       "1      Johannes Aal (* um 1500 in Bremgarten AG; † 28...  \n",
       "2      Evaristo Felice Dall’Abaco (* 12. Juli 1675 in...  \n",
       "3      Jacques Abbadie, auch James, Jacobus oder Jaco...  \n",
       "4      Ernst Karl Abbe  [ˈabə] (* 23. Januar 1840 in ...  \n",
       "...                                                  ...  \n",
       "20479  Sigrid Westphal-Hellbusch (* 10. Juni 1915 in ...  \n",
       "20480  Ferdinand Otto Wilhelm Henning von Westphalen ...  \n",
       "20481  Johann Friedrich Westrumb (* 2. Dezember 1751 ...  \n",
       "20482  Ernst Wetter (* 27. August 1877 in Töss (heute...  \n",
       "20483  Das Haus Wettin ist mit über 1000 Jahren Famil...  \n",
       "\n",
       "[20484 rows x 8 columns]"
      ]
     },
     "execution_count": 3,
     "metadata": {},
     "output_type": "execute_result"
    },
    {
     "data": {
      "application/javascript": [
       "\n",
       "            setTimeout(function() {\n",
       "                var nbb_cell_id = 3;\n",
       "                var nbb_unformatted_code = \"path = os.path.abspath(\\\"\\\")\\ndata_df_rel = \\\"data/df/\\\"\\ndata_df_ndb_abs = os.path.join(path, data_df_rel, \\\"df_ndb_wikipedia.pkl\\\")\\ncorpus = pd.read_pickle(data_df_ndb_abs)\\ncorpus_rows = corpus[corpus.columns[0]].count()\\ncorpus\";\n",
       "                var nbb_formatted_code = \"path = os.path.abspath(\\\"\\\")\\ndata_df_rel = \\\"data/df/\\\"\\ndata_df_ndb_abs = os.path.join(path, data_df_rel, \\\"df_ndb_wikipedia.pkl\\\")\\ncorpus = pd.read_pickle(data_df_ndb_abs)\\ncorpus_rows = corpus[corpus.columns[0]].count()\\ncorpus\";\n",
       "                var nbb_cells = Jupyter.notebook.get_cells();\n",
       "                for (var i = 0; i < nbb_cells.length; ++i) {\n",
       "                    if (nbb_cells[i].input_prompt_number == nbb_cell_id) {\n",
       "                        if (nbb_cells[i].get_text() == nbb_unformatted_code) {\n",
       "                             nbb_cells[i].set_text(nbb_formatted_code);\n",
       "                        }\n",
       "                        break;\n",
       "                    }\n",
       "                }\n",
       "            }, 500);\n",
       "            "
      ],
      "text/plain": [
       "<IPython.core.display.Javascript object>"
      ]
     },
     "metadata": {},
     "output_type": "display_data"
    }
   ],
   "source": [
    "path = os.path.abspath(\"\")\n",
    "data_df_rel = \"data/df/\"\n",
    "data_df_ndb_abs = os.path.join(path, data_df_rel, \"df_ndb_wikipedia.pkl\")\n",
    "corpus = pd.read_pickle(data_df_ndb_abs)\n",
    "corpus_rows = corpus[corpus.columns[0]].count()\n",
    "corpus"
   ]
  },
  {
   "cell_type": "markdown",
   "metadata": {},
   "source": [
    "## utility functions"
   ]
  },
  {
   "cell_type": "code",
   "execution_count": 5,
   "metadata": {},
   "outputs": [
    {
     "data": {
      "text/plain": [
       "'!\"#$%&\\'()*+,-./:;<=>?@[\\\\]^_`{|}~'"
      ]
     },
     "execution_count": 5,
     "metadata": {},
     "output_type": "execute_result"
    },
    {
     "data": {
      "application/javascript": [
       "\n",
       "            setTimeout(function() {\n",
       "                var nbb_cell_id = 5;\n",
       "                var nbb_unformatted_code = \"string.punctuation\";\n",
       "                var nbb_formatted_code = \"string.punctuation\";\n",
       "                var nbb_cells = Jupyter.notebook.get_cells();\n",
       "                for (var i = 0; i < nbb_cells.length; ++i) {\n",
       "                    if (nbb_cells[i].input_prompt_number == nbb_cell_id) {\n",
       "                        if (nbb_cells[i].get_text() == nbb_unformatted_code) {\n",
       "                             nbb_cells[i].set_text(nbb_formatted_code);\n",
       "                        }\n",
       "                        break;\n",
       "                    }\n",
       "                }\n",
       "            }, 500);\n",
       "            "
      ],
      "text/plain": [
       "<IPython.core.display.Javascript object>"
      ]
     },
     "metadata": {},
     "output_type": "display_data"
    }
   ],
   "source": [
    "string.punctuation"
   ]
  },
  {
   "cell_type": "code",
   "execution_count": 7,
   "metadata": {},
   "outputs": [
    {
     "data": {
      "application/javascript": [
       "\n",
       "            setTimeout(function() {\n",
       "                var nbb_cell_id = 7;\n",
       "                var nbb_unformatted_code = \"def get_sentences(text: str) -> List[str]:\\n    return sent_tokenize(text, language=\\\"german\\\")\\n\\n\\ndef remove_punctuation_sent(sentences: List[str]) -> List[str]:\\n    sentences_clean = []\\n    for sent in sentences:\\n        words_clean = []\\n        words = word_tokenize(sent, language=\\\"german\\\")\\n        for word in words:\\n            word_clean = [c for c in word if c not in string.punctuation]\\n            if word_clean:\\n                words_clean.append(\\\"\\\".join(word_clean))\\n        sentences_clean.append(\\\" \\\".join(words_clean))\\n    return sentences_clean\\n\\n\\ndef remove_punctuation_text(text: str) -> str:\\n    words_clean = []\\n    words = word_tokenize(text, language=\\\"german\\\")\\n    for word in words:\\n        word_clean = [c for c in word if c not in string.punctuation]\\n        if word_clean:\\n            words_clean.append(\\\"\\\".join(word_clean))\\n    return \\\" \\\".join(words_clean)\\n\\n\\ndef remove_short_sentences(sentences: List[str], min_size: int) -> List[str]:\\n    return [\\n        s for s in sentences if len(word_tokenize(s, language=\\\"german\\\")) >= min_size\\n    ]\\n\\n\\ndef get_sentence_equality(ndb_text: str, wikipedia_text: str) -> Tuple[float, int, int]:\\n    \\\"\\\"\\\"Return: sentence_reuse, ndb_wikipedia_sent_match_count, ndb_sent_clean_long_count\\\"\\\"\\\"\\n    # get sentences\\n    ndb_sent = get_sentences(ndb_text)\\n    wikipedia_sent = get_sentences(wikipedia_text)\\n    # remove punctuation\\n    ndb_sent_clean = remove_punctuation_sent(ndb_sent)\\n    wikipedia_sent_clean = remove_punctuation_sent(wikipedia_sent)\\n    # remove sentences that are too short (<5 words)\\n    ndb_sent_clean_long = remove_short_sentences(ndb_sent_clean, min_size=5)\\n    wikipedia_sent_clean_long = remove_short_sentences(wikipedia_sent_clean, min_size=5)\\n\\n    ndb_sent_clean_long_count = len(ndb_sent_clean_long)\\n    if ndb_sent_clean_long_count == 0:\\n        # ZeroDivisionError\\n        return (0, 0, 0)\\n    ndb_wikipedia_sent_match_count = 0\\n    for sent in ndb_sent_clean_long:\\n        if sent in wikipedia_sent_clean_long:\\n            ndb_wikipedia_sent_match_count += 1\\n    sentence_reuse = ndb_wikipedia_sent_match_count / ndb_sent_clean_long_count\\n    return (sentence_reuse, ndb_wikipedia_sent_match_count, ndb_sent_clean_long_count)\\n\\n\\ndef get_ngram_equality(ndb_text: str, wikipedia_text: str, n: int) -> float:\\n    \\\"\\\"\\\"Return: ngram_reuse, ndb_wikipedia_ngram_match_count, ndb_ngram_clean_long_count\\\"\\\"\\\"\\n    # TODO check jaccard metric\\n\\n    # remove punctuation and tokenize\\n    ndb_text_clean = remove_punctuation_text(ndb_text)\\n    ndb_words = word_tokenize(ndb_text_clean, language=\\\"german\\\")\\n    wikipedia_text_clean = remove_punctuation_text(wikipedia_text)\\n    wikipedia_words = word_tokenize(wikipedia_text_clean, language=\\\"german\\\")\\n    # ngrams and sets\\n    ndb_ngram = ngrams(ndb_words, n)\\n    ndb_ngram_set = set(ndb_ngram)\\n    wikipedia_ngram = ngrams(wikipedia_words, n)\\n    wikipedia_ngram_set = set(wikipedia_ngram)\\n    if len(ndb_ngram_set) == 0:\\n        return 0\\n    # intersection ndb wikipedia / ndb   --not (jaccard): intersect - union / union\\n    return len(ndb_ngram_set.intersection(wikipedia_ngram_set)) / len(ndb_ngram_set)\\n\\n\\nst_model_name = \\\"bert-base-nli-mean-tokens\\\"\\nst_model = SentenceTransformer(st_model_name)\\n\\n\\ndef get_embedding_similarity(ndb_text: str, wikipedia_text: str) -> List[float]:\\n    # get sentences\\n    ndb_sent = get_sentences(ndb_text)\\n    wikipedia_sent = get_sentences(wikipedia_text)\\n    # remove punctuation\\n    ndb_sent_clean = remove_punctuation_sent(ndb_sent)\\n    wikipedia_sent_clean = remove_punctuation_sent(wikipedia_sent)\\n    # remove sentences that are too short (<5 words)\\n    ndb_sent_clean_long = remove_short_sentences(ndb_sent_clean, min_size=5)\\n    wikipedia_sent_clean_long = remove_short_sentences(wikipedia_sent_clean, min_size=5)\\n\\n    if len(ndb_sent_clean_long) == 0 or len(wikipedia_sent_clean_long) == 0:\\n        return []\\n\\n    sentences = ndb_sent_clean_long + wikipedia_sent_clean_long\\n    sentences_vectors = st_model.encode(sentences)\\n    max_values = []\\n    for i, ndb_s_c_l in enumerate(ndb_sent_clean_long):\\n        values = cosine_similarity(\\n            [sentences_vectors[i]], sentences_vectors[len(ndb_sent_clean_long) :]\\n        )\\n        max_values.append(max(values[0]))\\n    assert len(max_values) == len(ndb_sent_clean_long)\\n    return max_values\";\n",
       "                var nbb_formatted_code = \"def get_sentences(text: str) -> List[str]:\\n    return sent_tokenize(text, language=\\\"german\\\")\\n\\n\\ndef remove_punctuation_sent(sentences: List[str]) -> List[str]:\\n    sentences_clean = []\\n    for sent in sentences:\\n        words_clean = []\\n        words = word_tokenize(sent, language=\\\"german\\\")\\n        for word in words:\\n            word_clean = [c for c in word if c not in string.punctuation]\\n            if word_clean:\\n                words_clean.append(\\\"\\\".join(word_clean))\\n        sentences_clean.append(\\\" \\\".join(words_clean))\\n    return sentences_clean\\n\\n\\ndef remove_punctuation_text(text: str) -> str:\\n    words_clean = []\\n    words = word_tokenize(text, language=\\\"german\\\")\\n    for word in words:\\n        word_clean = [c for c in word if c not in string.punctuation]\\n        if word_clean:\\n            words_clean.append(\\\"\\\".join(word_clean))\\n    return \\\" \\\".join(words_clean)\\n\\n\\ndef remove_short_sentences(sentences: List[str], min_size: int) -> List[str]:\\n    return [\\n        s for s in sentences if len(word_tokenize(s, language=\\\"german\\\")) >= min_size\\n    ]\\n\\n\\ndef get_sentence_equality(ndb_text: str, wikipedia_text: str) -> Tuple[float, int, int]:\\n    \\\"\\\"\\\"Return: sentence_reuse, ndb_wikipedia_sent_match_count, ndb_sent_clean_long_count\\\"\\\"\\\"\\n    # get sentences\\n    ndb_sent = get_sentences(ndb_text)\\n    wikipedia_sent = get_sentences(wikipedia_text)\\n    # remove punctuation\\n    ndb_sent_clean = remove_punctuation_sent(ndb_sent)\\n    wikipedia_sent_clean = remove_punctuation_sent(wikipedia_sent)\\n    # remove sentences that are too short (<5 words)\\n    ndb_sent_clean_long = remove_short_sentences(ndb_sent_clean, min_size=5)\\n    wikipedia_sent_clean_long = remove_short_sentences(wikipedia_sent_clean, min_size=5)\\n\\n    ndb_sent_clean_long_count = len(ndb_sent_clean_long)\\n    if ndb_sent_clean_long_count == 0:\\n        # ZeroDivisionError\\n        return (0, 0, 0)\\n    ndb_wikipedia_sent_match_count = 0\\n    for sent in ndb_sent_clean_long:\\n        if sent in wikipedia_sent_clean_long:\\n            ndb_wikipedia_sent_match_count += 1\\n    sentence_reuse = ndb_wikipedia_sent_match_count / ndb_sent_clean_long_count\\n    return (sentence_reuse, ndb_wikipedia_sent_match_count, ndb_sent_clean_long_count)\\n\\n\\ndef get_ngram_equality(ndb_text: str, wikipedia_text: str, n: int) -> float:\\n    \\\"\\\"\\\"Return: ngram_reuse, ndb_wikipedia_ngram_match_count, ndb_ngram_clean_long_count\\\"\\\"\\\"\\n    # TODO check jaccard metric\\n\\n    # remove punctuation and tokenize\\n    ndb_text_clean = remove_punctuation_text(ndb_text)\\n    ndb_words = word_tokenize(ndb_text_clean, language=\\\"german\\\")\\n    wikipedia_text_clean = remove_punctuation_text(wikipedia_text)\\n    wikipedia_words = word_tokenize(wikipedia_text_clean, language=\\\"german\\\")\\n    # ngrams and sets\\n    ndb_ngram = ngrams(ndb_words, n)\\n    ndb_ngram_set = set(ndb_ngram)\\n    wikipedia_ngram = ngrams(wikipedia_words, n)\\n    wikipedia_ngram_set = set(wikipedia_ngram)\\n    if len(ndb_ngram_set) == 0:\\n        return 0\\n    # intersection ndb wikipedia / ndb   --not (jaccard): intersect - union / union\\n    return len(ndb_ngram_set.intersection(wikipedia_ngram_set)) / len(ndb_ngram_set)\\n\\n\\nst_model_name = \\\"bert-base-nli-mean-tokens\\\"\\nst_model = SentenceTransformer(st_model_name)\\n\\n\\ndef get_embedding_similarity(ndb_text: str, wikipedia_text: str) -> List[float]:\\n    # get sentences\\n    ndb_sent = get_sentences(ndb_text)\\n    wikipedia_sent = get_sentences(wikipedia_text)\\n    # remove punctuation\\n    ndb_sent_clean = remove_punctuation_sent(ndb_sent)\\n    wikipedia_sent_clean = remove_punctuation_sent(wikipedia_sent)\\n    # remove sentences that are too short (<5 words)\\n    ndb_sent_clean_long = remove_short_sentences(ndb_sent_clean, min_size=5)\\n    wikipedia_sent_clean_long = remove_short_sentences(wikipedia_sent_clean, min_size=5)\\n\\n    if len(ndb_sent_clean_long) == 0 or len(wikipedia_sent_clean_long) == 0:\\n        return []\\n\\n    sentences = ndb_sent_clean_long + wikipedia_sent_clean_long\\n    sentences_vectors = st_model.encode(sentences)\\n    max_values = []\\n    for i, ndb_s_c_l in enumerate(ndb_sent_clean_long):\\n        values = cosine_similarity(\\n            [sentences_vectors[i]], sentences_vectors[len(ndb_sent_clean_long) :]\\n        )\\n        max_values.append(max(values[0]))\\n    assert len(max_values) == len(ndb_sent_clean_long)\\n    return max_values\";\n",
       "                var nbb_cells = Jupyter.notebook.get_cells();\n",
       "                for (var i = 0; i < nbb_cells.length; ++i) {\n",
       "                    if (nbb_cells[i].input_prompt_number == nbb_cell_id) {\n",
       "                        if (nbb_cells[i].get_text() == nbb_unformatted_code) {\n",
       "                             nbb_cells[i].set_text(nbb_formatted_code);\n",
       "                        }\n",
       "                        break;\n",
       "                    }\n",
       "                }\n",
       "            }, 500);\n",
       "            "
      ],
      "text/plain": [
       "<IPython.core.display.Javascript object>"
      ]
     },
     "metadata": {},
     "output_type": "display_data"
    }
   ],
   "source": [
    "def get_sentences(text: str) -> List[str]:\n",
    "    return sent_tokenize(text, language=\"german\")\n",
    "\n",
    "\n",
    "def remove_punctuation_sent(sentences: List[str]) -> List[str]:\n",
    "    sentences_clean = []\n",
    "    for sent in sentences:\n",
    "        words_clean = []\n",
    "        words = word_tokenize(sent, language=\"german\")\n",
    "        for word in words:\n",
    "            word_clean = [c for c in word if c not in string.punctuation]\n",
    "            if word_clean:\n",
    "                words_clean.append(\"\".join(word_clean))\n",
    "        sentences_clean.append(\" \".join(words_clean))\n",
    "    return sentences_clean\n",
    "\n",
    "\n",
    "def remove_punctuation_text(text: str) -> str:\n",
    "    words_clean = []\n",
    "    words = word_tokenize(text, language=\"german\")\n",
    "    for word in words:\n",
    "        word_clean = [c for c in word if c not in string.punctuation]\n",
    "        if word_clean:\n",
    "            words_clean.append(\"\".join(word_clean))\n",
    "    return \" \".join(words_clean)\n",
    "\n",
    "\n",
    "def remove_short_sentences(sentences: List[str], min_size: int) -> List[str]:\n",
    "    return [\n",
    "        s for s in sentences if len(word_tokenize(s, language=\"german\")) >= min_size\n",
    "    ]\n",
    "\n",
    "\n",
    "def get_sentence_equality(ndb_text: str, wikipedia_text: str) -> Tuple[float, int, int]:\n",
    "    \"\"\"Return: sentence_reuse, ndb_wikipedia_sent_match_count, ndb_sent_clean_long_count\"\"\"\n",
    "    # get sentences\n",
    "    ndb_sent = get_sentences(ndb_text)\n",
    "    wikipedia_sent = get_sentences(wikipedia_text)\n",
    "    # remove punctuation\n",
    "    ndb_sent_clean = remove_punctuation_sent(ndb_sent)\n",
    "    wikipedia_sent_clean = remove_punctuation_sent(wikipedia_sent)\n",
    "    # remove sentences that are too short (<5 words)\n",
    "    ndb_sent_clean_long = remove_short_sentences(ndb_sent_clean, min_size=5)\n",
    "    wikipedia_sent_clean_long = remove_short_sentences(wikipedia_sent_clean, min_size=5)\n",
    "\n",
    "    ndb_sent_clean_long_count = len(ndb_sent_clean_long)\n",
    "    if ndb_sent_clean_long_count == 0:\n",
    "        # ZeroDivisionError\n",
    "        return (0, 0, 0)\n",
    "    ndb_wikipedia_sent_match_count = 0\n",
    "    for sent in ndb_sent_clean_long:\n",
    "        if sent in wikipedia_sent_clean_long:\n",
    "            ndb_wikipedia_sent_match_count += 1\n",
    "    sentence_reuse = ndb_wikipedia_sent_match_count / ndb_sent_clean_long_count\n",
    "    return (sentence_reuse, ndb_wikipedia_sent_match_count, ndb_sent_clean_long_count)\n",
    "\n",
    "\n",
    "def get_ngram_equality(ndb_text: str, wikipedia_text: str, n: int) -> float:\n",
    "    \"\"\"Return: ngram_reuse, ndb_wikipedia_ngram_match_count, ndb_ngram_clean_long_count\"\"\"\n",
    "    # TODO check jaccard metric\n",
    "\n",
    "    # remove punctuation and tokenize\n",
    "    ndb_text_clean = remove_punctuation_text(ndb_text)\n",
    "    ndb_words = word_tokenize(ndb_text_clean, language=\"german\")\n",
    "    wikipedia_text_clean = remove_punctuation_text(wikipedia_text)\n",
    "    wikipedia_words = word_tokenize(wikipedia_text_clean, language=\"german\")\n",
    "    # ngrams and sets\n",
    "    ndb_ngram = ngrams(ndb_words, n)\n",
    "    ndb_ngram_set = set(ndb_ngram)\n",
    "    wikipedia_ngram = ngrams(wikipedia_words, n)\n",
    "    wikipedia_ngram_set = set(wikipedia_ngram)\n",
    "    if len(ndb_ngram_set) == 0:\n",
    "        return 0\n",
    "    # intersection ndb wikipedia / ndb   --TODO measure with jaccard-metric: 1-(intersect/union):=union-intersect/union\n",
    "    return len(ndb_ngram_set.intersection(wikipedia_ngram_set)) / len(ndb_ngram_set)\n",
    "\n",
    "\n",
    "st_model_name = \"bert-base-nli-mean-tokens\"\n",
    "st_model = SentenceTransformer(st_model_name)\n",
    "\n",
    "\n",
    "def get_embedding_similarity(ndb_text: str, wikipedia_text: str) -> Tuple[List[float],List[float],int,int]:\n",
    "    # get sentences\n",
    "    ndb_sent = get_sentences(ndb_text)\n",
    "    wikipedia_sent = get_sentences(wikipedia_text)\n",
    "    # remove punctuation\n",
    "    ndb_sent_clean = remove_punctuation_sent(ndb_sent)\n",
    "    wikipedia_sent_clean = remove_punctuation_sent(wikipedia_sent)\n",
    "    # remove sentences that are too short (<5 words)\n",
    "    ndb_sent_clean_long = remove_short_sentences(ndb_sent_clean, min_size=5)\n",
    "    wikipedia_sent_clean_long = remove_short_sentences(wikipedia_sent_clean, min_size=5)\n",
    "\n",
    "    if len(ndb_sent_clean_long) == 0 or len(wikipedia_sent_clean_long) == 0:\n",
    "        return ([],[],len(ndb_sent_clean_long),len(wikipedia_sent_clean_long))\n",
    "\n",
    "    sentences = ndb_sent_clean_long + wikipedia_sent_clean_long\n",
    "    sentences_vectors = st_model.encode(sentences)\n",
    "    max_values_ndb = []\n",
    "    for i in range(len(ndb_sent_clean_long)):\n",
    "        values = cosine_similarity(\n",
    "            [sentences_vectors[i]], sentences_vectors[len(ndb_sent_clean_long) :]\n",
    "        )\n",
    "        max_values_ndb.append(max(values[0]))\n",
    "    assert len(max_values_ndb) == len(ndb_sent_clean_long)\n",
    "    max_values_wikipedia = []\n",
    "    for i in range(len(wikipedia_sent_clean_long)):\n",
    "        values = cosine_similarity(\n",
    "            [sentences_vectors[len(ndb_sent_clean_long)+i]], sentences_vectors[:len(ndb_sent_clean_long)]\n",
    "        )\n",
    "        max_values_wikipedia.append(max(values[0]))\n",
    "    assert len(max_values_wikipedia) == len(wikipedia_sent_clean_long)\n",
    "    return (max_values_ndb,max_values_wikipedia,len(ndb_sent_clean_long),len(wikipedia_sent_clean_long))"
   ]
  },
  {
   "cell_type": "code",
   "execution_count": 4,
   "metadata": {},
   "outputs": [
    {
     "data": {
      "application/javascript": [
       "\n",
       "            setTimeout(function() {\n",
       "                var nbb_cell_id = 4;\n",
       "                var nbb_unformatted_code = \"cwd = os.getcwd()\\nrevisions_rel_path = \\\"data/revisions/\\\"\\nrevisions_abs_path = os.path.join(cwd, revisions_rel_path)\\ndirectory = os.fsencode(revisions_abs_path)\\n\\nrevisions_meta_rel_path = \\\"data/revisions_meta/\\\"\\nrevisions_meta_abs_path = os.path.join(cwd, revisions_meta_rel_path)\\n\\npattern_filename_gnd = re.compile(r\\\"^([\\\\w\\\\d]+)|.*.pkl$\\\")\\npattern_year_month = re.compile(r\\\"^\\\\d{4}-\\\\d{2}\\\")\\n\\ncaps = [0, 0.25, 0.5, 0.75, 1]\";\n",
       "                var nbb_formatted_code = \"cwd = os.getcwd()\\nrevisions_rel_path = \\\"data/revisions/\\\"\\nrevisions_abs_path = os.path.join(cwd, revisions_rel_path)\\ndirectory = os.fsencode(revisions_abs_path)\\n\\nrevisions_meta_rel_path = \\\"data/revisions_meta/\\\"\\nrevisions_meta_abs_path = os.path.join(cwd, revisions_meta_rel_path)\\n\\npattern_filename_gnd = re.compile(r\\\"^([\\\\w\\\\d]+)|.*.pkl$\\\")\\npattern_year_month = re.compile(r\\\"^\\\\d{4}-\\\\d{2}\\\")\\n\\ncaps = [0, 0.25, 0.5, 0.75, 1]\";\n",
       "                var nbb_cells = Jupyter.notebook.get_cells();\n",
       "                for (var i = 0; i < nbb_cells.length; ++i) {\n",
       "                    if (nbb_cells[i].input_prompt_number == nbb_cell_id) {\n",
       "                        if (nbb_cells[i].get_text() == nbb_unformatted_code) {\n",
       "                             nbb_cells[i].set_text(nbb_formatted_code);\n",
       "                        }\n",
       "                        break;\n",
       "                    }\n",
       "                }\n",
       "            }, 500);\n",
       "            "
      ],
      "text/plain": [
       "<IPython.core.display.Javascript object>"
      ]
     },
     "metadata": {},
     "output_type": "display_data"
    }
   ],
   "source": [
    "cwd = os.getcwd()\n",
    "revisions_rel_path = \"data/revisions/\"\n",
    "revisions_abs_path = os.path.join(cwd, revisions_rel_path)\n",
    "directory = os.fsencode(revisions_abs_path)\n",
    "\n",
    "revisions_meta_rel_path = \"data/revisions_meta/\"\n",
    "revisions_meta_abs_path = os.path.join(cwd, revisions_meta_rel_path)\n",
    "\n",
    "pattern_filename_gnd = re.compile(r\"^([\\w\\d]+)|.*.pkl$\")\n",
    "pattern_year_month = re.compile(r\"^\\d{4}-\\d{2}\")\n",
    "\n",
    "caps = [0, 0.25, 0.5, 0.75, 1]"
   ]
  },
  {
   "cell_type": "code",
   "execution_count": 5,
   "metadata": {},
   "outputs": [
    {
     "data": {
      "application/javascript": [
       "\n",
       "            setTimeout(function() {\n",
       "                var nbb_cell_id = 5;\n",
       "                var nbb_unformatted_code = \"plt.rcParams[\\\"figure.figsize\\\"] = [10, 5]\";\n",
       "                var nbb_formatted_code = \"plt.rcParams[\\\"figure.figsize\\\"] = [10, 5]\";\n",
       "                var nbb_cells = Jupyter.notebook.get_cells();\n",
       "                for (var i = 0; i < nbb_cells.length; ++i) {\n",
       "                    if (nbb_cells[i].input_prompt_number == nbb_cell_id) {\n",
       "                        if (nbb_cells[i].get_text() == nbb_unformatted_code) {\n",
       "                             nbb_cells[i].set_text(nbb_formatted_code);\n",
       "                        }\n",
       "                        break;\n",
       "                    }\n",
       "                }\n",
       "            }, 500);\n",
       "            "
      ],
      "text/plain": [
       "<IPython.core.display.Javascript object>"
      ]
     },
     "metadata": {},
     "output_type": "display_data"
    }
   ],
   "source": [
    "plt.rcParams[\"figure.figsize\"] = [10, 5]"
   ]
  },
  {
   "cell_type": "markdown",
   "metadata": {},
   "source": [
    "## metric 1: sentence equality"
   ]
  },
  {
   "cell_type": "code",
   "execution_count": null,
   "metadata": {},
   "outputs": [],
   "source": [
    "sentence_reuse_values = []  # (val,val_abs,len) --for example (0.2,4,20)\n",
    "\n",
    "_eval = []\n",
    "_iter = 0\n",
    "for index, row in corpus.iterrows():\n",
    "    _iter += 1\n",
    "    print(f\"processed files: {_iter}/{corpus_rows}\", end=\"\\r\")\n",
    "    # get text\n",
    "    ndb_text = row[\"ndb_text\"]\n",
    "    wikipedia_text = row[\"wikipedia_text\"]\n",
    "    # get sentences\n",
    "    ndb_sent = get_sentences(ndb_text)\n",
    "    wikipedia_sent = get_sentences(wikipedia_text)\n",
    "    # remove punctuation\n",
    "    ndb_sent_clean = remove_punctuation_sent(ndb_sent)\n",
    "    wikipedia_sent_clean = remove_punctuation_sent(wikipedia_sent)\n",
    "    # remove sentences that are too short (<5 words)\n",
    "    ndb_sent_clean_long = remove_short_sentences(ndb_sent_clean, min_size=5)\n",
    "    wikipedia_sent_clean_long = remove_short_sentences(wikipedia_sent_clean, min_size=5)\n",
    "\n",
    "    ndb_sent_clean_long_count = len(ndb_sent_clean_long)\n",
    "    if ndb_sent_clean_long_count == 0:\n",
    "        # ZeroDivisionError\n",
    "        sentence_reuse_values.append((0, 0, 0))\n",
    "        _eval.append(\n",
    "            {\n",
    "                \"ndb_text\": ndb_text,\n",
    "                \"ndb_sent\": ndb_sent,\n",
    "                \"ndb_sent_clean\": ndb_sent_clean,\n",
    "                \"ndb_sent_clean_long\": ndb_sent_clean_long,\n",
    "            }\n",
    "        )\n",
    "        continue\n",
    "    ndb_wikipedia_sent_match_count = 0\n",
    "    for sent in ndb_sent_clean_long:\n",
    "        if sent in wikipedia_sent_clean_long:\n",
    "            ndb_wikipedia_sent_match_count += 1\n",
    "    sentence_reuse = ndb_wikipedia_sent_match_count / ndb_sent_clean_long_count\n",
    "    sentence_reuse_values.append(\n",
    "        (sentence_reuse, ndb_wikipedia_sent_match_count, ndb_sent_clean_long_count)\n",
    "    )\n",
    "\n",
    "sentence_reuse_values.sort(key=lambda x: x[0], reverse=True)\n",
    "print(\"\")\n",
    "print(\"length of ndb_sent_clean_long == 0: \", len(_eval))"
   ]
  },
  {
   "cell_type": "code",
   "execution_count": 40,
   "metadata": {},
   "outputs": [
    {
     "data": {
      "text/plain": [
       "[(0.5, 2, 4),\n",
       " (0.5, 1, 2),\n",
       " (0.5, 4, 8),\n",
       " (0.5, 3, 6),\n",
       " (0.3333333333333333, 1, 3),\n",
       " (0.3333333333333333, 3, 9),\n",
       " (0.3333333333333333, 2, 6),\n",
       " (0.3225806451612903, 10, 31),\n",
       " (0.3076923076923077, 4, 13),\n",
       " (0.2857142857142857, 2, 7),\n",
       " (0.2857142857142857, 4, 14),\n",
       " (0.2857142857142857, 2, 7),\n",
       " (0.25, 1, 4),\n",
       " (0.25, 1, 4),\n",
       " (0.25, 1, 4),\n",
       " (0.25, 1, 4),\n",
       " (0.25, 6, 24),\n",
       " (0.25, 2, 8),\n",
       " (0.21428571428571427, 3, 14),\n",
       " (0.2, 1, 5)]"
      ]
     },
     "execution_count": 40,
     "metadata": {},
     "output_type": "execute_result"
    },
    {
     "data": {
      "application/javascript": [
       "\n",
       "            setTimeout(function() {\n",
       "                var nbb_cell_id = 40;\n",
       "                var nbb_unformatted_code = \"sentence_reuse_values[:20]\";\n",
       "                var nbb_formatted_code = \"sentence_reuse_values[:20]\";\n",
       "                var nbb_cells = Jupyter.notebook.get_cells();\n",
       "                for (var i = 0; i < nbb_cells.length; ++i) {\n",
       "                    if (nbb_cells[i].input_prompt_number == nbb_cell_id) {\n",
       "                        if (nbb_cells[i].get_text() == nbb_unformatted_code) {\n",
       "                             nbb_cells[i].set_text(nbb_formatted_code);\n",
       "                        }\n",
       "                        break;\n",
       "                    }\n",
       "                }\n",
       "            }, 500);\n",
       "            "
      ],
      "text/plain": [
       "<IPython.core.display.Javascript object>"
      ]
     },
     "metadata": {},
     "output_type": "display_data"
    }
   ],
   "source": [
    "sentence_reuse_values[:20]"
   ]
  },
  {
   "cell_type": "code",
   "execution_count": 46,
   "metadata": {},
   "outputs": [
    {
     "name": "stdout",
     "output_type": "stream",
     "text": [
      "equal sentences found:  342\n",
      "reuse median:  0.0\n",
      "reuse mean:  0.0011591444525515348\n",
      "reuse max:  0.5\n",
      "reuse min:  0.0\n",
      "\n",
      "median ndb sentences count:  16.0\n",
      "mean ndb sentences count:  18.971538761960556\n"
     ]
    },
    {
     "data": {
      "application/javascript": [
       "\n",
       "            setTimeout(function() {\n",
       "                var nbb_cell_id = 46;\n",
       "                var nbb_unformatted_code = \"print(\\\"equal sentences found: \\\", sum([v[1] for v in sentence_reuse_values]))\\nprint(\\\"reuse median: \\\", np.median([v[0] for v in sentence_reuse_values]))\\nprint(\\\"reuse mean: \\\", np.mean([v[0] for v in sentence_reuse_values]))\\nprint(\\\"reuse max: \\\", max([v[0] for v in sentence_reuse_values]))\\nprint(\\\"reuse min: \\\", min([v[0] for v in sentence_reuse_values]))\\nprint(\\\"\\\")\\nprint(\\\"median ndb sentences count: \\\", np.median([v[2] for v in sentence_reuse_values]))\\nprint(\\\"mean ndb sentences count: \\\", np.mean([v[2] for v in sentence_reuse_values]))\";\n",
       "                var nbb_formatted_code = \"print(\\\"equal sentences found: \\\", sum([v[1] for v in sentence_reuse_values]))\\nprint(\\\"reuse median: \\\", np.median([v[0] for v in sentence_reuse_values]))\\nprint(\\\"reuse mean: \\\", np.mean([v[0] for v in sentence_reuse_values]))\\nprint(\\\"reuse max: \\\", max([v[0] for v in sentence_reuse_values]))\\nprint(\\\"reuse min: \\\", min([v[0] for v in sentence_reuse_values]))\\nprint(\\\"\\\")\\nprint(\\\"median ndb sentences count: \\\", np.median([v[2] for v in sentence_reuse_values]))\\nprint(\\\"mean ndb sentences count: \\\", np.mean([v[2] for v in sentence_reuse_values]))\";\n",
       "                var nbb_cells = Jupyter.notebook.get_cells();\n",
       "                for (var i = 0; i < nbb_cells.length; ++i) {\n",
       "                    if (nbb_cells[i].input_prompt_number == nbb_cell_id) {\n",
       "                        if (nbb_cells[i].get_text() == nbb_unformatted_code) {\n",
       "                             nbb_cells[i].set_text(nbb_formatted_code);\n",
       "                        }\n",
       "                        break;\n",
       "                    }\n",
       "                }\n",
       "            }, 500);\n",
       "            "
      ],
      "text/plain": [
       "<IPython.core.display.Javascript object>"
      ]
     },
     "metadata": {},
     "output_type": "display_data"
    }
   ],
   "source": [
    "print(\"equal sentences found: \", sum([v[1] for v in sentence_reuse_values]))\n",
    "print(\"reuse median: \", np.median([v[0] for v in sentence_reuse_values]))\n",
    "print(\"reuse mean: \", np.mean([v[0] for v in sentence_reuse_values]))\n",
    "print(\"reuse max: \", max([v[0] for v in sentence_reuse_values]))\n",
    "print(\"reuse min: \", min([v[0] for v in sentence_reuse_values]))\n",
    "print(\"\")\n",
    "print(\"median ndb sentences count: \", np.median([v[2] for v in sentence_reuse_values]))\n",
    "print(\"mean ndb sentences count: \", np.mean([v[2] for v in sentence_reuse_values]))"
   ]
  },
  {
   "cell_type": "code",
   "execution_count": 38,
   "metadata": {
    "scrolled": true
   },
   "outputs": [
    {
     "data": {
      "text/plain": [
       "[{'ndb_text': 'In Österreich, Metallwarenindustrielle',\n",
       "  'ndb_sent': ['In Österreich, Metallwarenindustrielle'],\n",
       "  'ndb_sent_clean': ['In Österreich Metallwarenindustrielle'],\n",
       "  'ndb_sent_clean_long': []},\n",
       " {'ndb_text': 'Siehe Georg von Opel.',\n",
       "  'ndb_sent': ['Siehe Georg von Opel.'],\n",
       "  'ndb_sent_clean': ['Siehe Georg von Opel'],\n",
       "  'ndb_sent_clean_long': []},\n",
       " {'ndb_text': 'Siehe Georg von Opel.',\n",
       "  'ndb_sent': ['Siehe Georg von Opel.'],\n",
       "  'ndb_sent_clean': ['Siehe Georg von Opel'],\n",
       "  'ndb_sent_clean_long': []},\n",
       " {'ndb_text': 'Siehe Georg von Opel.',\n",
       "  'ndb_sent': ['Siehe Georg von Opel.'],\n",
       "  'ndb_sent_clean': ['Siehe Georg von Opel'],\n",
       "  'ndb_sent_clean_long': []},\n",
       " {'ndb_text': 'Siehe Georg von Opel.',\n",
       "  'ndb_sent': ['Siehe Georg von Opel.'],\n",
       "  'ndb_sent_clean': ['Siehe Georg von Opel'],\n",
       "  'ndb_sent_clean_long': []},\n",
       " {'ndb_text': 'Siehe Georg von Opel.',\n",
       "  'ndb_sent': ['Siehe Georg von Opel.'],\n",
       "  'ndb_sent_clean': ['Siehe Georg von Opel'],\n",
       "  'ndb_sent_clean_long': []},\n",
       " {'ndb_text': 'Siehe Georg von Opel.',\n",
       "  'ndb_sent': ['Siehe Georg von Opel.'],\n",
       "  'ndb_sent_clean': ['Siehe Georg von Opel'],\n",
       "  'ndb_sent_clean_long': []},\n",
       " {'ndb_text': 'Siehe Emil Schlagintweit.',\n",
       "  'ndb_sent': ['Siehe Emil Schlagintweit.'],\n",
       "  'ndb_sent_clean': ['Siehe Emil Schlagintweit'],\n",
       "  'ndb_sent_clean_long': []},\n",
       " {'ndb_text': 'Siehe Emil Schlagintweit.',\n",
       "  'ndb_sent': ['Siehe Emil Schlagintweit.'],\n",
       "  'ndb_sent_clean': ['Siehe Emil Schlagintweit'],\n",
       "  'ndb_sent_clean_long': []},\n",
       " {'ndb_text': 'Siehe Emil Schlagintweit.',\n",
       "  'ndb_sent': ['Siehe Emil Schlagintweit.'],\n",
       "  'ndb_sent_clean': ['Siehe Emil Schlagintweit'],\n",
       "  'ndb_sent_clean_long': []},\n",
       " {'ndb_text': 'Biographie s. Cécile Vogt.',\n",
       "  'ndb_sent': ['Biographie s. Cécile Vogt.'],\n",
       "  'ndb_sent_clean': ['Biographie s Cécile Vogt'],\n",
       "  'ndb_sent_clean_long': []}]"
      ]
     },
     "execution_count": 38,
     "metadata": {},
     "output_type": "execute_result"
    },
    {
     "data": {
      "application/javascript": [
       "\n",
       "            setTimeout(function() {\n",
       "                var nbb_cell_id = 38;\n",
       "                var nbb_unformatted_code = \"_eval\";\n",
       "                var nbb_formatted_code = \"_eval\";\n",
       "                var nbb_cells = Jupyter.notebook.get_cells();\n",
       "                for (var i = 0; i < nbb_cells.length; ++i) {\n",
       "                    if (nbb_cells[i].input_prompt_number == nbb_cell_id) {\n",
       "                        if (nbb_cells[i].get_text() == nbb_unformatted_code) {\n",
       "                             nbb_cells[i].set_text(nbb_formatted_code);\n",
       "                        }\n",
       "                        break;\n",
       "                    }\n",
       "                }\n",
       "            }, 500);\n",
       "            "
      ],
      "text/plain": [
       "<IPython.core.display.Javascript object>"
      ]
     },
     "metadata": {},
     "output_type": "display_data"
    }
   ],
   "source": [
    "_eval"
   ]
  },
  {
   "cell_type": "markdown",
   "metadata": {},
   "source": [
    "### boxplots"
   ]
  },
  {
   "cell_type": "code",
   "execution_count": 61,
   "metadata": {},
   "outputs": [
    {
     "data": {
      "application/javascript": [
       "\n",
       "            setTimeout(function() {\n",
       "                var nbb_cell_id = 61;\n",
       "                var nbb_unformatted_code = \"_rel, _abs, _len = [list(t) for t in zip(*sentence_reuse_values)]\";\n",
       "                var nbb_formatted_code = \"_rel, _abs, _len = [list(t) for t in zip(*sentence_reuse_values)]\";\n",
       "                var nbb_cells = Jupyter.notebook.get_cells();\n",
       "                for (var i = 0; i < nbb_cells.length; ++i) {\n",
       "                    if (nbb_cells[i].input_prompt_number == nbb_cell_id) {\n",
       "                        if (nbb_cells[i].get_text() == nbb_unformatted_code) {\n",
       "                             nbb_cells[i].set_text(nbb_formatted_code);\n",
       "                        }\n",
       "                        break;\n",
       "                    }\n",
       "                }\n",
       "            }, 500);\n",
       "            "
      ],
      "text/plain": [
       "<IPython.core.display.Javascript object>"
      ]
     },
     "metadata": {},
     "output_type": "display_data"
    }
   ],
   "source": [
    "_rel, _abs, _len = [list(t) for t in zip(*sentence_reuse_values)]"
   ]
  },
  {
   "cell_type": "code",
   "execution_count": 62,
   "metadata": {},
   "outputs": [
    {
     "data": {
      "text/plain": [
       "{'whiskers': [<matplotlib.lines.Line2D at 0x7f623e39baf0>,\n",
       "  <matplotlib.lines.Line2D at 0x7f623e39bdc0>],\n",
       " 'caps': [<matplotlib.lines.Line2D at 0x7f623e3aa0d0>,\n",
       "  <matplotlib.lines.Line2D at 0x7f623e3aa3a0>],\n",
       " 'boxes': [<matplotlib.lines.Line2D at 0x7f623e39b820>],\n",
       " 'medians': [<matplotlib.lines.Line2D at 0x7f623e3aa670>],\n",
       " 'fliers': [<matplotlib.lines.Line2D at 0x7f623e3aa940>],\n",
       " 'means': []}"
      ]
     },
     "execution_count": 62,
     "metadata": {},
     "output_type": "execute_result"
    },
    {
     "data": {
      "image/png": "[encoded data removed]",
      "text/plain": [
       "<Figure size 432x288 with 1 Axes>"
      ]
     },
     "metadata": {
      "needs_background": "light"
     },
     "output_type": "display_data"
    },
    {
     "data": {
      "application/javascript": [
       "\n",
       "            setTimeout(function() {\n",
       "                var nbb_cell_id = 62;\n",
       "                var nbb_unformatted_code = \"fig1, ax1 = plt.subplots()\\nax1.set_title(\\\"Sentence reuse relative\\\")\\nax1.boxplot(_rel)\";\n",
       "                var nbb_formatted_code = \"fig1, ax1 = plt.subplots()\\nax1.set_title(\\\"Sentence reuse relative\\\")\\nax1.boxplot(_rel)\";\n",
       "                var nbb_cells = Jupyter.notebook.get_cells();\n",
       "                for (var i = 0; i < nbb_cells.length; ++i) {\n",
       "                    if (nbb_cells[i].input_prompt_number == nbb_cell_id) {\n",
       "                        if (nbb_cells[i].get_text() == nbb_unformatted_code) {\n",
       "                             nbb_cells[i].set_text(nbb_formatted_code);\n",
       "                        }\n",
       "                        break;\n",
       "                    }\n",
       "                }\n",
       "            }, 500);\n",
       "            "
      ],
      "text/plain": [
       "<IPython.core.display.Javascript object>"
      ]
     },
     "metadata": {},
     "output_type": "display_data"
    }
   ],
   "source": [
    "fig1, ax1 = plt.subplots()\n",
    "ax1.set_title(\"Sentence reuse relative\")\n",
    "ax1.boxplot(_rel)"
   ]
  },
  {
   "cell_type": "code",
   "execution_count": 63,
   "metadata": {},
   "outputs": [
    {
     "data": {
      "text/plain": [
       "{'whiskers': [<matplotlib.lines.Line2D at 0x7f623e37f820>,\n",
       "  <matplotlib.lines.Line2D at 0x7f623e37faf0>],\n",
       " 'caps': [<matplotlib.lines.Line2D at 0x7f623e37fdc0>,\n",
       "  <matplotlib.lines.Line2D at 0x7f623e30e0d0>],\n",
       " 'boxes': [<matplotlib.lines.Line2D at 0x7f623e37f550>],\n",
       " 'medians': [<matplotlib.lines.Line2D at 0x7f623e30e3a0>],\n",
       " 'fliers': [<matplotlib.lines.Line2D at 0x7f623e30e670>],\n",
       " 'means': []}"
      ]
     },
     "execution_count": 63,
     "metadata": {},
     "output_type": "execute_result"
    },
    {
     "data": {
      "image/png": "[encoded data removed]",
      "text/plain": [
       "<Figure size 432x288 with 1 Axes>"
      ]
     },
     "metadata": {
      "needs_background": "light"
     },
     "output_type": "display_data"
    },
    {
     "data": {
      "application/javascript": [
       "\n",
       "            setTimeout(function() {\n",
       "                var nbb_cell_id = 63;\n",
       "                var nbb_unformatted_code = \"fig1, ax1 = plt.subplots()\\nax1.set_title(\\\"Sentence reuse absolute\\\")\\nax1.boxplot(_abs)\";\n",
       "                var nbb_formatted_code = \"fig1, ax1 = plt.subplots()\\nax1.set_title(\\\"Sentence reuse absolute\\\")\\nax1.boxplot(_abs)\";\n",
       "                var nbb_cells = Jupyter.notebook.get_cells();\n",
       "                for (var i = 0; i < nbb_cells.length; ++i) {\n",
       "                    if (nbb_cells[i].input_prompt_number == nbb_cell_id) {\n",
       "                        if (nbb_cells[i].get_text() == nbb_unformatted_code) {\n",
       "                             nbb_cells[i].set_text(nbb_formatted_code);\n",
       "                        }\n",
       "                        break;\n",
       "                    }\n",
       "                }\n",
       "            }, 500);\n",
       "            "
      ],
      "text/plain": [
       "<IPython.core.display.Javascript object>"
      ]
     },
     "metadata": {},
     "output_type": "display_data"
    }
   ],
   "source": [
    "fig1, ax1 = plt.subplots()\n",
    "ax1.set_title(\"Sentence reuse absolute\")\n",
    "ax1.boxplot(_abs)"
   ]
  },
  {
   "cell_type": "code",
   "execution_count": 64,
   "metadata": {},
   "outputs": [
    {
     "data": {
      "text/plain": [
       "{'whiskers': [<matplotlib.lines.Line2D at 0x7f623e2e09a0>,\n",
       "  <matplotlib.lines.Line2D at 0x7f623e2e0c70>],\n",
       " 'caps': [<matplotlib.lines.Line2D at 0x7f623e2e0f40>,\n",
       "  <matplotlib.lines.Line2D at 0x7f623e2f1250>],\n",
       " 'boxes': [<matplotlib.lines.Line2D at 0x7f623e2e06d0>],\n",
       " 'medians': [<matplotlib.lines.Line2D at 0x7f623e2f1520>],\n",
       " 'fliers': [<matplotlib.lines.Line2D at 0x7f623e2f17f0>],\n",
       " 'means': []}"
      ]
     },
     "execution_count": 64,
     "metadata": {},
     "output_type": "execute_result"
    },
    {
     "data": {
      "image/png": "[encoded data removed]",
      "text/plain": [
       "<Figure size 432x288 with 1 Axes>"
      ]
     },
     "metadata": {
      "needs_background": "light"
     },
     "output_type": "display_data"
    },
    {
     "data": {
      "application/javascript": [
       "\n",
       "            setTimeout(function() {\n",
       "                var nbb_cell_id = 64;\n",
       "                var nbb_unformatted_code = \"fig1, ax1 = plt.subplots()\\nax1.set_title(\\\"Sentences per biography\\\")\\nax1.boxplot(_len)\";\n",
       "                var nbb_formatted_code = \"fig1, ax1 = plt.subplots()\\nax1.set_title(\\\"Sentences per biography\\\")\\nax1.boxplot(_len)\";\n",
       "                var nbb_cells = Jupyter.notebook.get_cells();\n",
       "                for (var i = 0; i < nbb_cells.length; ++i) {\n",
       "                    if (nbb_cells[i].input_prompt_number == nbb_cell_id) {\n",
       "                        if (nbb_cells[i].get_text() == nbb_unformatted_code) {\n",
       "                             nbb_cells[i].set_text(nbb_formatted_code);\n",
       "                        }\n",
       "                        break;\n",
       "                    }\n",
       "                }\n",
       "            }, 500);\n",
       "            "
      ],
      "text/plain": [
       "<IPython.core.display.Javascript object>"
      ]
     },
     "metadata": {},
     "output_type": "display_data"
    }
   ],
   "source": [
    "fig1, ax1 = plt.subplots()\n",
    "ax1.set_title(\"Sentences per biography\")\n",
    "ax1.boxplot(_len)"
   ]
  },
  {
   "cell_type": "markdown",
   "metadata": {},
   "source": [
    "### time dimension for metric 1: reuse for wikipedia version after 0% 25% 50% 75% 100% revisions"
   ]
  },
  {
   "cell_type": "code",
   "execution_count": 73,
   "metadata": {},
   "outputs": [
    {
     "name": "stdout",
     "output_type": "stream",
     "text": [
      "processed files: 20457\r"
     ]
    },
    {
     "data": {
      "application/javascript": [
       "\n",
       "            setTimeout(function() {\n",
       "                var nbb_cell_id = 73;\n",
       "                var nbb_unformatted_code = \"path = os.path.abspath(\\\"\\\")\\ndata_df_rel = \\\"data/df/\\\"\\ndata_df_ndb_abs = os.path.join(path, data_df_rel, \\\"df_ndb_wikipedia.pkl\\\")\\ncorpus = pd.read_pickle(data_df_ndb_abs)\\n\\ncwd = os.getcwd()\\nrevisions_rel_path = \\\"data/revisions/\\\"\\nrevisions_abs_path = os.path.join(cwd, revisions_rel_path)\\ndirectory = os.fsencode(revisions_abs_path)\\n\\nrevisions_meta_rel_path = \\\"data/revisions_meta/\\\"\\nrevisions_meta_abs_path = os.path.join(cwd, revisions_meta_rel_path)\\n\\npattern_filename_gnd = re.compile(r\\\"^([\\\\w\\\\d]+)|.*.pkl$\\\")\\npattern_year_month = re.compile(r\\\"^\\\\d{4}-\\\\d{2}\\\")\\n\\ncaps = [0, 0.25, 0.5, 0.75, 1]\\nsentence_reuse_versions = [[], [], [], [], []]\\n\\n\\nk = 0\\nfor file in os.listdir(directory):\\n    filename = os.fsdecode(file)\\n    if filename.endswith(\\\".pkl\\\"):\\n        k += 1\\n        print(f\\\"processed files: {k}\\\", end=\\\"\\\\r\\\")\\n        biography_revisions_abs = os.path.join(revisions_abs_path, filename)\\n        df = pd.read_pickle(biography_revisions_abs)\\n\\n        gnd = pattern_filename_gnd.search(filename).group(0)\\n        revision_by_gnd_meta_abs = os.path.join(revisions_meta_abs_path, gnd + \\\".pkl\\\")\\n        meta = None\\n        with open(revision_by_gnd_meta_abs, \\\"rb\\\") as f:\\n            meta = pickle.load(f)\\n        # number of rows in df == number of months with >0 revisions in meta\\n        assert df[df.columns[0]].count() == sum(\\n            {k: 1 for k, v in meta[\\\"months\\\"].items() if v > 0}.values()\\n        )\\n\\n        # ndb text\\n        ndb_text = corpus.loc[corpus[\\\"gnd\\\"] == gnd, \\\"ndb_text\\\"].item()\\n\\n        number_revisions = sum(meta[\\\"months\\\"].values())\\n\\n        # get first monthly revision\\n        # get monthy revision after 25% revisions\\n        # get monthy revision after 50% revisions\\n        # get monthy revision after 75% revisions\\n        # get last monthly revision\\n\\n        # calculate revision thresholds\\n        thresholds_revision_number = [\\n            max(min(math.ceil(number_revisions * x), number_revisions), 1) for x in caps\\n        ]\\n        thresholds_year_months = []\\n        for threshold in thresholds_revision_number:\\n            revisions_iter_sum = 0\\n            for year_month, v in meta[\\\"months\\\"].items():\\n                revisions_iter_sum += v\\n                if revisions_iter_sum >= threshold:\\n                    thresholds_year_months.append(year_month)\\n                    break\\n        assert len(thresholds_year_months) == len(caps)\\n        wikipedia_texts = []\\n        for threshold_year_month in thresholds_year_months:\\n            for index, row in df.iterrows():\\n                timestamp = row[\\\"timestamp\\\"]\\n                year_month = pattern_year_month.search(timestamp).group(0)\\n                if year_month == threshold_year_month:\\n                    wikipedia_texts.append(row[\\\"text\\\"])\\n                    break\\n        assert len(wikipedia_texts) == len(caps)\\n        # status quo(txt): ndb and 5 wikipedia versions (first,after 25% rev, after 50% rev, after 75% rev,last)\\n        for i, wikipedia_text in enumerate(wikipedia_texts):\\n            sentence_reuse_versions[i].append(\\n                get_sentence_equality(ndb_text, wikipedia_text)\\n            )\\nwith open(os.path.join(cwd, 'data/reuse/','sentence_equality.pkl'), 'wb') as f:\\n    pickle.dump(sentence_reuse_versions, f)\";\n",
       "                var nbb_formatted_code = \"path = os.path.abspath(\\\"\\\")\\ndata_df_rel = \\\"data/df/\\\"\\ndata_df_ndb_abs = os.path.join(path, data_df_rel, \\\"df_ndb_wikipedia.pkl\\\")\\ncorpus = pd.read_pickle(data_df_ndb_abs)\\n\\ncwd = os.getcwd()\\nrevisions_rel_path = \\\"data/revisions/\\\"\\nrevisions_abs_path = os.path.join(cwd, revisions_rel_path)\\ndirectory = os.fsencode(revisions_abs_path)\\n\\nrevisions_meta_rel_path = \\\"data/revisions_meta/\\\"\\nrevisions_meta_abs_path = os.path.join(cwd, revisions_meta_rel_path)\\n\\npattern_filename_gnd = re.compile(r\\\"^([\\\\w\\\\d]+)|.*.pkl$\\\")\\npattern_year_month = re.compile(r\\\"^\\\\d{4}-\\\\d{2}\\\")\\n\\ncaps = [0, 0.25, 0.5, 0.75, 1]\\nsentence_reuse_versions = [[], [], [], [], []]\\n\\n\\nk = 0\\nfor file in os.listdir(directory):\\n    filename = os.fsdecode(file)\\n    if filename.endswith(\\\".pkl\\\"):\\n        k += 1\\n        print(f\\\"processed files: {k}\\\", end=\\\"\\\\r\\\")\\n        biography_revisions_abs = os.path.join(revisions_abs_path, filename)\\n        df = pd.read_pickle(biography_revisions_abs)\\n\\n        gnd = pattern_filename_gnd.search(filename).group(0)\\n        revision_by_gnd_meta_abs = os.path.join(revisions_meta_abs_path, gnd + \\\".pkl\\\")\\n        meta = None\\n        with open(revision_by_gnd_meta_abs, \\\"rb\\\") as f:\\n            meta = pickle.load(f)\\n        # number of rows in df == number of months with >0 revisions in meta\\n        assert df[df.columns[0]].count() == sum(\\n            {k: 1 for k, v in meta[\\\"months\\\"].items() if v > 0}.values()\\n        )\\n\\n        # ndb text\\n        ndb_text = corpus.loc[corpus[\\\"gnd\\\"] == gnd, \\\"ndb_text\\\"].item()\\n\\n        number_revisions = sum(meta[\\\"months\\\"].values())\\n\\n        # get first monthly revision\\n        # get monthy revision after 25% revisions\\n        # get monthy revision after 50% revisions\\n        # get monthy revision after 75% revisions\\n        # get last monthly revision\\n\\n        # calculate revision thresholds\\n        thresholds_revision_number = [\\n            max(min(math.ceil(number_revisions * x), number_revisions), 1) for x in caps\\n        ]\\n        thresholds_year_months = []\\n        for threshold in thresholds_revision_number:\\n            revisions_iter_sum = 0\\n            for year_month, v in meta[\\\"months\\\"].items():\\n                revisions_iter_sum += v\\n                if revisions_iter_sum >= threshold:\\n                    thresholds_year_months.append(year_month)\\n                    break\\n        assert len(thresholds_year_months) == len(caps)\\n        wikipedia_texts = []\\n        for threshold_year_month in thresholds_year_months:\\n            for index, row in df.iterrows():\\n                timestamp = row[\\\"timestamp\\\"]\\n                year_month = pattern_year_month.search(timestamp).group(0)\\n                if year_month == threshold_year_month:\\n                    wikipedia_texts.append(row[\\\"text\\\"])\\n                    break\\n        assert len(wikipedia_texts) == len(caps)\\n        # status quo(txt): ndb and 5 wikipedia versions (first,after 25% rev, after 50% rev, after 75% rev,last)\\n        for i, wikipedia_text in enumerate(wikipedia_texts):\\n            sentence_reuse_versions[i].append(\\n                get_sentence_equality(ndb_text, wikipedia_text)\\n            )\\nwith open(os.path.join(cwd, \\\"data/reuse/\\\", \\\"sentence_equality.pkl\\\"), \\\"wb\\\") as f:\\n    pickle.dump(sentence_reuse_versions, f)\";\n",
       "                var nbb_cells = Jupyter.notebook.get_cells();\n",
       "                for (var i = 0; i < nbb_cells.length; ++i) {\n",
       "                    if (nbb_cells[i].input_prompt_number == nbb_cell_id) {\n",
       "                        if (nbb_cells[i].get_text() == nbb_unformatted_code) {\n",
       "                             nbb_cells[i].set_text(nbb_formatted_code);\n",
       "                        }\n",
       "                        break;\n",
       "                    }\n",
       "                }\n",
       "            }, 500);\n",
       "            "
      ],
      "text/plain": [
       "<IPython.core.display.Javascript object>"
      ]
     },
     "metadata": {},
     "output_type": "display_data"
    }
   ],
   "source": [
    "sentence_reuse_versions = [[], [], [], [], []]\n",
    "\n",
    "k = 0\n",
    "for file in os.listdir(directory):\n",
    "    filename = os.fsdecode(file)\n",
    "    if filename.endswith(\".pkl\"):\n",
    "        k += 1\n",
    "        print(f\"processed files: {k}\", end=\"\\r\")\n",
    "        biography_revisions_abs = os.path.join(revisions_abs_path, filename)\n",
    "        df = pd.read_pickle(biography_revisions_abs)\n",
    "\n",
    "        gnd = pattern_filename_gnd.search(filename).group(0)\n",
    "        revision_by_gnd_meta_abs = os.path.join(revisions_meta_abs_path, gnd + \".pkl\")\n",
    "        meta = None\n",
    "        with open(revision_by_gnd_meta_abs, \"rb\") as f:\n",
    "            meta = pickle.load(f)\n",
    "        # number of rows in df == number of months with >0 revisions in meta\n",
    "        assert df[df.columns[0]].count() == sum(\n",
    "            {k: 1 for k, v in meta[\"months\"].items() if v > 0}.values()\n",
    "        )\n",
    "\n",
    "        # ndb text\n",
    "        ndb_text = corpus.loc[corpus[\"gnd\"] == gnd, \"ndb_text\"].item()\n",
    "\n",
    "        number_revisions = sum(meta[\"months\"].values())\n",
    "\n",
    "        # get first monthly revision\n",
    "        # get monthy revision after 25% revisions\n",
    "        # get monthy revision after 50% revisions\n",
    "        # get monthy revision after 75% revisions\n",
    "        # get last monthly revision\n",
    "\n",
    "        # calculate revision thresholds\n",
    "        thresholds_revision_number = [\n",
    "            max(min(math.ceil(number_revisions * x), number_revisions), 1) for x in caps\n",
    "        ]\n",
    "        thresholds_year_months = []\n",
    "        for threshold in thresholds_revision_number:\n",
    "            revisions_iter_sum = 0\n",
    "            for year_month, v in meta[\"months\"].items():\n",
    "                revisions_iter_sum += v\n",
    "                if revisions_iter_sum >= threshold:\n",
    "                    thresholds_year_months.append(year_month)\n",
    "                    break\n",
    "        assert len(thresholds_year_months) == len(caps)\n",
    "        wikipedia_texts = []\n",
    "        for threshold_year_month in thresholds_year_months:\n",
    "            for index, row in df.iterrows():\n",
    "                timestamp = row[\"timestamp\"]\n",
    "                year_month = pattern_year_month.search(timestamp).group(0)\n",
    "                if year_month == threshold_year_month:\n",
    "                    wikipedia_texts.append(row[\"text\"])\n",
    "                    break\n",
    "        assert len(wikipedia_texts) == len(caps)\n",
    "        # status quo(txt): ndb and 5 wikipedia versions (first,after 25% rev, after 50% rev, after 75% rev,last)\n",
    "        for i, wikipedia_text in enumerate(wikipedia_texts):\n",
    "            sentence_reuse_versions[i].append(\n",
    "                get_sentence_equality(ndb_text, wikipedia_text)\n",
    "            )\n",
    "with open(os.path.join(cwd, \"data/reuse/\", \"sentence_equality.pkl\"), \"wb\") as f:\n",
    "    pickle.dump(sentence_reuse_versions, f)"
   ]
  },
  {
   "cell_type": "code",
   "execution_count": 8,
   "metadata": {},
   "outputs": [
    {
     "data": {
      "application/javascript": [
       "\n",
       "            setTimeout(function() {\n",
       "                var nbb_cell_id = 8;\n",
       "                var nbb_unformatted_code = \"data = None\\nsent_equality = None\\nwith open(os.path.join(cwd, \\\"data/reuse/\\\", \\\"sentence_equality.pkl\\\"), \\\"rb\\\") as f:\\n    data = pickle.load(f)\\n    sent_equality = [[v[0] for v in x] for x in data]\";\n",
       "                var nbb_formatted_code = \"data = None\\nsent_equality = None\\nwith open(os.path.join(cwd, \\\"data/reuse/\\\", \\\"sentence_equality.pkl\\\"), \\\"rb\\\") as f:\\n    data = pickle.load(f)\\n    sent_equality = [[v[0] for v in x] for x in data]\";\n",
       "                var nbb_cells = Jupyter.notebook.get_cells();\n",
       "                for (var i = 0; i < nbb_cells.length; ++i) {\n",
       "                    if (nbb_cells[i].input_prompt_number == nbb_cell_id) {\n",
       "                        if (nbb_cells[i].get_text() == nbb_unformatted_code) {\n",
       "                             nbb_cells[i].set_text(nbb_formatted_code);\n",
       "                        }\n",
       "                        break;\n",
       "                    }\n",
       "                }\n",
       "            }, 500);\n",
       "            "
      ],
      "text/plain": [
       "<IPython.core.display.Javascript object>"
      ]
     },
     "metadata": {},
     "output_type": "display_data"
    }
   ],
   "source": [
    "data = None\n",
    "sent_equality = None\n",
    "with open(os.path.join(cwd, \"data/reuse/\", \"sentence_equality.pkl\"), \"rb\") as f:\n",
    "    data = pickle.load(f)\n",
    "    sent_equality = [[v[0] for v in x] for x in data]"
   ]
  },
  {
   "cell_type": "code",
   "execution_count": 23,
   "metadata": {},
   "outputs": [
    {
     "data": {
      "application/javascript": [
       "\n",
       "            setTimeout(function() {\n",
       "                var nbb_cell_id = 23;\n",
       "                var nbb_unformatted_code = \"sent_equality_dict = {\\n    \\\"first rev\\\": sent_equality[0],\\n    \\\"25% rev\\\": sent_equality[1],\\n    \\\"50% rev\\\": sent_equality[2],\\n    \\\"75% rev\\\": sent_equality[3],\\n    \\\"last rev\\\": sent_equality[4],\\n}\";\n",
       "                var nbb_formatted_code = \"sent_equality_dict = {\\n    \\\"first rev\\\": sent_equality[0],\\n    \\\"25% rev\\\": sent_equality[1],\\n    \\\"50% rev\\\": sent_equality[2],\\n    \\\"75% rev\\\": sent_equality[3],\\n    \\\"last rev\\\": sent_equality[4],\\n}\";\n",
       "                var nbb_cells = Jupyter.notebook.get_cells();\n",
       "                for (var i = 0; i < nbb_cells.length; ++i) {\n",
       "                    if (nbb_cells[i].input_prompt_number == nbb_cell_id) {\n",
       "                        if (nbb_cells[i].get_text() == nbb_unformatted_code) {\n",
       "                             nbb_cells[i].set_text(nbb_formatted_code);\n",
       "                        }\n",
       "                        break;\n",
       "                    }\n",
       "                }\n",
       "            }, 500);\n",
       "            "
      ],
      "text/plain": [
       "<IPython.core.display.Javascript object>"
      ]
     },
     "metadata": {},
     "output_type": "display_data"
    }
   ],
   "source": [
    "sent_equality_dict = {\n",
    "    \"first rev\": sent_equality[0],\n",
    "    \"25% rev\": sent_equality[1],\n",
    "    \"50% rev\": sent_equality[2],\n",
    "    \"75% rev\": sent_equality[3],\n",
    "    \"last rev\": sent_equality[4],\n",
    "}"
   ]
  },
  {
   "cell_type": "code",
   "execution_count": 24,
   "metadata": {},
   "outputs": [
    {
     "name": "stdout",
     "output_type": "stream",
     "text": [
      "equal sentences:\n",
      "\n",
      "first rev: 280\n",
      "25% rev: 305\n",
      "50% rev: 335\n",
      "75% rev: 334\n",
      "last rev: 337\n"
     ]
    },
    {
     "data": {
      "application/javascript": [
       "\n",
       "            setTimeout(function() {\n",
       "                var nbb_cell_id = 24;\n",
       "                var nbb_unformatted_code = \"print(\\\"equal sentences:\\\\n\\\")\\nfor i, d in enumerate(data):\\n    equal_sentences_nr = sum(\\n        [x for x in sorted([y[1] for y in d], reverse=True) if x > 0]\\n    )\\n    k = list(sent_equality_dict.keys())[i]\\n    print(f\\\"{k}: {equal_sentences_nr}\\\")\";\n",
       "                var nbb_formatted_code = \"print(\\\"equal sentences:\\\\n\\\")\\nfor i, d in enumerate(data):\\n    equal_sentences_nr = sum(\\n        [x for x in sorted([y[1] for y in d], reverse=True) if x > 0]\\n    )\\n    k = list(sent_equality_dict.keys())[i]\\n    print(f\\\"{k}: {equal_sentences_nr}\\\")\";\n",
       "                var nbb_cells = Jupyter.notebook.get_cells();\n",
       "                for (var i = 0; i < nbb_cells.length; ++i) {\n",
       "                    if (nbb_cells[i].input_prompt_number == nbb_cell_id) {\n",
       "                        if (nbb_cells[i].get_text() == nbb_unformatted_code) {\n",
       "                             nbb_cells[i].set_text(nbb_formatted_code);\n",
       "                        }\n",
       "                        break;\n",
       "                    }\n",
       "                }\n",
       "            }, 500);\n",
       "            "
      ],
      "text/plain": [
       "<IPython.core.display.Javascript object>"
      ]
     },
     "metadata": {},
     "output_type": "display_data"
    }
   ],
   "source": [
    "print(\"equal sentences:\\n\")\n",
    "for i, d in enumerate(data):\n",
    "    equal_sentences_nr = sum(\n",
    "        [x for x in sorted([y[1] for y in d], reverse=True) if x > 0]\n",
    "    )\n",
    "    k = list(sent_equality_dict.keys())[i]\n",
    "    print(f\"{k}: {equal_sentences_nr}\")"
   ]
  },
  {
   "cell_type": "markdown",
   "metadata": {},
   "source": [
    "### check correlation between equal sentences and the amount of sentences per biography"
   ]
  },
  {
   "cell_type": "code",
   "execution_count": 47,
   "metadata": {},
   "outputs": [
    {
     "data": {
      "image/png": "[encoded data removed]",
      "text/plain": [
       "<Figure size 576x864 with 5 Axes>"
      ]
     },
     "metadata": {
      "needs_background": "light"
     },
     "output_type": "display_data"
    },
    {
     "data": {
      "application/javascript": [
       "\n",
       "            setTimeout(function() {\n",
       "                var nbb_cell_id = 47;\n",
       "                var nbb_unformatted_code = \"fig, ax = plt.subplots(5, 1, figsize=(8, 12))\\nfor i, vals in enumerate(data):\\n    _x, _y = map(list, zip(*[(x, z) for (x, y, z) in vals]))\\n    ax[i].scatter(_x,_y)\";\n",
       "                var nbb_formatted_code = \"fig, ax = plt.subplots(5, 1, figsize=(8, 12))\\nfor i, vals in enumerate(data):\\n    _x, _y = map(list, zip(*[(x, z) for (x, y, z) in vals]))\\n    ax[i].scatter(_x, _y)\";\n",
       "                var nbb_cells = Jupyter.notebook.get_cells();\n",
       "                for (var i = 0; i < nbb_cells.length; ++i) {\n",
       "                    if (nbb_cells[i].input_prompt_number == nbb_cell_id) {\n",
       "                        if (nbb_cells[i].get_text() == nbb_unformatted_code) {\n",
       "                             nbb_cells[i].set_text(nbb_formatted_code);\n",
       "                        }\n",
       "                        break;\n",
       "                    }\n",
       "                }\n",
       "            }, 500);\n",
       "            "
      ],
      "text/plain": [
       "<IPython.core.display.Javascript object>"
      ]
     },
     "metadata": {},
     "output_type": "display_data"
    }
   ],
   "source": [
    "fig, ax = plt.subplots(5, 1, figsize=(8, 12))\n",
    "for i, vals in enumerate(data):\n",
    "    _x, _y = map(list, zip(*[(x, z) for (x, y, z) in vals]))\n",
    "    ax[i].scatter(_x, _y)"
   ]
  },
  {
   "cell_type": "code",
   "execution_count": 60,
   "metadata": {},
   "outputs": [
    {
     "data": {
      "image/png": "[encoded data removed]",
      "text/plain": [
       "<Figure size 576x864 with 5 Axes>"
      ]
     },
     "metadata": {
      "needs_background": "light"
     },
     "output_type": "display_data"
    },
    {
     "data": {
      "application/javascript": [
       "\n",
       "            setTimeout(function() {\n",
       "                var nbb_cell_id = 60;\n",
       "                var nbb_unformatted_code = \"fig, ax = plt.subplots(5, 1, figsize=(8, 12))\\nfor i, vals in enumerate(data):\\n    _x, _y, _z = map(list, zip(*[(x, y, z) for (x, y, z) in vals if y > 0]))\\n    ax[i].scatter(_x, _z)\\n    ax[i].set_xlim(0, 0.7)\\n    ax[i].set_ylim(0, 65)\";\n",
       "                var nbb_formatted_code = \"fig, ax = plt.subplots(5, 1, figsize=(8, 12))\\nfor i, vals in enumerate(data):\\n    _x, _y, _z = map(list, zip(*[(x, y, z) for (x, y, z) in vals if y > 0]))\\n    ax[i].scatter(_x, _z)\\n    ax[i].set_xlim(0, 0.7)\\n    ax[i].set_ylim(0, 65)\";\n",
       "                var nbb_cells = Jupyter.notebook.get_cells();\n",
       "                for (var i = 0; i < nbb_cells.length; ++i) {\n",
       "                    if (nbb_cells[i].input_prompt_number == nbb_cell_id) {\n",
       "                        if (nbb_cells[i].get_text() == nbb_unformatted_code) {\n",
       "                             nbb_cells[i].set_text(nbb_formatted_code);\n",
       "                        }\n",
       "                        break;\n",
       "                    }\n",
       "                }\n",
       "            }, 500);\n",
       "            "
      ],
      "text/plain": [
       "<IPython.core.display.Javascript object>"
      ]
     },
     "metadata": {},
     "output_type": "display_data"
    }
   ],
   "source": [
    "fig, ax = plt.subplots(5, 1, figsize=(8, 12))\n",
    "for i, vals in enumerate(data):\n",
    "    _x, _y, _z = map(list, zip(*[(x, y, z) for (x, y, z) in vals if y > 0]))\n",
    "    ax[i].scatter(_x, _z)\n",
    "    ax[i].set_xlim(0, 0.7)\n",
    "    ax[i].set_ylim(0, 65)"
   ]
  },
  {
   "cell_type": "code",
   "execution_count": 55,
   "metadata": {},
   "outputs": [
    {
     "data": {
      "text/plain": [
       "(0.0, 65.0)"
      ]
     },
     "execution_count": 55,
     "metadata": {},
     "output_type": "execute_result"
    },
    {
     "data": {
      "image/png": "[encoded data removed]",
      "text/plain": [
       "<Figure size 576x216 with 1 Axes>"
      ]
     },
     "metadata": {
      "needs_background": "light"
     },
     "output_type": "display_data"
    },
    {
     "data": {
      "application/javascript": [
       "\n",
       "            setTimeout(function() {\n",
       "                var nbb_cell_id = 55;\n",
       "                var nbb_unformatted_code = \"plt.rcParams[\\\"figure.figsize\\\"] = [8, 3]\\nx = []\\ny = []\\nfor i in range(1, 10):\\n    for j in range(i, 60):\\n        y.append(j)\\n        x.append(i / j)\\nplt.scatter(x, y)\\nplt.xlim(0, 0.7)\\nplt.ylim(0, 65)\";\n",
       "                var nbb_formatted_code = \"plt.rcParams[\\\"figure.figsize\\\"] = [8, 3]\\nx = []\\ny = []\\nfor i in range(1, 10):\\n    for j in range(i, 60):\\n        y.append(j)\\n        x.append(i / j)\\nplt.scatter(x, y)\\nplt.xlim(0, 0.7)\\nplt.ylim(0, 65)\";\n",
       "                var nbb_cells = Jupyter.notebook.get_cells();\n",
       "                for (var i = 0; i < nbb_cells.length; ++i) {\n",
       "                    if (nbb_cells[i].input_prompt_number == nbb_cell_id) {\n",
       "                        if (nbb_cells[i].get_text() == nbb_unformatted_code) {\n",
       "                             nbb_cells[i].set_text(nbb_formatted_code);\n",
       "                        }\n",
       "                        break;\n",
       "                    }\n",
       "                }\n",
       "            }, 500);\n",
       "            "
      ],
      "text/plain": [
       "<IPython.core.display.Javascript object>"
      ]
     },
     "metadata": {},
     "output_type": "display_data"
    }
   ],
   "source": [
    "# kurven :: abs anzahl an sätzen die übereinstimmen (1te kurve: 1 satz stimmt überein)\n",
    "plt.rcParams[\"figure.figsize\"] = [8, 3]\n",
    "x = []\n",
    "y = []\n",
    "for i in range(1, 10):\n",
    "    for j in range(i, 60):\n",
    "        y.append(j)\n",
    "        x.append(i / j)\n",
    "plt.scatter(x, y)\n",
    "plt.xlim(0, 0.7)\n",
    "plt.ylim(0, 65)"
   ]
  },
  {
   "cell_type": "code",
   "execution_count": 23,
   "metadata": {},
   "outputs": [
    {
     "data": {
      "application/javascript": [
       "\n",
       "            setTimeout(function() {\n",
       "                var nbb_cell_id = 23;\n",
       "                var nbb_unformatted_code = \"fst_abs = np.array([y for (x, y, z) in data[0]])\\nlast_abs = np.array([y for (x, y, z) in data[4]])\\ndiff = fst_abs - last_abs\";\n",
       "                var nbb_formatted_code = \"fst_abs = np.array([y for (x, y, z) in data[0]])\\nlast_abs = np.array([y for (x, y, z) in data[4]])\\ndiff = fst_abs - last_abs\";\n",
       "                var nbb_cells = Jupyter.notebook.get_cells();\n",
       "                for (var i = 0; i < nbb_cells.length; ++i) {\n",
       "                    if (nbb_cells[i].input_prompt_number == nbb_cell_id) {\n",
       "                        if (nbb_cells[i].get_text() == nbb_unformatted_code) {\n",
       "                             nbb_cells[i].set_text(nbb_formatted_code);\n",
       "                        }\n",
       "                        break;\n",
       "                    }\n",
       "                }\n",
       "            }, 500);\n",
       "            "
      ],
      "text/plain": [
       "<IPython.core.display.Javascript object>"
      ]
     },
     "metadata": {},
     "output_type": "display_data"
    }
   ],
   "source": [
    "plt.rcParams[\"figure.figsize\"] = [5, 3]\n",
    "fst_abs = np.array([y for (x, y, z) in data[0]])\n",
    "last_abs = np.array([y for (x, y, z) in data[4]])\n",
    "diff = fst_abs - last_abs"
   ]
  },
  {
   "cell_type": "code",
   "execution_count": 21,
   "metadata": {},
   "outputs": [
    {
     "data": {
      "text/plain": [
       "Text(0, 0.5, 'biographies')"
      ]
     },
     "execution_count": 21,
     "metadata": {},
     "output_type": "execute_result"
    },
    {
     "data": {
      "image/png": "[encoded data removed]",
      "text/plain": [
       "<Figure size 360x216 with 1 Axes>"
      ]
     },
     "metadata": {
      "needs_background": "light"
     },
     "output_type": "display_data"
    },
    {
     "data": {
      "application/javascript": [
       "\n",
       "            setTimeout(function() {\n",
       "                var nbb_cell_id = 21;\n",
       "                var nbb_unformatted_code = \"plt.hist(fst_abs, bins=np.arange(0, 17, 1))\\nplt.yscale(\\\"log\\\")\\nplt.title(\\\"first version\\\")\\nplt.xlabel(\\\"equal sentences abs\\\")\\nplt.ylabel(\\\"biographies\\\")\";\n",
       "                var nbb_formatted_code = \"plt.hist(fst_abs, bins=np.arange(0, 17, 1))\\nplt.yscale(\\\"log\\\")\\nplt.title(\\\"first version\\\")\\nplt.xlabel(\\\"equal sentences abs\\\")\\nplt.ylabel(\\\"biographies\\\")\";\n",
       "                var nbb_cells = Jupyter.notebook.get_cells();\n",
       "                for (var i = 0; i < nbb_cells.length; ++i) {\n",
       "                    if (nbb_cells[i].input_prompt_number == nbb_cell_id) {\n",
       "                        if (nbb_cells[i].get_text() == nbb_unformatted_code) {\n",
       "                             nbb_cells[i].set_text(nbb_formatted_code);\n",
       "                        }\n",
       "                        break;\n",
       "                    }\n",
       "                }\n",
       "            }, 500);\n",
       "            "
      ],
      "text/plain": [
       "<IPython.core.display.Javascript object>"
      ]
     },
     "metadata": {},
     "output_type": "display_data"
    }
   ],
   "source": [
    "plt.hist(fst_abs, bins=np.arange(0, 17, 1))\n",
    "plt.yscale(\"log\")\n",
    "plt.title(\"first version\")\n",
    "plt.xlabel(\"equal sentences abs\")\n",
    "plt.ylabel(\"biographies\")"
   ]
  },
  {
   "cell_type": "code",
   "execution_count": 22,
   "metadata": {},
   "outputs": [
    {
     "data": {
      "text/plain": [
       "Text(0, 0.5, 'biographies')"
      ]
     },
     "execution_count": 22,
     "metadata": {},
     "output_type": "execute_result"
    },
    {
     "data": {
      "image/png": "[encoded data removed]",
      "text/plain": [
       "<Figure size 360x216 with 1 Axes>"
      ]
     },
     "metadata": {
      "needs_background": "light"
     },
     "output_type": "display_data"
    },
    {
     "data": {
      "application/javascript": [
       "\n",
       "            setTimeout(function() {\n",
       "                var nbb_cell_id = 22;\n",
       "                var nbb_unformatted_code = \"plt.hist(last_abs, np.arange(0, 17, 1))\\nplt.yscale(\\\"log\\\")\\nplt.title(\\\"last version\\\")\\nplt.xlabel(\\\"equal sentences abs\\\")\\nplt.ylabel(\\\"biographies\\\")\";\n",
       "                var nbb_formatted_code = \"plt.hist(last_abs, np.arange(0, 17, 1))\\nplt.yscale(\\\"log\\\")\\nplt.title(\\\"last version\\\")\\nplt.xlabel(\\\"equal sentences abs\\\")\\nplt.ylabel(\\\"biographies\\\")\";\n",
       "                var nbb_cells = Jupyter.notebook.get_cells();\n",
       "                for (var i = 0; i < nbb_cells.length; ++i) {\n",
       "                    if (nbb_cells[i].input_prompt_number == nbb_cell_id) {\n",
       "                        if (nbb_cells[i].get_text() == nbb_unformatted_code) {\n",
       "                             nbb_cells[i].set_text(nbb_formatted_code);\n",
       "                        }\n",
       "                        break;\n",
       "                    }\n",
       "                }\n",
       "            }, 500);\n",
       "            "
      ],
      "text/plain": [
       "<IPython.core.display.Javascript object>"
      ]
     },
     "metadata": {},
     "output_type": "display_data"
    }
   ],
   "source": [
    "plt.hist(last_abs, np.arange(0, 17, 1))\n",
    "plt.yscale(\"log\")\n",
    "plt.title(\"last version\")\n",
    "plt.xlabel(\"equal sentences abs\")\n",
    "plt.ylabel(\"biographies\")"
   ]
  },
  {
   "cell_type": "code",
   "execution_count": 26,
   "metadata": {},
   "outputs": [
    {
     "data": {
      "text/plain": [
       "Text(0, 0.5, 'biographies')"
      ]
     },
     "execution_count": 26,
     "metadata": {},
     "output_type": "execute_result"
    },
    {
     "data": {
      "image/png": "[encoded data removed]",
      "text/plain": [
       "<Figure size 360x216 with 1 Axes>"
      ]
     },
     "metadata": {
      "needs_background": "light"
     },
     "output_type": "display_data"
    },
    {
     "data": {
      "application/javascript": [
       "\n",
       "            setTimeout(function() {\n",
       "                var nbb_cell_id = 26;\n",
       "                var nbb_unformatted_code = \"plt.hist(diff, bins=np.arange(-8, 17, 1))\\nplt.yscale(\\\"log\\\")\\nplt.title(\\\"diff: first - last (version)\\\")\\nplt.xlabel(\\\"equal sentences abs\\\")\\nplt.ylabel(\\\"biographies\\\")\";\n",
       "                var nbb_formatted_code = \"plt.hist(diff, bins=np.arange(-8, 17, 1))\\nplt.yscale(\\\"log\\\")\\nplt.title(\\\"diff: first - last (version)\\\")\\nplt.xlabel(\\\"equal sentences abs\\\")\\nplt.ylabel(\\\"biographies\\\")\";\n",
       "                var nbb_cells = Jupyter.notebook.get_cells();\n",
       "                for (var i = 0; i < nbb_cells.length; ++i) {\n",
       "                    if (nbb_cells[i].input_prompt_number == nbb_cell_id) {\n",
       "                        if (nbb_cells[i].get_text() == nbb_unformatted_code) {\n",
       "                             nbb_cells[i].set_text(nbb_formatted_code);\n",
       "                        }\n",
       "                        break;\n",
       "                    }\n",
       "                }\n",
       "            }, 500);\n",
       "            "
      ],
      "text/plain": [
       "<IPython.core.display.Javascript object>"
      ]
     },
     "metadata": {},
     "output_type": "display_data"
    }
   ],
   "source": [
    "plt.hist(diff, bins=np.arange(-8, 17, 1))\n",
    "plt.yscale(\"log\")\n",
    "plt.title(\"diff: first - last (version)\")\n",
    "plt.xlabel(\"equal sentences abs\")\n",
    "plt.ylabel(\"biographies\")"
   ]
  },
  {
   "cell_type": "code",
   "execution_count": 15,
   "metadata": {},
   "outputs": [
    {
     "name": "stdout",
     "output_type": "stream",
     "text": [
      "2.0701754385964914\n"
     ]
    },
    {
     "data": {
      "application/javascript": [
       "\n",
       "            setTimeout(function() {\n",
       "                var nbb_cell_id = 15;\n",
       "                var nbb_unformatted_code = \"print(len(diff[diff < 0]) / len(diff[diff > 0]))\";\n",
       "                var nbb_formatted_code = \"print(len(diff[diff < 0]) / len(diff[diff > 0]))\";\n",
       "                var nbb_cells = Jupyter.notebook.get_cells();\n",
       "                for (var i = 0; i < nbb_cells.length; ++i) {\n",
       "                    if (nbb_cells[i].input_prompt_number == nbb_cell_id) {\n",
       "                        if (nbb_cells[i].get_text() == nbb_unformatted_code) {\n",
       "                             nbb_cells[i].set_text(nbb_formatted_code);\n",
       "                        }\n",
       "                        break;\n",
       "                    }\n",
       "                }\n",
       "            }, 500);\n",
       "            "
      ],
      "text/plain": [
       "<IPython.core.display.Javascript object>"
      ]
     },
     "metadata": {},
     "output_type": "display_data"
    }
   ],
   "source": [
    "print(len(diff[diff < 0]) / len(diff[diff > 0]))"
   ]
  },
  {
   "cell_type": "code",
   "execution_count": null,
   "metadata": {},
   "outputs": [],
   "source": [
    "# >1 -> kommt mehr dazu (,aber wie viel?)"
   ]
  },
  {
   "cell_type": "markdown",
   "metadata": {},
   "source": [
    "### eval boxplots"
   ]
  },
  {
   "cell_type": "code",
   "execution_count": 87,
   "metadata": {},
   "outputs": [
    {
     "data": {
      "text/plain": [
       "[Text(1, 0, 'first rev'),\n",
       " Text(2, 0, '25% rev'),\n",
       " Text(3, 0, '50% rev'),\n",
       " Text(4, 0, '75% rev'),\n",
       " Text(5, 0, 'last rev')]"
      ]
     },
     "execution_count": 87,
     "metadata": {},
     "output_type": "execute_result"
    },
    {
     "data": {
      "image/png": "[encoded data removed]",
      "text/plain": [
       "<Figure size 720x360 with 1 Axes>"
      ]
     },
     "metadata": {
      "needs_background": "light"
     },
     "output_type": "display_data"
    },
    {
     "data": {
      "application/javascript": [
       "\n",
       "            setTimeout(function() {\n",
       "                var nbb_cell_id = 87;\n",
       "                var nbb_unformatted_code = \"fig, ax = plt.subplots()\\nax.boxplot(sent_equality_dict.values())\\nax.set_xticklabels(sent_equality_dict.keys())\";\n",
       "                var nbb_formatted_code = \"fig, ax = plt.subplots()\\nax.boxplot(sent_equality_dict.values())\\nax.set_xticklabels(sent_equality_dict.keys())\";\n",
       "                var nbb_cells = Jupyter.notebook.get_cells();\n",
       "                for (var i = 0; i < nbb_cells.length; ++i) {\n",
       "                    if (nbb_cells[i].input_prompt_number == nbb_cell_id) {\n",
       "                        if (nbb_cells[i].get_text() == nbb_unformatted_code) {\n",
       "                             nbb_cells[i].set_text(nbb_formatted_code);\n",
       "                        }\n",
       "                        break;\n",
       "                    }\n",
       "                }\n",
       "            }, 500);\n",
       "            "
      ],
      "text/plain": [
       "<IPython.core.display.Javascript object>"
      ]
     },
     "metadata": {},
     "output_type": "display_data"
    }
   ],
   "source": [
    "fig, ax = plt.subplots()\n",
    "ax.boxplot(sent_equality_dict.values())\n",
    "ax.set_xticklabels(sent_equality_dict.keys())"
   ]
  },
  {
   "cell_type": "code",
   "execution_count": 88,
   "metadata": {},
   "outputs": [
    {
     "data": {
      "application/javascript": [
       "\n",
       "            setTimeout(function() {\n",
       "                var nbb_cell_id = 88;\n",
       "                var nbb_unformatted_code = \"sent_equality_dict_zeros_removed = {\\n    k: [x for x in v if x > 0] for k, v in sent_equality_dict.items()\\n}\";\n",
       "                var nbb_formatted_code = \"sent_equality_dict_zeros_removed = {\\n    k: [x for x in v if x > 0] for k, v in sent_equality_dict.items()\\n}\";\n",
       "                var nbb_cells = Jupyter.notebook.get_cells();\n",
       "                for (var i = 0; i < nbb_cells.length; ++i) {\n",
       "                    if (nbb_cells[i].input_prompt_number == nbb_cell_id) {\n",
       "                        if (nbb_cells[i].get_text() == nbb_unformatted_code) {\n",
       "                             nbb_cells[i].set_text(nbb_formatted_code);\n",
       "                        }\n",
       "                        break;\n",
       "                    }\n",
       "                }\n",
       "            }, 500);\n",
       "            "
      ],
      "text/plain": [
       "<IPython.core.display.Javascript object>"
      ]
     },
     "metadata": {},
     "output_type": "display_data"
    }
   ],
   "source": [
    "sent_equality_dict_zeros_removed = {\n",
    "    k: [x for x in v if x > 0] for k, v in sent_equality_dict.items()\n",
    "}"
   ]
  },
  {
   "cell_type": "code",
   "execution_count": 89,
   "metadata": {},
   "outputs": [
    {
     "data": {
      "text/plain": [
       "[Text(1, 0, 'first rev'),\n",
       " Text(2, 0, '25% rev'),\n",
       " Text(3, 0, '50% rev'),\n",
       " Text(4, 0, '75% rev'),\n",
       " Text(5, 0, 'last rev')]"
      ]
     },
     "execution_count": 89,
     "metadata": {},
     "output_type": "execute_result"
    },
    {
     "data": {
      "image/png": "[encoded data removed]",
      "text/plain": [
       "<Figure size 720x360 with 1 Axes>"
      ]
     },
     "metadata": {
      "needs_background": "light"
     },
     "output_type": "display_data"
    },
    {
     "data": {
      "application/javascript": [
       "\n",
       "            setTimeout(function() {\n",
       "                var nbb_cell_id = 89;\n",
       "                var nbb_unformatted_code = \"fig, ax = plt.subplots()\\nax.boxplot(sent_equality_dict_zeros_removed.values())\\nax.set_xticklabels(sent_equality_dict_zeros_removed.keys())\";\n",
       "                var nbb_formatted_code = \"fig, ax = plt.subplots()\\nax.boxplot(sent_equality_dict_zeros_removed.values())\\nax.set_xticklabels(sent_equality_dict_zeros_removed.keys())\";\n",
       "                var nbb_cells = Jupyter.notebook.get_cells();\n",
       "                for (var i = 0; i < nbb_cells.length; ++i) {\n",
       "                    if (nbb_cells[i].input_prompt_number == nbb_cell_id) {\n",
       "                        if (nbb_cells[i].get_text() == nbb_unformatted_code) {\n",
       "                             nbb_cells[i].set_text(nbb_formatted_code);\n",
       "                        }\n",
       "                        break;\n",
       "                    }\n",
       "                }\n",
       "            }, 500);\n",
       "            "
      ],
      "text/plain": [
       "<IPython.core.display.Javascript object>"
      ]
     },
     "metadata": {},
     "output_type": "display_data"
    }
   ],
   "source": [
    "fig, ax = plt.subplots()\n",
    "ax.boxplot(sent_equality_dict_zeros_removed.values())\n",
    "ax.set_xticklabels(sent_equality_dict_zeros_removed.keys())"
   ]
  },
  {
   "cell_type": "code",
   "execution_count": 100,
   "metadata": {},
   "outputs": [
    {
     "data": {
      "image/png": "[encoded data removed]",
      "text/plain": [
       "<Figure size 576x864 with 5 Axes>"
      ]
     },
     "metadata": {
      "needs_background": "light"
     },
     "output_type": "display_data"
    },
    {
     "data": {
      "application/javascript": [
       "\n",
       "            setTimeout(function() {\n",
       "                var nbb_cell_id = 100;\n",
       "                var nbb_unformatted_code = \"fig, ax = plt.subplots(5, 1, figsize=(8, 12))\\nfor i, key in enumerate(sent_equality_dict_zeros_removed):\\n    tmp = np.array(sent_equality_dict[key])\\n    ax[i].hist(\\n        temp[tmp > 0],\\n        label=f\\\"mean={np.mean(tmp):.4f}; rms={np.std(tmp):.4f}\\\", #mean and  rms from all datapoints!\\n        bins=np.arange(0, 1.1, 0.1),\\n    )\\n    ax[i].legend(loc=\\\"best\\\")\";\n",
       "                var nbb_formatted_code = \"fig, ax = plt.subplots(5, 1, figsize=(8, 12))\\nfor i, key in enumerate(sent_equality_dict_zeros_removed):\\n    tmp = np.array(sent_equality_dict[key])\\n    ax[i].hist(\\n        temp[tmp > 0],\\n        label=f\\\"mean={np.mean(tmp):.4f}; rms={np.std(tmp):.4f}\\\",  # mean and  rms from all datapoints!\\n        bins=np.arange(0, 1.1, 0.1),\\n    )\\n    ax[i].legend(loc=\\\"best\\\")\";\n",
       "                var nbb_cells = Jupyter.notebook.get_cells();\n",
       "                for (var i = 0; i < nbb_cells.length; ++i) {\n",
       "                    if (nbb_cells[i].input_prompt_number == nbb_cell_id) {\n",
       "                        if (nbb_cells[i].get_text() == nbb_unformatted_code) {\n",
       "                             nbb_cells[i].set_text(nbb_formatted_code);\n",
       "                        }\n",
       "                        break;\n",
       "                    }\n",
       "                }\n",
       "            }, 500);\n",
       "            "
      ],
      "text/plain": [
       "<IPython.core.display.Javascript object>"
      ]
     },
     "metadata": {},
     "output_type": "display_data"
    }
   ],
   "source": [
    "fig, ax = plt.subplots(5, 1, figsize=(8, 12))\n",
    "for i, key in enumerate(sent_equality_dict_zeros_removed):\n",
    "    tmp = np.array(sent_equality_dict[key])\n",
    "    ax[i].hist(\n",
    "        temp[tmp > 0],\n",
    "        label=f\"mean={np.mean(tmp):.4f}; rms={np.std(tmp):.4f}\",  # mean and  rms from all datapoints!\n",
    "        bins=np.arange(0, 1.1, 0.1),\n",
    "    )\n",
    "    ax[i].legend(loc=\"best\")"
   ]
  },
  {
   "cell_type": "markdown",
   "metadata": {},
   "source": [
    "### logplot"
   ]
  },
  {
   "cell_type": "code",
   "execution_count": 99,
   "metadata": {},
   "outputs": [
    {
     "data": {
      "image/png": "[encoded data removed]",
      "text/plain": [
       "<Figure size 576x864 with 5 Axes>"
      ]
     },
     "metadata": {
      "needs_background": "light"
     },
     "output_type": "display_data"
    },
    {
     "data": {
      "application/javascript": [
       "\n",
       "            setTimeout(function() {\n",
       "                var nbb_cell_id = 99;\n",
       "                var nbb_unformatted_code = \"fig, ax = plt.subplots(5, 1, figsize=(8, 12))\\nfor i, key in enumerate(sent_equality_dict):\\n    tmp = np.array(sent_equality_dict[key])\\n    bins = np.arange(0, 1.1, 0.1)\\n    ax[i].hist(tmp, bins, label=f\\\"mean={np.mean(tmp):.4f}; rms={np.std(tmp):.4f}\\\") #root mean squared\\n    ax[i].set_yscale(\\\"log\\\")\\n    ax[i].legend(loc=\\\"best\\\")\";\n",
       "                var nbb_formatted_code = \"fig, ax = plt.subplots(5, 1, figsize=(8, 12))\\nfor i, key in enumerate(sent_equality_dict):\\n    tmp = np.array(sent_equality_dict[key])\\n    bins = np.arange(0, 1.1, 0.1)\\n    ax[i].hist(\\n        tmp, bins, label=f\\\"mean={np.mean(tmp):.4f}; rms={np.std(tmp):.4f}\\\"\\n    )  # root mean squared\\n    ax[i].set_yscale(\\\"log\\\")\\n    ax[i].legend(loc=\\\"best\\\")\";\n",
       "                var nbb_cells = Jupyter.notebook.get_cells();\n",
       "                for (var i = 0; i < nbb_cells.length; ++i) {\n",
       "                    if (nbb_cells[i].input_prompt_number == nbb_cell_id) {\n",
       "                        if (nbb_cells[i].get_text() == nbb_unformatted_code) {\n",
       "                             nbb_cells[i].set_text(nbb_formatted_code);\n",
       "                        }\n",
       "                        break;\n",
       "                    }\n",
       "                }\n",
       "            }, 500);\n",
       "            "
      ],
      "text/plain": [
       "<IPython.core.display.Javascript object>"
      ]
     },
     "metadata": {},
     "output_type": "display_data"
    }
   ],
   "source": [
    "fig, ax = plt.subplots(5, 1, figsize=(8, 12))\n",
    "for i, key in enumerate(sent_equality_dict):\n",
    "    tmp = np.array(sent_equality_dict[key])\n",
    "    bins = np.arange(0, 1.1, 0.1)\n",
    "    ax[i].hist(\n",
    "        tmp, bins, label=f\"mean={np.mean(tmp):.4f}; rms={np.std(tmp):.4f}\"\n",
    "    )  # root mean squared\n",
    "    ax[i].set_yscale(\"log\")\n",
    "    ax[i].legend(loc=\"best\")"
   ]
  },
  {
   "cell_type": "markdown",
   "metadata": {},
   "source": [
    "### violinplot"
   ]
  },
  {
   "cell_type": "code",
   "execution_count": 144,
   "metadata": {},
   "outputs": [
    {
     "data": {
      "image/png": "[encoded data removed]",
      "text/plain": [
       "<Figure size 720x360 with 1 Axes>"
      ]
     },
     "metadata": {},
     "output_type": "display_data"
    },
    {
     "data": {
      "application/javascript": [
       "\n",
       "            setTimeout(function() {\n",
       "                var nbb_cell_id = 144;\n",
       "                var nbb_unformatted_code = \"df_dict = {\\\"version\\\": [], \\\"value\\\": []}\\nfor k, v in sent_equality_dict.items():\\n    df_dict[\\\"version\\\"] += [k for i in range(len(v))]\\n    df_dict[\\\"value\\\"] += v\\ndf_vp = pd.DataFrame.from_dict(df_dict)\\nax = sns.violinplot(\\n    x=\\\"value\\\",\\n    y=\\\"version\\\",\\n    data=df_vp,\\n    scale=\\\"width\\\",\\n    palette=\\\"Set3\\\",\\n)\";\n",
       "                var nbb_formatted_code = \"df_dict = {\\\"version\\\": [], \\\"value\\\": []}\\nfor k, v in sent_equality_dict.items():\\n    df_dict[\\\"version\\\"] += [k for i in range(len(v))]\\n    df_dict[\\\"value\\\"] += v\\ndf_vp = pd.DataFrame.from_dict(df_dict)\\nax = sns.violinplot(\\n    x=\\\"value\\\",\\n    y=\\\"version\\\",\\n    data=df_vp,\\n    scale=\\\"width\\\",\\n    palette=\\\"Set3\\\",\\n)\";\n",
       "                var nbb_cells = Jupyter.notebook.get_cells();\n",
       "                for (var i = 0; i < nbb_cells.length; ++i) {\n",
       "                    if (nbb_cells[i].input_prompt_number == nbb_cell_id) {\n",
       "                        if (nbb_cells[i].get_text() == nbb_unformatted_code) {\n",
       "                             nbb_cells[i].set_text(nbb_formatted_code);\n",
       "                        }\n",
       "                        break;\n",
       "                    }\n",
       "                }\n",
       "            }, 500);\n",
       "            "
      ],
      "text/plain": [
       "<IPython.core.display.Javascript object>"
      ]
     },
     "metadata": {},
     "output_type": "display_data"
    }
   ],
   "source": [
    "df_dict = {\"version\": [], \"value\": []}\n",
    "for k, v in sent_equality_dict.items():\n",
    "    df_dict[\"version\"] += [k for i in range(len(v))]\n",
    "    df_dict[\"value\"] += v\n",
    "df_vp = pd.DataFrame.from_dict(df_dict)\n",
    "ax = sns.violinplot(\n",
    "    x=\"value\",\n",
    "    y=\"version\",\n",
    "    data=df_vp,\n",
    "    scale=\"width\",\n",
    "    palette=\"Set3\",\n",
    ")"
   ]
  },
  {
   "cell_type": "code",
   "execution_count": 145,
   "metadata": {},
   "outputs": [
    {
     "data": {
      "image/png": "[encoded data removed]",
      "text/plain": [
       "<Figure size 720x360 with 1 Axes>"
      ]
     },
     "metadata": {},
     "output_type": "display_data"
    },
    {
     "data": {
      "application/javascript": [
       "\n",
       "            setTimeout(function() {\n",
       "                var nbb_cell_id = 145;\n",
       "                var nbb_unformatted_code = \"df_dict = {\\\"version\\\": [], \\\"value\\\": []}\\nfor k, v in sent_equality_dict.items():\\n    df_dict[\\\"version\\\"] += [k for i in range(len(v))]\\n    df_dict[\\\"value\\\"] += v\\ndf_vp = pd.DataFrame.from_dict(df_dict)\\nax = sns.violinplot(\\n    x=\\\"value\\\",\\n    y=\\\"version\\\",\\n    data=df_vp[df_vp.value>0],\\n    scale=\\\"width\\\",\\n    palette=\\\"Set3\\\",\\n)\";\n",
       "                var nbb_formatted_code = \"df_dict = {\\\"version\\\": [], \\\"value\\\": []}\\nfor k, v in sent_equality_dict.items():\\n    df_dict[\\\"version\\\"] += [k for i in range(len(v))]\\n    df_dict[\\\"value\\\"] += v\\ndf_vp = pd.DataFrame.from_dict(df_dict)\\nax = sns.violinplot(\\n    x=\\\"value\\\",\\n    y=\\\"version\\\",\\n    data=df_vp[df_vp.value > 0],\\n    scale=\\\"width\\\",\\n    palette=\\\"Set3\\\",\\n)\";\n",
       "                var nbb_cells = Jupyter.notebook.get_cells();\n",
       "                for (var i = 0; i < nbb_cells.length; ++i) {\n",
       "                    if (nbb_cells[i].input_prompt_number == nbb_cell_id) {\n",
       "                        if (nbb_cells[i].get_text() == nbb_unformatted_code) {\n",
       "                             nbb_cells[i].set_text(nbb_formatted_code);\n",
       "                        }\n",
       "                        break;\n",
       "                    }\n",
       "                }\n",
       "            }, 500);\n",
       "            "
      ],
      "text/plain": [
       "<IPython.core.display.Javascript object>"
      ]
     },
     "metadata": {},
     "output_type": "display_data"
    }
   ],
   "source": [
    "df_dict = {\"version\": [], \"value\": []}\n",
    "for k, v in sent_equality_dict.items():\n",
    "    df_dict[\"version\"] += [k for i in range(len(v))]\n",
    "    df_dict[\"value\"] += v\n",
    "df_vp = pd.DataFrame.from_dict(df_dict)\n",
    "ax = sns.violinplot(\n",
    "    x=\"value\",\n",
    "    y=\"version\",\n",
    "    data=df_vp[df_vp.value > 0],\n",
    "    scale=\"width\",\n",
    "    palette=\"Set3\",\n",
    ")"
   ]
  },
  {
   "cell_type": "markdown",
   "metadata": {},
   "source": [
    "## metric 2: n-gram (n=4,5,6,7)"
   ]
  },
  {
   "cell_type": "code",
   "execution_count": null,
   "metadata": {},
   "outputs": [],
   "source": [
    "#TODO Jaccard Coefficient p.241,https://link.springer.com/content/pdf/10.1007/978-3-642-22348-8_19.pdf"
   ]
  },
  {
   "cell_type": "code",
   "execution_count": 80,
   "metadata": {},
   "outputs": [
    {
     "name": "stdout",
     "output_type": "stream",
     "text": [
      "processed files: 20457\r"
     ]
    },
    {
     "data": {
      "application/javascript": [
       "\n",
       "            setTimeout(function() {\n",
       "                var nbb_cell_id = 80;\n",
       "                var nbb_unformatted_code = \"# len of each inner list:20457\\nngram_reuse_versions = [[], [], [], [], []]\\nn = 7\\n\\nk = 0\\nfor file in os.listdir(directory):\\n    filename = os.fsdecode(file)\\n    if filename.endswith(\\\".pkl\\\"):\\n        k += 1\\n        print(f\\\"processed files: {k}\\\", end=\\\"\\\\r\\\")\\n        biography_revisions_abs = os.path.join(revisions_abs_path, filename)\\n        df = pd.read_pickle(biography_revisions_abs)\\n\\n        gnd = pattern_filename_gnd.search(filename).group(0)\\n        revision_by_gnd_meta_abs = os.path.join(revisions_meta_abs_path, gnd + \\\".pkl\\\")\\n        meta = None\\n        with open(revision_by_gnd_meta_abs, \\\"rb\\\") as f:\\n            meta = pickle.load(f)\\n        # number of rows in df == number of months with >0 revisions in meta\\n        assert df[df.columns[0]].count() == sum(\\n            {k: 1 for k, v in meta[\\\"months\\\"].items() if v > 0}.values()\\n        )\\n\\n        # ndb text\\n        ndb_text = corpus.loc[corpus[\\\"gnd\\\"] == gnd, \\\"ndb_text\\\"].item()\\n\\n        number_revisions = sum(meta[\\\"months\\\"].values())\\n\\n        # get first monthly revision\\n        # get monthy revision after 25% revisions\\n        # get monthy revision after 50% revisions\\n        # get monthy revision after 75% revisions\\n        # get last monthly revision\\n\\n        # calculate revision thresholds\\n        thresholds_revision_number = [\\n            max(min(math.ceil(number_revisions * x), number_revisions), 1) for x in caps\\n        ]\\n        thresholds_year_months = []\\n        for threshold in thresholds_revision_number:\\n            revisions_iter_sum = 0\\n            for year_month, v in meta[\\\"months\\\"].items():\\n                revisions_iter_sum += v\\n                if revisions_iter_sum >= threshold:\\n                    thresholds_year_months.append(year_month)\\n                    break\\n        assert len(thresholds_year_months) == len(caps)\\n        wikipedia_texts = []\\n        for threshold_year_month in thresholds_year_months:\\n            for index, row in df.iterrows():\\n                timestamp = row[\\\"timestamp\\\"]\\n                year_month = pattern_year_month.search(timestamp).group(0)\\n                if year_month == threshold_year_month:\\n                    wikipedia_texts.append(row[\\\"text\\\"])\\n                    break\\n        assert len(wikipedia_texts) == len(caps)\\n        # status quo(txt): ndb and 5 wikipedia versions (first,after 25% rev, after 50% rev, after 75% rev,last)\\n        for i, wikipedia_text in enumerate(wikipedia_texts):\\n            ngram_reuse_versions[i].append(\\n                get_ngram_equality(ndb_text, wikipedia_text, n=n)\\n            )\\nwith open(os.path.join(cwd, \\\"data/reuse/\\\", str(n) + \\\"-gram_equality.pkl\\\"), \\\"wb\\\") as f:\\n    pickle.dump(ngram_reuse_versions, f)\";\n",
       "                var nbb_formatted_code = \"# len of each inner list:20457\\nngram_reuse_versions = [[], [], [], [], []]\\nn = 7\\n\\nk = 0\\nfor file in os.listdir(directory):\\n    filename = os.fsdecode(file)\\n    if filename.endswith(\\\".pkl\\\"):\\n        k += 1\\n        print(f\\\"processed files: {k}\\\", end=\\\"\\\\r\\\")\\n        biography_revisions_abs = os.path.join(revisions_abs_path, filename)\\n        df = pd.read_pickle(biography_revisions_abs)\\n\\n        gnd = pattern_filename_gnd.search(filename).group(0)\\n        revision_by_gnd_meta_abs = os.path.join(revisions_meta_abs_path, gnd + \\\".pkl\\\")\\n        meta = None\\n        with open(revision_by_gnd_meta_abs, \\\"rb\\\") as f:\\n            meta = pickle.load(f)\\n        # number of rows in df == number of months with >0 revisions in meta\\n        assert df[df.columns[0]].count() == sum(\\n            {k: 1 for k, v in meta[\\\"months\\\"].items() if v > 0}.values()\\n        )\\n\\n        # ndb text\\n        ndb_text = corpus.loc[corpus[\\\"gnd\\\"] == gnd, \\\"ndb_text\\\"].item()\\n\\n        number_revisions = sum(meta[\\\"months\\\"].values())\\n\\n        # get first monthly revision\\n        # get monthy revision after 25% revisions\\n        # get monthy revision after 50% revisions\\n        # get monthy revision after 75% revisions\\n        # get last monthly revision\\n\\n        # calculate revision thresholds\\n        thresholds_revision_number = [\\n            max(min(math.ceil(number_revisions * x), number_revisions), 1) for x in caps\\n        ]\\n        thresholds_year_months = []\\n        for threshold in thresholds_revision_number:\\n            revisions_iter_sum = 0\\n            for year_month, v in meta[\\\"months\\\"].items():\\n                revisions_iter_sum += v\\n                if revisions_iter_sum >= threshold:\\n                    thresholds_year_months.append(year_month)\\n                    break\\n        assert len(thresholds_year_months) == len(caps)\\n        wikipedia_texts = []\\n        for threshold_year_month in thresholds_year_months:\\n            for index, row in df.iterrows():\\n                timestamp = row[\\\"timestamp\\\"]\\n                year_month = pattern_year_month.search(timestamp).group(0)\\n                if year_month == threshold_year_month:\\n                    wikipedia_texts.append(row[\\\"text\\\"])\\n                    break\\n        assert len(wikipedia_texts) == len(caps)\\n        # status quo(txt): ndb and 5 wikipedia versions (first,after 25% rev, after 50% rev, after 75% rev,last)\\n        for i, wikipedia_text in enumerate(wikipedia_texts):\\n            ngram_reuse_versions[i].append(\\n                get_ngram_equality(ndb_text, wikipedia_text, n=n)\\n            )\\nwith open(os.path.join(cwd, \\\"data/reuse/\\\", str(n) + \\\"-gram_equality.pkl\\\"), \\\"wb\\\") as f:\\n    pickle.dump(ngram_reuse_versions, f)\";\n",
       "                var nbb_cells = Jupyter.notebook.get_cells();\n",
       "                for (var i = 0; i < nbb_cells.length; ++i) {\n",
       "                    if (nbb_cells[i].input_prompt_number == nbb_cell_id) {\n",
       "                        if (nbb_cells[i].get_text() == nbb_unformatted_code) {\n",
       "                             nbb_cells[i].set_text(nbb_formatted_code);\n",
       "                        }\n",
       "                        break;\n",
       "                    }\n",
       "                }\n",
       "            }, 500);\n",
       "            "
      ],
      "text/plain": [
       "<IPython.core.display.Javascript object>"
      ]
     },
     "metadata": {},
     "output_type": "display_data"
    }
   ],
   "source": [
    "# len of each inner list:20457\n",
    "ngram_reuse_versions = [[], [], [], [], []]\n",
    "n = 7\n",
    "\n",
    "k = 0\n",
    "for file in os.listdir(directory):\n",
    "    filename = os.fsdecode(file)\n",
    "    if filename.endswith(\".pkl\"):\n",
    "        k += 1\n",
    "        print(f\"processed files: {k}\", end=\"\\r\")\n",
    "        biography_revisions_abs = os.path.join(revisions_abs_path, filename)\n",
    "        df = pd.read_pickle(biography_revisions_abs)\n",
    "\n",
    "        gnd = pattern_filename_gnd.search(filename).group(0)\n",
    "        revision_by_gnd_meta_abs = os.path.join(revisions_meta_abs_path, gnd + \".pkl\")\n",
    "        meta = None\n",
    "        with open(revision_by_gnd_meta_abs, \"rb\") as f:\n",
    "            meta = pickle.load(f)\n",
    "        # number of rows in df == number of months with >0 revisions in meta\n",
    "        assert df[df.columns[0]].count() == sum(\n",
    "            {k: 1 for k, v in meta[\"months\"].items() if v > 0}.values()\n",
    "        )\n",
    "\n",
    "        # ndb text\n",
    "        ndb_text = corpus.loc[corpus[\"gnd\"] == gnd, \"ndb_text\"].item()\n",
    "\n",
    "        number_revisions = sum(meta[\"months\"].values())\n",
    "\n",
    "        # get first monthly revision\n",
    "        # get monthy revision after 25% revisions\n",
    "        # get monthy revision after 50% revisions\n",
    "        # get monthy revision after 75% revisions\n",
    "        # get last monthly revision\n",
    "\n",
    "        # calculate revision thresholds\n",
    "        thresholds_revision_number = [\n",
    "            max(min(math.ceil(number_revisions * x), number_revisions), 1) for x in caps\n",
    "        ]\n",
    "        thresholds_year_months = []\n",
    "        for threshold in thresholds_revision_number:\n",
    "            revisions_iter_sum = 0\n",
    "            for year_month, v in meta[\"months\"].items():\n",
    "                revisions_iter_sum += v\n",
    "                if revisions_iter_sum >= threshold:\n",
    "                    thresholds_year_months.append(year_month)\n",
    "                    break\n",
    "        assert len(thresholds_year_months) == len(caps)\n",
    "        wikipedia_texts = []\n",
    "        for threshold_year_month in thresholds_year_months:\n",
    "            for index, row in df.iterrows():\n",
    "                timestamp = row[\"timestamp\"]\n",
    "                year_month = pattern_year_month.search(timestamp).group(0)\n",
    "                if year_month == threshold_year_month:\n",
    "                    wikipedia_texts.append(row[\"text\"])\n",
    "                    break\n",
    "        assert len(wikipedia_texts) == len(caps)\n",
    "        # status quo(txt): ndb and 5 wikipedia versions (first,after 25% rev, after 50% rev, after 75% rev,last)\n",
    "        for i, wikipedia_text in enumerate(wikipedia_texts):\n",
    "            ngram_reuse_versions[i].append(\n",
    "                get_ngram_equality(ndb_text, wikipedia_text, n=n)\n",
    "            )\n",
    "with open(os.path.join(cwd, \"data/reuse/\", str(n) + \"-gram_equality.pkl\"), \"wb\") as f:\n",
    "    pickle.dump(ngram_reuse_versions, f)"
   ]
  },
  {
   "cell_type": "markdown",
   "metadata": {},
   "source": [
    "### boxplots"
   ]
  },
  {
   "cell_type": "markdown",
   "metadata": {},
   "source": [
    "### 4-gram (n=4)"
   ]
  },
  {
   "cell_type": "code",
   "execution_count": 60,
   "metadata": {},
   "outputs": [
    {
     "data": {
      "application/javascript": [
       "\n",
       "            setTimeout(function() {\n",
       "                var nbb_cell_id = 60;\n",
       "                var nbb_unformatted_code = \"data = None\\nwith open(os.path.join(cwd, \\\"data/reuse/\\\", \\\"4-gram_equality.pkl\\\"), \\\"rb\\\") as f:\\n    data = pickle.load(f)\";\n",
       "                var nbb_formatted_code = \"data = None\\nwith open(os.path.join(cwd, \\\"data/reuse/\\\", \\\"4-gram_equality.pkl\\\"), \\\"rb\\\") as f:\\n    data = pickle.load(f)\";\n",
       "                var nbb_cells = Jupyter.notebook.get_cells();\n",
       "                for (var i = 0; i < nbb_cells.length; ++i) {\n",
       "                    if (nbb_cells[i].input_prompt_number == nbb_cell_id) {\n",
       "                        if (nbb_cells[i].get_text() == nbb_unformatted_code) {\n",
       "                             nbb_cells[i].set_text(nbb_formatted_code);\n",
       "                        }\n",
       "                        break;\n",
       "                    }\n",
       "                }\n",
       "            }, 500);\n",
       "            "
      ],
      "text/plain": [
       "<IPython.core.display.Javascript object>"
      ]
     },
     "metadata": {},
     "output_type": "display_data"
    }
   ],
   "source": [
    "data = None\n",
    "with open(os.path.join(cwd, \"data/reuse/\", \"4-gram_equality.pkl\"), \"rb\") as f:\n",
    "    data = pickle.load(f)"
   ]
  },
  {
   "cell_type": "code",
   "execution_count": 61,
   "metadata": {},
   "outputs": [
    {
     "data": {
      "application/javascript": [
       "\n",
       "            setTimeout(function() {\n",
       "                var nbb_cell_id = 61;\n",
       "                var nbb_unformatted_code = \"ngram_equality_dict = {\\n    \\\"first rev\\\": data[0],\\n    \\\"25% rev\\\": data[1],\\n    \\\"50% rev\\\": data[2],\\n    \\\"75% rev\\\": data[3],\\n    \\\"last rev\\\": data[4],\\n}\";\n",
       "                var nbb_formatted_code = \"ngram_equality_dict = {\\n    \\\"first rev\\\": data[0],\\n    \\\"25% rev\\\": data[1],\\n    \\\"50% rev\\\": data[2],\\n    \\\"75% rev\\\": data[3],\\n    \\\"last rev\\\": data[4],\\n}\";\n",
       "                var nbb_cells = Jupyter.notebook.get_cells();\n",
       "                for (var i = 0; i < nbb_cells.length; ++i) {\n",
       "                    if (nbb_cells[i].input_prompt_number == nbb_cell_id) {\n",
       "                        if (nbb_cells[i].get_text() == nbb_unformatted_code) {\n",
       "                             nbb_cells[i].set_text(nbb_formatted_code);\n",
       "                        }\n",
       "                        break;\n",
       "                    }\n",
       "                }\n",
       "            }, 500);\n",
       "            "
      ],
      "text/plain": [
       "<IPython.core.display.Javascript object>"
      ]
     },
     "metadata": {},
     "output_type": "display_data"
    }
   ],
   "source": [
    "ngram_equality_dict = {\n",
    "    \"first rev\": data[0],\n",
    "    \"25% rev\": data[1],\n",
    "    \"50% rev\": data[2],\n",
    "    \"75% rev\": data[3],\n",
    "    \"last rev\": data[4],\n",
    "}"
   ]
  },
  {
   "cell_type": "code",
   "execution_count": 65,
   "metadata": {},
   "outputs": [
    {
     "data": {
      "text/plain": [
       "[Text(1, 0, 'first rev'),\n",
       " Text(2, 0, '25% rev'),\n",
       " Text(3, 0, '50% rev'),\n",
       " Text(4, 0, '75% rev'),\n",
       " Text(5, 0, 'last rev')]"
      ]
     },
     "execution_count": 65,
     "metadata": {},
     "output_type": "execute_result"
    },
    {
     "data": {
      "image/png": "[encoded data removed]",
      "text/plain": [
       "<Figure size 720x360 with 1 Axes>"
      ]
     },
     "metadata": {
      "needs_background": "light"
     },
     "output_type": "display_data"
    },
    {
     "data": {
      "application/javascript": [
       "\n",
       "            setTimeout(function() {\n",
       "                var nbb_cell_id = 65;\n",
       "                var nbb_unformatted_code = \"fig, ax = plt.subplots()\\nax.boxplot(ngram_equality_dict.values())\\nax.set_xticklabels(ngram_equality_dict.keys())\";\n",
       "                var nbb_formatted_code = \"fig, ax = plt.subplots()\\nax.boxplot(ngram_equality_dict.values())\\nax.set_xticklabels(ngram_equality_dict.keys())\";\n",
       "                var nbb_cells = Jupyter.notebook.get_cells();\n",
       "                for (var i = 0; i < nbb_cells.length; ++i) {\n",
       "                    if (nbb_cells[i].input_prompt_number == nbb_cell_id) {\n",
       "                        if (nbb_cells[i].get_text() == nbb_unformatted_code) {\n",
       "                             nbb_cells[i].set_text(nbb_formatted_code);\n",
       "                        }\n",
       "                        break;\n",
       "                    }\n",
       "                }\n",
       "            }, 500);\n",
       "            "
      ],
      "text/plain": [
       "<IPython.core.display.Javascript object>"
      ]
     },
     "metadata": {},
     "output_type": "display_data"
    }
   ],
   "source": [
    "fig, ax = plt.subplots()\n",
    "ax.boxplot(ngram_equality_dict.values())\n",
    "ax.set_xticklabels(ngram_equality_dict.keys())"
   ]
  },
  {
   "cell_type": "markdown",
   "metadata": {},
   "source": [
    "### 5-gram (n=5)"
   ]
  },
  {
   "cell_type": "code",
   "execution_count": 71,
   "metadata": {},
   "outputs": [
    {
     "data": {
      "application/javascript": [
       "\n",
       "            setTimeout(function() {\n",
       "                var nbb_cell_id = 71;\n",
       "                var nbb_unformatted_code = \"data = None\\nwith open(os.path.join(cwd, \\\"data/reuse/\\\", \\\"5-gram_equality.pkl\\\"), \\\"rb\\\") as f:\\n    data = pickle.load(f)\";\n",
       "                var nbb_formatted_code = \"data = None\\nwith open(os.path.join(cwd, \\\"data/reuse/\\\", \\\"5-gram_equality.pkl\\\"), \\\"rb\\\") as f:\\n    data = pickle.load(f)\";\n",
       "                var nbb_cells = Jupyter.notebook.get_cells();\n",
       "                for (var i = 0; i < nbb_cells.length; ++i) {\n",
       "                    if (nbb_cells[i].input_prompt_number == nbb_cell_id) {\n",
       "                        if (nbb_cells[i].get_text() == nbb_unformatted_code) {\n",
       "                             nbb_cells[i].set_text(nbb_formatted_code);\n",
       "                        }\n",
       "                        break;\n",
       "                    }\n",
       "                }\n",
       "            }, 500);\n",
       "            "
      ],
      "text/plain": [
       "<IPython.core.display.Javascript object>"
      ]
     },
     "metadata": {},
     "output_type": "display_data"
    }
   ],
   "source": [
    "data = None\n",
    "with open(os.path.join(cwd, \"data/reuse/\", \"5-gram_equality.pkl\"), \"rb\") as f:\n",
    "    data = pickle.load(f)"
   ]
  },
  {
   "cell_type": "code",
   "execution_count": 72,
   "metadata": {},
   "outputs": [
    {
     "data": {
      "application/javascript": [
       "\n",
       "            setTimeout(function() {\n",
       "                var nbb_cell_id = 72;\n",
       "                var nbb_unformatted_code = \"ngram_equality_dict = {\\n    \\\"first rev\\\": data[0],\\n    \\\"25% rev\\\": data[1],\\n    \\\"50% rev\\\": data[2],\\n    \\\"75% rev\\\": data[3],\\n    \\\"last rev\\\": data[4],\\n}\";\n",
       "                var nbb_formatted_code = \"ngram_equality_dict = {\\n    \\\"first rev\\\": data[0],\\n    \\\"25% rev\\\": data[1],\\n    \\\"50% rev\\\": data[2],\\n    \\\"75% rev\\\": data[3],\\n    \\\"last rev\\\": data[4],\\n}\";\n",
       "                var nbb_cells = Jupyter.notebook.get_cells();\n",
       "                for (var i = 0; i < nbb_cells.length; ++i) {\n",
       "                    if (nbb_cells[i].input_prompt_number == nbb_cell_id) {\n",
       "                        if (nbb_cells[i].get_text() == nbb_unformatted_code) {\n",
       "                             nbb_cells[i].set_text(nbb_formatted_code);\n",
       "                        }\n",
       "                        break;\n",
       "                    }\n",
       "                }\n",
       "            }, 500);\n",
       "            "
      ],
      "text/plain": [
       "<IPython.core.display.Javascript object>"
      ]
     },
     "metadata": {},
     "output_type": "display_data"
    }
   ],
   "source": [
    "ngram_equality_dict = {\n",
    "    \"first rev\": data[0],\n",
    "    \"25% rev\": data[1],\n",
    "    \"50% rev\": data[2],\n",
    "    \"75% rev\": data[3],\n",
    "    \"last rev\": data[4],\n",
    "}"
   ]
  },
  {
   "cell_type": "code",
   "execution_count": 74,
   "metadata": {},
   "outputs": [
    {
     "data": {
      "text/plain": [
       "[Text(1, 0, 'first rev'),\n",
       " Text(2, 0, '25% rev'),\n",
       " Text(3, 0, '50% rev'),\n",
       " Text(4, 0, '75% rev'),\n",
       " Text(5, 0, 'last rev')]"
      ]
     },
     "execution_count": 74,
     "metadata": {},
     "output_type": "execute_result"
    },
    {
     "data": {
      "image/png": "[encoded data removed]",
      "text/plain": [
       "<Figure size 720x360 with 1 Axes>"
      ]
     },
     "metadata": {
      "needs_background": "light"
     },
     "output_type": "display_data"
    },
    {
     "data": {
      "application/javascript": [
       "\n",
       "            setTimeout(function() {\n",
       "                var nbb_cell_id = 74;\n",
       "                var nbb_unformatted_code = \"fig, ax = plt.subplots()\\nax.boxplot(ngram_equality_dict.values())\\nax.set_xticklabels(ngram_equality_dict.keys())\";\n",
       "                var nbb_formatted_code = \"fig, ax = plt.subplots()\\nax.boxplot(ngram_equality_dict.values())\\nax.set_xticklabels(ngram_equality_dict.keys())\";\n",
       "                var nbb_cells = Jupyter.notebook.get_cells();\n",
       "                for (var i = 0; i < nbb_cells.length; ++i) {\n",
       "                    if (nbb_cells[i].input_prompt_number == nbb_cell_id) {\n",
       "                        if (nbb_cells[i].get_text() == nbb_unformatted_code) {\n",
       "                             nbb_cells[i].set_text(nbb_formatted_code);\n",
       "                        }\n",
       "                        break;\n",
       "                    }\n",
       "                }\n",
       "            }, 500);\n",
       "            "
      ],
      "text/plain": [
       "<IPython.core.display.Javascript object>"
      ]
     },
     "metadata": {},
     "output_type": "display_data"
    }
   ],
   "source": [
    "fig, ax = plt.subplots()\n",
    "ax.boxplot(ngram_equality_dict.values())\n",
    "ax.set_xticklabels(ngram_equality_dict.keys())"
   ]
  },
  {
   "cell_type": "markdown",
   "metadata": {},
   "source": [
    "### 6-gram (n=6)"
   ]
  },
  {
   "cell_type": "code",
   "execution_count": 77,
   "metadata": {},
   "outputs": [
    {
     "data": {
      "application/javascript": [
       "\n",
       "            setTimeout(function() {\n",
       "                var nbb_cell_id = 77;\n",
       "                var nbb_unformatted_code = \"data = None\\nwith open(os.path.join(cwd, \\\"data/reuse/\\\", \\\"6-gram_equality.pkl\\\"), \\\"rb\\\") as f:\\n    data = pickle.load(f)\";\n",
       "                var nbb_formatted_code = \"data = None\\nwith open(os.path.join(cwd, \\\"data/reuse/\\\", \\\"6-gram_equality.pkl\\\"), \\\"rb\\\") as f:\\n    data = pickle.load(f)\";\n",
       "                var nbb_cells = Jupyter.notebook.get_cells();\n",
       "                for (var i = 0; i < nbb_cells.length; ++i) {\n",
       "                    if (nbb_cells[i].input_prompt_number == nbb_cell_id) {\n",
       "                        if (nbb_cells[i].get_text() == nbb_unformatted_code) {\n",
       "                             nbb_cells[i].set_text(nbb_formatted_code);\n",
       "                        }\n",
       "                        break;\n",
       "                    }\n",
       "                }\n",
       "            }, 500);\n",
       "            "
      ],
      "text/plain": [
       "<IPython.core.display.Javascript object>"
      ]
     },
     "metadata": {},
     "output_type": "display_data"
    }
   ],
   "source": [
    "data = None\n",
    "with open(os.path.join(cwd, \"data/reuse/\", \"6-gram_equality.pkl\"), \"rb\") as f:\n",
    "    data = pickle.load(f)"
   ]
  },
  {
   "cell_type": "code",
   "execution_count": 78,
   "metadata": {},
   "outputs": [
    {
     "data": {
      "application/javascript": [
       "\n",
       "            setTimeout(function() {\n",
       "                var nbb_cell_id = 78;\n",
       "                var nbb_unformatted_code = \"ngram_equality_dict = {\\n    \\\"first rev\\\": data[0],\\n    \\\"25% rev\\\": data[1],\\n    \\\"50% rev\\\": data[2],\\n    \\\"75% rev\\\": data[3],\\n    \\\"last rev\\\": data[4],\\n}\";\n",
       "                var nbb_formatted_code = \"ngram_equality_dict = {\\n    \\\"first rev\\\": data[0],\\n    \\\"25% rev\\\": data[1],\\n    \\\"50% rev\\\": data[2],\\n    \\\"75% rev\\\": data[3],\\n    \\\"last rev\\\": data[4],\\n}\";\n",
       "                var nbb_cells = Jupyter.notebook.get_cells();\n",
       "                for (var i = 0; i < nbb_cells.length; ++i) {\n",
       "                    if (nbb_cells[i].input_prompt_number == nbb_cell_id) {\n",
       "                        if (nbb_cells[i].get_text() == nbb_unformatted_code) {\n",
       "                             nbb_cells[i].set_text(nbb_formatted_code);\n",
       "                        }\n",
       "                        break;\n",
       "                    }\n",
       "                }\n",
       "            }, 500);\n",
       "            "
      ],
      "text/plain": [
       "<IPython.core.display.Javascript object>"
      ]
     },
     "metadata": {},
     "output_type": "display_data"
    }
   ],
   "source": [
    "ngram_equality_dict = {\n",
    "    \"first rev\": data[0],\n",
    "    \"25% rev\": data[1],\n",
    "    \"50% rev\": data[2],\n",
    "    \"75% rev\": data[3],\n",
    "    \"last rev\": data[4],\n",
    "}"
   ]
  },
  {
   "cell_type": "code",
   "execution_count": 79,
   "metadata": {},
   "outputs": [
    {
     "data": {
      "text/plain": [
       "[Text(1, 0, 'first rev'),\n",
       " Text(2, 0, '25% rev'),\n",
       " Text(3, 0, '50% rev'),\n",
       " Text(4, 0, '75% rev'),\n",
       " Text(5, 0, 'last rev')]"
      ]
     },
     "execution_count": 79,
     "metadata": {},
     "output_type": "execute_result"
    },
    {
     "data": {
      "image/png": "[encoded data removed]",
      "text/plain": [
       "<Figure size 720x360 with 1 Axes>"
      ]
     },
     "metadata": {
      "needs_background": "light"
     },
     "output_type": "display_data"
    },
    {
     "data": {
      "application/javascript": [
       "\n",
       "            setTimeout(function() {\n",
       "                var nbb_cell_id = 79;\n",
       "                var nbb_unformatted_code = \"fig, ax = plt.subplots()\\nax.boxplot(ngram_equality_dict.values())\\nax.set_xticklabels(ngram_equality_dict.keys())\";\n",
       "                var nbb_formatted_code = \"fig, ax = plt.subplots()\\nax.boxplot(ngram_equality_dict.values())\\nax.set_xticklabels(ngram_equality_dict.keys())\";\n",
       "                var nbb_cells = Jupyter.notebook.get_cells();\n",
       "                for (var i = 0; i < nbb_cells.length; ++i) {\n",
       "                    if (nbb_cells[i].input_prompt_number == nbb_cell_id) {\n",
       "                        if (nbb_cells[i].get_text() == nbb_unformatted_code) {\n",
       "                             nbb_cells[i].set_text(nbb_formatted_code);\n",
       "                        }\n",
       "                        break;\n",
       "                    }\n",
       "                }\n",
       "            }, 500);\n",
       "            "
      ],
      "text/plain": [
       "<IPython.core.display.Javascript object>"
      ]
     },
     "metadata": {},
     "output_type": "display_data"
    }
   ],
   "source": [
    "fig, ax = plt.subplots()\n",
    "ax.boxplot(ngram_equality_dict.values())\n",
    "ax.set_xticklabels(ngram_equality_dict.keys())"
   ]
  },
  {
   "cell_type": "markdown",
   "metadata": {},
   "source": [
    "### 7-gram (n=7)"
   ]
  },
  {
   "cell_type": "code",
   "execution_count": 81,
   "metadata": {},
   "outputs": [
    {
     "data": {
      "application/javascript": [
       "\n",
       "            setTimeout(function() {\n",
       "                var nbb_cell_id = 81;\n",
       "                var nbb_unformatted_code = \"data = None\\nwith open(os.path.join(cwd, \\\"data/reuse/\\\", \\\"7-gram_equality.pkl\\\"), \\\"rb\\\") as f:\\n    data = pickle.load(f)\";\n",
       "                var nbb_formatted_code = \"data = None\\nwith open(os.path.join(cwd, \\\"data/reuse/\\\", \\\"7-gram_equality.pkl\\\"), \\\"rb\\\") as f:\\n    data = pickle.load(f)\";\n",
       "                var nbb_cells = Jupyter.notebook.get_cells();\n",
       "                for (var i = 0; i < nbb_cells.length; ++i) {\n",
       "                    if (nbb_cells[i].input_prompt_number == nbb_cell_id) {\n",
       "                        if (nbb_cells[i].get_text() == nbb_unformatted_code) {\n",
       "                             nbb_cells[i].set_text(nbb_formatted_code);\n",
       "                        }\n",
       "                        break;\n",
       "                    }\n",
       "                }\n",
       "            }, 500);\n",
       "            "
      ],
      "text/plain": [
       "<IPython.core.display.Javascript object>"
      ]
     },
     "metadata": {},
     "output_type": "display_data"
    }
   ],
   "source": [
    "data = None\n",
    "with open(os.path.join(cwd, \"data/reuse/\", \"7-gram_equality.pkl\"), \"rb\") as f:\n",
    "    data = pickle.load(f)"
   ]
  },
  {
   "cell_type": "code",
   "execution_count": 82,
   "metadata": {},
   "outputs": [
    {
     "data": {
      "application/javascript": [
       "\n",
       "            setTimeout(function() {\n",
       "                var nbb_cell_id = 82;\n",
       "                var nbb_unformatted_code = \"ngram_equality_dict = {\\n    \\\"first rev\\\": data[0],\\n    \\\"25% rev\\\": data[1],\\n    \\\"50% rev\\\": data[2],\\n    \\\"75% rev\\\": data[3],\\n    \\\"last rev\\\": data[4],\\n}\";\n",
       "                var nbb_formatted_code = \"ngram_equality_dict = {\\n    \\\"first rev\\\": data[0],\\n    \\\"25% rev\\\": data[1],\\n    \\\"50% rev\\\": data[2],\\n    \\\"75% rev\\\": data[3],\\n    \\\"last rev\\\": data[4],\\n}\";\n",
       "                var nbb_cells = Jupyter.notebook.get_cells();\n",
       "                for (var i = 0; i < nbb_cells.length; ++i) {\n",
       "                    if (nbb_cells[i].input_prompt_number == nbb_cell_id) {\n",
       "                        if (nbb_cells[i].get_text() == nbb_unformatted_code) {\n",
       "                             nbb_cells[i].set_text(nbb_formatted_code);\n",
       "                        }\n",
       "                        break;\n",
       "                    }\n",
       "                }\n",
       "            }, 500);\n",
       "            "
      ],
      "text/plain": [
       "<IPython.core.display.Javascript object>"
      ]
     },
     "metadata": {},
     "output_type": "display_data"
    }
   ],
   "source": [
    "ngram_equality_dict = {\n",
    "    \"first rev\": data[0],\n",
    "    \"25% rev\": data[1],\n",
    "    \"50% rev\": data[2],\n",
    "    \"75% rev\": data[3],\n",
    "    \"last rev\": data[4],\n",
    "}"
   ]
  },
  {
   "cell_type": "code",
   "execution_count": 83,
   "metadata": {},
   "outputs": [
    {
     "data": {
      "text/plain": [
       "[Text(1, 0, 'first rev'),\n",
       " Text(2, 0, '25% rev'),\n",
       " Text(3, 0, '50% rev'),\n",
       " Text(4, 0, '75% rev'),\n",
       " Text(5, 0, 'last rev')]"
      ]
     },
     "execution_count": 83,
     "metadata": {},
     "output_type": "execute_result"
    },
    {
     "data": {
      "image/png": "[encoded data removed]",
      "text/plain": [
       "<Figure size 720x360 with 1 Axes>"
      ]
     },
     "metadata": {
      "needs_background": "light"
     },
     "output_type": "display_data"
    },
    {
     "data": {
      "application/javascript": [
       "\n",
       "            setTimeout(function() {\n",
       "                var nbb_cell_id = 83;\n",
       "                var nbb_unformatted_code = \"fig, ax = plt.subplots()\\nax.boxplot(ngram_equality_dict.values())\\nax.set_xticklabels(ngram_equality_dict.keys())\";\n",
       "                var nbb_formatted_code = \"fig, ax = plt.subplots()\\nax.boxplot(ngram_equality_dict.values())\\nax.set_xticklabels(ngram_equality_dict.keys())\";\n",
       "                var nbb_cells = Jupyter.notebook.get_cells();\n",
       "                for (var i = 0; i < nbb_cells.length; ++i) {\n",
       "                    if (nbb_cells[i].input_prompt_number == nbb_cell_id) {\n",
       "                        if (nbb_cells[i].get_text() == nbb_unformatted_code) {\n",
       "                             nbb_cells[i].set_text(nbb_formatted_code);\n",
       "                        }\n",
       "                        break;\n",
       "                    }\n",
       "                }\n",
       "            }, 500);\n",
       "            "
      ],
      "text/plain": [
       "<IPython.core.display.Javascript object>"
      ]
     },
     "metadata": {},
     "output_type": "display_data"
    }
   ],
   "source": [
    "fig, ax = plt.subplots()\n",
    "ax.boxplot(ngram_equality_dict.values())\n",
    "ax.set_xticklabels(ngram_equality_dict.keys())"
   ]
  },
  {
   "cell_type": "markdown",
   "metadata": {},
   "source": [
    "## metric 3: embeddings (BERT transformer + cosine similarity between vectors)\n",
    "\n",
    "### run scrip\n",
    "+ python run_sentence_embedding.py"
   ]
  },
  {
   "cell_type": "markdown",
   "metadata": {},
   "source": [
    "## old model!!! deprecated"
   ]
  },
  {
   "cell_type": "code",
   "execution_count": 6,
   "metadata": {},
   "outputs": [
    {
     "data": {
      "application/javascript": [
       "\n",
       "            setTimeout(function() {\n",
       "                var nbb_cell_id = 6;\n",
       "                var nbb_unformatted_code = \"data = None\\nwith open(os.path.join(cwd, \\\"data/reuse/\\\", \\\"embedding_similarity.pkl\\\"), \\\"rb\\\") as f:\\n    unpickler = pickle.Unpickler(f)\\n    data = unpickler.load()\";\n",
       "                var nbb_formatted_code = \"data = None\\nwith open(os.path.join(cwd, \\\"data/reuse/\\\", \\\"embedding_similarity.pkl\\\"), \\\"rb\\\") as f:\\n    unpickler = pickle.Unpickler(f)\\n    data = unpickler.load()\";\n",
       "                var nbb_cells = Jupyter.notebook.get_cells();\n",
       "                for (var i = 0; i < nbb_cells.length; ++i) {\n",
       "                    if (nbb_cells[i].input_prompt_number == nbb_cell_id) {\n",
       "                        if (nbb_cells[i].get_text() == nbb_unformatted_code) {\n",
       "                             nbb_cells[i].set_text(nbb_formatted_code);\n",
       "                        }\n",
       "                        break;\n",
       "                    }\n",
       "                }\n",
       "            }, 500);\n",
       "            "
      ],
      "text/plain": [
       "<IPython.core.display.Javascript object>"
      ]
     },
     "metadata": {},
     "output_type": "display_data"
    }
   ],
   "source": [
    "data = None\n",
    "with open(os.path.join(cwd, \"data/reuse/\", \"embedding_similarity.pkl\"), \"rb\") as f:\n",
    "    unpickler = pickle.Unpickler(f)\n",
    "    data = unpickler.load()"
   ]
  },
  {
   "cell_type": "markdown",
   "metadata": {},
   "source": [
    "+ ndb wiki"
   ]
  },
  {
   "cell_type": "code",
   "execution_count": 7,
   "metadata": {},
   "outputs": [
    {
     "data": {
      "application/javascript": [
       "\n",
       "            setTimeout(function() {\n",
       "                var nbb_cell_id = 7;\n",
       "                var nbb_unformatted_code = \"embedding_similarity_ndb_wiki = {\\n    \\\"first rev\\\": [np.mean(t[0]) for t in data[0] if t[0]],\\n    \\\"25% rev\\\": [np.mean(t[0]) for t in data[1] if t[0]],\\n    \\\"50% rev\\\": [np.mean(t[0]) for t in data[2] if t[0]],\\n    \\\"75% rev\\\": [np.mean(t[0]) for t in data[3] if t[0]],\\n    \\\"last rev\\\": [np.mean(t[0]) for t in data[4] if t[0]],\\n}\";\n",
       "                var nbb_formatted_code = \"embedding_similarity_ndb_wiki = {\\n    \\\"first rev\\\": [np.mean(t[0]) for t in data[0] if t[0]],\\n    \\\"25% rev\\\": [np.mean(t[0]) for t in data[1] if t[0]],\\n    \\\"50% rev\\\": [np.mean(t[0]) for t in data[2] if t[0]],\\n    \\\"75% rev\\\": [np.mean(t[0]) for t in data[3] if t[0]],\\n    \\\"last rev\\\": [np.mean(t[0]) for t in data[4] if t[0]],\\n}\";\n",
       "                var nbb_cells = Jupyter.notebook.get_cells();\n",
       "                for (var i = 0; i < nbb_cells.length; ++i) {\n",
       "                    if (nbb_cells[i].input_prompt_number == nbb_cell_id) {\n",
       "                        if (nbb_cells[i].get_text() == nbb_unformatted_code) {\n",
       "                             nbb_cells[i].set_text(nbb_formatted_code);\n",
       "                        }\n",
       "                        break;\n",
       "                    }\n",
       "                }\n",
       "            }, 500);\n",
       "            "
      ],
      "text/plain": [
       "<IPython.core.display.Javascript object>"
      ]
     },
     "metadata": {},
     "output_type": "display_data"
    }
   ],
   "source": [
    "embedding_similarity_ndb_wiki = {\n",
    "    \"first rev\": [np.mean(t[0]) for t in data[0] if t[0]],\n",
    "    \"25% rev\": [np.mean(t[0]) for t in data[1] if t[0]],\n",
    "    \"50% rev\": [np.mean(t[0]) for t in data[2] if t[0]],\n",
    "    \"75% rev\": [np.mean(t[0]) for t in data[3] if t[0]],\n",
    "    \"last rev\": [np.mean(t[0]) for t in data[4] if t[0]],\n",
    "}"
   ]
  },
  {
   "cell_type": "code",
   "execution_count": 8,
   "metadata": {},
   "outputs": [
    {
     "data": {
      "text/plain": [
       "[Text(1, 0, 'first rev'),\n",
       " Text(2, 0, '25% rev'),\n",
       " Text(3, 0, '50% rev'),\n",
       " Text(4, 0, '75% rev'),\n",
       " Text(5, 0, 'last rev')]"
      ]
     },
     "execution_count": 8,
     "metadata": {},
     "output_type": "execute_result"
    },
    {
     "data": {
      "image/png": "[encoded data removed]",
      "text/plain": [
       "<Figure size 432x288 with 1 Axes>"
      ]
     },
     "metadata": {
      "needs_background": "light"
     },
     "output_type": "display_data"
    },
    {
     "data": {
      "application/javascript": [
       "\n",
       "            setTimeout(function() {\n",
       "                var nbb_cell_id = 8;\n",
       "                var nbb_unformatted_code = \"fig, ax = plt.subplots()\\nax.boxplot(embedding_similarity_ndb_wiki.values())\\nax.set_xticklabels(embedding_similarity_ndb_wiki.keys())\";\n",
       "                var nbb_formatted_code = \"fig, ax = plt.subplots()\\nax.boxplot(embedding_similarity_ndb_wiki.values())\\nax.set_xticklabels(embedding_similarity_ndb_wiki.keys())\";\n",
       "                var nbb_cells = Jupyter.notebook.get_cells();\n",
       "                for (var i = 0; i < nbb_cells.length; ++i) {\n",
       "                    if (nbb_cells[i].input_prompt_number == nbb_cell_id) {\n",
       "                        if (nbb_cells[i].get_text() == nbb_unformatted_code) {\n",
       "                             nbb_cells[i].set_text(nbb_formatted_code);\n",
       "                        }\n",
       "                        break;\n",
       "                    }\n",
       "                }\n",
       "            }, 500);\n",
       "            "
      ],
      "text/plain": [
       "<IPython.core.display.Javascript object>"
      ]
     },
     "metadata": {},
     "output_type": "display_data"
    }
   ],
   "source": [
    "fig, ax = plt.subplots()\n",
    "ax.boxplot(embedding_similarity_ndb_wiki.values())\n",
    "ax.set_xticklabels(embedding_similarity_ndb_wiki.keys())"
   ]
  },
  {
   "cell_type": "code",
   "execution_count": 9,
   "metadata": {},
   "outputs": [
    {
     "data": {
      "application/javascript": [
       "\n",
       "            setTimeout(function() {\n",
       "                var nbb_cell_id = 9;\n",
       "                var nbb_unformatted_code = \"embedding_similarity_ndb_wiki_scatter = {\\n    \\\"first rev\\\": [(np.mean(t[0]),(t[2]-t[3])/(t[2]+t[3])) for t in data[0] if t[0]],\\n    \\\"25% rev\\\": [(np.mean(t[0]),(t[2]-t[3])/(t[2]+t[3])) for t in data[1] if t[0]],\\n    \\\"50% rev\\\": [(np.mean(t[0]),(t[2]-t[3])/(t[2]+t[3])) for t in data[2] if t[0]],\\n    \\\"75% rev\\\": [(np.mean(t[0]),(t[2]-t[3])/(t[2]+t[3])) for t in data[3] if t[0]],\\n    \\\"last rev\\\": [(np.mean(t[0]),(t[2]-t[3])/(t[2]+t[3])) for t in data[4] if t[0]],\\n}\";\n",
       "                var nbb_formatted_code = \"embedding_similarity_ndb_wiki_scatter = {\\n    \\\"first rev\\\": [\\n        (np.mean(t[0]), (t[2] - t[3]) / (t[2] + t[3])) for t in data[0] if t[0]\\n    ],\\n    \\\"25% rev\\\": [\\n        (np.mean(t[0]), (t[2] - t[3]) / (t[2] + t[3])) for t in data[1] if t[0]\\n    ],\\n    \\\"50% rev\\\": [\\n        (np.mean(t[0]), (t[2] - t[3]) / (t[2] + t[3])) for t in data[2] if t[0]\\n    ],\\n    \\\"75% rev\\\": [\\n        (np.mean(t[0]), (t[2] - t[3]) / (t[2] + t[3])) for t in data[3] if t[0]\\n    ],\\n    \\\"last rev\\\": [\\n        (np.mean(t[0]), (t[2] - t[3]) / (t[2] + t[3])) for t in data[4] if t[0]\\n    ],\\n}\";\n",
       "                var nbb_cells = Jupyter.notebook.get_cells();\n",
       "                for (var i = 0; i < nbb_cells.length; ++i) {\n",
       "                    if (nbb_cells[i].input_prompt_number == nbb_cell_id) {\n",
       "                        if (nbb_cells[i].get_text() == nbb_unformatted_code) {\n",
       "                             nbb_cells[i].set_text(nbb_formatted_code);\n",
       "                        }\n",
       "                        break;\n",
       "                    }\n",
       "                }\n",
       "            }, 500);\n",
       "            "
      ],
      "text/plain": [
       "<IPython.core.display.Javascript object>"
      ]
     },
     "metadata": {},
     "output_type": "display_data"
    }
   ],
   "source": [
    "embedding_similarity_ndb_wiki_scatter = {\n",
    "    \"first rev\": [(np.mean(t[0]),(t[2]-t[3])/(t[2]+t[3])) for t in data[0] if t[0]],\n",
    "    \"25% rev\": [(np.mean(t[0]),(t[2]-t[3])/(t[2]+t[3])) for t in data[1] if t[0]],\n",
    "    \"50% rev\": [(np.mean(t[0]),(t[2]-t[3])/(t[2]+t[3])) for t in data[2] if t[0]],\n",
    "    \"75% rev\": [(np.mean(t[0]),(t[2]-t[3])/(t[2]+t[3])) for t in data[3] if t[0]],\n",
    "    \"last rev\": [(np.mean(t[0]),(t[2]-t[3])/(t[2]+t[3])) for t in data[4] if t[0]],\n",
    "}"
   ]
  },
  {
   "cell_type": "code",
   "execution_count": 12,
   "metadata": {},
   "outputs": [
    {
     "data": {
      "image/png": "[encoded data removed]",
      "text/plain": [
       "<Figure size 1440x1440 with 25 Axes>"
      ]
     },
     "metadata": {
      "needs_background": "light"
     },
     "output_type": "display_data"
    },
    {
     "data": {
      "application/javascript": [
       "\n",
       "            setTimeout(function() {\n",
       "                var nbb_cell_id = 12;\n",
       "                var nbb_unformatted_code = \"fig, ax = plt.subplots(5,5, figsize=(20, 20))\\nfor i, key in enumerate(embedding_similarity_ndb_wiki_scatter):\\n    y1,x1 = zip(*[t for t in embedding_similarity_ndb_wiki_scatter[key] if t[1]<0])\\n    y2,x2 = zip(*[t for t in embedding_similarity_ndb_wiki_scatter[key] if t[1]>=0])\\n    x_mean = np.mean(x1+x2)\\n    y_mean = np.mean(y1+y2)\\n    ax[0,i].axhline(y=y_mean, color='black')\\n    ax[0,i].axvline(x=x_mean, color='black')\\n    ax[0,i].scatter(x1,y1)\\n    ax[0,i].scatter(x2,y2)\\n    ax[0,i].set_xlim(-1,1)\\n    ax[0,i].set_ylim(0.70,0.95)\\n    if i!=0:\\n        ax[i,0].axhline(y=y_mean, color='black')\\n        ax[i,0].axvline(x=x_mean, color='black')\\n        ax[i,0].scatter(x1,y1)\\n        ax[i,0].scatter(x2,y2)\\n        ax[i,0].set_xlim(-1,1)\\n        ax[i,0].set_ylim(0.70,0.95)\\n    for j in range(1,5):\\n        for k in range(1,5):\\n            ax[j,k].set_visible(False)\\n    \";\n",
       "                var nbb_formatted_code = \"fig, ax = plt.subplots(5, 5, figsize=(20, 20))\\nfor i, key in enumerate(embedding_similarity_ndb_wiki_scatter):\\n    y1, x1 = zip(*[t for t in embedding_similarity_ndb_wiki_scatter[key] if t[1] < 0])\\n    y2, x2 = zip(*[t for t in embedding_similarity_ndb_wiki_scatter[key] if t[1] >= 0])\\n    x_mean = np.mean(x1 + x2)\\n    y_mean = np.mean(y1 + y2)\\n    ax[0, i].axhline(y=y_mean, color=\\\"black\\\")\\n    ax[0, i].axvline(x=x_mean, color=\\\"black\\\")\\n    ax[0, i].scatter(x1, y1)\\n    ax[0, i].scatter(x2, y2)\\n    ax[0, i].set_xlim(-1, 1)\\n    ax[0, i].set_ylim(0.70, 0.95)\\n    if i != 0:\\n        ax[i, 0].axhline(y=y_mean, color=\\\"black\\\")\\n        ax[i, 0].axvline(x=x_mean, color=\\\"black\\\")\\n        ax[i, 0].scatter(x1, y1)\\n        ax[i, 0].scatter(x2, y2)\\n        ax[i, 0].set_xlim(-1, 1)\\n        ax[i, 0].set_ylim(0.70, 0.95)\\n    for j in range(1, 5):\\n        for k in range(1, 5):\\n            ax[j, k].set_visible(False)\";\n",
       "                var nbb_cells = Jupyter.notebook.get_cells();\n",
       "                for (var i = 0; i < nbb_cells.length; ++i) {\n",
       "                    if (nbb_cells[i].input_prompt_number == nbb_cell_id) {\n",
       "                        if (nbb_cells[i].get_text() == nbb_unformatted_code) {\n",
       "                             nbb_cells[i].set_text(nbb_formatted_code);\n",
       "                        }\n",
       "                        break;\n",
       "                    }\n",
       "                }\n",
       "            }, 500);\n",
       "            "
      ],
      "text/plain": [
       "<IPython.core.display.Javascript object>"
      ]
     },
     "metadata": {},
     "output_type": "display_data"
    }
   ],
   "source": [
    "fig, ax = plt.subplots(5,5, figsize=(20, 20))\n",
    "for i, key in enumerate(embedding_similarity_ndb_wiki_scatter):\n",
    "    y1,x1 = zip(*[t for t in embedding_similarity_ndb_wiki_scatter[key] if t[1]<0])\n",
    "    y2,x2 = zip(*[t for t in embedding_similarity_ndb_wiki_scatter[key] if t[1]>=0])\n",
    "    x_mean = np.mean(x1+x2)\n",
    "    y_mean = np.mean(y1+y2)\n",
    "    ax[0,i].axhline(y=y_mean, color='black')\n",
    "    ax[0,i].axvline(x=x_mean, color='black')\n",
    "    ax[0,i].scatter(x1,y1)\n",
    "    ax[0,i].scatter(x2,y2)\n",
    "    ax[0,i].set_xlim(-1,1)\n",
    "    ax[0,i].set_ylim(0.70,0.95)\n",
    "    if i!=0:\n",
    "        ax[i,0].axhline(y=y_mean, color='black')\n",
    "        ax[i,0].axvline(x=x_mean, color='black')\n",
    "        ax[i,0].scatter(x1,y1)\n",
    "        ax[i,0].scatter(x2,y2)\n",
    "        ax[i,0].set_xlim(-1,1)\n",
    "        ax[i,0].set_ylim(0.70,0.95)\n",
    "    for j in range(1,5):\n",
    "        for k in range(1,5):\n",
    "            ax[j,k].set_visible(False)\n",
    "    "
   ]
  },
  {
   "cell_type": "markdown",
   "metadata": {},
   "source": [
    "+ wiki ndb"
   ]
  },
  {
   "cell_type": "code",
   "execution_count": 23,
   "metadata": {},
   "outputs": [
    {
     "data": {
      "application/javascript": [
       "\n",
       "            setTimeout(function() {\n",
       "                var nbb_cell_id = 23;\n",
       "                var nbb_unformatted_code = \"embedding_similarity_wiki_ndb = {\\n    \\\"first rev\\\": [np.mean(t[1]) for t in data[0] if t[1]],\\n    \\\"25% rev\\\": [np.mean(t[1]) for t in data[1] if t[1]],\\n    \\\"50% rev\\\": [np.mean(t[1]) for t in data[2] if t[1]],\\n    \\\"75% rev\\\": [np.mean(t[1]) for t in data[3] if t[1]],\\n    \\\"last rev\\\": [np.mean(t[1]) for t in data[4] if t[1]],\\n}\";\n",
       "                var nbb_formatted_code = \"embedding_similarity_wiki_ndb = {\\n    \\\"first rev\\\": [np.mean(t[1]) for t in data[0] if t[1]],\\n    \\\"25% rev\\\": [np.mean(t[1]) for t in data[1] if t[1]],\\n    \\\"50% rev\\\": [np.mean(t[1]) for t in data[2] if t[1]],\\n    \\\"75% rev\\\": [np.mean(t[1]) for t in data[3] if t[1]],\\n    \\\"last rev\\\": [np.mean(t[1]) for t in data[4] if t[1]],\\n}\";\n",
       "                var nbb_cells = Jupyter.notebook.get_cells();\n",
       "                for (var i = 0; i < nbb_cells.length; ++i) {\n",
       "                    if (nbb_cells[i].input_prompt_number == nbb_cell_id) {\n",
       "                        if (nbb_cells[i].get_text() == nbb_unformatted_code) {\n",
       "                             nbb_cells[i].set_text(nbb_formatted_code);\n",
       "                        }\n",
       "                        break;\n",
       "                    }\n",
       "                }\n",
       "            }, 500);\n",
       "            "
      ],
      "text/plain": [
       "<IPython.core.display.Javascript object>"
      ]
     },
     "metadata": {},
     "output_type": "display_data"
    }
   ],
   "source": [
    "embedding_similarity_wiki_ndb = {\n",
    "    \"first rev\": [np.mean(t[1]) for t in data[0] if t[1]],\n",
    "    \"25% rev\": [np.mean(t[1]) for t in data[1] if t[1]],\n",
    "    \"50% rev\": [np.mean(t[1]) for t in data[2] if t[1]],\n",
    "    \"75% rev\": [np.mean(t[1]) for t in data[3] if t[1]],\n",
    "    \"last rev\": [np.mean(t[1]) for t in data[4] if t[1]],\n",
    "}"
   ]
  },
  {
   "cell_type": "code",
   "execution_count": 24,
   "metadata": {},
   "outputs": [
    {
     "data": {
      "text/plain": [
       "[Text(1, 0, 'first rev'),\n",
       " Text(2, 0, '25% rev'),\n",
       " Text(3, 0, '50% rev'),\n",
       " Text(4, 0, '75% rev'),\n",
       " Text(5, 0, 'last rev')]"
      ]
     },
     "execution_count": 24,
     "metadata": {},
     "output_type": "execute_result"
    },
    {
     "data": {
      "image/png": "[encoded data removed]",
      "text/plain": [
       "<Figure size 432x288 with 1 Axes>"
      ]
     },
     "metadata": {
      "needs_background": "light"
     },
     "output_type": "display_data"
    },
    {
     "data": {
      "application/javascript": [
       "\n",
       "            setTimeout(function() {\n",
       "                var nbb_cell_id = 24;\n",
       "                var nbb_unformatted_code = \"fig, ax = plt.subplots()\\nax.boxplot(embedding_similarity_wiki_ndb.values())\\nax.set_xticklabels(embedding_similarity_wiki_ndb.keys())\";\n",
       "                var nbb_formatted_code = \"fig, ax = plt.subplots()\\nax.boxplot(embedding_similarity_wiki_ndb.values())\\nax.set_xticklabels(embedding_similarity_wiki_ndb.keys())\";\n",
       "                var nbb_cells = Jupyter.notebook.get_cells();\n",
       "                for (var i = 0; i < nbb_cells.length; ++i) {\n",
       "                    if (nbb_cells[i].input_prompt_number == nbb_cell_id) {\n",
       "                        if (nbb_cells[i].get_text() == nbb_unformatted_code) {\n",
       "                             nbb_cells[i].set_text(nbb_formatted_code);\n",
       "                        }\n",
       "                        break;\n",
       "                    }\n",
       "                }\n",
       "            }, 500);\n",
       "            "
      ],
      "text/plain": [
       "<IPython.core.display.Javascript object>"
      ]
     },
     "metadata": {},
     "output_type": "display_data"
    }
   ],
   "source": [
    "fig, ax = plt.subplots()\n",
    "ax.boxplot(embedding_similarity_wiki_ndb.values())\n",
    "ax.set_xticklabels(embedding_similarity_wiki_ndb.keys())"
   ]
  },
  {
   "cell_type": "code",
   "execution_count": 14,
   "metadata": {},
   "outputs": [
    {
     "data": {
      "application/javascript": [
       "\n",
       "            setTimeout(function() {\n",
       "                var nbb_cell_id = 14;\n",
       "                var nbb_unformatted_code = \"embedding_similarity_wiki_ndb_scatter = {\\n    \\\"first rev\\\": [(np.mean(t[1]),(t[2]-t[3])/(t[2]+t[3])) for t in data[0] if t[1]],\\n    \\\"25% rev\\\": [(np.mean(t[1]),(t[2]-t[3])/(t[2]+t[3])) for t in data[1] if t[1]],\\n    \\\"50% rev\\\": [(np.mean(t[1]),(t[2]-t[3])/(t[2]+t[3])) for t in data[2] if t[1]],\\n    \\\"75% rev\\\": [(np.mean(t[1]),(t[2]-t[3])/(t[2]+t[3])) for t in data[3] if t[1]],\\n    \\\"last rev\\\": [(np.mean(t[1]),(t[2]-t[3])/(t[2]+t[3])) for t in data[4] if t[1]],\\n}\";\n",
       "                var nbb_formatted_code = \"embedding_similarity_wiki_ndb_scatter = {\\n    \\\"first rev\\\": [\\n        (np.mean(t[1]), (t[2] - t[3]) / (t[2] + t[3])) for t in data[0] if t[1]\\n    ],\\n    \\\"25% rev\\\": [\\n        (np.mean(t[1]), (t[2] - t[3]) / (t[2] + t[3])) for t in data[1] if t[1]\\n    ],\\n    \\\"50% rev\\\": [\\n        (np.mean(t[1]), (t[2] - t[3]) / (t[2] + t[3])) for t in data[2] if t[1]\\n    ],\\n    \\\"75% rev\\\": [\\n        (np.mean(t[1]), (t[2] - t[3]) / (t[2] + t[3])) for t in data[3] if t[1]\\n    ],\\n    \\\"last rev\\\": [\\n        (np.mean(t[1]), (t[2] - t[3]) / (t[2] + t[3])) for t in data[4] if t[1]\\n    ],\\n}\";\n",
       "                var nbb_cells = Jupyter.notebook.get_cells();\n",
       "                for (var i = 0; i < nbb_cells.length; ++i) {\n",
       "                    if (nbb_cells[i].input_prompt_number == nbb_cell_id) {\n",
       "                        if (nbb_cells[i].get_text() == nbb_unformatted_code) {\n",
       "                             nbb_cells[i].set_text(nbb_formatted_code);\n",
       "                        }\n",
       "                        break;\n",
       "                    }\n",
       "                }\n",
       "            }, 500);\n",
       "            "
      ],
      "text/plain": [
       "<IPython.core.display.Javascript object>"
      ]
     },
     "metadata": {},
     "output_type": "display_data"
    }
   ],
   "source": [
    "embedding_similarity_wiki_ndb_scatter = {\n",
    "    \"first rev\": [(np.mean(t[1]),(t[2]-t[3])/(t[2]+t[3])) for t in data[0] if t[1]],\n",
    "    \"25% rev\": [(np.mean(t[1]),(t[2]-t[3])/(t[2]+t[3])) for t in data[1] if t[1]],\n",
    "    \"50% rev\": [(np.mean(t[1]),(t[2]-t[3])/(t[2]+t[3])) for t in data[2] if t[1]],\n",
    "    \"75% rev\": [(np.mean(t[1]),(t[2]-t[3])/(t[2]+t[3])) for t in data[3] if t[1]],\n",
    "    \"last rev\": [(np.mean(t[1]),(t[2]-t[3])/(t[2]+t[3])) for t in data[4] if t[1]],\n",
    "}"
   ]
  },
  {
   "cell_type": "code",
   "execution_count": 15,
   "metadata": {},
   "outputs": [
    {
     "data": {
      "image/png": "[encoded data removed]",
      "text/plain": [
       "<Figure size 1440x1440 with 25 Axes>"
      ]
     },
     "metadata": {
      "needs_background": "light"
     },
     "output_type": "display_data"
    },
    {
     "data": {
      "application/javascript": [
       "\n",
       "            setTimeout(function() {\n",
       "                var nbb_cell_id = 15;\n",
       "                var nbb_unformatted_code = \"fig, ax = plt.subplots(5, 5, figsize=(20, 20))\\nfor i, key in enumerate(embedding_similarity_wiki_ndb_scatter):\\n    y1,x1 = zip(*[t for t in embedding_similarity_wiki_ndb_scatter[key] if t[1]<0])\\n    y2,x2 = zip(*[t for t in embedding_similarity_wiki_ndb_scatter[key] if t[1]>=0])\\n    x_mean = np.mean(x1+x2)\\n    y_mean = np.mean(y1+y2)\\n    ax[0,i].axhline(y=y_mean, color='black')\\n    ax[0,i].axvline(x=x_mean, color='black')\\n    ax[0,i].scatter(x1,y1)\\n    ax[0,i].scatter(x2,y2)\\n    ax[0,i].set_xlim(-1,1)\\n    ax[0,i].set_ylim(0.70,0.95)\\n    if i!=0:\\n        ax[i,0].axhline(y=y_mean, color='black')\\n        ax[i,0].axvline(x=x_mean, color='black')\\n        ax[i,0].scatter(x1,y1)\\n        ax[i,0].scatter(x2,y2)\\n        ax[i,0].set_xlim(-1,1)\\n        ax[i,0].set_ylim(0.70,0.95)\\n    for j in range(1,5):\\n        for k in range(1,5):\\n            ax[j,k].set_visible(False)\";\n",
       "                var nbb_formatted_code = \"fig, ax = plt.subplots(5, 5, figsize=(20, 20))\\nfor i, key in enumerate(embedding_similarity_wiki_ndb_scatter):\\n    y1, x1 = zip(*[t for t in embedding_similarity_wiki_ndb_scatter[key] if t[1] < 0])\\n    y2, x2 = zip(*[t for t in embedding_similarity_wiki_ndb_scatter[key] if t[1] >= 0])\\n    x_mean = np.mean(x1 + x2)\\n    y_mean = np.mean(y1 + y2)\\n    ax[0, i].axhline(y=y_mean, color=\\\"black\\\")\\n    ax[0, i].axvline(x=x_mean, color=\\\"black\\\")\\n    ax[0, i].scatter(x1, y1)\\n    ax[0, i].scatter(x2, y2)\\n    ax[0, i].set_xlim(-1, 1)\\n    ax[0, i].set_ylim(0.70, 0.95)\\n    if i != 0:\\n        ax[i, 0].axhline(y=y_mean, color=\\\"black\\\")\\n        ax[i, 0].axvline(x=x_mean, color=\\\"black\\\")\\n        ax[i, 0].scatter(x1, y1)\\n        ax[i, 0].scatter(x2, y2)\\n        ax[i, 0].set_xlim(-1, 1)\\n        ax[i, 0].set_ylim(0.70, 0.95)\\n    for j in range(1, 5):\\n        for k in range(1, 5):\\n            ax[j, k].set_visible(False)\";\n",
       "                var nbb_cells = Jupyter.notebook.get_cells();\n",
       "                for (var i = 0; i < nbb_cells.length; ++i) {\n",
       "                    if (nbb_cells[i].input_prompt_number == nbb_cell_id) {\n",
       "                        if (nbb_cells[i].get_text() == nbb_unformatted_code) {\n",
       "                             nbb_cells[i].set_text(nbb_formatted_code);\n",
       "                        }\n",
       "                        break;\n",
       "                    }\n",
       "                }\n",
       "            }, 500);\n",
       "            "
      ],
      "text/plain": [
       "<IPython.core.display.Javascript object>"
      ]
     },
     "metadata": {},
     "output_type": "display_data"
    }
   ],
   "source": [
    "fig, ax = plt.subplots(5, 5, figsize=(20, 20))\n",
    "for i, key in enumerate(embedding_similarity_wiki_ndb_scatter):\n",
    "    y1,x1 = zip(*[t for t in embedding_similarity_wiki_ndb_scatter[key] if t[1]<0])\n",
    "    y2,x2 = zip(*[t for t in embedding_similarity_wiki_ndb_scatter[key] if t[1]>=0])\n",
    "    x_mean = np.mean(x1+x2)\n",
    "    y_mean = np.mean(y1+y2)\n",
    "    ax[0,i].axhline(y=y_mean, color='black')\n",
    "    ax[0,i].axvline(x=x_mean, color='black')\n",
    "    ax[0,i].scatter(x1,y1)\n",
    "    ax[0,i].scatter(x2,y2)\n",
    "    ax[0,i].set_xlim(-1,1)\n",
    "    ax[0,i].set_ylim(0.70,0.95)\n",
    "    if i!=0:\n",
    "        ax[i,0].axhline(y=y_mean, color='black')\n",
    "        ax[i,0].axvline(x=x_mean, color='black')\n",
    "        ax[i,0].scatter(x1,y1)\n",
    "        ax[i,0].scatter(x2,y2)\n",
    "        ax[i,0].set_xlim(-1,1)\n",
    "        ax[i,0].set_ylim(0.70,0.95)\n",
    "    for j in range(1,5):\n",
    "        for k in range(1,5):\n",
    "            ax[j,k].set_visible(False)"
   ]
  },
  {
   "cell_type": "markdown",
   "metadata": {},
   "source": [
    "## 6 pretrained models\n",
    "\n",
    "+ check data gathering progress (6 scrips run parallel via jupytherlab)"
   ]
  },
  {
   "cell_type": "code",
   "execution_count": null,
   "metadata": {},
   "outputs": [],
   "source": [
    "# check notebook sentence_transformer ... (filesize...)"
   ]
  },
  {
   "cell_type": "markdown",
   "metadata": {},
   "source": [
    "## test code"
   ]
  },
  {
   "cell_type": "markdown",
   "metadata": {},
   "source": [
    "### sentence similarity - sentence transformer approach (BERT)"
   ]
  },
  {
   "cell_type": "code",
   "execution_count": 4,
   "metadata": {},
   "outputs": [
    {
     "name": "stdout",
     "output_type": "stream",
     "text": [
      "ndb_sent=['Karel van Mander (Schilderboeck, Haarlem 1604 und 1617) berichtet, A.Aachen habe seinen Namen nach der Herkunft seines Vaters geführt.', 'Seine künstlerische Laufbahn begann er in Köln als Schüler eines Giorgie oder Jerrigh genannten Niederländers, bei dem er sich insbesondere im Porträtmalen übte.', '1574-88 reiste er in Italien (Venedig, Rom, Florenz), 1588-1601 war er in Köln, Augsburg und am Hofe Wilhelms V. in München als Hofkammermaler tätig.', '1592 wurde er von Kaiser Rudolf II.', 'zu „Sr.Seiner Majestät Camer Maller“ ernannt, 1594 verlieh ihm der Kaiser den Adel.', '1601 siedelte A.Aachen nach Prag über und war bis zu seinem Tode im Auftrag des Kaisers als Porträtist und Aufkäufer von Kunstwerken in Deutschland und Italien tätig.', 'A.Aachens Schaffensgebiet umfaßte die verschiedenartigsten Themen.', 'Er malte Altarblätter, u. a.unter anderem, und andere für Il Gesù in Rom, einen Klügelaltar der Annaselbdritt für St.Sankt Maria im Kapitol zu Köln, einen Gekreuzigten mit Maria und Johannes für die Michaelhofkirche und eine Pietà für die Schloßkapelle der Maxburg (beide München), eine Krönung Mariens für die Fuggerkapelle in St.Sankt Ulrich und Afra in Augsburg.', 'Zugleich entstanden fortlaufend Porträts: der Hofgesellschaft in Florenz, des Giovanni da Bologna (Paris), von Kölner Patriziern, des bayerischen Herzogs und seiner Familie, der Fugger in Augsburg.', '- Am kaiserlichen Hof in Prag treten die mythologischen und allegorischen Themen gegenüber den religiösen in den Vordergrund, hinzu kommen zum Teil sehr realistische sittenbildliche Darstellungen.', 'Dabei ist A.Aachen der offizielle Porträtist Rudolfs II., des Kaisers Matthias und der Kaiserin Anna, ferner der Schöpfer von Bildnissen italienischer Fürstinnen für Rudolf II.', 'und zahlreicher Kopien von Gemälden.', '- Die Gemälde A.Aachens - es sind etwa 200 gesicherte bekannt - wurden von den besten Stechern der Zeit kopiert und sind, da die Originalevielfach verschollen sind, zum größeren Teil nur in diesen Nachstichen erhalten.', '- A.Aachen gilt neben B. Spranger und J. Heintz als Hauptvertreter des sog.sogenannten Rudolfinischen Kunstkreises, der kunstgeschichtlich eine deutsche Schule des Manierismus darstellt.', 'Er war zu Lebzeiten sehr angesehen, während sein Einfluß auf die Weiterentwicklung der Malerei weniger bedeutend ist.']\n",
      "\n",
      "\n",
      "wikipedia_sent=['Hans von Aachen (* 1552 in Köln; † 4. März 1615 in Prag), auch Johann von Aachen (nach der Geburtsstadt seines Vaters) oder Jan van Achen, Aken oder Janachen genannt, war ein deutscher, aus dem Rheinland stammender Maler mit der internationalen Laufbahn eines erfolgreichen Wanderkünstlers und Hofmalers.', 'Hans von Aachen lebte und arbeitete in Italien, Bayern und Prag.', 'Zu seinen Werken gehören neben zahlreichen Porträts vor allem allegorische, mythologische und religiöse Gemälde sowie eine große Anzahl von Kupferstichen und Zeichnungen.', 'Leben In seinem 1604 veröffentlichten Schilder-Boeck berichtet der Maler und Schriftsteller Karel van Mander, dass der junge Hans von Aachen bereits früh durch zeichnerisches Talent auffiel.', 'Sein Lehrer in Köln war ein nicht näher bekannter, wohl aus Antwerpen stammender Maler, bei dem von Aachen eine Ausbildung nach flämischer Tradition genoss.', 'Italienreise Bereits kurz nach dem Ende seiner Lehrzeit verließ von Aachen seine Heimatstadt und reiste im Jahr 1574 südwärts nach Italien.', 'Dort zog es ihn zunächst nach Venedig und er fand Arbeit bei dem aus Antwerpen stammenden Maler und Kunsthändler Gaspar Rem sowie Unterstützung in der lokalen Gemeinschaft nordeuropäischer Händler und Künstler.', 'Noch binnen Jahresfrist reiste von Aachen weiter nach Rom.', 'Er kam im Hause des Anthonis Santvoort unter, wo er im Austausch mit anderen Malern wie Bartholomäus Spranger und Hans Speckaert seine Technik verfeinerte und zu seinem eigenen Stil fand.', 'Obwohl bei van Mander überliefert ist, dass von Aachen in dieser Zeit viel gemalt hat, sind aus dieser Periode vor allem Zeichnungen erhalten geblieben.', 'Währenddessen knüpfte von Aachen in Italien ein breites Netz aus Kontakten zu anderen Künstlern, Händlern und Auftraggebern.', 'Er entwickelte sich im Laufe der 1580er Jahre zu einem geschätzten Maler, der bedeutende Aufträge erhielt.', '1585 arbeitete er in Florenz am Hofe des Großherzogs der Toskana Francesco I. de’ Medici.', 'Der Auftrag, den Großherzog zu porträtieren war entscheidend für seinen Aufstieg zum Hofmaler.', 'Von Aachens frühe Bildnisse sind mit ihren lockeren Pinselstrichen und der bräunlichen Farbpalette noch stark durch die nordeuropäische Malerei geprägt.', 'Das heute im Kölner Wallraf-Richartz-Museum ausgestellte Selbstbildnis von circa 1574 ist ein gutes Beispiel dafür.', 'Die Kombination von nord-  und südeuropäischen Einflüssen, die sich in von Aachens Arbeiten zum Ende seiner italienischen Periode zeigt, ist charakteristisch für seine spätere Malerei.', 'Ein weiteres Thema, das sich durch von Aachens gesamte Karriere zieht, ist die Genremalerei.', 'Dabei verwendet er oft sein eigenes, lachendes Gesicht, meist gut erkennbar an den schlechten Zähnen, in Darstellungen von ausgelassenen Paaren oder Kuppeleiszenen.', 'In Bayern Um 1588 kehrte Hans von Aachen zurück nach Deutschland und ließ sich in München nieder.', 'Dort arbeitete er für die Familie des Herzogs Wilhelm V. von Bayern, für die Fugger in Augsburg und erstellte Altarbilder für den Münchener Jesuitenorden.', 'Obwohl von Aachen schon in Italien an religiösen Gemälden gearbeitet hatte, entwickelte er gerade in München, geprägt durch die strenge katholische Ausrichtung des herzoglichen Hofes, für seine Darstellungen eine Ikonografie, die stark von den Ideen der Gegenreformation beeinflusst war.', 'Durch die Zusammenarbeit mit der Stecherfamilie Sadeler und dem Miniaturenmaler Joris Hoefnagel begann er sich hier zum ersten Mal mit Kupferstichen zu beschäftigen.', 'Gemeinsam fertigten sie eine Reihe von Stichen mit religiösen und allegorischen Motiven, die teilweise auf von Aachens bisherigen Gemälden beruhten, teilweise aber auch Erstentwürfe waren.', 'Die Verbreitung dieser Stiche über ganz Europa trug wesentlich zu Hans von Aachens Ruhm bei.', 'Während er noch in München arbeitete, wurde von Aachen 1592 von Rudolf II., dem Kaiser des Heiligen Römischen Reiches, zu seinem Kammermaler ernannt.', 'Im Jahr 1594 erhob ihn der Kaiser in den Adelsstand und nach von Aachens Heirat in München mit Regina di Lasso, der Tochter des berühmten Komponisten Orlando di Lasso, zogen die beiden 1596 zusammen nach Prag um.', 'Am kaiserlichen Hof in Prag Von Aachens Arbeiten in Prag können als Höhepunkt seines Schaffens angesehen werden.', 'Der Kaiser schätzte allerdings nicht nur seine künstlerischen Talente: Van Mander schreibt, dass von Aachen „täglich mit diesem Alexander eine apellisch freundschaftliche Gemeinschaft“ hatte, und bei dem Kaiser in „Achtung und Wertschätzung“ stand.', 'Deutlich wird dieses Vertrauen an den diplomatischen Aufgaben, mit denen der Kaiser seinen Hofmaler betraute.', 'So entsandte Rudolf II.', 'ihn bevorzugt als Unterhändler, wenn es darum ging, die kaiserliche Kunstsammlung zu ergänzen.', 'Dabei erwiesen sich von Aachens Sachverstand und die Fülle seiner Kontakte als wertvolle Hilfe.', 'Auch bei der Suche nach einer passenden Braut bediente sich der Kaiser seines Kammermalers.', 'Unter dem Vorwand, dass er die jungen Prinzessinnen porträtieren sollte, schickte er von Aachen an die europäischen Fürstenhöfe, um sich dann von ihm ausführlich über die dortigen Gegebenheiten und mögliche Mitgifte unterrichten zu lassen.', 'In diesen Zusammenhang gehört auch eine der seltenen direkten Charakterisierungen, die über von Aachen überliefert sind.', 'Der Gesandte der d’Este, Girolamo Manzuolo, schrieb 1603: „Er ist ein Mann von grösserer Einfachheit als Klugheit, er tut nichts, spricht nicht, gibt und nimmt nicht das Geringste, es sei denn, dass er sofort seinem Herrn bei Heller und Pfennig von Allem benachrichtige; er ist katholisch, spricht ein wenig italienisch und ist ein wahrheitsliebender Mann, der den Wein und Fröhlichkeit liebt.“Die freundschaftliche Verbindung zu Kaiser Rudolf II.', 'führte dazu, dass dieser Johann Aach am 1. November 1594 in den Adelsstand erhob und dessen bisheriges Wappen verbesserte.', 'Am 16. Mai 1605 ließ sich Johann von Aach die Adelserhebung nochmals vom Kaiser bestätigen und gleichzeitig das Siegeln mit rotem Wachs, die Salva Guardia und andere Freiheiten verleihen.In Prag entstand, wie zuvor, eine Reihe von Porträts und religiösen Gemälden.', 'Wichtiger aber sind die Gemälde mit allegorischen und mythologischen Sujets, die großteils direkt für die kaiserlichen Sammlungen geschaffen wurden.', 'Zwei besondere Beispiele seines Malstils dieser Zeit sind die Allegorie auf die Gerechtigkeit (München, Alte Pinakothek) und Bacchus, Ceres und Amor (Wien, Kunsthistorisches Museum).', 'Beide Bilder zeigen ein großes Interesse an Details und Pastellfarben, obwohl die Untergründe variieren: Das erste wurde auf eine kleine Kupferplatte und das zweite auf relativ große Leinwand gemalt.', 'Von Aachen beherrschte die Techniken, auf verschiedenen Materialien zu arbeiten.', 'So sind von ihm Gemälde auf Holz, Leinwand, Kupfer, Alabaster und schwarzem Marmor bekannt.', 'Nach dem Tode seines Patrons Rudolf II.', 'am 20. Januar 1612 blieb von Aachen am kaiserlichen Hof und setzte seine Arbeit für dessen Bruder und Nachfolger Matthias fort.', 'Seine Hauptbeschäftigung in den folgenden Jahren war das Malen von Porträts des kaiserlichen Paares.', 'Hans von Aachen starb drei Jahre später, am 4. März 1615, in Prag.', 'Seine Frau und seine fünf Kinder zogen wieder zurück nach München.', 'Bedeutung zu seiner Zeit Von Aachen gewann die Anerkennung der europäischen Höfe, der reichen Händler und Kaufleute.', 'Auch die Erhebung in den Adelsstand und seine herausgehobene Anstellung am kaiserlichen Hof brachten ihm Einfluss und Ansehen.', 'Bereits während seiner Zeit in Italien hatte er Schüler und Assistenten in seiner Werkstatt.', 'Dazu zählten u. a. Pieter Isaacsz, Hans Holzmayer, Paul Schürer und Joseph Heintz der Ältere.', 'Nur wenige Jahre nach Hans von Aachens Tod fiel der Schatten des Dreißigjährigen Krieges über sein Schaffen.', 'Neuere Rezeption Im 19. Jahrhundert dominierte ein nationaler Blickwinkel auf die Kunstgeschichte, sodass Hans von Aachens Erfolg als internationaler ‚Wanderkünstler‘ an den verschiedenen Höfen Europas nicht gewürdigt wurde.', 'Einige Kommentatoren stellten von Aachens Existenz in Frage.', 'Seine Werke wurden bis ins 20. Jahrhundert immer wieder anderen Künstlern wie Elsheimer, Caravaggio, Peter Paul Rubens oder Annibale Carracci zugeschrieben.In jüngerer Zeit führte gerade die weite Spanne seiner Themen und Ausdrucksmittel zu einer neuen und intensiveren Auseinandersetzung mit seinem Werk.', 'Seine Reiselust und sein Stilpluralismus gelten heute als Ausdruck einer Epoche des europäischen Kulturtransfers.', 'Verschiedene Ausstellungen haben in den letzten Jahrzehnten das Werk Hans von Aachens gezeigt, jedoch jeweils im Kontext der Rudolfinschen Hofkultur.', 'Die beiden wichtigsten waren die Ausstellungen Prag um 1600 – Kunst am Hofe Rudolfs II.', '(Essen, Villa Hügel, 1988) und Rudolf II and Prague - The Court and the City (Prag, Burggalerie, 1998).', '2010/11 fand die erste Ausstellung statt, die einen Überblick über das gesamte Œuvre Hans von Aachens bot.', 'Sie wanderte, wie der Maler selbst, durch Europa, und war in drei verschiedenen Museen zu sehen: vom 11. März bis 13. Juni 2010 zunächst im Suermondt-Ludwig-Museum in Aachen, vom 1. Juli bis 3. Oktober in der Burggalerie in Prag und vom 19. Oktober bis 9. Januar 2011 im Kunsthistorischen Museum in Wien.', 'Werke (Auswahl) Die Auferweckung des Jünglings von Nain, Leinwand, 1590, Alte Pinakothek (München) Allegorie von Friede, Kunst und Reichtum, 197 × 142 cm, 1602, Eremitage (Sankt Petersburg).', 'Selbstbildnis, Holz, um 1575, Wallraf-Richartz-Museum, (Köln).', 'Jagdszene, Zeichnung, um 1585, Staatliche Kunstsammlungen Dresden, Kupferstichkabinett.', 'Bildnis des Francesco I de’ Medici, Großherzog der Toskana, Leinwand, 1585, Palazzo Pitti, Florenz.', 'Das Martyrium des St. Sebastian, Leinwand, 1589, Michaelskirche, (München).', 'Bildnis des Herzog Wilhelm V von Bayern, Leinwand, vor 1589, Bayerische Verwaltung der staatlichen Schlösser, Gärten und Seen (München).', 'Amor Fucatus, Stich, 1591, Rijksmuseum (Amsterdam) Die Krönung Mariae, Leinwand, 1596, Basilika St. Ulrich und Afra (Augsburg).', 'Junges Paar mit Börse, um 1596, Leinwand, 63 × 50 cm, Kunsthistorisches Museum, Wien Allegorie der Gerechtigkeit, Kupfer, 56 × 47 cm, 1598, Alte Pinakothek (München).', 'Die drei Grazien, Leinwand, ca.', '1604, Muzeul Național de Artă al României (Bukarest).', 'Bildnis des Kaiser Rudolf II, Leinwand, 60 × 48 cm, um 1600, Kunsthistorisches Museum (Wien).', 'Bacchus, Ceres und Amor, Leinwand, 163 × 113 cm, um 1600, Kunsthistorisches Museum (Wien).', 'Allegorie (Triumph der Herrschaft über die Zeit), Öl auf Kupfer, um 1600, Staatsgalerie, Stuttgart.', 'Anbetung der Hirten, in der Marienkapelle der Kathedrale von Dax Fünf Allegorien auf den Langen Türkenkrieg Kaiser Rudolfs II., um 1603/04, Kunsthistorisches Museum (Wien) Schlacht bei Sisseck am 22. Juni 1593 (Victoria bekrönt die sitzende Croatia), Öl auf Leinwand, 34,5 × 42 cm Schlacht bei Hermannstadt (Verherrlichung des Sieges über den gefesselten Aufstand), Öl auf Leinwand, 34,5 × 42 cm Schlacht bei Kronstadt, Öl auf Leinwand, 34,5×42 cm Die Kriegserklärung vor Konstantinopel, Öl auf Leinwand, 34,5 × 42 cm Die Eroberung von Stuhlweißenburg, Öl auf Leinwand, 34,5 × 42 cm  Literatur Julius Meyer: Achen, Johann von.', 'In: Allgemeine Deutsche Biographie (ADB).', 'Band 1, Duncker & Humblot, Leipzig 1875, S. 29.', 'Eduard Firmenich-Richartz: Achen (Aken), Johann von.', 'In: Ulrich Thieme, Felix Becker (Hrsg.', '): Allgemeines Lexikon der Bildenden Künstler von der Antike bis zur Gegenwart.', 'Begründet von Ulrich Thieme und Felix Becker.', 'Band 1: Aa–Antonio de Miraguel.', 'Wilhelm Engelmann, Leipzig 1907, S.', '40–42 (Textarchiv – Internet Archive).', 'Rudolf Arthur Peltzer: Der Hofmaler Hans von Aachen, seine Schule und seine Zeit.', 'In: Jahrbuch der Kunsthistorischen Sammlungen des Allerhöchsten Kaiserhauses in Wien 30, 1911, S.', '59–182 (Digitalisat) Benninghoff, Nora: Aachen, Hans von.', 'In: Neue Deutsche Biographie (NDB).', 'Band 1, Duncker & Humblot, Berlin 1953, ISBN 3-428-00182-6, S. 1 (Digitalisat).', 'Joachim Jacoby (Bearbeitung): The New Hollstein German Engravings, Etchings and Woodcuts 1400–1700 – Hans von Aachen.', 'Sound & Vision Interactive, Rotterdam 1996.', 'Joachim Jacoby: Hans von Aachen 1552–1615.', 'Deutscher Kunstverlag, München & Berlin 2000, ISBN 3-422-06287-4.', 'Claudia Reichl-Ham: Der „Lange Türkenkrieg“ Rudolfs II.', 'und seine Rezeption im Heeresgeschichtlichen Museum.', 'In: Viribus Unitis.', 'Jahresbericht 2007 des Heeresgeschichtlichen Museums.', 'Wien 2008, S.', '11–34.', 'Thomas Fusenig (Hrsg.', '): Hans von Aachen, Hofkünstler in Europa.', 'Ausstellungskatalog.', 'Deutscher Kunstverlag, Berlin, München 2010, ISBN 978-3-422-06971-8  Weblinks  Ausstellungs-Seite der ersten großen Werkschau Hans von Aachens – Die Ausstellung ist eine Zusammenarbeit des Suermondt-Ludwig-Museums, der Burggalerie in Prag und dem Kunsthistorischen Museum Getty Museum – Kurzbiografie (englisch) Literatur von und über Hans von Aachen im Katalog der Deutschen Nationalbibliothek Hans von Aachen, Kupferstiche, auf Portal tripota.uni-trier.de, abgerufen am 29. November 2015 Hans von Aachen in Google Arts & Culture Ulrike Gondorf: 04.03.1615 - Der Todestag des Malers Hans von Aachen WDR ZeitZeichen vom 4. März 2015, mit Thomas Fusenig.', '(Podcast)   == Einzelnachweise ==']\n"
     ]
    },
    {
     "data": {
      "application/javascript": [
       "\n",
       "            setTimeout(function() {\n",
       "                var nbb_cell_id = 4;\n",
       "                var nbb_unformatted_code = \"ndb_sent_sample = []\\nwikipedia_sent_sample = []\\n\\nfor index, row in corpus.iterrows():\\n    ndb_text = row[\\\"ndb_text\\\"]\\n    wikipedia_text = row[\\\"wikipedia_text\\\"]\\n    ndb_sent = sent_tokenize(ndb_text, language=\\\"german\\\")\\n    wikipedia_sent = sent_tokenize(wikipedia_text, language=\\\"german\\\")\\n\\n    print(f\\\"{ndb_sent=}\\\")\\n    print(\\\"\\\\n\\\")\\n    print(f\\\"{wikipedia_sent=}\\\")\\n    ndb_sent_sample = ndb_sent\\n    wikipedia_sent_sample = wikipedia_sent\\n    break\";\n",
       "                var nbb_formatted_code = \"ndb_sent_sample = []\\nwikipedia_sent_sample = []\\n\\nfor index, row in corpus.iterrows():\\n    ndb_text = row[\\\"ndb_text\\\"]\\n    wikipedia_text = row[\\\"wikipedia_text\\\"]\\n    ndb_sent = sent_tokenize(ndb_text, language=\\\"german\\\")\\n    wikipedia_sent = sent_tokenize(wikipedia_text, language=\\\"german\\\")\\n\\n    print(f\\\"{ndb_sent=}\\\")\\n    print(\\\"\\\\n\\\")\\n    print(f\\\"{wikipedia_sent=}\\\")\\n    ndb_sent_sample = ndb_sent\\n    wikipedia_sent_sample = wikipedia_sent\\n    break\";\n",
       "                var nbb_cells = Jupyter.notebook.get_cells();\n",
       "                for (var i = 0; i < nbb_cells.length; ++i) {\n",
       "                    if (nbb_cells[i].input_prompt_number == nbb_cell_id) {\n",
       "                        if (nbb_cells[i].get_text() == nbb_unformatted_code) {\n",
       "                             nbb_cells[i].set_text(nbb_formatted_code);\n",
       "                        }\n",
       "                        break;\n",
       "                    }\n",
       "                }\n",
       "            }, 500);\n",
       "            "
      ],
      "text/plain": [
       "<IPython.core.display.Javascript object>"
      ]
     },
     "metadata": {},
     "output_type": "display_data"
    }
   ],
   "source": [
    "ndb_sent_sample = []\n",
    "wikipedia_sent_sample = []\n",
    "\n",
    "for index, row in corpus.iterrows():\n",
    "    ndb_text = row[\"ndb_text\"]\n",
    "    wikipedia_text = row[\"wikipedia_text\"]\n",
    "    ndb_sent = sent_tokenize(ndb_text, language=\"german\")\n",
    "    wikipedia_sent = sent_tokenize(wikipedia_text, language=\"german\")\n",
    "\n",
    "    print(f\"{ndb_sent=}\")\n",
    "    print(\"\\n\")\n",
    "    print(f\"{wikipedia_sent=}\")\n",
    "    ndb_sent_sample = ndb_sent\n",
    "    wikipedia_sent_sample = wikipedia_sent\n",
    "    break"
   ]
  },
  {
   "cell_type": "code",
   "execution_count": 5,
   "metadata": {
    "scrolled": true
   },
   "outputs": [
    {
     "data": {
      "application/javascript": [
       "\n",
       "            setTimeout(function() {\n",
       "                var nbb_cell_id = 5;\n",
       "                var nbb_unformatted_code = \"model_name = \\\"bert-base-nli-mean-tokens\\\"\\nmodel = SentenceTransformer(model_name)\";\n",
       "                var nbb_formatted_code = \"model_name = \\\"bert-base-nli-mean-tokens\\\"\\nmodel = SentenceTransformer(model_name)\";\n",
       "                var nbb_cells = Jupyter.notebook.get_cells();\n",
       "                for (var i = 0; i < nbb_cells.length; ++i) {\n",
       "                    if (nbb_cells[i].input_prompt_number == nbb_cell_id) {\n",
       "                        if (nbb_cells[i].get_text() == nbb_unformatted_code) {\n",
       "                             nbb_cells[i].set_text(nbb_formatted_code);\n",
       "                        }\n",
       "                        break;\n",
       "                    }\n",
       "                }\n",
       "            }, 500);\n",
       "            "
      ],
      "text/plain": [
       "<IPython.core.display.Javascript object>"
      ]
     },
     "metadata": {},
     "output_type": "display_data"
    }
   ],
   "source": [
    "model_name = \"bert-base-nli-mean-tokens\"\n",
    "model = SentenceTransformer(model_name)"
   ]
  },
  {
   "cell_type": "code",
   "execution_count": null,
   "metadata": {},
   "outputs": [],
   "source": [
    "sent = ndb_sent_sample + wikipedia_sent_sample\n",
    "sent_vecs = model.encode(sent)"
   ]
  },
  {
   "cell_type": "code",
   "execution_count": 7,
   "metadata": {},
   "outputs": [
    {
     "name": "stdout",
     "output_type": "stream",
     "text": [
      "(121, 768)\n",
      "15 106\n"
     ]
    },
    {
     "data": {
      "application/javascript": [
       "\n",
       "            setTimeout(function() {\n",
       "                var nbb_cell_id = 7;\n",
       "                var nbb_unformatted_code = \"# (#sentences, bert feature vector \\\"size\\\")\\nprint(sent_vecs.shape)\\nprint(len(ndb_sent_sample), len(wikipedia_sent_sample))\";\n",
       "                var nbb_formatted_code = \"# (#sentences, bert feature vector \\\"size\\\")\\nprint(sent_vecs.shape)\\nprint(len(ndb_sent_sample), len(wikipedia_sent_sample))\";\n",
       "                var nbb_cells = Jupyter.notebook.get_cells();\n",
       "                for (var i = 0; i < nbb_cells.length; ++i) {\n",
       "                    if (nbb_cells[i].input_prompt_number == nbb_cell_id) {\n",
       "                        if (nbb_cells[i].get_text() == nbb_unformatted_code) {\n",
       "                             nbb_cells[i].set_text(nbb_formatted_code);\n",
       "                        }\n",
       "                        break;\n",
       "                    }\n",
       "                }\n",
       "            }, 500);\n",
       "            "
      ],
      "text/plain": [
       "<IPython.core.display.Javascript object>"
      ]
     },
     "metadata": {},
     "output_type": "display_data"
    }
   ],
   "source": [
    "# (#sentences, bert feature vector \"size\")\n",
    "print(sent_vecs.shape)\n",
    "print(len(ndb_sent_sample), len(wikipedia_sent_sample))"
   ]
  },
  {
   "cell_type": "code",
   "execution_count": 8,
   "metadata": {},
   "outputs": [
    {
     "data": {
      "text/plain": [
       "array([[-0.74171287,  1.2925394 ,  0.9810819 , ..., -0.13221163,\n",
       "         0.28097105,  0.73229223],\n",
       "       [-0.3589966 ,  0.31083128,  2.0198016 , ..., -0.54130465,\n",
       "         0.34856242,  0.30767867],\n",
       "       [-0.0530151 ,  1.3481637 ,  1.100352  , ..., -0.52004015,\n",
       "         0.6739174 ,  0.22898078],\n",
       "       ...,\n",
       "       [-0.49632603,  0.17013603,  1.5492294 , ..., -0.6191787 ,\n",
       "         0.36726463, -0.07301147],\n",
       "       [-0.22742054,  1.1384732 ,  0.8086295 , ..., -0.35916084,\n",
       "         0.82697535,  0.54570186],\n",
       "       [-0.12972096,  0.33233458,  1.872606  , ...,  0.49163583,\n",
       "         0.6807285 , -0.6026755 ]], dtype=float32)"
      ]
     },
     "execution_count": 8,
     "metadata": {},
     "output_type": "execute_result"
    },
    {
     "data": {
      "application/javascript": [
       "\n",
       "            setTimeout(function() {\n",
       "                var nbb_cell_id = 8;\n",
       "                var nbb_unformatted_code = \"sent_vecs\";\n",
       "                var nbb_formatted_code = \"sent_vecs\";\n",
       "                var nbb_cells = Jupyter.notebook.get_cells();\n",
       "                for (var i = 0; i < nbb_cells.length; ++i) {\n",
       "                    if (nbb_cells[i].input_prompt_number == nbb_cell_id) {\n",
       "                        if (nbb_cells[i].get_text() == nbb_unformatted_code) {\n",
       "                             nbb_cells[i].set_text(nbb_formatted_code);\n",
       "                        }\n",
       "                        break;\n",
       "                    }\n",
       "                }\n",
       "            }, 500);\n",
       "            "
      ],
      "text/plain": [
       "<IPython.core.display.Javascript object>"
      ]
     },
     "metadata": {},
     "output_type": "display_data"
    }
   ],
   "source": [
    "sent_vecs"
   ]
  },
  {
   "cell_type": "code",
   "execution_count": 9,
   "metadata": {},
   "outputs": [
    {
     "data": {
      "text/plain": [
       "array([[0.8161738 , 0.769992  , 0.75554585, 0.7294737 , 0.777584  ,\n",
       "        0.80387366, 0.7639326 , 0.74694324, 0.72284156, 0.7684176 ,\n",
       "        0.7806066 , 0.7491139 , 0.7962941 , 0.8059578 , 0.79253685,\n",
       "        0.75246984, 0.802448  , 0.78077835, 0.7476944 , 0.7275906 ,\n",
       "        0.7924439 , 0.8039783 , 0.7781757 , 0.8152809 , 0.7926885 ,\n",
       "        0.87698406, 0.85106134, 0.87033606, 0.83346856, 0.7633331 ,\n",
       "        0.7264133 , 0.76961774, 0.81057096, 0.85590374, 0.84019536,\n",
       "        0.7914542 , 0.8004049 , 0.7364391 , 0.8039244 , 0.8058981 ,\n",
       "        0.7633021 , 0.7857666 , 0.6879449 , 0.79553497, 0.7977457 ,\n",
       "        0.80899554, 0.81571126, 0.73648167, 0.6199708 , 0.83339447,\n",
       "        0.8573389 , 0.78330517, 0.72756565, 0.7943363 , 0.7697822 ,\n",
       "        0.76479995, 0.7375679 , 0.7616843 , 0.837709  , 0.7655097 ,\n",
       "        0.71297705, 0.69260156, 0.64706194, 0.76717174, 0.7021614 ,\n",
       "        0.7392999 , 0.743883  , 0.74229467, 0.7488404 , 0.757262  ,\n",
       "        0.6503515 , 0.7019029 , 0.66388047, 0.714147  , 0.647519  ,\n",
       "        0.74252385, 0.8109808 , 0.70465493, 0.62656766, 0.74024236,\n",
       "        0.7132561 , 0.7301039 , 0.74290097, 0.51584375, 0.5897546 ,\n",
       "        0.401681  , 0.81662637, 0.7034645 , 0.76126075, 0.6294479 ,\n",
       "        0.6293081 , 0.66754556, 0.41111687, 0.71117115, 0.5753161 ,\n",
       "        0.846807  , 0.6671885 , 0.5289066 , 0.60804117, 0.5301929 ,\n",
       "        0.35264236, 0.5588249 , 0.6976049 , 0.6060791 , 0.71898705,\n",
       "        0.5072785 ]], dtype=float32)"
      ]
     },
     "execution_count": 9,
     "metadata": {},
     "output_type": "execute_result"
    },
    {
     "data": {
      "application/javascript": [
       "\n",
       "            setTimeout(function() {\n",
       "                var nbb_cell_id = 9;\n",
       "                var nbb_unformatted_code = \"_idx_one = 10\\nresult = cosine_similarity([sent_vecs[_idx_one]], sent_vecs[len(ndb_sent_sample) :])\\nresult\";\n",
       "                var nbb_formatted_code = \"_idx_one = 10\\nresult = cosine_similarity([sent_vecs[_idx_one]], sent_vecs[len(ndb_sent_sample) :])\\nresult\";\n",
       "                var nbb_cells = Jupyter.notebook.get_cells();\n",
       "                for (var i = 0; i < nbb_cells.length; ++i) {\n",
       "                    if (nbb_cells[i].input_prompt_number == nbb_cell_id) {\n",
       "                        if (nbb_cells[i].get_text() == nbb_unformatted_code) {\n",
       "                             nbb_cells[i].set_text(nbb_formatted_code);\n",
       "                        }\n",
       "                        break;\n",
       "                    }\n",
       "                }\n",
       "            }, 500);\n",
       "            "
      ],
      "text/plain": [
       "<IPython.core.display.Javascript object>"
      ]
     },
     "metadata": {},
     "output_type": "display_data"
    }
   ],
   "source": [
    "_idx_one = 10\n",
    "result = cosine_similarity([sent_vecs[_idx_one]], sent_vecs[len(ndb_sent_sample) :])\n",
    "result"
   ]
  },
  {
   "cell_type": "code",
   "execution_count": 10,
   "metadata": {},
   "outputs": [
    {
     "data": {
      "text/plain": [
       "numpy.ndarray"
      ]
     },
     "execution_count": 10,
     "metadata": {},
     "output_type": "execute_result"
    },
    {
     "data": {
      "application/javascript": [
       "\n",
       "            setTimeout(function() {\n",
       "                var nbb_cell_id = 10;\n",
       "                var nbb_unformatted_code = \"type(result)\";\n",
       "                var nbb_formatted_code = \"type(result)\";\n",
       "                var nbb_cells = Jupyter.notebook.get_cells();\n",
       "                for (var i = 0; i < nbb_cells.length; ++i) {\n",
       "                    if (nbb_cells[i].input_prompt_number == nbb_cell_id) {\n",
       "                        if (nbb_cells[i].get_text() == nbb_unformatted_code) {\n",
       "                             nbb_cells[i].set_text(nbb_formatted_code);\n",
       "                        }\n",
       "                        break;\n",
       "                    }\n",
       "                }\n",
       "            }, 500);\n",
       "            "
      ],
      "text/plain": [
       "<IPython.core.display.Javascript object>"
      ]
     },
     "metadata": {},
     "output_type": "display_data"
    }
   ],
   "source": [
    "type(result)"
   ]
  },
  {
   "cell_type": "code",
   "execution_count": 11,
   "metadata": {},
   "outputs": [
    {
     "name": "stdout",
     "output_type": "stream",
     "text": [
      "_max=0.87698406, _idx=25\n"
     ]
    },
    {
     "data": {
      "application/javascript": [
       "\n",
       "            setTimeout(function() {\n",
       "                var nbb_cell_id = 11;\n",
       "                var nbb_unformatted_code = \"_max = -1\\n_idx = -1\\nfor i, v in enumerate(result[0]):\\n    if v > _max:\\n        _max = v\\n        _idx = i\\nprint(f\\\"{_max=}, {_idx=}\\\")\";\n",
       "                var nbb_formatted_code = \"_max = -1\\n_idx = -1\\nfor i, v in enumerate(result[0]):\\n    if v > _max:\\n        _max = v\\n        _idx = i\\nprint(f\\\"{_max=}, {_idx=}\\\")\";\n",
       "                var nbb_cells = Jupyter.notebook.get_cells();\n",
       "                for (var i = 0; i < nbb_cells.length; ++i) {\n",
       "                    if (nbb_cells[i].input_prompt_number == nbb_cell_id) {\n",
       "                        if (nbb_cells[i].get_text() == nbb_unformatted_code) {\n",
       "                             nbb_cells[i].set_text(nbb_formatted_code);\n",
       "                        }\n",
       "                        break;\n",
       "                    }\n",
       "                }\n",
       "            }, 500);\n",
       "            "
      ],
      "text/plain": [
       "<IPython.core.display.Javascript object>"
      ]
     },
     "metadata": {},
     "output_type": "display_data"
    }
   ],
   "source": [
    "_max = -1\n",
    "_idx = -1\n",
    "for i, v in enumerate(result[0]):\n",
    "    if v > _max:\n",
    "        _max = v\n",
    "        _idx = i\n",
    "print(f\"{_max=}, {_idx=}\")"
   ]
  },
  {
   "cell_type": "code",
   "execution_count": 12,
   "metadata": {},
   "outputs": [
    {
     "name": "stdout",
     "output_type": "stream",
     "text": [
      "Dabei ist A.Aachen der offizielle Porträtist Rudolfs II., des Kaisers Matthias und der Kaiserin Anna, ferner der Schöpfer von Bildnissen italienischer Fürstinnen für Rudolf II.\n",
      "\n",
      "Während er noch in München arbeitete, wurde von Aachen 1592 von Rudolf II., dem Kaiser des Heiligen Römischen Reiches, zu seinem Kammermaler ernannt.\n"
     ]
    },
    {
     "data": {
      "application/javascript": [
       "\n",
       "            setTimeout(function() {\n",
       "                var nbb_cell_id = 12;\n",
       "                var nbb_unformatted_code = \"print(sent[_idx_one])\\nprint(\\\"\\\")\\nprint(sent[len(ndb_sent_sample) :][_idx])\";\n",
       "                var nbb_formatted_code = \"print(sent[_idx_one])\\nprint(\\\"\\\")\\nprint(sent[len(ndb_sent_sample) :][_idx])\";\n",
       "                var nbb_cells = Jupyter.notebook.get_cells();\n",
       "                for (var i = 0; i < nbb_cells.length; ++i) {\n",
       "                    if (nbb_cells[i].input_prompt_number == nbb_cell_id) {\n",
       "                        if (nbb_cells[i].get_text() == nbb_unformatted_code) {\n",
       "                             nbb_cells[i].set_text(nbb_formatted_code);\n",
       "                        }\n",
       "                        break;\n",
       "                    }\n",
       "                }\n",
       "            }, 500);\n",
       "            "
      ],
      "text/plain": [
       "<IPython.core.display.Javascript object>"
      ]
     },
     "metadata": {},
     "output_type": "display_data"
    }
   ],
   "source": [
    "print(sent[_idx_one])\n",
    "print(\"\")\n",
    "print(sent[len(ndb_sent_sample) :][_idx])"
   ]
  },
  {
   "cell_type": "markdown",
   "metadata": {},
   "source": [
    "## pytorch approach"
   ]
  },
  {
   "cell_type": "markdown",
   "metadata": {},
   "source": [
    "### requirements\n",
    "\n",
    "+ transformers (4.18.0)\n",
    "+ torch (1.11.0)"
   ]
  },
  {
   "cell_type": "code",
   "execution_count": 13,
   "metadata": {},
   "outputs": [
    {
     "data": {
      "application/javascript": [
       "\n",
       "            setTimeout(function() {\n",
       "                var nbb_cell_id = 13;\n",
       "                var nbb_unformatted_code = \"from transformers import AutoTokenizer, AutoModel\\nimport torch\";\n",
       "                var nbb_formatted_code = \"from transformers import AutoTokenizer, AutoModel\\nimport torch\";\n",
       "                var nbb_cells = Jupyter.notebook.get_cells();\n",
       "                for (var i = 0; i < nbb_cells.length; ++i) {\n",
       "                    if (nbb_cells[i].input_prompt_number == nbb_cell_id) {\n",
       "                        if (nbb_cells[i].get_text() == nbb_unformatted_code) {\n",
       "                             nbb_cells[i].set_text(nbb_formatted_code);\n",
       "                        }\n",
       "                        break;\n",
       "                    }\n",
       "                }\n",
       "            }, 500);\n",
       "            "
      ],
      "text/plain": [
       "<IPython.core.display.Javascript object>"
      ]
     },
     "metadata": {},
     "output_type": "display_data"
    }
   ],
   "source": [
    "from transformers import AutoTokenizer, AutoModel\n",
    "import torch"
   ]
  },
  {
   "cell_type": "code",
   "execution_count": 14,
   "metadata": {
    "scrolled": true
   },
   "outputs": [
    {
     "data": {
      "application/javascript": [
       "\n",
       "            setTimeout(function() {\n",
       "                var nbb_cell_id = 14;\n",
       "                var nbb_unformatted_code = \"model_name = \\\"sentence-transformers/bert-base-nli-mean-tokens\\\"\\ntokenizer = AutoTokenizer.from_pretrained(model_name)\\nmodel = AutoModel.from_pretrained(model_name)\\n\\n# given\\n# ndb_sent_sample\\n# wikipedia_sent_sample\\n# sent = ndb_sent_sample + wikipedia_sent_sample\";\n",
       "                var nbb_formatted_code = \"model_name = \\\"sentence-transformers/bert-base-nli-mean-tokens\\\"\\ntokenizer = AutoTokenizer.from_pretrained(model_name)\\nmodel = AutoModel.from_pretrained(model_name)\\n\\n# given\\n# ndb_sent_sample\\n# wikipedia_sent_sample\\n# sent = ndb_sent_sample + wikipedia_sent_sample\";\n",
       "                var nbb_cells = Jupyter.notebook.get_cells();\n",
       "                for (var i = 0; i < nbb_cells.length; ++i) {\n",
       "                    if (nbb_cells[i].input_prompt_number == nbb_cell_id) {\n",
       "                        if (nbb_cells[i].get_text() == nbb_unformatted_code) {\n",
       "                             nbb_cells[i].set_text(nbb_formatted_code);\n",
       "                        }\n",
       "                        break;\n",
       "                    }\n",
       "                }\n",
       "            }, 500);\n",
       "            "
      ],
      "text/plain": [
       "<IPython.core.display.Javascript object>"
      ]
     },
     "metadata": {},
     "output_type": "display_data"
    }
   ],
   "source": [
    "model_name = \"sentence-transformers/bert-base-nli-mean-tokens\"\n",
    "tokenizer = AutoTokenizer.from_pretrained(model_name)\n",
    "model = AutoModel.from_pretrained(model_name)\n",
    "\n",
    "# given\n",
    "# ndb_sent_sample\n",
    "# wikipedia_sent_sample\n",
    "# sent = ndb_sent_sample + wikipedia_sent_sample"
   ]
  },
  {
   "cell_type": "code",
   "execution_count": 15,
   "metadata": {},
   "outputs": [
    {
     "data": {
      "application/javascript": [
       "\n",
       "            setTimeout(function() {\n",
       "                var nbb_cell_id = 15;\n",
       "                var nbb_unformatted_code = \"tokens = {\\\"input_ids\\\": [], \\\"attention_mask\\\": []}\";\n",
       "                var nbb_formatted_code = \"tokens = {\\\"input_ids\\\": [], \\\"attention_mask\\\": []}\";\n",
       "                var nbb_cells = Jupyter.notebook.get_cells();\n",
       "                for (var i = 0; i < nbb_cells.length; ++i) {\n",
       "                    if (nbb_cells[i].input_prompt_number == nbb_cell_id) {\n",
       "                        if (nbb_cells[i].get_text() == nbb_unformatted_code) {\n",
       "                             nbb_cells[i].set_text(nbb_formatted_code);\n",
       "                        }\n",
       "                        break;\n",
       "                    }\n",
       "                }\n",
       "            }, 500);\n",
       "            "
      ],
      "text/plain": [
       "<IPython.core.display.Javascript object>"
      ]
     },
     "metadata": {},
     "output_type": "display_data"
    }
   ],
   "source": [
    "tokens = {\"input_ids\": [], \"attention_mask\": []}"
   ]
  },
  {
   "cell_type": "code",
   "execution_count": 16,
   "metadata": {},
   "outputs": [
    {
     "data": {
      "application/javascript": [
       "\n",
       "            setTimeout(function() {\n",
       "                var nbb_cell_id = 16;\n",
       "                var nbb_unformatted_code = \"# max_length usually 512, but for that <bert-base-nli-mean-tokens> model: 128\\nfor s in sent:\\n    new_tokens = tokenizer.encode_plus(\\n        s, max_length=128, truncation=True, padding=\\\"max_length\\\", return_tensors=\\\"pt\\\"\\n    )\\n    tokens[\\\"input_ids\\\"].append(new_tokens[\\\"input_ids\\\"][0])\\n    tokens[\\\"attention_mask\\\"].append(new_tokens[\\\"attention_mask\\\"][0])\";\n",
       "                var nbb_formatted_code = \"# max_length usually 512, but for that <bert-base-nli-mean-tokens> model: 128\\nfor s in sent:\\n    new_tokens = tokenizer.encode_plus(\\n        s, max_length=128, truncation=True, padding=\\\"max_length\\\", return_tensors=\\\"pt\\\"\\n    )\\n    tokens[\\\"input_ids\\\"].append(new_tokens[\\\"input_ids\\\"][0])\\n    tokens[\\\"attention_mask\\\"].append(new_tokens[\\\"attention_mask\\\"][0])\";\n",
       "                var nbb_cells = Jupyter.notebook.get_cells();\n",
       "                for (var i = 0; i < nbb_cells.length; ++i) {\n",
       "                    if (nbb_cells[i].input_prompt_number == nbb_cell_id) {\n",
       "                        if (nbb_cells[i].get_text() == nbb_unformatted_code) {\n",
       "                             nbb_cells[i].set_text(nbb_formatted_code);\n",
       "                        }\n",
       "                        break;\n",
       "                    }\n",
       "                }\n",
       "            }, 500);\n",
       "            "
      ],
      "text/plain": [
       "<IPython.core.display.Javascript object>"
      ]
     },
     "metadata": {},
     "output_type": "display_data"
    }
   ],
   "source": [
    "# max_length usually 512, but for that <bert-base-nli-mean-tokens> model: 128\n",
    "for s in sent:\n",
    "    new_tokens = tokenizer.encode_plus(\n",
    "        s, max_length=128, truncation=True, padding=\"max_length\", return_tensors=\"pt\"\n",
    "    )\n",
    "    tokens[\"input_ids\"].append(new_tokens[\"input_ids\"][0])\n",
    "    tokens[\"attention_mask\"].append(new_tokens[\"attention_mask\"][0])"
   ]
  },
  {
   "cell_type": "code",
   "execution_count": 17,
   "metadata": {},
   "outputs": [
    {
     "data": {
      "application/javascript": [
       "\n",
       "            setTimeout(function() {\n",
       "                var nbb_cell_id = 17;\n",
       "                var nbb_unformatted_code = \"tokens[\\\"input_ids\\\"] = torch.stack(tokens[\\\"input_ids\\\"])\\ntokens[\\\"attention_mask\\\"] = torch.stack(tokens[\\\"attention_mask\\\"])\";\n",
       "                var nbb_formatted_code = \"tokens[\\\"input_ids\\\"] = torch.stack(tokens[\\\"input_ids\\\"])\\ntokens[\\\"attention_mask\\\"] = torch.stack(tokens[\\\"attention_mask\\\"])\";\n",
       "                var nbb_cells = Jupyter.notebook.get_cells();\n",
       "                for (var i = 0; i < nbb_cells.length; ++i) {\n",
       "                    if (nbb_cells[i].input_prompt_number == nbb_cell_id) {\n",
       "                        if (nbb_cells[i].get_text() == nbb_unformatted_code) {\n",
       "                             nbb_cells[i].set_text(nbb_formatted_code);\n",
       "                        }\n",
       "                        break;\n",
       "                    }\n",
       "                }\n",
       "            }, 500);\n",
       "            "
      ],
      "text/plain": [
       "<IPython.core.display.Javascript object>"
      ]
     },
     "metadata": {},
     "output_type": "display_data"
    }
   ],
   "source": [
    "tokens[\"input_ids\"] = torch.stack(tokens[\"input_ids\"])\n",
    "tokens[\"attention_mask\"] = torch.stack(tokens[\"attention_mask\"])"
   ]
  },
  {
   "cell_type": "code",
   "execution_count": 18,
   "metadata": {},
   "outputs": [
    {
     "data": {
      "text/plain": [
       "torch.Size([121, 128])"
      ]
     },
     "execution_count": 18,
     "metadata": {},
     "output_type": "execute_result"
    },
    {
     "data": {
      "application/javascript": [
       "\n",
       "            setTimeout(function() {\n",
       "                var nbb_cell_id = 18;\n",
       "                var nbb_unformatted_code = \"tokens[\\\"input_ids\\\"].shape\";\n",
       "                var nbb_formatted_code = \"tokens[\\\"input_ids\\\"].shape\";\n",
       "                var nbb_cells = Jupyter.notebook.get_cells();\n",
       "                for (var i = 0; i < nbb_cells.length; ++i) {\n",
       "                    if (nbb_cells[i].input_prompt_number == nbb_cell_id) {\n",
       "                        if (nbb_cells[i].get_text() == nbb_unformatted_code) {\n",
       "                             nbb_cells[i].set_text(nbb_formatted_code);\n",
       "                        }\n",
       "                        break;\n",
       "                    }\n",
       "                }\n",
       "            }, 500);\n",
       "            "
      ],
      "text/plain": [
       "<IPython.core.display.Javascript object>"
      ]
     },
     "metadata": {},
     "output_type": "display_data"
    }
   ],
   "source": [
    "tokens[\"input_ids\"].shape"
   ]
  },
  {
   "cell_type": "code",
   "execution_count": 19,
   "metadata": {},
   "outputs": [
    {
     "data": {
      "application/javascript": [
       "\n",
       "            setTimeout(function() {\n",
       "                var nbb_cell_id = 19;\n",
       "                var nbb_unformatted_code = \"output = model(**tokens)\";\n",
       "                var nbb_formatted_code = \"output = model(**tokens)\";\n",
       "                var nbb_cells = Jupyter.notebook.get_cells();\n",
       "                for (var i = 0; i < nbb_cells.length; ++i) {\n",
       "                    if (nbb_cells[i].input_prompt_number == nbb_cell_id) {\n",
       "                        if (nbb_cells[i].get_text() == nbb_unformatted_code) {\n",
       "                             nbb_cells[i].set_text(nbb_formatted_code);\n",
       "                        }\n",
       "                        break;\n",
       "                    }\n",
       "                }\n",
       "            }, 500);\n",
       "            "
      ],
      "text/plain": [
       "<IPython.core.display.Javascript object>"
      ]
     },
     "metadata": {},
     "output_type": "display_data"
    }
   ],
   "source": [
    "output = model(**tokens)"
   ]
  },
  {
   "cell_type": "code",
   "execution_count": 20,
   "metadata": {},
   "outputs": [
    {
     "data": {
      "text/plain": [
       "BaseModelOutputWithPoolingAndCrossAttentions(last_hidden_state=tensor([[[-8.6455e-01,  1.3114e+00,  1.2828e+00,  ..., -3.7629e-01,\n",
       "           3.5107e-01,  6.9136e-01],\n",
       "         [-1.0121e+00,  2.0230e+00,  1.0006e+00,  ..., -3.9671e-01,\n",
       "           2.0850e-01,  7.2933e-01],\n",
       "         [-5.0015e-01,  1.3749e+00,  1.0637e+00,  ..., -3.8095e-02,\n",
       "           2.0498e-01,  1.0980e+00],\n",
       "         ...,\n",
       "         [-5.2147e-01,  7.8742e-01,  6.4646e-01,  ..., -4.7822e-02,\n",
       "           3.0297e-01,  8.3770e-01],\n",
       "         [-5.3570e-01,  7.8380e-01,  6.5962e-01,  ..., -2.0631e-02,\n",
       "           2.9069e-01,  7.6974e-01],\n",
       "         [-5.4181e-01,  7.6251e-01,  6.6053e-01,  ...,  4.0153e-02,\n",
       "           2.4948e-01,  7.7410e-01]],\n",
       "\n",
       "        [[-3.8383e-01,  2.3627e-01,  2.2198e+00,  ..., -6.4041e-01,\n",
       "           5.1916e-01,  4.9758e-01],\n",
       "         [-3.0536e-01,  6.5606e-01,  2.2725e+00,  ..., -5.1931e-01,\n",
       "           2.4862e-01,  7.3326e-01],\n",
       "         [ 7.9254e-02,  5.9355e-01,  2.3380e+00,  ..., -1.5489e-01,\n",
       "           6.7154e-01,  3.3584e-01],\n",
       "         ...,\n",
       "         [-1.5630e-01,  1.9606e-02,  1.5200e+00,  ...,  1.8210e-02,\n",
       "           2.9730e-02,  4.9353e-01],\n",
       "         [-2.8206e-01,  1.2174e-02,  1.3585e+00,  ..., -2.4610e-01,\n",
       "           1.1216e-01,  3.3247e-01],\n",
       "         [-1.9577e-01, -1.0203e-02,  1.3544e+00,  ..., -2.1122e-01,\n",
       "           1.3689e-01,  3.2172e-01]],\n",
       "\n",
       "        [[-3.3187e-01,  1.3955e+00,  1.0938e+00,  ..., -9.3212e-01,\n",
       "           9.7137e-01,  2.6267e-01],\n",
       "         [ 3.4278e-01,  9.7669e-01,  1.1070e+00,  ..., -6.7376e-01,\n",
       "           5.0813e-01,  4.8806e-02],\n",
       "         [ 7.7012e-01,  1.1071e+00,  9.3829e-01,  ..., -6.6936e-01,\n",
       "           7.5552e-01,  3.9606e-01],\n",
       "         ...,\n",
       "         [ 6.4083e-02,  9.3469e-01,  5.2075e-01,  ..., -2.7310e-01,\n",
       "           6.0051e-01,  1.7182e-01],\n",
       "         [-5.2975e-02,  1.0869e+00,  4.2818e-01,  ..., -3.2826e-01,\n",
       "           5.9736e-01,  1.4653e-01],\n",
       "         [ 3.7179e-02,  9.7731e-01,  5.4613e-01,  ..., -3.5741e-01,\n",
       "           5.6625e-01,  1.6887e-01]],\n",
       "\n",
       "        ...,\n",
       "\n",
       "        [[-6.3527e-01,  9.8261e-02,  1.7457e+00,  ..., -5.1351e-01,\n",
       "           6.5841e-01,  1.4955e-01],\n",
       "         [-1.6768e-01,  1.4144e-01,  1.2828e+00,  ..., -7.5390e-01,\n",
       "           1.6813e-01,  2.5413e-01],\n",
       "         [-5.1551e-01,  1.2145e-01,  1.8292e+00,  ..., -8.1883e-01,\n",
       "           4.7562e-01,  3.8711e-02],\n",
       "         ...,\n",
       "         [-3.0454e-01,  3.5016e-01,  1.0303e+00,  ..., -6.6901e-01,\n",
       "          -1.3149e-03,  1.6846e-01],\n",
       "         [-2.9463e-01, -2.1028e-02,  8.7064e-01,  ..., -5.4274e-01,\n",
       "           4.2257e-02,  1.4827e-01],\n",
       "         [-2.4010e-01, -1.1439e-01,  9.1217e-01,  ..., -4.1145e-01,\n",
       "           9.0806e-02,  2.3203e-01]],\n",
       "\n",
       "        [[-5.5609e-01,  1.1735e+00,  1.3230e+00,  ..., -4.9226e-01,\n",
       "           1.1481e+00,  5.0803e-01],\n",
       "         [-2.3490e-01,  1.2033e+00,  3.6578e-01,  ..., -1.0666e+00,\n",
       "           7.8766e-01,  9.5682e-01],\n",
       "         [-3.6127e-01,  8.2861e-01,  8.0668e-01,  ..., -6.9224e-01,\n",
       "           1.1824e+00,  1.9712e-01],\n",
       "         ...,\n",
       "         [ 9.0049e-03,  1.5809e+00,  9.3568e-01,  ..., -3.9085e-01,\n",
       "           6.9353e-01, -9.9049e-02],\n",
       "         [-3.8191e-01,  1.0847e+00,  7.7859e-01,  ..., -5.7319e-01,\n",
       "           7.3766e-01,  8.6122e-01],\n",
       "         [-2.6406e-01,  1.8343e+00,  1.4199e+00,  ..., -4.3760e-01,\n",
       "           8.0655e-01,  2.0683e-01]],\n",
       "\n",
       "        [[-3.5259e-01,  2.6451e-01,  1.9009e+00,  ...,  2.4817e-01,\n",
       "           9.0349e-01, -3.7231e-01],\n",
       "         [-3.0738e-01,  2.0542e-01,  2.1291e+00,  ...,  3.6710e-01,\n",
       "           1.0362e+00, -4.8682e-01],\n",
       "         [ 7.5177e-02,  5.0215e-01,  1.7178e+00,  ...,  5.6970e-01,\n",
       "           8.1521e-01, -1.3414e+00],\n",
       "         ...,\n",
       "         [ 1.0377e-01,  1.5310e-01,  1.4379e+00,  ...,  3.9339e-01,\n",
       "           5.4020e-01, -3.5266e-01],\n",
       "         [-1.5346e-02,  9.3432e-02,  1.4896e+00,  ...,  4.3085e-01,\n",
       "           6.0177e-01, -3.8393e-01],\n",
       "         [-8.3232e-02,  1.5381e-01,  1.4690e+00,  ...,  4.0115e-01,\n",
       "           5.1278e-01, -3.1864e-01]]], grad_fn=<NativeLayerNormBackward0>), pooler_output=tensor([[-0.5556, -0.1896,  0.1207,  ..., -0.8365, -0.4578,  0.5857],\n",
       "        [-0.3294, -0.2595,  0.4932,  ..., -0.4125, -0.5042,  0.4874],\n",
       "        [-0.3289, -0.1632, -0.0031,  ..., -0.6959, -0.3200,  0.3762],\n",
       "        ...,\n",
       "        [-0.7233, -0.3742,  0.7621,  ...,  0.0017, -0.5443,  0.9044],\n",
       "        [-0.3046, -0.3833, -0.1303,  ..., -0.2125, -0.5298,  0.3729],\n",
       "        [-0.8021, -0.5064,  0.6157,  ..., -0.3595, -0.6443,  0.9277]],\n",
       "       grad_fn=<TanhBackward0>), hidden_states=None, past_key_values=None, attentions=None, cross_attentions=None)"
      ]
     },
     "execution_count": 20,
     "metadata": {},
     "output_type": "execute_result"
    },
    {
     "data": {
      "application/javascript": [
       "\n",
       "            setTimeout(function() {\n",
       "                var nbb_cell_id = 20;\n",
       "                var nbb_unformatted_code = \"output\";\n",
       "                var nbb_formatted_code = \"output\";\n",
       "                var nbb_cells = Jupyter.notebook.get_cells();\n",
       "                for (var i = 0; i < nbb_cells.length; ++i) {\n",
       "                    if (nbb_cells[i].input_prompt_number == nbb_cell_id) {\n",
       "                        if (nbb_cells[i].get_text() == nbb_unformatted_code) {\n",
       "                             nbb_cells[i].set_text(nbb_formatted_code);\n",
       "                        }\n",
       "                        break;\n",
       "                    }\n",
       "                }\n",
       "            }, 500);\n",
       "            "
      ],
      "text/plain": [
       "<IPython.core.display.Javascript object>"
      ]
     },
     "metadata": {},
     "output_type": "display_data"
    }
   ],
   "source": [
    "output"
   ]
  },
  {
   "cell_type": "code",
   "execution_count": 21,
   "metadata": {},
   "outputs": [
    {
     "data": {
      "text/plain": [
       "odict_keys(['last_hidden_state', 'pooler_output'])"
      ]
     },
     "execution_count": 21,
     "metadata": {},
     "output_type": "execute_result"
    },
    {
     "data": {
      "application/javascript": [
       "\n",
       "            setTimeout(function() {\n",
       "                var nbb_cell_id = 21;\n",
       "                var nbb_unformatted_code = \"output.keys()\";\n",
       "                var nbb_formatted_code = \"output.keys()\";\n",
       "                var nbb_cells = Jupyter.notebook.get_cells();\n",
       "                for (var i = 0; i < nbb_cells.length; ++i) {\n",
       "                    if (nbb_cells[i].input_prompt_number == nbb_cell_id) {\n",
       "                        if (nbb_cells[i].get_text() == nbb_unformatted_code) {\n",
       "                             nbb_cells[i].set_text(nbb_formatted_code);\n",
       "                        }\n",
       "                        break;\n",
       "                    }\n",
       "                }\n",
       "            }, 500);\n",
       "            "
      ],
      "text/plain": [
       "<IPython.core.display.Javascript object>"
      ]
     },
     "metadata": {},
     "output_type": "display_data"
    }
   ],
   "source": [
    "output.keys()"
   ]
  },
  {
   "cell_type": "code",
   "execution_count": 22,
   "metadata": {},
   "outputs": [
    {
     "data": {
      "text/plain": [
       "torch.Size([121, 128, 768])"
      ]
     },
     "execution_count": 22,
     "metadata": {},
     "output_type": "execute_result"
    },
    {
     "data": {
      "application/javascript": [
       "\n",
       "            setTimeout(function() {\n",
       "                var nbb_cell_id = 22;\n",
       "                var nbb_unformatted_code = \"embeddings = output.last_hidden_state\\nembeddings.shape\";\n",
       "                var nbb_formatted_code = \"embeddings = output.last_hidden_state\\nembeddings.shape\";\n",
       "                var nbb_cells = Jupyter.notebook.get_cells();\n",
       "                for (var i = 0; i < nbb_cells.length; ++i) {\n",
       "                    if (nbb_cells[i].input_prompt_number == nbb_cell_id) {\n",
       "                        if (nbb_cells[i].get_text() == nbb_unformatted_code) {\n",
       "                             nbb_cells[i].set_text(nbb_formatted_code);\n",
       "                        }\n",
       "                        break;\n",
       "                    }\n",
       "                }\n",
       "            }, 500);\n",
       "            "
      ],
      "text/plain": [
       "<IPython.core.display.Javascript object>"
      ]
     },
     "metadata": {},
     "output_type": "display_data"
    }
   ],
   "source": [
    "embeddings = output.last_hidden_state\n",
    "embeddings.shape"
   ]
  },
  {
   "cell_type": "markdown",
   "metadata": {},
   "source": [
    "### convert last_hidden_state tensor using mean pooling"
   ]
  },
  {
   "cell_type": "code",
   "execution_count": 23,
   "metadata": {},
   "outputs": [
    {
     "data": {
      "text/plain": [
       "torch.Size([121, 128])"
      ]
     },
     "execution_count": 23,
     "metadata": {},
     "output_type": "execute_result"
    },
    {
     "data": {
      "application/javascript": [
       "\n",
       "            setTimeout(function() {\n",
       "                var nbb_cell_id = 23;\n",
       "                var nbb_unformatted_code = \"attention = tokens[\\\"attention_mask\\\"]\\nattention.shape\";\n",
       "                var nbb_formatted_code = \"attention = tokens[\\\"attention_mask\\\"]\\nattention.shape\";\n",
       "                var nbb_cells = Jupyter.notebook.get_cells();\n",
       "                for (var i = 0; i < nbb_cells.length; ++i) {\n",
       "                    if (nbb_cells[i].input_prompt_number == nbb_cell_id) {\n",
       "                        if (nbb_cells[i].get_text() == nbb_unformatted_code) {\n",
       "                             nbb_cells[i].set_text(nbb_formatted_code);\n",
       "                        }\n",
       "                        break;\n",
       "                    }\n",
       "                }\n",
       "            }, 500);\n",
       "            "
      ],
      "text/plain": [
       "<IPython.core.display.Javascript object>"
      ]
     },
     "metadata": {},
     "output_type": "display_data"
    }
   ],
   "source": [
    "attention = tokens[\"attention_mask\"]\n",
    "attention.shape"
   ]
  },
  {
   "cell_type": "code",
   "execution_count": 24,
   "metadata": {},
   "outputs": [
    {
     "data": {
      "application/javascript": [
       "\n",
       "            setTimeout(function() {\n",
       "                var nbb_cell_id = 24;\n",
       "                var nbb_unformatted_code = \"# remove \\\"padding\\\"-embedding values\\nmask = attention.unsqueeze(-1).expand(embeddings.shape).float()\\nmask_embeddings = embeddings * mask\";\n",
       "                var nbb_formatted_code = \"# remove \\\"padding\\\"-embedding values\\nmask = attention.unsqueeze(-1).expand(embeddings.shape).float()\\nmask_embeddings = embeddings * mask\";\n",
       "                var nbb_cells = Jupyter.notebook.get_cells();\n",
       "                for (var i = 0; i < nbb_cells.length; ++i) {\n",
       "                    if (nbb_cells[i].input_prompt_number == nbb_cell_id) {\n",
       "                        if (nbb_cells[i].get_text() == nbb_unformatted_code) {\n",
       "                             nbb_cells[i].set_text(nbb_formatted_code);\n",
       "                        }\n",
       "                        break;\n",
       "                    }\n",
       "                }\n",
       "            }, 500);\n",
       "            "
      ],
      "text/plain": [
       "<IPython.core.display.Javascript object>"
      ]
     },
     "metadata": {},
     "output_type": "display_data"
    }
   ],
   "source": [
    "# remove \"padding\"-embedding values\n",
    "mask = attention.unsqueeze(-1).expand(embeddings.shape).float()\n",
    "mask_embeddings = embeddings * mask"
   ]
  },
  {
   "cell_type": "code",
   "execution_count": 25,
   "metadata": {},
   "outputs": [
    {
     "data": {
      "text/plain": [
       "tensor([[[-0.8646,  1.3114,  1.2828,  ..., -0.3763,  0.3511,  0.6914],\n",
       "         [-1.0121,  2.0230,  1.0006,  ..., -0.3967,  0.2085,  0.7293],\n",
       "         [-0.5001,  1.3749,  1.0637,  ..., -0.0381,  0.2050,  1.0980],\n",
       "         ...,\n",
       "         [-0.0000,  0.0000,  0.0000,  ..., -0.0000,  0.0000,  0.0000],\n",
       "         [-0.0000,  0.0000,  0.0000,  ..., -0.0000,  0.0000,  0.0000],\n",
       "         [-0.0000,  0.0000,  0.0000,  ...,  0.0000,  0.0000,  0.0000]],\n",
       "\n",
       "        [[-0.3838,  0.2363,  2.2198,  ..., -0.6404,  0.5192,  0.4976],\n",
       "         [-0.3054,  0.6561,  2.2725,  ..., -0.5193,  0.2486,  0.7333],\n",
       "         [ 0.0793,  0.5936,  2.3380,  ..., -0.1549,  0.6715,  0.3358],\n",
       "         ...,\n",
       "         [-0.0000,  0.0000,  0.0000,  ...,  0.0000,  0.0000,  0.0000],\n",
       "         [-0.0000,  0.0000,  0.0000,  ..., -0.0000,  0.0000,  0.0000],\n",
       "         [-0.0000, -0.0000,  0.0000,  ..., -0.0000,  0.0000,  0.0000]],\n",
       "\n",
       "        [[-0.3319,  1.3955,  1.0938,  ..., -0.9321,  0.9714,  0.2627],\n",
       "         [ 0.3428,  0.9767,  1.1070,  ..., -0.6738,  0.5081,  0.0488],\n",
       "         [ 0.7701,  1.1071,  0.9383,  ..., -0.6694,  0.7555,  0.3961],\n",
       "         ...,\n",
       "         [ 0.0000,  0.0000,  0.0000,  ..., -0.0000,  0.0000,  0.0000],\n",
       "         [-0.0000,  0.0000,  0.0000,  ..., -0.0000,  0.0000,  0.0000],\n",
       "         [ 0.0000,  0.0000,  0.0000,  ..., -0.0000,  0.0000,  0.0000]],\n",
       "\n",
       "        ...,\n",
       "\n",
       "        [[-0.6353,  0.0983,  1.7457,  ..., -0.5135,  0.6584,  0.1496],\n",
       "         [-0.1677,  0.1414,  1.2828,  ..., -0.7539,  0.1681,  0.2541],\n",
       "         [-0.5155,  0.1214,  1.8292,  ..., -0.8188,  0.4756,  0.0387],\n",
       "         ...,\n",
       "         [-0.0000,  0.0000,  0.0000,  ..., -0.0000, -0.0000,  0.0000],\n",
       "         [-0.0000, -0.0000,  0.0000,  ..., -0.0000,  0.0000,  0.0000],\n",
       "         [-0.0000, -0.0000,  0.0000,  ..., -0.0000,  0.0000,  0.0000]],\n",
       "\n",
       "        [[-0.5561,  1.1735,  1.3230,  ..., -0.4923,  1.1481,  0.5080],\n",
       "         [-0.2349,  1.2033,  0.3658,  ..., -1.0666,  0.7877,  0.9568],\n",
       "         [-0.3613,  0.8286,  0.8067,  ..., -0.6922,  1.1824,  0.1971],\n",
       "         ...,\n",
       "         [ 0.0090,  1.5809,  0.9357,  ..., -0.3909,  0.6935, -0.0990],\n",
       "         [-0.3819,  1.0847,  0.7786,  ..., -0.5732,  0.7377,  0.8612],\n",
       "         [-0.2641,  1.8343,  1.4199,  ..., -0.4376,  0.8065,  0.2068]],\n",
       "\n",
       "        [[-0.3526,  0.2645,  1.9009,  ...,  0.2482,  0.9035, -0.3723],\n",
       "         [-0.3074,  0.2054,  2.1291,  ...,  0.3671,  1.0362, -0.4868],\n",
       "         [ 0.0752,  0.5021,  1.7178,  ...,  0.5697,  0.8152, -1.3414],\n",
       "         ...,\n",
       "         [ 0.0000,  0.0000,  0.0000,  ...,  0.0000,  0.0000, -0.0000],\n",
       "         [-0.0000,  0.0000,  0.0000,  ...,  0.0000,  0.0000, -0.0000],\n",
       "         [-0.0000,  0.0000,  0.0000,  ...,  0.0000,  0.0000, -0.0000]]],\n",
       "       grad_fn=<MulBackward0>)"
      ]
     },
     "execution_count": 25,
     "metadata": {},
     "output_type": "execute_result"
    },
    {
     "data": {
      "application/javascript": [
       "\n",
       "            setTimeout(function() {\n",
       "                var nbb_cell_id = 25;\n",
       "                var nbb_unformatted_code = \"mask_embeddings\";\n",
       "                var nbb_formatted_code = \"mask_embeddings\";\n",
       "                var nbb_cells = Jupyter.notebook.get_cells();\n",
       "                for (var i = 0; i < nbb_cells.length; ++i) {\n",
       "                    if (nbb_cells[i].input_prompt_number == nbb_cell_id) {\n",
       "                        if (nbb_cells[i].get_text() == nbb_unformatted_code) {\n",
       "                             nbb_cells[i].set_text(nbb_formatted_code);\n",
       "                        }\n",
       "                        break;\n",
       "                    }\n",
       "                }\n",
       "            }, 500);\n",
       "            "
      ],
      "text/plain": [
       "<IPython.core.display.Javascript object>"
      ]
     },
     "metadata": {},
     "output_type": "display_data"
    }
   ],
   "source": [
    "mask_embeddings"
   ]
  },
  {
   "cell_type": "code",
   "execution_count": 26,
   "metadata": {},
   "outputs": [
    {
     "data": {
      "text/plain": [
       "torch.Size([121, 128, 768])"
      ]
     },
     "execution_count": 26,
     "metadata": {},
     "output_type": "execute_result"
    },
    {
     "data": {
      "application/javascript": [
       "\n",
       "            setTimeout(function() {\n",
       "                var nbb_cell_id = 26;\n",
       "                var nbb_unformatted_code = \"mask_embeddings.shape\";\n",
       "                var nbb_formatted_code = \"mask_embeddings.shape\";\n",
       "                var nbb_cells = Jupyter.notebook.get_cells();\n",
       "                for (var i = 0; i < nbb_cells.length; ++i) {\n",
       "                    if (nbb_cells[i].input_prompt_number == nbb_cell_id) {\n",
       "                        if (nbb_cells[i].get_text() == nbb_unformatted_code) {\n",
       "                             nbb_cells[i].set_text(nbb_formatted_code);\n",
       "                        }\n",
       "                        break;\n",
       "                    }\n",
       "                }\n",
       "            }, 500);\n",
       "            "
      ],
      "text/plain": [
       "<IPython.core.display.Javascript object>"
      ]
     },
     "metadata": {},
     "output_type": "display_data"
    }
   ],
   "source": [
    "mask_embeddings.shape"
   ]
  },
  {
   "cell_type": "code",
   "execution_count": 27,
   "metadata": {},
   "outputs": [
    {
     "data": {
      "text/plain": [
       "torch.Size([121, 768])"
      ]
     },
     "execution_count": 27,
     "metadata": {},
     "output_type": "execute_result"
    },
    {
     "data": {
      "application/javascript": [
       "\n",
       "            setTimeout(function() {\n",
       "                var nbb_cell_id = 27;\n",
       "                var nbb_unformatted_code = \"# remove \\\"128\\\" dim\\nsummed = torch.sum(mask_embeddings, 1)\\nsummed.shape\";\n",
       "                var nbb_formatted_code = \"# remove \\\"128\\\" dim\\nsummed = torch.sum(mask_embeddings, 1)\\nsummed.shape\";\n",
       "                var nbb_cells = Jupyter.notebook.get_cells();\n",
       "                for (var i = 0; i < nbb_cells.length; ++i) {\n",
       "                    if (nbb_cells[i].input_prompt_number == nbb_cell_id) {\n",
       "                        if (nbb_cells[i].get_text() == nbb_unformatted_code) {\n",
       "                             nbb_cells[i].set_text(nbb_formatted_code);\n",
       "                        }\n",
       "                        break;\n",
       "                    }\n",
       "                }\n",
       "            }, 500);\n",
       "            "
      ],
      "text/plain": [
       "<IPython.core.display.Javascript object>"
      ]
     },
     "metadata": {},
     "output_type": "display_data"
    }
   ],
   "source": [
    "# remove \"128\" dim\n",
    "summed = torch.sum(mask_embeddings, 1)\n",
    "summed.shape"
   ]
  },
  {
   "cell_type": "code",
   "execution_count": 28,
   "metadata": {},
   "outputs": [
    {
     "data": {
      "text/plain": [
       "torch.Size([121, 768])"
      ]
     },
     "execution_count": 28,
     "metadata": {},
     "output_type": "execute_result"
    },
    {
     "data": {
      "application/javascript": [
       "\n",
       "            setTimeout(function() {\n",
       "                var nbb_cell_id = 28;\n",
       "                var nbb_unformatted_code = \"counts = torch.clamp(mask.sum(1), min=1e-9)\\ncounts.shape\";\n",
       "                var nbb_formatted_code = \"counts = torch.clamp(mask.sum(1), min=1e-9)\\ncounts.shape\";\n",
       "                var nbb_cells = Jupyter.notebook.get_cells();\n",
       "                for (var i = 0; i < nbb_cells.length; ++i) {\n",
       "                    if (nbb_cells[i].input_prompt_number == nbb_cell_id) {\n",
       "                        if (nbb_cells[i].get_text() == nbb_unformatted_code) {\n",
       "                             nbb_cells[i].set_text(nbb_formatted_code);\n",
       "                        }\n",
       "                        break;\n",
       "                    }\n",
       "                }\n",
       "            }, 500);\n",
       "            "
      ],
      "text/plain": [
       "<IPython.core.display.Javascript object>"
      ]
     },
     "metadata": {},
     "output_type": "display_data"
    }
   ],
   "source": [
    "counts = torch.clamp(mask.sum(1), min=1e-9)\n",
    "counts.shape"
   ]
  },
  {
   "cell_type": "code",
   "execution_count": 29,
   "metadata": {},
   "outputs": [
    {
     "data": {
      "application/javascript": [
       "\n",
       "            setTimeout(function() {\n",
       "                var nbb_cell_id = 29;\n",
       "                var nbb_unformatted_code = \"mean_pooled = summed / counts\\nmean_pooled.shape\\nmean_pooled = mean_pooled.detach().numpy()\";\n",
       "                var nbb_formatted_code = \"mean_pooled = summed / counts\\nmean_pooled.shape\\nmean_pooled = mean_pooled.detach().numpy()\";\n",
       "                var nbb_cells = Jupyter.notebook.get_cells();\n",
       "                for (var i = 0; i < nbb_cells.length; ++i) {\n",
       "                    if (nbb_cells[i].input_prompt_number == nbb_cell_id) {\n",
       "                        if (nbb_cells[i].get_text() == nbb_unformatted_code) {\n",
       "                             nbb_cells[i].set_text(nbb_formatted_code);\n",
       "                        }\n",
       "                        break;\n",
       "                    }\n",
       "                }\n",
       "            }, 500);\n",
       "            "
      ],
      "text/plain": [
       "<IPython.core.display.Javascript object>"
      ]
     },
     "metadata": {},
     "output_type": "display_data"
    }
   ],
   "source": [
    "mean_pooled = summed / counts\n",
    "mean_pooled.shape\n",
    "mean_pooled = mean_pooled.detach().numpy()"
   ]
  },
  {
   "cell_type": "code",
   "execution_count": 30,
   "metadata": {},
   "outputs": [
    {
     "data": {
      "text/plain": [
       "array([[-0.74171287,  1.2925394 ,  0.9810819 , ..., -0.13221163,\n",
       "         0.28097105,  0.73229223],\n",
       "       [-0.3589966 ,  0.31083128,  2.0198016 , ..., -0.54130465,\n",
       "         0.34856242,  0.30767867],\n",
       "       [-0.05301517,  1.3481637 ,  1.1003523 , ..., -0.5200399 ,\n",
       "         0.6739171 ,  0.22898084],\n",
       "       ...,\n",
       "       [-0.49632603,  0.17013603,  1.5492294 , ..., -0.6191787 ,\n",
       "         0.36726463, -0.07301147],\n",
       "       [-0.22742054,  1.1384732 ,  0.8086295 , ..., -0.35916084,\n",
       "         0.82697535,  0.54570186],\n",
       "       [-0.12972096,  0.33233458,  1.872606  , ...,  0.49163583,\n",
       "         0.6807285 , -0.6026755 ]], dtype=float32)"
      ]
     },
     "execution_count": 30,
     "metadata": {},
     "output_type": "execute_result"
    },
    {
     "data": {
      "application/javascript": [
       "\n",
       "            setTimeout(function() {\n",
       "                var nbb_cell_id = 30;\n",
       "                var nbb_unformatted_code = \"mean_pooled\";\n",
       "                var nbb_formatted_code = \"mean_pooled\";\n",
       "                var nbb_cells = Jupyter.notebook.get_cells();\n",
       "                for (var i = 0; i < nbb_cells.length; ++i) {\n",
       "                    if (nbb_cells[i].input_prompt_number == nbb_cell_id) {\n",
       "                        if (nbb_cells[i].get_text() == nbb_unformatted_code) {\n",
       "                             nbb_cells[i].set_text(nbb_formatted_code);\n",
       "                        }\n",
       "                        break;\n",
       "                    }\n",
       "                }\n",
       "            }, 500);\n",
       "            "
      ],
      "text/plain": [
       "<IPython.core.display.Javascript object>"
      ]
     },
     "metadata": {},
     "output_type": "display_data"
    }
   ],
   "source": [
    "mean_pooled"
   ]
  },
  {
   "cell_type": "code",
   "execution_count": 31,
   "metadata": {},
   "outputs": [
    {
     "data": {
      "text/plain": [
       "numpy.ndarray"
      ]
     },
     "execution_count": 31,
     "metadata": {},
     "output_type": "execute_result"
    },
    {
     "data": {
      "application/javascript": [
       "\n",
       "            setTimeout(function() {\n",
       "                var nbb_cell_id = 31;\n",
       "                var nbb_unformatted_code = \"type(mean_pooled)\";\n",
       "                var nbb_formatted_code = \"type(mean_pooled)\";\n",
       "                var nbb_cells = Jupyter.notebook.get_cells();\n",
       "                for (var i = 0; i < nbb_cells.length; ++i) {\n",
       "                    if (nbb_cells[i].input_prompt_number == nbb_cell_id) {\n",
       "                        if (nbb_cells[i].get_text() == nbb_unformatted_code) {\n",
       "                             nbb_cells[i].set_text(nbb_formatted_code);\n",
       "                        }\n",
       "                        break;\n",
       "                    }\n",
       "                }\n",
       "            }, 500);\n",
       "            "
      ],
      "text/plain": [
       "<IPython.core.display.Javascript object>"
      ]
     },
     "metadata": {},
     "output_type": "display_data"
    }
   ],
   "source": [
    "type(mean_pooled)"
   ]
  },
  {
   "cell_type": "code",
   "execution_count": 32,
   "metadata": {},
   "outputs": [
    {
     "data": {
      "text/plain": [
       "array([[0.8161738 , 0.769992  , 0.75554585, 0.7294737 , 0.777584  ,\n",
       "        0.80387366, 0.7639326 , 0.74694324, 0.72284156, 0.7684176 ,\n",
       "        0.7806066 , 0.7491139 , 0.7962941 , 0.8059578 , 0.79253685,\n",
       "        0.75246984, 0.802448  , 0.78077835, 0.7476944 , 0.7275906 ,\n",
       "        0.7924439 , 0.8039783 , 0.7781757 , 0.8152809 , 0.7926885 ,\n",
       "        0.87698406, 0.85106134, 0.87033606, 0.83346856, 0.7633331 ,\n",
       "        0.7264133 , 0.76961774, 0.81057096, 0.85590374, 0.84019536,\n",
       "        0.7914542 , 0.8004049 , 0.7364391 , 0.8039244 , 0.8058981 ,\n",
       "        0.7633021 , 0.7857666 , 0.6879449 , 0.79553497, 0.7977457 ,\n",
       "        0.80899554, 0.81571126, 0.73648167, 0.6199708 , 0.83339447,\n",
       "        0.8573389 , 0.78330517, 0.72756565, 0.7943363 , 0.7697822 ,\n",
       "        0.76479995, 0.7375679 , 0.7616843 , 0.837709  , 0.7655097 ,\n",
       "        0.71297705, 0.69260156, 0.64706194, 0.76717174, 0.7021614 ,\n",
       "        0.7392999 , 0.743883  , 0.74229467, 0.7488404 , 0.757262  ,\n",
       "        0.6503515 , 0.7019029 , 0.66388047, 0.714147  , 0.647519  ,\n",
       "        0.74252385, 0.8109808 , 0.70465493, 0.62656766, 0.74024236,\n",
       "        0.7132561 , 0.7301039 , 0.74290097, 0.51584375, 0.5897546 ,\n",
       "        0.401681  , 0.81662637, 0.7034645 , 0.76126075, 0.6294479 ,\n",
       "        0.6293081 , 0.66754556, 0.41111687, 0.71117115, 0.5753161 ,\n",
       "        0.846807  , 0.6671885 , 0.5289066 , 0.60804117, 0.5301929 ,\n",
       "        0.35264236, 0.5588249 , 0.6976049 , 0.6060791 , 0.71898705,\n",
       "        0.5072785 ]], dtype=float32)"
      ]
     },
     "execution_count": 32,
     "metadata": {},
     "output_type": "execute_result"
    },
    {
     "data": {
      "application/javascript": [
       "\n",
       "            setTimeout(function() {\n",
       "                var nbb_cell_id = 32;\n",
       "                var nbb_unformatted_code = \"_idx_one = 10\\nres = cosine_similarity([sent_vecs[_idx_one]], sent_vecs[len(ndb_sent_sample) :])\\nres\";\n",
       "                var nbb_formatted_code = \"_idx_one = 10\\nres = cosine_similarity([sent_vecs[_idx_one]], sent_vecs[len(ndb_sent_sample) :])\\nres\";\n",
       "                var nbb_cells = Jupyter.notebook.get_cells();\n",
       "                for (var i = 0; i < nbb_cells.length; ++i) {\n",
       "                    if (nbb_cells[i].input_prompt_number == nbb_cell_id) {\n",
       "                        if (nbb_cells[i].get_text() == nbb_unformatted_code) {\n",
       "                             nbb_cells[i].set_text(nbb_formatted_code);\n",
       "                        }\n",
       "                        break;\n",
       "                    }\n",
       "                }\n",
       "            }, 500);\n",
       "            "
      ],
      "text/plain": [
       "<IPython.core.display.Javascript object>"
      ]
     },
     "metadata": {},
     "output_type": "display_data"
    }
   ],
   "source": [
    "_idx_one = 10\n",
    "res = cosine_similarity([sent_vecs[_idx_one]], sent_vecs[len(ndb_sent_sample) :])\n",
    "res"
   ]
  },
  {
   "cell_type": "code",
   "execution_count": 33,
   "metadata": {},
   "outputs": [
    {
     "name": "stdout",
     "output_type": "stream",
     "text": [
      "_max=0.87698406, _idx=25\n"
     ]
    },
    {
     "data": {
      "application/javascript": [
       "\n",
       "            setTimeout(function() {\n",
       "                var nbb_cell_id = 33;\n",
       "                var nbb_unformatted_code = \"_max = -1\\n_idx = -1\\nfor i, v in enumerate(res[0]):\\n    if v > _max:\\n        _max = v\\n        _idx = i\\nprint(f\\\"{_max=}, {_idx=}\\\")\";\n",
       "                var nbb_formatted_code = \"_max = -1\\n_idx = -1\\nfor i, v in enumerate(res[0]):\\n    if v > _max:\\n        _max = v\\n        _idx = i\\nprint(f\\\"{_max=}, {_idx=}\\\")\";\n",
       "                var nbb_cells = Jupyter.notebook.get_cells();\n",
       "                for (var i = 0; i < nbb_cells.length; ++i) {\n",
       "                    if (nbb_cells[i].input_prompt_number == nbb_cell_id) {\n",
       "                        if (nbb_cells[i].get_text() == nbb_unformatted_code) {\n",
       "                             nbb_cells[i].set_text(nbb_formatted_code);\n",
       "                        }\n",
       "                        break;\n",
       "                    }\n",
       "                }\n",
       "            }, 500);\n",
       "            "
      ],
      "text/plain": [
       "<IPython.core.display.Javascript object>"
      ]
     },
     "metadata": {},
     "output_type": "display_data"
    }
   ],
   "source": [
    "_max = -1\n",
    "_idx = -1\n",
    "for i, v in enumerate(res[0]):\n",
    "    if v > _max:\n",
    "        _max = v\n",
    "        _idx = i\n",
    "print(f\"{_max=}, {_idx=}\")"
   ]
  },
  {
   "cell_type": "code",
   "execution_count": 34,
   "metadata": {},
   "outputs": [
    {
     "name": "stdout",
     "output_type": "stream",
     "text": [
      "Dabei ist A.Aachen der offizielle Porträtist Rudolfs II., des Kaisers Matthias und der Kaiserin Anna, ferner der Schöpfer von Bildnissen italienischer Fürstinnen für Rudolf II.\n",
      "\n",
      "Während er noch in München arbeitete, wurde von Aachen 1592 von Rudolf II., dem Kaiser des Heiligen Römischen Reiches, zu seinem Kammermaler ernannt.\n"
     ]
    },
    {
     "data": {
      "application/javascript": [
       "\n",
       "            setTimeout(function() {\n",
       "                var nbb_cell_id = 34;\n",
       "                var nbb_unformatted_code = \"print(sent[_idx_one])\\nprint(\\\"\\\")\\nprint(sent[len(ndb_sent_sample) :][_idx])\";\n",
       "                var nbb_formatted_code = \"print(sent[_idx_one])\\nprint(\\\"\\\")\\nprint(sent[len(ndb_sent_sample) :][_idx])\";\n",
       "                var nbb_cells = Jupyter.notebook.get_cells();\n",
       "                for (var i = 0; i < nbb_cells.length; ++i) {\n",
       "                    if (nbb_cells[i].input_prompt_number == nbb_cell_id) {\n",
       "                        if (nbb_cells[i].get_text() == nbb_unformatted_code) {\n",
       "                             nbb_cells[i].set_text(nbb_formatted_code);\n",
       "                        }\n",
       "                        break;\n",
       "                    }\n",
       "                }\n",
       "            }, 500);\n",
       "            "
      ],
      "text/plain": [
       "<IPython.core.display.Javascript object>"
      ]
     },
     "metadata": {},
     "output_type": "display_data"
    }
   ],
   "source": [
    "print(sent[_idx_one])\n",
    "print(\"\")\n",
    "print(sent[len(ndb_sent_sample) :][_idx])"
   ]
  },
  {
   "cell_type": "code",
   "execution_count": null,
   "metadata": {},
   "outputs": [],
   "source": []
  }
 ],
 "metadata": {
  "kernelspec": {
   "display_name": "Python [conda env:root] *",
   "language": "python",
   "name": "conda-root-py"
  },
  "language_info": {
   "codemirror_mode": {
    "name": "ipython",
    "version": 3
   },
   "file_extension": ".py",
   "mimetype": "text/x-python",
   "name": "python",
   "nbconvert_exporter": "python",
   "pygments_lexer": "ipython3",
   "version": "3.9.12"
  }
 },
 "nbformat": 4,
 "nbformat_minor": 4
}
